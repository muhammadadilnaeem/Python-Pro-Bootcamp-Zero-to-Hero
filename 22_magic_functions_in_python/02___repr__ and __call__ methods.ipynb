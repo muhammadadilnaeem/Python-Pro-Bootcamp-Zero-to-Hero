{
 "cells": [
  {
   "cell_type": "markdown",
   "metadata": {},
   "source": [
    "\n",
    "\n",
    "---------------------\n",
    "\n",
    "# ***The `__repr__` Method***\n",
    "\n",
    "### **Definition**\n",
    "\n",
    "The `__repr__` method is a special method in Python that provides an official string representation of an object. It is intended to generate a string that, when passed to the `eval()` function, would recreate the object (or at least provide a valid representation). This method is primarily used for debugging and development.\n",
    "\n",
    "### **Characteristics**\n",
    "\n",
    "1. **Intended for Developers**: The output of `__repr__` is meant to be unambiguous and useful for developers, not necessarily user-friendly.\n",
    "2. **Fallback for `__str__`**: If `__str__` is not defined in a class, calling `str()` or using `print()` will fall back to `__repr__`.\n",
    "3. **Return Value**: Typically returns a string that includes the class name and relevant attributes.\n",
    "\n",
    "### **Syntax**\n",
    "\n",
    "```python\n",
    "def __repr__(self):\n",
    "    return \"ClassName(attribute1=value1, attribute2=value2)\"\n",
    "```\n",
    "\n",
    "### **Example**\n",
    "\n",
    "```python\n",
    "class Person:\n",
    "    def __init__(self, name, age):\n",
    "        self.name = name\n",
    "        self.age = age\n",
    "\n",
    "    def __repr__(self):\n",
    "        return f\"Person(name='{self.name}', age={self.age})\"\n",
    "\n",
    "# Creating an instance\n",
    "person = Person(\"Alice\", 30)\n",
    "\n",
    "# Using __repr__\n",
    "print(repr(person))  # Output: Person(name='Alice', age=30)\n",
    "```\n",
    "\n",
    "### **Use Cases**\n",
    "\n",
    "- **Debugging**: Provides a clear and detailed representation of an object, making it easier to debug.\n",
    "- **Logging**: Useful in logging to understand the state of objects at a certain point in time.\n",
    "\n",
    "## **The `__call__` Method**\n",
    "\n",
    "### **Definition**\n",
    "\n",
    "The `__call__` method allows an instance of a class to be called as if it were a function. When this method is defined, you can use the instance like a function, passing arguments to it.\n",
    "\n",
    "### **Characteristics**\n",
    "\n",
    "1. **Callable Objects**: When an object with a defined `__call__` method is invoked, Python executes the code in the `__call__` method.\n",
    "2. **Flexibility**: This feature can be used to implement various patterns, such as decorators or factory functions.\n",
    "3. **Arguments**: The `__call__` method can take any number of positional and keyword arguments.\n",
    "\n",
    "### **Syntax**\n",
    "\n",
    "```python\n",
    "def __call__(self, *args, **kwargs):\n",
    "    # Implementation\n",
    "```\n",
    "\n",
    "### **Example**\n",
    "\n",
    "```python\n",
    "class Adder:\n",
    "    def __init__(self, increment):\n",
    "        self.increment = increment\n",
    "\n",
    "    def __call__(self, value):\n",
    "        return value + self.increment\n",
    "\n",
    "# Creating an instance\n",
    "add_five = Adder(5)\n",
    "\n",
    "# Using the instance as a callable\n",
    "result = add_five(10)  # Calls the __call__ method\n",
    "print(result)  # Output: 15\n",
    "```\n",
    "\n",
    "### **Use Cases**\n",
    "\n",
    "- **Creating Function-like Objects**: Useful in scenarios where you want an object to behave like a function while maintaining state.\n",
    "- **Decorator Functions**: Can be used to create decorators that modify the behavior of functions.\n",
    "\n",
    "## **Comparison of `__repr__` and `__call__`**\n",
    "\n",
    "| Feature                | `__repr__`                                     | `__call__`                                  |\n",
    "|------------------------|------------------------------------------------|---------------------------------------------|\n",
    "| Purpose                | Provides a string representation of an object  | Makes an object callable like a function    |\n",
    "| Usage                  | Primarily for debugging and logging            | To allow instances to be used as functions  |\n",
    "| Return Type            | Returns a string                               | Can return any type based on implementation  |\n",
    "| Arguments              | No arguments                                    | Can take any number of arguments             |\n",
    "\n",
    "## **Conclusion**\n",
    "\n",
    "The `__repr__` and `__call__` methods in Python are powerful tools for enhancing the functionality and usability of classes. `__repr__` provides a clear and detailed representation of an object for developers, while `__call__` allows objects to be invoked like functions, adding flexibility to their behavior. Understanding and implementing these methods can greatly improve your Python programming skills. \n",
    "\n",
    "\n",
    "--------------------\n",
    "\n"
   ]
  },
  {
   "cell_type": "markdown",
   "metadata": {},
   "source": [
    "### ***`Let's Practice`***"
   ]
  },
  {
   "cell_type": "code",
   "execution_count": 2,
   "metadata": {},
   "outputs": [
    {
     "data": {
      "text/plain": [
       "\n",
       "You have Bag(pencil='Red', book='Chemistry',bagcolor='Blue')"
      ]
     },
     "execution_count": 2,
     "metadata": {},
     "output_type": "execute_result"
    }
   ],
   "source": [
    "# __repr__\n",
    "\n",
    "class Bag:\n",
    "    def __init__(self, pencil, book, bagcolor):\n",
    "        self.pencil = pencil\n",
    "        self.book = book\n",
    "        self.bagcolor = bagcolor\n",
    "\n",
    "    def __repr__(self):\n",
    "        return f\"\\nYou have Bag(pencil='{self.pencil}', book='{self.book}',bagcolor='{self.bagcolor}')\"\n",
    "\n",
    "bag_info = Bag(\"Red\", \"Chemistry\", \"Blue\")\n",
    "bag_info"
   ]
  },
  {
   "cell_type": "code",
   "execution_count": 7,
   "metadata": {},
   "outputs": [
    {
     "data": {
      "text/plain": [
       "15"
      ]
     },
     "execution_count": 7,
     "metadata": {},
     "output_type": "execute_result"
    }
   ],
   "source": [
    "# __call__\n",
    "\n",
    "class Adder:\n",
    "    def __init__(self,initial_value):\n",
    "        self.initial_value = initial_value\n",
    "    \n",
    "    def __call__(self, value):\n",
    "        return self.initial_value + value\n",
    "\n",
    "a = Adder(5)\n",
    "a(10)\n"
   ]
  },
  {
   "cell_type": "markdown",
   "metadata": {},
   "source": [
    "-----"
   ]
  }
 ],
 "metadata": {
  "kernelspec": {
   "display_name": ".venv",
   "language": "python",
   "name": "python3"
  },
  "language_info": {
   "codemirror_mode": {
    "name": "ipython",
    "version": 3
   },
   "file_extension": ".py",
   "mimetype": "text/x-python",
   "name": "python",
   "nbconvert_exporter": "python",
   "pygments_lexer": "ipython3",
   "version": "3.10.15"
  }
 },
 "nbformat": 4,
 "nbformat_minor": 2
}
