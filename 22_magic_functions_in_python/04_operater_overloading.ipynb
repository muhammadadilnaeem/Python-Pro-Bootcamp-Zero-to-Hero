{
 "cells": [
  {
   "cell_type": "markdown",
   "metadata": {},
   "source": [
    "\n",
    "\n",
    "---------------\n",
    "\n",
    "# ***`What is Operator Overloading?`***\n",
    "\n",
    "**Operator Overloading** is a feature in Python that allows you to define how operators behave for user-defined classes. By implementing special methods (also known as dunder methods) in your classes, you can customize the behavior of standard operators (like `+`, `-`, `*`, etc.) for your objects.\n",
    "\n",
    "### **Key Characteristics**\n",
    "\n",
    "1. **Custom Behavior**: You can redefine the behavior of operators for instances of your classes.\n",
    "2. **Readability**: Makes your code more intuitive and easier to read by allowing you to use standard operators with custom objects.\n",
    "3. **Encapsulation**: Helps encapsulate functionality within classes, making your code cleaner.\n",
    "\n",
    "## **How Operator Overloading Works**\n",
    "\n",
    "In Python, operators are implemented as methods. Each operator has a corresponding method that you can override in your class. For example:\n",
    "\n",
    "- The `+` operator corresponds to the `__add__` method.\n",
    "- The `-` operator corresponds to the `__sub__` method.\n",
    "- The `*` operator corresponds to the `__mul__` method.\n",
    "\n",
    "### **Commonly Used Dunder Methods for Operator Overloading**\n",
    "\n",
    "| Operator | Dunder Method  | Description                                |\n",
    "|----------|----------------|--------------------------------------------|\n",
    "| `+`      | `__add__`      | Addition                                    |\n",
    "| `-`      | `__sub__`      | Subtraction                                 |\n",
    "| `*`      | `__mul__`      | Multiplication                              |\n",
    "| `/`      | `__truediv__`  | Division                                    |\n",
    "| `//`     | `__floordiv__` | Floor Division                              |\n",
    "| `%`      | `__mod__`      | Modulus                                     |\n",
    "| `**`     | `__pow__`      | Exponentiation                              |\n",
    "| `==`     | `__eq__`       | Equality comparison                         |\n",
    "| `!=`     | `__ne__`       | Inequality comparison                       |\n",
    "| `<`      | `__lt__`       | Less than comparison                       |\n",
    "| `>`      | `__gt__`       | Greater than comparison                    |\n",
    "| `<=`     | `__le__`       | Less than or equal to comparison          |\n",
    "| `>=`     | `__ge__`       | Greater than or equal to comparison       |\n",
    "| `[]`     | `__getitem__`  | Indexing access                            |\n",
    "| `()`     | `__call__`     | Making an instance callable                 |\n",
    "\n",
    "## **Example of Operator Overloading**\n",
    "\n",
    "### **Implementing a Vector Class**\n",
    "\n",
    "Here's an example of a simple `Vector` class that overloads several operators:\n",
    "\n",
    "```python\n",
    "class Vector:\n",
    "    def __init__(self, x, y):\n",
    "        self.x = x\n",
    "        self.y = y\n",
    "\n",
    "    def __add__(self, other):\n",
    "        return Vector(self.x + other.x, self.y + other.y)\n",
    "\n",
    "    def __sub__(self, other):\n",
    "        return Vector(self.x - other.x, self.y - other.y)\n",
    "\n",
    "    def __mul__(self, scalar):\n",
    "        return Vector(self.x * scalar, self.y * scalar)\n",
    "\n",
    "    def __repr__(self):\n",
    "        return f\"Vector({self.x}, {self.y})\"\n",
    "\n",
    "# Creating instances of Vector\n",
    "v1 = Vector(2, 3)\n",
    "v2 = Vector(4, 5)\n",
    "\n",
    "# Using overloaded operators\n",
    "v3 = v1 + v2        # Vector addition\n",
    "v4 = v1 - v2        # Vector subtraction\n",
    "v5 = v1 * 3         # Scalar multiplication\n",
    "\n",
    "print(v3)  # Output: Vector(6, 8)\n",
    "print(v4)  # Output: Vector(-2, -2)\n",
    "print(v5)  # Output: Vector(6, 9)\n",
    "```\n",
    "\n",
    "### **Explanation**\n",
    "\n",
    "1. **Addition (`__add__`)**: When `v1 + v2` is executed, Python calls `v1.__add__(v2)`, returning a new `Vector`.\n",
    "2. **Subtraction (`__sub__`)**: When `v1 - v2` is executed, Python calls `v1.__sub__(v2)`.\n",
    "3. **Multiplication (`__mul__`)**: When multiplying a vector by a scalar, `v1 * 3` calls `v1.__mul__(3)`.\n",
    "\n",
    "## **Benefits of Operator Overloading**\n",
    "\n",
    "1. **Enhanced Readability**: Code using overloaded operators can be more intuitive and resemble mathematical notation.\n",
    "2. **Cleaner Code**: Reduces the need for explicit method calls, making the code cleaner and easier to maintain.\n",
    "3. **Custom Data Types**: Enables the creation of powerful custom data types that behave like built-in types.\n",
    "\n",
    "## **Common Use Cases**\n",
    "\n",
    "- **Mathematical Classes**: Implementing custom classes for mathematical operations (e.g., vectors, matrices).\n",
    "- **Data Structures**: Creating user-defined data structures (like linked lists or trees) that support natural operations.\n",
    "- **Game Development**: Overloading operators for game entities to facilitate interactions using standard operators.\n",
    "\n",
    "## **Challenges of Operator Overloading**\n",
    "\n",
    "1. **Complexity**: Overusing operator overloading can make code harder to understand, especially for complex operations.\n",
    "2. **Unexpected Behavior**: If not implemented carefully, overloaded operators may lead to unexpected results or confusion.\n",
    "3. **Performance Considerations**: Custom implementations may not be as optimized as built-in types.\n",
    "\n",
    "## **Conclusion**\n",
    "\n",
    "Operator overloading in Python is a powerful feature that allows developers to define custom behaviors for standard operators. By using dunder methods, you can create intuitive and easy-to-use interfaces for your classes. However, it's essential to implement operator overloading thoughtfully to maintain code clarity and avoid confusion. \n",
    "\n",
    "--------------\n",
    "\n"
   ]
  },
  {
   "cell_type": "code",
   "execution_count": 2,
   "metadata": {},
   "outputs": [
    {
     "data": {
      "text/plain": [
       "11"
      ]
     },
     "execution_count": 2,
     "metadata": {},
     "output_type": "execute_result"
    }
   ],
   "source": [
    "# __add__\n",
    "\n",
    "class Test:\n",
    "    def __init__(self,a):\n",
    "        self.a = a\n",
    "\n",
    "    def __add__(self,other):\n",
    "        return self.a + other.a\n",
    "\n",
    "t = Test(5)\n",
    "\n",
    "t1 = Test(6)\n",
    "\n",
    "t + t1"
   ]
  },
  {
   "cell_type": "code",
   "execution_count": 8,
   "metadata": {},
   "outputs": [
    {
     "name": "stdout",
     "output_type": "stream",
     "text": [
      "12, 14\n"
     ]
    }
   ],
   "source": [
    "# __add__ , __str__\n",
    "\n",
    "class Test:\n",
    "    def __init__(self,a,b):\n",
    "        self.a = a\n",
    "        self.b = b\n",
    "\n",
    "    def __add__(self,other):\n",
    "        return Test(self.a + other.a, self.b + other.b)\n",
    "    \n",
    "    def __str__(self):\n",
    "        return f\"{self.a}, {self.b}\"\n",
    "\n",
    "t = Test(5,6)\n",
    "\n",
    "t1 = Test(7,8)\n",
    "\n",
    "t3 = t + t1\n",
    "\n",
    "print(t3)"
   ]
  },
  {
   "cell_type": "markdown",
   "metadata": {},
   "source": [
    "-----"
   ]
  }
 ],
 "metadata": {
  "kernelspec": {
   "display_name": ".venv",
   "language": "python",
   "name": "python3"
  },
  "language_info": {
   "codemirror_mode": {
    "name": "ipython",
    "version": 3
   },
   "file_extension": ".py",
   "mimetype": "text/x-python",
   "name": "python",
   "nbconvert_exporter": "python",
   "pygments_lexer": "ipython3",
   "version": "3.10.15"
  }
 },
 "nbformat": 4,
 "nbformat_minor": 2
}
