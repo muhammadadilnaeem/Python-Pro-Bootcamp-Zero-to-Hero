{
 "cells": [
  {
   "cell_type": "markdown",
   "metadata": {},
   "source": [
    "\n",
    "\n",
    "------------\n",
    "\n",
    "# ***`What is Method Overloading?`***\n",
    "\n",
    "<br>\n",
    "\n",
    "**Method Overloading** is a programming concept that allows a class to have multiple methods with the same name but different parameters (i.e., different signatures). In languages that support method overloading, this enables the same method to behave differently based on the number and type of arguments passed.\n",
    "\n",
    "### **Key Characteristics**\n",
    "\n",
    "1. **Same Method Name**: Multiple methods in the same class can share the same name.\n",
    "2. **Different Parameters**: Each method must have a different number of parameters or a different type of parameters.\n",
    "3. **Compile-Time Polymorphism**: In some languages, method overloading is resolved at compile time, but Python resolves it at runtime.\n",
    "\n",
    "## **Method Overloading in Python**\n",
    "\n",
    "Unlike many other programming languages (like Java or C++), Python does not support method overloading in the traditional sense. In Python, if you define multiple methods with the same name, the last method defined will overwrite the previous ones.\n",
    "\n",
    "### **Achieving Method Overloading in Python**\n",
    "\n",
    "Since Python does not support method overloading natively, you can achieve similar functionality using:\n",
    "\n",
    "1. **Default Arguments**: By providing default values for parameters.\n",
    "2. **Variable-Length Arguments**: Using `*args` and `**kwargs` to accept a variable number of arguments.\n",
    "3. **Type Checking**: Implementing logic within a single method to handle different types or numbers of arguments.\n",
    "\n",
    "### **Example Using Default Arguments**\n",
    "\n",
    "```python\n",
    "class MathOperations:\n",
    "    def add(self, a, b=0):\n",
    "        return a + b\n",
    "\n",
    "# Creating an instance\n",
    "math_ops = MathOperations()\n",
    "\n",
    "# Using the add method\n",
    "print(math_ops.add(5, 3))  # Output: 8\n",
    "print(math_ops.add(5))     # Output: 5 (b defaults to 0)\n",
    "```\n",
    "\n",
    "### **Example Using Variable-Length Arguments**\n",
    "\n",
    "```python\n",
    "class MathOperations:\n",
    "    def add(self, *args):\n",
    "        return sum(args)\n",
    "\n",
    "# Creating an instance\n",
    "math_ops = MathOperations()\n",
    "\n",
    "# Using the add method\n",
    "print(math_ops.add(1, 2))          # Output: 3\n",
    "print(math_ops.add(1, 2, 3, 4, 5)) # Output: 15\n",
    "```\n",
    "\n",
    "### **Example Using Type Checking**\n",
    "\n",
    "```python\n",
    "class MathOperations:\n",
    "    def add(self, a, b):\n",
    "        if isinstance(a, str) and isinstance(b, str):\n",
    "            return a + b  # Concatenates strings\n",
    "        elif isinstance(a, (int, float)) and isinstance(b, (int, float)):\n",
    "            return a + b  # Adds numbers\n",
    "        else:\n",
    "            raise TypeError(\"Invalid types for addition\")\n",
    "\n",
    "# Creating an instance\n",
    "math_ops = MathOperations()\n",
    "\n",
    "# Using the add method\n",
    "print(math_ops.add(5, 3))          # Output: 8\n",
    "print(math_ops.add(\"Hello, \", \"World!\"))  # Output: Hello, World!\n",
    "```\n",
    "\n",
    "## **Limitations of Method Overloading in Python**\n",
    "\n",
    "1. **No True Overloading**: Python does not support true method overloading based on the method signature alone.\n",
    "2. **Increased Complexity**: Implementing method overloading through type checking or variable-length arguments can make the code more complex and less readable.\n",
    "3. **Performance Considerations**: The need for type checking can introduce slight performance overhead.\n",
    "\n",
    "## **Conclusion**\n",
    "\n",
    "Method overloading in Python is not supported in the traditional sense, but similar functionality can be achieved through default arguments, variable-length arguments, and type checking. While these techniques allow for flexible method definitions, they may increase complexity and reduce readability. Understanding how to implement and manage these patterns is essential for writing clear and efficient Python code. \n",
    "\n",
    "------------\n",
    "\n"
   ]
  },
  {
   "cell_type": "markdown",
   "metadata": {},
   "source": [
    "### ***`Let's Practice`***"
   ]
  },
  {
   "cell_type": "code",
   "execution_count": 6,
   "metadata": {},
   "outputs": [
    {
     "name": "stdout",
     "output_type": "stream",
     "text": [
      "6\n"
     ]
    }
   ],
   "source": [
    "\n",
    "# method overloading\n",
    "\n",
    "class Test:\n",
    "    def add(self,a,b):\n",
    "        self.a = a\n",
    "        self.b = b\n",
    "        return self.a + self.b\n",
    "    \n",
    "    def add(self,a,b,c):\n",
    "        self.a = a\n",
    "        self.b = b\n",
    "        self.c = c\n",
    "        return self.a + self.b + self.c\n",
    "\n",
    "add = Test()\n",
    "print(add.add(1,2,3))"
   ]
  },
  {
   "cell_type": "code",
   "execution_count": 2,
   "metadata": {},
   "outputs": [
    {
     "data": {
      "text/plain": [
       "25"
      ]
     },
     "execution_count": 2,
     "metadata": {},
     "output_type": "execute_result"
    }
   ],
   "source": [
    "# another example\n",
    "\n",
    "class Calc:\n",
    "    def mult(self,a,b=1,c=1):\n",
    "        return a*b*c\n",
    "m = Calc()\n",
    "m.mult(5,5)\n"
   ]
  },
  {
   "cell_type": "markdown",
   "metadata": {},
   "source": [
    "-----"
   ]
  }
 ],
 "metadata": {
  "kernelspec": {
   "display_name": ".venv",
   "language": "python",
   "name": "python3"
  },
  "language_info": {
   "codemirror_mode": {
    "name": "ipython",
    "version": 3
   },
   "file_extension": ".py",
   "mimetype": "text/x-python",
   "name": "python",
   "nbconvert_exporter": "python",
   "pygments_lexer": "ipython3",
   "version": "3.10.15"
  }
 },
 "nbformat": 4,
 "nbformat_minor": 2
}
