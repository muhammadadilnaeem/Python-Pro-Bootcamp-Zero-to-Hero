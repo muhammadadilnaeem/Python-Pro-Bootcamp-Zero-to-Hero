{
 "cells": [
  {
   "cell_type": "markdown",
   "metadata": {},
   "source": [
    "\n",
    "\n",
    "--------\n",
    "\n",
    "\n",
    "# ***`What is Encapsulation?`***\n",
    "\n",
    "**Encapsulation** is one of the core principles of Object-Oriented Programming (OOP). It refers to the bundling of data (attributes) and methods (functions) that operate on that data into a single unit, typically a class. Encapsulation restricts direct access to some of an object’s components, which can prevent accidental modification of data.\n",
    "\n",
    "### **Purpose of Encapsulation**\n",
    "\n",
    "1. **Data Hiding**: Encapsulation allows for hiding the internal state and behavior of an object from the outside world, exposing only what is necessary.\n",
    "2. **Controlled Access**: It enables controlled access to the object's data and methods, which helps maintain the integrity of the object's state.\n",
    "3. **Ease of Maintenance**: By encapsulating data and methods, changes can be made to the internal workings of a class without affecting external code that uses the class.\n",
    "\n",
    "## **Public Variables**\n",
    "\n",
    "### **Definition**\n",
    "\n",
    "**Public variables** (or attributes) are accessible from outside the class. They can be read and modified by any code that has access to the class instance.\n",
    "\n",
    "### **Characteristics**\n",
    "\n",
    "- **No Access Restrictions**: Public variables can be accessed directly using the instance of the class.\n",
    "- **Default Behavior**: In Python, all instance variables are public by default unless specified otherwise.\n",
    "\n",
    "### **Example of Public Variables**\n",
    "\n",
    "```python\n",
    "class Person:\n",
    "    def __init__(self, name, age):\n",
    "        self.name = name  # Public variable\n",
    "        self.age = age    # Public variable\n",
    "\n",
    "# Creating an instance of Person\n",
    "person1 = Person(\"Alice\", 30)\n",
    "\n",
    "# Accessing and modifying public variables\n",
    "print(person1.name)  # Output: Alice\n",
    "print(person1.age)   # Output: 30\n",
    "\n",
    "person1.age = 31\n",
    "print(person1.age)   # Output: 31\n",
    "```\n",
    "\n",
    "## **Protected Variables**\n",
    "\n",
    "### **Definition**\n",
    "\n",
    "**Protected variables** are intended to be accessed only within the class and its subclasses. In Python, protected variables are indicated by a single underscore (`_`) prefix.\n",
    "\n",
    "### **Characteristics**\n",
    "\n",
    "- **Intended for Internal Use**: Protected variables are meant for use within the class itself and by subclasses but are still accessible from outside the class.\n",
    "- **Convention Over Enforcement**: The use of a single underscore is a convention that indicates these variables should not be accessed directly from outside the class, but it is not enforced by Python.\n",
    "\n",
    "### **Example of Protected Variables**\n",
    "\n",
    "```python\n",
    "class Animal:\n",
    "    def __init__(self, species):\n",
    "        self._species = species  # Protected variable\n",
    "\n",
    "class Dog(Animal):\n",
    "    def __init__(self, name):\n",
    "        super().__init__(\"Dog\")\n",
    "        self._name = name  # Protected variable\n",
    "\n",
    "# Creating an instance of Dog\n",
    "dog = Dog(\"Buddy\")\n",
    "\n",
    "# Accessing protected variables\n",
    "print(dog._species)  # Output: Dog\n",
    "print(dog._name)     # Output: Buddy\n",
    "```\n",
    "\n",
    "## **Private Variables**\n",
    "\n",
    "### **Definition**\n",
    "\n",
    "**Private variables** are intended to be accessible only within the class in which they are defined. In Python, private variables are indicated by a double underscore (`__`) prefix.\n",
    "\n",
    "### **Characteristics**\n",
    "\n",
    "- **Name Mangling**: Private variables undergo name mangling, meaning their names are changed internally to include the class name, making them less accessible from outside the class.\n",
    "- **Intended for Internal Use**: Private variables are meant to be used only within the class, promoting data hiding.\n",
    "\n",
    "### **Example of Private Variables**\n",
    "\n",
    "```python\n",
    "class BankAccount:\n",
    "    def __init__(self, account_number, balance):\n",
    "        self.__account_number = account_number  # Private variable\n",
    "        self.__balance = balance                  # Private variable\n",
    "\n",
    "    def deposit(self, amount):\n",
    "        if amount > 0:\n",
    "            self.__balance += amount\n",
    "\n",
    "    def get_balance(self):\n",
    "        return self.__balance\n",
    "\n",
    "# Creating an instance of BankAccount\n",
    "account = BankAccount(\"12345678\", 1000)\n",
    "\n",
    "# Accessing public method\n",
    "account.deposit(500)\n",
    "print(account.get_balance())  # Output: 1500\n",
    "\n",
    "# Attempting to access private variables (will raise an AttributeError)\n",
    "# print(account.__balance)  # Raises AttributeError\n",
    "```\n",
    "\n",
    "### **Accessing Private Variables**\n",
    "\n",
    "Although private variables are not intended to be accessed directly from outside the class, they can be accessed using the name-mangled version of the variable.\n",
    "\n",
    "```python\n",
    "# Accessing private variable using name mangling\n",
    "print(account._BankAccount__balance)  # Output: 1500\n",
    "```\n",
    "\n",
    "## **Summary of Access Modifiers**\n",
    "\n",
    "| Feature                 | Public Variables                      | Protected Variables                 | Private Variables                   |\n",
    "|-------------------------|---------------------------------------|-------------------------------------|-------------------------------------|\n",
    "| **Accessibility**       | Accessible from outside the class     | Accessible within the class and subclasses | Accessible only within the class   |\n",
    "| **Default Behavior**    | Public by default                      | Indicated by single underscore (`_`) | Indicated by double underscores (`__`) |\n",
    "| **Name Mangling**       | No name mangling                      | No name mangling                    | Undergoes name mangling            |\n",
    "| **Use Case**            | General attributes and methods         | Attributes intended for inheritance | Sensitive data that should be hidden |\n",
    "\n",
    "## **Conclusion**\n",
    "\n",
    "Encapsulation is a key concept in Object-Oriented Programming that promotes data hiding and controlled access to an object's attributes and methods. Public, protected, and private variables provide different levels of access control, allowing for better data management and integrity. Understanding how to effectively use these access modifiers is crucial for writing robust and maintainable Python code.\n",
    "\n",
    "\n",
    "--------\n",
    "\n"
   ]
  },
  {
   "cell_type": "markdown",
   "metadata": {},
   "source": [
    "### ***`Let's Practice`***"
   ]
  },
  {
   "cell_type": "code",
   "execution_count": 3,
   "metadata": {},
   "outputs": [
    {
     "name": "stdout",
     "output_type": "stream",
     "text": [
      "This car belongs to Toyota company and model Corolla.\n"
     ]
    }
   ],
   "source": [
    "# public variables\n",
    "class Car:\n",
    "    \n",
    "    def __init__(self,company,model):\n",
    "        self.company = company\n",
    "        self.model = model\n",
    "    \n",
    "    def display_car_properties(self):\n",
    "        return f\"This car belongs to {self.company} company and model {self.model}.\"\n",
    "\n",
    "car = Car(\"Toyota\",\"Corolla\")\n",
    "print(car.display_car_properties())"
   ]
  },
  {
   "cell_type": "code",
   "execution_count": 9,
   "metadata": {},
   "outputs": [
    {
     "name": "stdout",
     "output_type": "stream",
     "text": [
      "This car belongs to Toyota company and model Corolla in Protected Variable conceppt\n"
     ]
    }
   ],
   "source": [
    "# protected variables\n",
    "class Car:\n",
    "    \n",
    "    def __init__(self,company,model):\n",
    "        self._company = company\n",
    "        self._model = model\n",
    "    \n",
    "    def _display_car_properties(self):\n",
    "        return f\"This car belongs to {self._company} company and model {self._model} in context of Protected Variable.\"\n",
    "\n",
    "car = Car(\"Toyota\",\"Corolla\")\n",
    "print(car._display_car_properties()) # call protected variables or functions using _"
   ]
  },
  {
   "cell_type": "code",
   "execution_count": 11,
   "metadata": {},
   "outputs": [
    {
     "name": "stdout",
     "output_type": "stream",
     "text": [
      "This car belongs to Toyota company and model Corolla in context of Private Variable.\n"
     ]
    }
   ],
   "source": [
    "# private variables\n",
    "class Car:\n",
    "    \n",
    "    def __init__(self,company,model):\n",
    "        self.__company = company # protected variables\n",
    "        self.__model = model\n",
    "    \n",
    "    def __display_car_properties(self): # protected variables\n",
    "        return f\"This car belongs to {self.__company} company and model {self.__model} in context of Private Variable.\"\n",
    "\n",
    "car = Car(\"Toyota\",\"Corolla\")\n",
    "print(car._Car__display_car_properties()) # accessing private variable or functions this way is not recomended"
   ]
  },
  {
   "cell_type": "markdown",
   "metadata": {},
   "source": [
    "------------"
   ]
  }
 ],
 "metadata": {
  "kernelspec": {
   "display_name": ".venv",
   "language": "python",
   "name": "python3"
  },
  "language_info": {
   "codemirror_mode": {
    "name": "ipython",
    "version": 3
   },
   "file_extension": ".py",
   "mimetype": "text/x-python",
   "name": "python",
   "nbconvert_exporter": "python",
   "pygments_lexer": "ipython3",
   "version": "3.10.15"
  }
 },
 "nbformat": 4,
 "nbformat_minor": 2
}
