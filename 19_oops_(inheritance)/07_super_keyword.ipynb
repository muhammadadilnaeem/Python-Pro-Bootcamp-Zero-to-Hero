{
 "cells": [
  {
   "cell_type": "markdown",
   "metadata": {},
   "source": [
    "\n",
    "\n",
    "---------------\n",
    "\n",
    "\n",
    "\n",
    "# ***`What is the `super()` Keyword?`***\n",
    "\n",
    "The **`super()`** keyword in Python is used to call methods from a parent class within a child class. It provides a way to access inherited methods and properties without explicitly naming the parent class. This is particularly useful in the context of multiple inheritance and method overriding.\n",
    "\n",
    "### **Characteristics of `super()`**\n",
    "\n",
    "1. **Dynamic Method Resolution**: `super()` dynamically resolves the method to call at runtime, which is beneficial in complex inheritance hierarchies.\n",
    "2. **Supports Multiple Inheritance**: It correctly resolves method calls in multiple inheritance scenarios, following the Method Resolution Order (MRO).\n",
    "3. **Access to Parent Class Methods**: It allows child classes to access methods of their parent classes, making it easier to extend functionality.\n",
    "\n",
    "### **Syntax**\n",
    "\n",
    "The syntax for using `super()` is straightforward:\n",
    "\n",
    "```python\n",
    "class Parent:\n",
    "    def method_name(self):\n",
    "        # Parent class method implementation\n",
    "        pass\n",
    "\n",
    "class Child(Parent):\n",
    "    def method_name(self):\n",
    "        super().method_name()  # Calling the parent class method\n",
    "        # Child class method implementation\n",
    "```\n",
    "\n",
    "## **Example of Using `super()`**\n",
    "\n",
    "### **Basic Example**\n",
    "\n",
    "```python\n",
    "class Animal:\n",
    "    def speak(self):\n",
    "        return \"Animal speaks\"\n",
    "\n",
    "class Dog(Animal):\n",
    "    def speak(self):  # Method overriding\n",
    "        return super().speak() + \" and Dog barks\"\n",
    "\n",
    "# Creating an instance of Dog\n",
    "dog = Dog()\n",
    "\n",
    "# Accessing the method\n",
    "print(dog.speak())  # Output: Animal speaks and Dog barks\n",
    "```\n",
    "\n",
    "### **Multiple Inheritance Example**\n",
    "\n",
    "In multiple inheritance, `super()` helps resolve method calls correctly according to the MRO.\n",
    "\n",
    "```python\n",
    "class A:\n",
    "    def method(self):\n",
    "        return \"Method from A\"\n",
    "\n",
    "class B(A):\n",
    "    def method(self):\n",
    "        return super().method() + \" and Method from B\"\n",
    "\n",
    "class C(A):\n",
    "    def method(self):\n",
    "        return super().method() + \" and Method from C\"\n",
    "\n",
    "class D(B, C):\n",
    "    def method(self):\n",
    "        return super().method() + \" and Method from D\"\n",
    "\n",
    "# Creating an instance of D\n",
    "d = D()\n",
    "\n",
    "# Accessing the method\n",
    "print(d.method())  # Output: Method from A and Method from C and Method from B and Method from D\n",
    "```\n",
    "\n",
    "### **Using `super()` in Constructors**\n",
    "\n",
    "`super()` can also be used in constructors to initialize the parent class.\n",
    "\n",
    "```python\n",
    "class Animal:\n",
    "    def __init__(self, name):\n",
    "        self.name = name\n",
    "\n",
    "class Dog(Animal):\n",
    "    def __init__(self, name):\n",
    "        super().__init__(name)  # Calling the parent class constructor\n",
    "        self.breed = \"Dog\"\n",
    "\n",
    "# Creating an instance of Dog\n",
    "dog = Dog(\"Buddy\")\n",
    "\n",
    "# Accessing attributes\n",
    "print(dog.name)  # Output: Buddy\n",
    "print(dog.breed)  # Output: Dog\n",
    "```\n",
    "\n",
    "## **Advantages of Using `super()`**\n",
    "\n",
    "1. **Avoids Explicit Parent Class References**: Makes the code more maintainable by avoiding hardcoding the parent class name, which is useful if the class hierarchy changes.\n",
    "2. **Facilitates Code Reusability**: Allows reusing parent class methods in child classes without duplicating code.\n",
    "3. **Handles Multiple Inheritance**: Correctly resolves method calls in cases of multiple inheritance according to the MRO, reducing the risk of method conflicts.\n",
    "\n",
    "## **Challenges of Using `super()`**\n",
    "\n",
    "1. **Complexity in Deep Hierarchies**: Understanding method resolution order (MRO) can be challenging, especially in complex inheritance hierarchies.\n",
    "2. **Potential for Confusion**: If the class hierarchy is not well understood, using `super()` might lead to unexpected behavior or ambiguity.\n",
    "3. **Limited to Class Instances**: `super()` can only be used in the context of class instances; it cannot be called in a static context.\n",
    "\n",
    "## **Conclusion**\n",
    "\n",
    "The `super()` keyword is a powerful feature in Python that enhances the flexibility and maintainability of object-oriented programming. By allowing child classes to access methods and properties of their parent classes dynamically, it promotes code reuse and simplifies complex class hierarchies. Understanding how to effectively use `super()` is essential for building robust and scalable applications. \n",
    "\n",
    "\n",
    "\n",
    "---------------\n",
    "\n"
   ]
  },
  {
   "cell_type": "markdown",
   "metadata": {},
   "source": [
    "### ***`Let's Practice`***"
   ]
  },
  {
   "cell_type": "code",
   "execution_count": 9,
   "metadata": {},
   "outputs": [
    {
     "name": "stdout",
     "output_type": "stream",
     "text": [
      "\n",
      "Here is the Provided information about Dog: \n",
      "\n",
      "1. Dog Name: Munru \n",
      "2. Dog Breed: BullDog\n"
     ]
    }
   ],
   "source": [
    "# super method\n",
    "\n",
    "class Animal:\n",
    "    def __init__(self,name):\n",
    "        self.name = name\n",
    "    \n",
    "class Dog(Animal):\n",
    "    def __init__(self, name, breed):\n",
    "        super().__init__(name)\n",
    "        self.breed = breed\n",
    "    \n",
    "    def get_dog_info(self):\n",
    "        return f\"\\nHere is the Provided information about Dog: \\n\\n1. Dog Name: {self.name} \\n2. Dog Breed: {self.breed}\"\n",
    "\n",
    "cat = Dog(\"Munru\",\"BullDog\")\n",
    "print(cat.get_dog_info())"
   ]
  },
  {
   "cell_type": "code",
   "execution_count": 3,
   "metadata": {},
   "outputs": [
    {
     "name": "stdout",
     "output_type": "stream",
     "text": [
      "Munru barks and Munru eats a lot\n"
     ]
    }
   ],
   "source": [
    "# super method\n",
    "\n",
    "class Animal:\n",
    "    def __init__(self,name):\n",
    "        self.name = name\n",
    "\n",
    "    def speak(self):\n",
    "        return f\"{self.name} speaks\"\n",
    "    \n",
    "class Dog(Animal):\n",
    "    \n",
    "    def speak(self):\n",
    "        return f\"{self.name} barks\"\n",
    "\n",
    "class BullDog(Dog):\n",
    "\n",
    "    def speak(self):\n",
    "        bs = super().speak()\n",
    "        return f\"{bs} and {self.name} eats a lot.\"\n",
    "    \n",
    "cat = BullDog(\"Munru\")\n",
    "print(cat.speak())\n"
   ]
  },
  {
   "cell_type": "code",
   "execution_count": 15,
   "metadata": {},
   "outputs": [
    {
     "name": "stdout",
     "output_type": "stream",
     "text": [
      "Method 1\n",
      "Method 2\n"
     ]
    }
   ],
   "source": [
    "# super keyword\n",
    "\n",
    "class One:\n",
    "    def method(self):\n",
    "        print(\"Method 1\")\n",
    "\n",
    "class Two:\n",
    "    def method(self):\n",
    "        print(\"Method 2\")\n",
    "\n",
    "class Three(One,Two):\n",
    "    def method(self):\n",
    "        super().method() # call method 1\n",
    "        super(One,self).method() # call next except in line of method 1 \n",
    "\n",
    "classic = Three()\n",
    "classic.method()"
   ]
  },
  {
   "cell_type": "markdown",
   "metadata": {},
   "source": [
    "----"
   ]
  }
 ],
 "metadata": {
  "kernelspec": {
   "display_name": ".venv",
   "language": "python",
   "name": "python3"
  },
  "language_info": {
   "codemirror_mode": {
    "name": "ipython",
    "version": 3
   },
   "file_extension": ".py",
   "mimetype": "text/x-python",
   "name": "python",
   "nbconvert_exporter": "python",
   "pygments_lexer": "ipython3",
   "version": "3.10.15"
  }
 },
 "nbformat": 4,
 "nbformat_minor": 2
}
