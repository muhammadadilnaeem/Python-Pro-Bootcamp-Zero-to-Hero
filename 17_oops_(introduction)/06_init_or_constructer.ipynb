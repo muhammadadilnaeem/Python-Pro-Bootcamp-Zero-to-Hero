{
 "cells": [
  {
   "cell_type": "markdown",
   "metadata": {},
   "source": [
    "\n",
    "\n",
    "-------------\n",
    "\n",
    "# ***What is `__init__` in Python?***\n",
    "\n",
    "The `__init__` method is a special method in Python classes. It is automatically called when an instance (object) of the class is created. The primary purpose of the `__init__` method is to initialize the object's attributes with the values provided during object creation.\n",
    "\n",
    "### **Key Features of `__init__`**\n",
    "\n",
    "1. **Constructor**: The `__init__` method acts as a constructor, setting up the initial state of an object.\n",
    "\n",
    "2. **Self Parameter**: The first parameter of the `__init__` method is always `self`, which refers to the instance being created. This allows you to access instance variables and methods.\n",
    "\n",
    "3. **Multiple Parameters**: You can define multiple parameters in the `__init__` method to initialize different attributes.\n",
    "\n",
    "4. **Optional Parameters**: Parameters can have default values, making them optional during object creation.\n",
    "\n",
    "### **Syntax of `__init__`**\n",
    "\n",
    "```python\n",
    "class ClassName:\n",
    "    def __init__(self, param1, param2, ...):\n",
    "        self.attribute1 = param1\n",
    "        self.attribute2 = param2\n",
    "        # Additional initialization code\n",
    "```\n",
    "\n",
    "### **Example of Using `__init__`**\n",
    "\n",
    "**Example: Defining a `Person` Class**\n",
    "\n",
    "```python\n",
    "class Person:\n",
    "    def __init__(self, name, age):\n",
    "        self.name = name  # Instance variable\n",
    "        self.age = age    # Instance variable\n",
    "\n",
    "    def introduce(self):\n",
    "        return f\"Hello, my name is {self.name} and I am {self.age} years old.\"\n",
    "\n",
    "# Creating an instance of the Person class\n",
    "person1 = Person(\"Alice\", 30)\n",
    "\n",
    "# Accessing attributes and methods\n",
    "print(person1.introduce())  # Output: Hello, my name is Alice and I am 30 years old.\n",
    "```\n",
    "\n",
    "### **Default Parameters in `__init__`**\n",
    "\n",
    "You can provide default values for parameters in the `__init__` method, allowing for more flexibility when creating objects.\n",
    "\n",
    "**Example: Modifying the `Person` Class**\n",
    "\n",
    "```python\n",
    "class Person:\n",
    "    def __init__(self, name, age=25):  # Default age is 25\n",
    "        self.name = name\n",
    "        self.age = age\n",
    "\n",
    "# Creating instances\n",
    "person1 = Person(\"Alice\")       # Age defaults to 25\n",
    "person2 = Person(\"Bob\", 40)     # Age is set to 40\n",
    "\n",
    "print(person1.introduce())  # Output: Hello, my name is Alice and I am 25 years old.\n",
    "print(person2.introduce())  # Output: Hello, my name is Bob and I am 40 years old.\n",
    "```\n",
    "\n",
    "### **Using `__init__` with Inheritance**\n",
    "\n",
    "The `__init__` method can also be used in derived classes. When a child class inherits from a parent class, you can call the parent class's `__init__` method using `super()` to initialize inherited attributes.\n",
    "\n",
    "**Example: Inheritance with `__init__`**\n",
    "\n",
    "```python\n",
    "class Animal:\n",
    "    def __init__(self, name):\n",
    "        self.name = name\n",
    "\n",
    "class Dog(Animal):\n",
    "    def __init__(self, name, breed):\n",
    "        super().__init__(name)  # Call the parent class's __init__\n",
    "        self.breed = breed\n",
    "\n",
    "    def bark(self):\n",
    "        return f\"{self.name} says Woof!\"\n",
    "\n",
    "# Creating an instance of Dog\n",
    "dog = Dog(\"Buddy\", \"Golden Retriever\")\n",
    "print(dog.bark())  # Output: Buddy says Woof!\n",
    "print(dog.breed)   # Output: Golden Retriever\n",
    "```\n",
    "\n",
    "### **Conclusion**\n",
    "\n",
    "The `__init__` method is a crucial part of class definitions in Python, allowing for the initialization of objects upon creation. By using `__init__`, you can set up attributes, provide default values, and ensure that your objects start in a valid state. Understanding how to effectively use constructors is essential for effective Object-Oriented Programming in Python. \n",
    "\n",
    "\n",
    "------------\n",
    "\n"
   ]
  },
  {
   "cell_type": "markdown",
   "metadata": {},
   "source": [
    "### ***`Let's Practice`***"
   ]
  },
  {
   "cell_type": "code",
   "execution_count": 5,
   "metadata": {},
   "outputs": [
    {
     "name": "stdout",
     "output_type": "stream",
     "text": [
      "'Name' Has 💨 Toyota value and 'Model' Has 💨 Corola value. This proves that __init__ is initialized when when object is created.\n"
     ]
    }
   ],
   "source": [
    "class Car:\n",
    "    def __init__(self, name, model):\n",
    "        self.name = name\n",
    "        self.model = model\n",
    "\n",
    "        print(f\"'Name' Has 💨 {self.name} value and 'Model' Has 💨 {self.model} value. This proves that __init__ is initialized when when object is created.\")\n",
    "\n",
    "obj = Car(\"Toyota\",\"Corola\")"
   ]
  },
  {
   "cell_type": "markdown",
   "metadata": {},
   "source": [
    "-----------"
   ]
  }
 ],
 "metadata": {
  "kernelspec": {
   "display_name": ".venv",
   "language": "python",
   "name": "python3"
  },
  "language_info": {
   "codemirror_mode": {
    "name": "ipython",
    "version": 3
   },
   "file_extension": ".py",
   "mimetype": "text/x-python",
   "name": "python",
   "nbconvert_exporter": "python",
   "pygments_lexer": "ipython3",
   "version": "3.10.15"
  }
 },
 "nbformat": 4,
 "nbformat_minor": 2
}
