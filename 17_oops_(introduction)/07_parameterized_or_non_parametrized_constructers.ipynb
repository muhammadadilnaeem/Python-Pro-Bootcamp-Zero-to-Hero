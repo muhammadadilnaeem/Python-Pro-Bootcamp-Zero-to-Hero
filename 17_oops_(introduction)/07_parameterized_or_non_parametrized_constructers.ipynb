{
 "cells": [
  {
   "cell_type": "markdown",
   "metadata": {},
   "source": [
    "\n",
    "\n",
    "---------------\n",
    "\n",
    "# ***`Parameterised & Non Parameterised Construtors in Python`***\n",
    "\n",
    "In Python, a constructor is a special method used to initialize objects when they are created. It is defined using the `__init__` method. Constructors can be categorized into two types: **Non-Parameterized Constructors** and **Parameterized Constructors**.\n",
    "\n",
    "### **Non-Parameterized Constructors**\n",
    "\n",
    "#### **Definition**\n",
    "\n",
    "A **Non-Parameterized Constructor** is a constructor that does not take any parameters other than `self`. It initializes object attributes with default values.\n",
    "\n",
    "#### **Syntax**\n",
    "\n",
    "```python\n",
    "class ClassName:\n",
    "    def __init__(self):\n",
    "        self.attribute1 = default_value1\n",
    "        self.attribute2 = default_value2\n",
    "```\n",
    "\n",
    "#### **Example of Non-Parameterized Constructor**\n",
    "\n",
    "```python\n",
    "class Person:\n",
    "    def __init__(self):\n",
    "        self.name = \"Unknown\"  # Default value\n",
    "        self.age = 0           # Default value\n",
    "\n",
    "    def introduce(self):\n",
    "        return f\"Hello, my name is {self.name} and I am {self.age} years old.\"\n",
    "\n",
    "# Creating an instance of Person\n",
    "person1 = Person()\n",
    "\n",
    "# Accessing attributes and methods\n",
    "print(person1.introduce())  # Output: Hello, my name is Unknown and I am 0 years old.\n",
    "```\n",
    "\n",
    "### **Parameterized Constructors**\n",
    "\n",
    "#### **Definition**\n",
    "\n",
    "A **Parameterized Constructor** is a constructor that takes one or more parameters in addition to `self`. It initializes object attributes with values provided during object creation.\n",
    "\n",
    "#### **Syntax**\n",
    "\n",
    "```python\n",
    "class ClassName:\n",
    "    def __init__(self, param1, param2, ...):\n",
    "        self.attribute1 = param1\n",
    "        self.attribute2 = param2\n",
    "```\n",
    "\n",
    "#### **Example of Parameterized Constructor**\n",
    "\n",
    "```python\n",
    "class Person:\n",
    "    def __init__(self, name, age):\n",
    "        self.name = name  # Instance variable initialized with parameter\n",
    "        self.age = age    # Instance variable initialized with parameter\n",
    "\n",
    "    def introduce(self):\n",
    "        return f\"Hello, my name is {self.name} and I am {self.age} years old.\"\n",
    "\n",
    "# Creating instances of Person with parameters\n",
    "person1 = Person(\"Alice\", 30)\n",
    "person2 = Person(\"Bob\", 25)\n",
    "\n",
    "# Accessing attributes and methods\n",
    "print(person1.introduce())  # Output: Hello, my name is Alice and I am 30 years old.\n",
    "print(person2.introduce())  # Output: Hello, my name is Bob and I am 25 years old.\n",
    "```\n",
    "\n",
    "### **Differences Between Non-Parameterized and Parameterized Constructors**\n",
    "\n",
    "| Feature                       | Non-Parameterized Constructor              | Parameterized Constructor                |\n",
    "|-------------------------------|-------------------------------------------|------------------------------------------|\n",
    "| **Parameters**                | Does not accept parameters                | Accepts one or more parameters           |\n",
    "| **Initialization**            | Initializes with default values            | Initializes with values provided during object creation |\n",
    "| **Usage**                     | Used when default values are sufficient   | Used when specific values are needed     |\n",
    "| **Flexibility**               | Less flexible, limited to default values   | More flexible, allows for customized initialization |\n",
    "\n",
    "### **Conclusion**\n",
    "\n",
    "Both **Non-Parameterized** and **Parameterized Constructors** play essential roles in object initialization in Python. Non-parameterized constructors are useful for setting default values, while parameterized constructors offer the flexibility to initialize objects with specific data. Understanding these constructors is fundamental for effective Object-Oriented Programming in Python. \n",
    "\n",
    "-------------\n",
    "\n"
   ]
  },
  {
   "cell_type": "markdown",
   "metadata": {},
   "source": [
    "### ***`Let's Practice`***"
   ]
  },
  {
   "cell_type": "code",
   "execution_count": 6,
   "metadata": {},
   "outputs": [
    {
     "name": "stdout",
     "output_type": "stream",
     "text": [
      "Zulqarnain\n",
      "Raheel\n"
     ]
    }
   ],
   "source": [
    "# class with non parametrized constructer\n",
    "class Friends:\n",
    "    def __init__(self):\n",
    "        self.saraiki = \"Zulqarnain\"\n",
    "        self.kishmiri = \"Raheel\"\n",
    "\n",
    "obj = Friends()\n",
    "print(obj.saraiki)\n",
    "print(obj.kishmiri)"
   ]
  },
  {
   "cell_type": "code",
   "execution_count": 3,
   "metadata": {},
   "outputs": [
    {
     "name": "stdout",
     "output_type": "stream",
     "text": [
      "XR\n",
      "S22\n"
     ]
    }
   ],
   "source": [
    "# class with parameterized constructer\n",
    "class Phones:\n",
    "    def __init__(self,iphone,samsung):\n",
    "        self.iphone = iphone\n",
    "        self.samsung = samsung\n",
    "\n",
    "obj = Phones(\"XR\",\"S22\")\n",
    "print(obj.iphone)\n",
    "print(obj.samsung)"
   ]
  },
  {
   "cell_type": "code",
   "execution_count": 8,
   "metadata": {},
   "outputs": [
    {
     "name": "stdout",
     "output_type": "stream",
     "text": [
      "\n",
      "Name --> Adil\n",
      "\n",
      "Mail --> madilnaeem0@gmail.com\n",
      "\n",
      "Password --> netflixadil@321\n",
      "\n",
      "Service --> Standard\n",
      "\n",
      "Amount --> 5 USD\n"
     ]
    }
   ],
   "source": [
    "# class with parameterized constructer\n",
    "class Netflix:\n",
    "    def __init__(self,name,mail,password,service,amount):\n",
    "        self.name = name\n",
    "        self.mail = mail\n",
    "        self.password = password\n",
    "        self.service = service\n",
    "        self.amount = amount\n",
    "\n",
    "my_account = Netflix(\"Adil\",\"madilnaeem0@gmail.com\",\"netflixadil@321\",\"Standard\",\"5 USD\")\n",
    "print(f\"\\nName --> {my_account.name}\")\n",
    "print(f\"\\nMail --> {my_account.mail}\")\n",
    "print(f\"\\nPassword --> {my_account.password}\")\n",
    "print(f\"\\nService --> {my_account.service}\")\n",
    "print(f\"\\nAmount --> {my_account.amount}\")\n"
   ]
  },
  {
   "cell_type": "markdown",
   "metadata": {},
   "source": [
    "----------"
   ]
  }
 ],
 "metadata": {
  "kernelspec": {
   "display_name": ".venv",
   "language": "python",
   "name": "python3"
  },
  "language_info": {
   "codemirror_mode": {
    "name": "ipython",
    "version": 3
   },
   "file_extension": ".py",
   "mimetype": "text/x-python",
   "name": "python",
   "nbconvert_exporter": "python",
   "pygments_lexer": "ipython3",
   "version": "3.10.15"
  }
 },
 "nbformat": 4,
 "nbformat_minor": 2
}
