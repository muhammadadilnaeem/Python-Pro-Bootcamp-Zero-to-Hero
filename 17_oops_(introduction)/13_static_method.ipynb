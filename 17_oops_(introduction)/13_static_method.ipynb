{
 "cells": [
  {
   "cell_type": "markdown",
   "metadata": {},
   "source": [
    "\n",
    "\n",
    "------------------\n",
    "\n",
    "# ***`What are Static Methods?`***\n",
    "\n",
    "**Static methods** are methods defined within a class that do not depend on class or instance-specific data. They are defined using the `@staticmethod` decorator and behave like regular functions, but they belong to the class's namespace. Static methods do not require a reference to the class or instance (i.e., they do not take `cls` or `self` as their first parameter).\n",
    "\n",
    "### **Characteristics of Static Methods**\n",
    "\n",
    "1. **No Reference to Class or Instance**: Static methods do not have access to the instance (`self`) or class (`cls`) variables. They work independently of class or instance state.\n",
    "\n",
    "2. **Utility Functions**: Static methods are often used to define utility functions that perform a task related to the class but do not need to access or modify class or instance data.\n",
    "\n",
    "3. **Called on Class or Instance**: Static methods can be called on the class itself or on instances of the class.\n",
    "\n",
    "### **Syntax**\n",
    "\n",
    "The general syntax for defining a static method is as follows:\n",
    "\n",
    "```python\n",
    "class ClassName:\n",
    "    @staticmethod\n",
    "    def method_name(parameters):\n",
    "        # Method body\n",
    "        pass\n",
    "```\n",
    "\n",
    "### **Example of Static Methods**\n",
    "\n",
    "**Example: Defining a `MathUtils` Class with Static Methods**\n",
    "\n",
    "```python\n",
    "class MathUtils:\n",
    "    @staticmethod\n",
    "    def add(x, y):\n",
    "        return x + y\n",
    "\n",
    "    @staticmethod\n",
    "    def subtract(x, y):\n",
    "        return x - y\n",
    "\n",
    "# Calling static methods directly on the class\n",
    "result1 = MathUtils.add(5, 3)\n",
    "result2 = MathUtils.subtract(10, 4)\n",
    "\n",
    "print(result1)  # Output: 8\n",
    "print(result2)  # Output: 6\n",
    "```\n",
    "\n",
    "### **Importance of Static Methods**\n",
    "\n",
    "- **Encapsulation of Related Functions**: Static methods allow you to group related functions within a class without requiring access to instance or class data.\n",
    "- **Improved Code Organization**: By using static methods, you can keep your code organized and modular, making it easier to maintain and understand.\n",
    "- **Flexibility**: They can be called without creating an instance of the class, allowing for more flexible code usage.\n",
    "\n",
    "### **Calling Static Methods**\n",
    "\n",
    "Static methods can be called using the class name or through an instance of the class, but they do not require either.\n",
    "\n",
    "#### **Example of Calling Static Methods**\n",
    "\n",
    "```python\n",
    "class StringUtils:\n",
    "    @staticmethod\n",
    "    def to_uppercase(s):\n",
    "        return s.upper()\n",
    "\n",
    "    @staticmethod\n",
    "    def to_lowercase(s):\n",
    "        return s.lower()\n",
    "\n",
    "# Calling static methods directly on the class\n",
    "print(StringUtils.to_uppercase(\"hello\"))  # Output: HELLO\n",
    "print(StringUtils.to_lowercase(\"WORLD\"))   # Output: world\n",
    "\n",
    "# Calling static methods on an instance\n",
    "utils = StringUtils()\n",
    "print(utils.to_uppercase(\"python\"))  # Output: PYTHON\n",
    "```\n",
    "\n",
    "### **Differences Between Static Methods, Class Methods, and Instance Methods**\n",
    "\n",
    "| Feature                     | Instance Methods                     | Class Methods                        | Static Methods                        |\n",
    "|-----------------------------|--------------------------------------|--------------------------------------|--------------------------------------|\n",
    "| **First Parameter**         | `self` (instance reference)          | `cls` (class reference)              | None (no implicit first parameter)   |\n",
    "| **Access**                  | Access instance attributes            | Access class attributes               | No access to instance or class data  |\n",
    "| **Invocation**              | Called on instances                   | Called on the class or instance      | Called on the class or instance      |\n",
    "| **Use Case**                | Operate on instance-specific data     | Operate on class-level data          | Utility functions unrelated to class/instance data |\n",
    "\n",
    "### **Conclusion**\n",
    "\n",
    "Static methods are a valuable feature in Python that allows you to define functions within a class that do not require access to instance or class data. They enhance code organization, encapsulation, and flexibility. Understanding how to effectively use static methods is important for writing clean and maintainable code in Python.\n",
    "\n",
    "------------------\n",
    "\n"
   ]
  },
  {
   "cell_type": "markdown",
   "metadata": {},
   "source": [
    "### ***`Let's Practice`***"
   ]
  },
  {
   "cell_type": "code",
   "execution_count": 3,
   "metadata": {},
   "outputs": [
    {
     "name": "stdout",
     "output_type": "stream",
     "text": [
      "SimpleMaths\n",
      "11\n"
     ]
    }
   ],
   "source": [
    "\n",
    "class SimpleMaths:\n",
    "\n",
    "    # class variable\n",
    "    name = \"SimpleMaths\"\n",
    "\n",
    "    @staticmethod\n",
    "    def add(a,b):\n",
    "        return a+b\n",
    "    \n",
    "    # access class variable\n",
    "    @staticmethod\n",
    "    def get_class_name():\n",
    "        return SimpleMaths.name\n",
    "    \n",
    "print(SimpleMaths.get_class_name())\n",
    "print(SimpleMaths.add(5,6))"
   ]
  },
  {
   "cell_type": "markdown",
   "metadata": {},
   "source": [
    "------"
   ]
  }
 ],
 "metadata": {
  "kernelspec": {
   "display_name": ".venv",
   "language": "python",
   "name": "python3"
  },
  "language_info": {
   "codemirror_mode": {
    "name": "ipython",
    "version": 3
   },
   "file_extension": ".py",
   "mimetype": "text/x-python",
   "name": "python",
   "nbconvert_exporter": "python",
   "pygments_lexer": "ipython3",
   "version": "3.10.15"
  }
 },
 "nbformat": 4,
 "nbformat_minor": 2
}
