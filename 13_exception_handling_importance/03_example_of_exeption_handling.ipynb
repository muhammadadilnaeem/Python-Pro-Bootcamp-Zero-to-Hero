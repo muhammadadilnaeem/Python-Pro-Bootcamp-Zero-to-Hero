{
 "cells": [
  {
   "cell_type": "markdown",
   "metadata": {},
   "source": [
    "\n",
    "\n",
    "------------\n",
    "\n",
    "# ***`Example Of Exception Handling`***\n",
    "\n",
    "\n",
    "---------\n",
    "\n"
   ]
  },
  {
   "cell_type": "code",
   "execution_count": 6,
   "metadata": {},
   "outputs": [],
   "source": [
    "# def write_file(filename,content):\n",
    "#     with open(filename,\"w\") as file:\n",
    "#         file.write(content)\n",
    "#     print(f\"Content Written in {filename} Successfully!\")\n",
    "\n",
    "# write_file(\"practice.txt\", \"This is the end, Hold your breath and count to ten\")"
   ]
  },
  {
   "cell_type": "code",
   "execution_count": 7,
   "metadata": {},
   "outputs": [],
   "source": [
    "# def read_file(filename):\n",
    "#     try:\n",
    "\n",
    "#         file = open(filename, \"r\")\n",
    "#         data  = file.read()\n",
    "\n",
    "#         number = int(data)\n",
    "#         print(f\"The Number in the File is {number}.\")\n",
    "\n",
    "#     except FileNotFoundError as e:\n",
    "#         print(f\"Error Occured in {filename} and Error is {e}.\")\n",
    "    \n",
    "#     except ValueError as e:\n",
    "#         print(f\"Error! Value Can not be Converted to Integer due to {e}.\")\n",
    "    \n",
    "#     except Exception as e:\n",
    "#         print(f\"An Unexpected Error Occured due to {e}.\")\n",
    "\n",
    "#     else:\n",
    "#         print(\"File Read Successfully and content is valid\")\n",
    "\n",
    "#     finally:\n",
    "#         try:\n",
    "#             file.close()\n",
    "#             print(\"File Closed Successfully\")\n",
    "#         except NameError as e:\n",
    "#             print(f\"File Never Opened due to {e}\")\n",
    "\n",
    "\n",
    "# read_file(\"practice.txt\" )\n"
   ]
  },
  {
   "cell_type": "markdown",
   "metadata": {},
   "source": [
    "----"
   ]
  }
 ],
 "metadata": {
  "kernelspec": {
   "display_name": ".venv",
   "language": "python",
   "name": "python3"
  },
  "language_info": {
   "codemirror_mode": {
    "name": "ipython",
    "version": 3
   },
   "file_extension": ".py",
   "mimetype": "text/x-python",
   "name": "python",
   "nbconvert_exporter": "python",
   "pygments_lexer": "ipython3",
   "version": "3.10.15"
  }
 },
 "nbformat": 4,
 "nbformat_minor": 2
}
