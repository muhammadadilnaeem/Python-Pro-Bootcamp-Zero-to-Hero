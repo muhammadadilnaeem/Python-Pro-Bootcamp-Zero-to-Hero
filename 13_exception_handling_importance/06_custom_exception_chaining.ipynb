{
 "cells": [
  {
   "cell_type": "markdown",
   "metadata": {},
   "source": [
    "\n",
    "\n",
    "----------------\n",
    "\n",
    "# ***`Custom Exception Chaining in Python`***\n",
    "\n",
    "#### **Definition**\n",
    "\n",
    "Custom exception chaining in Python refers to the practice of raising a new exception while preserving the context of an original exception. This allows you to provide additional context or information about an error while maintaining a link to the original exception that caused it. In Python, this is facilitated by the `from` keyword when raising an exception.\n",
    "\n",
    "### **Why Use Exception Chaining?**\n",
    "\n",
    "1. **Context Preservation**: Chaining exceptions allows you to retain the original error context, making debugging easier.\n",
    "2. **Enhanced Clarity**: It provides clearer error messages by indicating the root cause of the issue.\n",
    "3. **Separation of Concerns**: You can handle different parts of an error more effectively, separating the layers of abstraction or functionality in your code.\n",
    "\n",
    "### **Implementing Custom Exception Chaining**\n",
    "\n",
    "To implement custom exception chaining, you can raise a new exception while catching an existing one, using the `from` keyword.\n",
    "\n",
    "#### **Basic Structure**\n",
    "\n",
    "```python\n",
    "try:\n",
    "    # Code that may raise an exception\n",
    "except OriginalException as e:\n",
    "    raise NewCustomException(\"Error message\") from e\n",
    "```\n",
    "\n",
    "### **Example of Custom Exception Chaining**\n",
    "\n",
    "Here’s an example demonstrating how to implement and utilize custom exception chaining:\n",
    "\n",
    "```python\n",
    "class DatabaseError(Exception):\n",
    "    \"\"\"Custom exception for database-related errors.\"\"\"\n",
    "    pass\n",
    "\n",
    "class ConnectionError(DatabaseError):\n",
    "    \"\"\"Exception raised for connection errors.\"\"\"\n",
    "    pass\n",
    "\n",
    "class QueryError(DatabaseError):\n",
    "    \"\"\"Exception raised for errors in executing a query.\"\"\"\n",
    "    pass\n",
    "\n",
    "def connect_to_database(db_url):\n",
    "    # Simulating a connection failure\n",
    "    raise ConnectionError(\"Failed to connect to the database.\")\n",
    "\n",
    "def execute_query(query):\n",
    "    try:\n",
    "        # Attempting to connect to the database\n",
    "        connect_to_database(\"db_url\")\n",
    "    except ConnectionError as e:\n",
    "        raise QueryError(\"Query execution failed.\") from e\n",
    "\n",
    "# Usage\n",
    "try:\n",
    "    execute_query(\"SELECT * FROM users\")\n",
    "except QueryError as e:\n",
    "    print(f\"Error: {e}\")  # Output: Error: Query execution failed.\n",
    "    print(f\"Caused by: {e.__cause__}\")  # Output: Caused by: Failed to connect to the database.\n",
    "```\n",
    "\n",
    "### **Explanation of the Example**\n",
    "\n",
    "1. **Custom Exception Classes**: We define three custom exceptions: `DatabaseError`, `ConnectionError`, and `QueryError`.\n",
    "2. **Error Simulation**: The `connect_to_database` function simulates a connection failure by raising a `ConnectionError`.\n",
    "3. **Chaining Exceptions**: In `execute_query`, we catch the `ConnectionError` and raise a `QueryError`, chaining it with the original exception using `from`.\n",
    "4. **Accessing the Cause**: In the `except` block, you can access the original exception using the `__cause__` attribute, which provides the context of the error.\n",
    "\n",
    "### **Best Practices for Custom Exception Chaining**\n",
    "\n",
    "1. **Use the `from` Keyword**: Always use the `from` keyword when chaining exceptions to maintain context.\n",
    "   \n",
    "   ```python\n",
    "   raise NewException(\"Message\") from original_exception\n",
    "   ```\n",
    "\n",
    "2. **Provide Meaningful Messages**: When raising the new exception, include a clear and informative message that describes the new context.\n",
    "   \n",
    "3. **Document Exception Relationships**: Clearly document how exceptions are related, especially in complex systems.\n",
    "\n",
    "4. **Use Custom Exceptions Wisely**: Create custom exceptions that meaningfully represent error conditions, and avoid excessive chaining that can lead to clutter.\n",
    "\n",
    "5. **Access Chained Exceptions**: Utilize the `__cause__` attribute to access the original exception when handling the new exception, aiding in debugging.\n",
    "\n",
    "### **Conclusion**\n",
    "\n",
    "Custom exception chaining in Python provides a powerful mechanism for maintaining context and clarity in error handling. By using the `from` keyword, you can create a clear lineage of exceptions that helps in debugging and understanding the flow of errors in your application. This practice enhances the robustness of your error handling strategy, making your code easier to maintain and troubleshoot.\n",
    "\n",
    "----------------\n"
   ]
  },
  {
   "cell_type": "markdown",
   "metadata": {},
   "source": [
    "### ***`Let's Practice`***"
   ]
  },
  {
   "cell_type": "code",
   "execution_count": 5,
   "metadata": {},
   "outputs": [
    {
     "name": "stdout",
     "output_type": "stream",
     "text": [
      "Orignal Error....Division by Zero is not possible yet\n",
      "Handled error....division by zero\n"
     ]
    }
   ],
   "source": [
    "\n",
    "def divide(a,b):\n",
    "    try:\n",
    "        return a/b\n",
    "    except ZeroDivisionError as e:\n",
    "        raise ValueError(\"Division by Zero is not possible yet\") from e\n",
    "\n",
    "try:\n",
    "    divide(10,0)\n",
    "\n",
    "except ValueError as e:\n",
    "    print(f\"Orignal Error....{e}\")\n",
    "    print(f\"Handled error....{e.__cause__}\")"
   ]
  },
  {
   "cell_type": "markdown",
   "metadata": {},
   "source": [
    "-----"
   ]
  }
 ],
 "metadata": {
  "kernelspec": {
   "display_name": ".venv",
   "language": "python",
   "name": "python3"
  },
  "language_info": {
   "codemirror_mode": {
    "name": "ipython",
    "version": 3
   },
   "file_extension": ".py",
   "mimetype": "text/x-python",
   "name": "python",
   "nbconvert_exporter": "python",
   "pygments_lexer": "ipython3",
   "version": "3.10.15"
  }
 },
 "nbformat": 4,
 "nbformat_minor": 2
}
