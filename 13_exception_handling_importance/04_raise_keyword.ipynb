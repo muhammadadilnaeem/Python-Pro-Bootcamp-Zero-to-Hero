{
 "cells": [
  {
   "cell_type": "markdown",
   "metadata": {},
   "source": [
    "\n",
    "\n",
    "-------------\n",
    "\n",
    "# ***`raise` Keyword in Python***\n",
    "\n",
    "#### **Definition**\n",
    "\n",
    "The `raise` keyword in Python is used to trigger an exception manually. This allows developers to create custom exceptions and control the flow of the program when certain conditions occur.\n",
    "\n",
    "### **Purpose of the `raise` Keyword**\n",
    "\n",
    "1. **Indicating Errors**: You can use `raise` to signal that an error has occurred in the program, even if Python's built-in exceptions have not been triggered.\n",
    "2. **Custom Exceptions**: It allows the creation of user-defined exceptions to handle specific error scenarios in applications.\n",
    "3. **Re-raising Exceptions**: You can re-raise an exception that has been caught in an `except` block to propagate it further up the call stack.\n",
    "\n",
    "### **Syntax**\n",
    "\n",
    "The basic syntax for using `raise` is:\n",
    "\n",
    "```python\n",
    "raise ExceptionType(\"Error message\")\n",
    "```\n",
    "\n",
    "- **`ExceptionType`**: This can be a built-in exception (like `ValueError`, `TypeError`, etc.) or a user-defined exception class.\n",
    "- **`\"Error message\"`**: A string that describes the error.\n",
    "\n",
    "### **Usage**\n",
    "\n",
    "#### **1. Raising Built-in Exceptions**\n",
    "\n",
    "You can raise built-in exceptions when certain conditions are met.\n",
    "\n",
    "**Example**:\n",
    "\n",
    "```python\n",
    "def divide(x, y):\n",
    "    if y == 0:\n",
    "        raise ValueError(\"Cannot divide by zero.\")\n",
    "    return x / y\n",
    "\n",
    "try:\n",
    "    result = divide(10, 0)\n",
    "except ValueError as e:\n",
    "    print(e)  # Output: Cannot divide by zero.\n",
    "```\n",
    "\n",
    "#### **2. Creating Custom Exceptions**\n",
    "\n",
    "You can define your own exception classes by inheriting from the built-in `Exception` class.\n",
    "\n",
    "**Example**:\n",
    "\n",
    "```python\n",
    "class MyCustomError(Exception):\n",
    "    pass\n",
    "\n",
    "def check_value(x):\n",
    "    if x < 0:\n",
    "        raise MyCustomError(\"Negative value is not allowed.\")\n",
    "\n",
    "try:\n",
    "    check_value(-1)\n",
    "except MyCustomError as e:\n",
    "    print(e)  # Output: Negative value is not allowed.\n",
    "```\n",
    "\n",
    "#### **3. Re-raising Exceptions**\n",
    "\n",
    "You can use `raise` without any arguments inside an `except` block to re-raise the caught exception.\n",
    "\n",
    "**Example**:\n",
    "\n",
    "```python\n",
    "def process_data(data):\n",
    "    try:\n",
    "        if not isinstance(data, list):\n",
    "            raise TypeError(\"Expected a list.\")\n",
    "        # Further processing...\n",
    "    except TypeError as e:\n",
    "        print(\"Error occurred:\", e)\n",
    "        raise  # Re-raise the original exception\n",
    "\n",
    "try:\n",
    "    process_data(\"not a list\")\n",
    "except TypeError as e:\n",
    "    print(\"Caught an exception:\", e)\n",
    "```\n",
    "\n",
    "### **Best Practices**\n",
    "\n",
    "1. **Use Informative Messages**: When raising exceptions, provide clear and meaningful messages to help identify the issue.\n",
    "\n",
    "   ```python\n",
    "   raise ValueError(\"Invalid input: The value must be greater than zero.\")\n",
    "   ```\n",
    "\n",
    "2. **Create Custom Exceptions**: For complex applications, consider creating custom exceptions that make it easier to manage specific error conditions.\n",
    "\n",
    "3. **Re-raise Exceptions Wisely**: Re-raise exceptions only when necessary, usually when you want to log the error or perform cleanup tasks before propagating the exception.\n",
    "\n",
    "4. **Document Exceptions**: Clearly document the exceptions that your functions or methods can raise, especially for public APIs.\n",
    "\n",
    "5. **Avoid Overusing**: Use `raise` judiciously. Overusing it for control flow can lead to complicated code and make debugging more challenging.\n",
    "\n",
    "### **Conclusion**\n",
    "\n",
    "The `raise` keyword is a powerful feature in Python that allows developers to signal errors and exceptions in a controlled manner. By using built-in and custom exceptions appropriately, you can create more robust applications that handle errors gracefully. \n",
    "\n",
    "\n",
    "---------\n",
    "\n"
   ]
  },
  {
   "cell_type": "markdown",
   "metadata": {},
   "source": [
    "### ***`Let's Practice`***"
   ]
  },
  {
   "cell_type": "code",
   "execution_count": 6,
   "metadata": {},
   "outputs": [
    {
     "name": "stdout",
     "output_type": "stream",
     "text": [
      "Requirements not Satisfied\n"
     ]
    }
   ],
   "source": [
    "def divide(a,b):\n",
    "    if b==5:\n",
    "        raise ZeroDivisionError(\"Requirements not Satisfied\")\n",
    "    return a/b\n",
    "try:\n",
    "\n",
    "    result = divide(10,5)\n",
    "    print(result)\n",
    "\n",
    "except ZeroDivisionError as e:\n",
    "    print(f\"{e}\")\n"
   ]
  },
  {
   "cell_type": "code",
   "execution_count": 11,
   "metadata": {},
   "outputs": [
    {
     "name": "stdout",
     "output_type": "stream",
     "text": [
      "Age is Zero or less than Zero, not possible.\n"
     ]
    }
   ],
   "source": [
    "def get_age(age):\n",
    "    \n",
    "    if age<0:\n",
    "        \n",
    "        raise ValueError(\"Age is Zero or less than Zero, not possible.\")\n",
    "    \n",
    "    return age\n",
    "\n",
    "try:\n",
    "    get_age(-15)\n",
    "\n",
    "except ValueError as e:\n",
    "    print(e)\n"
   ]
  },
  {
   "cell_type": "code",
   "execution_count": null,
   "metadata": {},
   "outputs": [],
   "source": []
  },
  {
   "cell_type": "code",
   "execution_count": null,
   "metadata": {},
   "outputs": [],
   "source": []
  },
  {
   "cell_type": "markdown",
   "metadata": {},
   "source": [
    "--------"
   ]
  }
 ],
 "metadata": {
  "kernelspec": {
   "display_name": ".venv",
   "language": "python",
   "name": "python3"
  },
  "language_info": {
   "codemirror_mode": {
    "name": "ipython",
    "version": 3
   },
   "file_extension": ".py",
   "mimetype": "text/x-python",
   "name": "python",
   "nbconvert_exporter": "python",
   "pygments_lexer": "ipython3",
   "version": "3.10.15"
  }
 },
 "nbformat": 4,
 "nbformat_minor": 2
}
