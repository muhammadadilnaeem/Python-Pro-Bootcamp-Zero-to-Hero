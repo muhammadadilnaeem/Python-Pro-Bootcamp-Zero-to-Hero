{
 "cells": [
  {
   "cell_type": "markdown",
   "metadata": {},
   "source": [
    "\n",
    "\n",
    "--------\n",
    "\n",
    "# ***`Custom Exceptions in Python`***\n",
    "\n",
    "#### **Definition**\n",
    "\n",
    "Custom exceptions in Python are user-defined exception classes that inherit from the built-in `Exception` class. They allow developers to create specific error types tailored to their application’s requirements, enhancing error handling and debugging.\n",
    "\n",
    "### **Why Use Custom Exceptions?**\n",
    "\n",
    "1. **Specificity**: Custom exceptions provide more precise error information, making it easier to handle specific error conditions.\n",
    "2. **Readability**: They improve the readability of the code by indicating what kind of errors can occur in specific contexts.\n",
    "3. **Control Flow**: Custom exceptions allow for more granular control over error handling in complex applications.\n",
    "4. **Separation of Concerns**: They help separate different error types, making it easier to manage and maintain code.\n",
    "\n",
    "### **Creating Custom Exceptions**\n",
    "\n",
    "To create a custom exception, you need to define a new class that inherits from the built-in `Exception` class (or a subclass of it).\n",
    "\n",
    "#### **Basic Structure**\n",
    "\n",
    "```python\n",
    "class MyCustomException(Exception):\n",
    "    \"\"\"Custom exception for specific error conditions.\"\"\"\n",
    "    pass\n",
    "```\n",
    "\n",
    "### **Example of Custom Exception**\n",
    "\n",
    "Here’s a practical example of creating and using a custom exception:\n",
    "\n",
    "```python\n",
    "class NegativeValueError(Exception):\n",
    "    \"\"\"Exception raised for errors in the input if the value is negative.\"\"\"\n",
    "    def __init__(self, value):\n",
    "        self.value = value\n",
    "        self.message = f\"Negative value: {value} is not allowed.\"\n",
    "        super().__init__(self.message)\n",
    "\n",
    "def set_value(x):\n",
    "    if x < 0:\n",
    "        raise NegativeValueError(x)\n",
    "    return x\n",
    "\n",
    "# Usage\n",
    "try:\n",
    "    set_value(-10)\n",
    "except NegativeValueError as e:\n",
    "    print(e)  # Output: Negative value: -10 is not allowed.\n",
    "```\n",
    "\n",
    "### **Adding Functionality to Custom Exceptions**\n",
    "\n",
    "You can enhance custom exceptions by adding attributes and methods to provide more context about the error.\n",
    "\n",
    "#### **Example with Additional Attributes**\n",
    "\n",
    "```python\n",
    "class InvalidAgeError(Exception):\n",
    "    \"\"\"Exception raised for invalid age inputs.\"\"\"\n",
    "    def __init__(self, age):\n",
    "        self.age = age\n",
    "        self.message = f\"Invalid age: {age}. Age must be between 0 and 120.\"\n",
    "        super().__init__(self.message)\n",
    "\n",
    "def validate_age(age):\n",
    "    if age < 0 or age > 120:\n",
    "        raise InvalidAgeError(age)\n",
    "\n",
    "# Usage\n",
    "try:\n",
    "    validate_age(150)\n",
    "except InvalidAgeError as e:\n",
    "    print(e)  # Output: Invalid age: 150. Age must be between 0 and 120.\n",
    "```\n",
    "\n",
    "### **Best Practices for Custom Exceptions**\n",
    "\n",
    "1. **Inherit from Exception**: Always inherit from the `Exception` class or a subclass of it to ensure proper behavior within the exception handling framework.\n",
    "   \n",
    "2. **Provide Meaningful Messages**: Include informative messages that describe the error condition clearly.\n",
    "\n",
    "3. **Document Custom Exceptions**: Clearly document your custom exceptions, including when they are raised and what parameters they take.\n",
    "\n",
    "4. **Use Custom Exceptions Sparingly**: Create custom exceptions only when necessary to avoid cluttering the codebase with too many exception types.\n",
    "\n",
    "5. **Consider Custom Attributes**: If your exception needs additional information, define attributes within the exception class to store this data.\n",
    "\n",
    "### **Conclusion**\n",
    "\n",
    "Custom exceptions in Python are a powerful tool for managing error conditions in a more controlled and informative manner. By creating specific exception types tailored to your application's needs, you can enhance readability and maintainability while providing clearer error handling. \n",
    "\n",
    "-----"
   ]
  },
  {
   "cell_type": "markdown",
   "metadata": {},
   "source": [
    "### ***`Let's Practice`***"
   ]
  },
  {
   "cell_type": "code",
   "execution_count": 2,
   "metadata": {},
   "outputs": [
    {
     "name": "stdout",
     "output_type": "stream",
     "text": [
      "Age is Zero or less than Zero, not possible.\n"
     ]
    }
   ],
   "source": [
    "class my_error(Exception):\n",
    "    def __init__(self, message):\n",
    "        self.message = message\n",
    "        super().__init__(self.message)\n",
    "\n",
    "def get_age(age):\n",
    "    if age<0:\n",
    "        raise my_error(\"Age is Zero or less than Zero, not possible.\")\n",
    "    return age\n",
    "try:\n",
    "    get_age(-150)\n",
    "except my_error as e:\n",
    "    print(e)"
   ]
  },
  {
   "cell_type": "code",
   "execution_count": 5,
   "metadata": {},
   "outputs": [
    {
     "name": "stdout",
     "output_type": "stream",
     "text": [
      "Custom Exception.... -11 is too young\n"
     ]
    }
   ],
   "source": [
    "class TooYoung(Exception):\n",
    "    def __init__(self,age):\n",
    "        self.age = age\n",
    "        self.message = f\"Custom Exception.... {self.age} is too young\"\n",
    "        super().__init__(self.message)\n",
    "\n",
    "\n",
    "def check_age(age):\n",
    "    if age<18:\n",
    "        raise TooYoung(age)\n",
    "    return \"age is valid\"\n",
    "\n",
    "try:\n",
    "    check_age(-11)\n",
    "\n",
    "except TooYoung as e:\n",
    "    print(e)\n"
   ]
  },
  {
   "cell_type": "markdown",
   "metadata": {},
   "source": [
    "----"
   ]
  }
 ],
 "metadata": {
  "kernelspec": {
   "display_name": ".venv",
   "language": "python",
   "name": "python3"
  },
  "language_info": {
   "codemirror_mode": {
    "name": "ipython",
    "version": 3
   },
   "file_extension": ".py",
   "mimetype": "text/x-python",
   "name": "python",
   "nbconvert_exporter": "python",
   "pygments_lexer": "ipython3",
   "version": "3.10.15"
  }
 },
 "nbformat": 4,
 "nbformat_minor": 2
}
