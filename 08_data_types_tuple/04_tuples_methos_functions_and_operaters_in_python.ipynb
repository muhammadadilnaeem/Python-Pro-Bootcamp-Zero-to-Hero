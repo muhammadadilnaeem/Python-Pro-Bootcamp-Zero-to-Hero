{
 "cells": [
  {
   "cell_type": "markdown",
   "metadata": {},
   "source": [
    "\n",
    "-----\n",
    "\n",
    "# **`Tuple Methods, Functons and Operators in Python`**\n",
    "\n",
    "------\n",
    "\n",
    "### **Methods that Work with Tuples**\n",
    "\n",
    "Tuples have a limited set of built-in methods compared to lists, reflecting their immutable nature. The primary methods available for tuples are:\n",
    "\n",
    "#### **1. `count()`**\n",
    "\n",
    "- **Description**: Returns the number of occurrences of a specified value in the tuple.\n",
    "- **Syntax**: `tuple.count(value)`\n",
    "\n",
    "**Example**:\n",
    "```python\n",
    "my_tuple = (1, 2, 2, 3, 4)\n",
    "count_of_twos = my_tuple.count(2)\n",
    "print(count_of_twos)  # Output: 2\n",
    "```\n",
    "\n",
    "#### **2. `index()`**\n",
    "\n",
    "- **Description**: Returns the index of the first occurrence of a specified value. Raises a `ValueError` if the value is not found.\n",
    "- **Syntax**: `tuple.index(value, start=0, end=len(tuple))`\n",
    "\n",
    "**Example**:\n",
    "```python\n",
    "my_tuple = (1, 2, 3, 4)\n",
    "index_of_three = my_tuple.index(3)\n",
    "print(index_of_three)  # Output: 2\n",
    "\n",
    "# Using start and end parameters\n",
    "index_of_two = my_tuple.index(2, 1)\n",
    "print(index_of_two)  # Output: 1\n",
    "```\n",
    "\n",
    "### **Functions that Work with Tuples**\n",
    "\n",
    "Several built-in functions can be used with tuples:\n",
    "\n",
    "#### **1. `len()`**\n",
    "\n",
    "- **Description**: Returns the number of elements in a tuple.\n",
    "- **Syntax**: `len(tuple)`\n",
    "\n",
    "**Example**:\n",
    "```python\n",
    "my_tuple = (1, 2, 3)\n",
    "length = len(my_tuple)\n",
    "print(length)  # Output: 3\n",
    "```\n",
    "\n",
    "#### **2. `max()`**\n",
    "\n",
    "- **Description**: Returns the largest item in the tuple.\n",
    "- **Syntax**: `max(tuple)`\n",
    "\n",
    "**Example**:\n",
    "```python\n",
    "my_tuple = (1, 5, 3, 9, 2)\n",
    "maximum = max(my_tuple)\n",
    "print(maximum)  # Output: 9\n",
    "```\n",
    "\n",
    "#### **3. `min()`**\n",
    "\n",
    "- **Description**: Returns the smallest item in the tuple.\n",
    "- **Syntax**: `min(tuple)`\n",
    "\n",
    "**Example**:\n",
    "```python\n",
    "my_tuple = (1, 5, 3, 9, 2)\n",
    "minimum = min(my_tuple)\n",
    "print(minimum)  # Output: 1\n",
    "```\n",
    "\n",
    "#### **4. `sum()`**\n",
    "\n",
    "- **Description**: Returns the sum of all elements in the tuple (only works with numeric types).\n",
    "- **Syntax**: `sum(tuple)`\n",
    "\n",
    "**Example**:\n",
    "```python\n",
    "my_tuple = (1, 2, 3, 4)\n",
    "total = sum(my_tuple)\n",
    "print(total)  # Output: 10\n",
    "```\n",
    "\n",
    "#### **5. `sorted()`**\n",
    "\n",
    "- **Description**: Returns a new sorted list from the items in the tuple.\n",
    "- **Syntax**: `sorted(tuple)`\n",
    "\n",
    "**Example**:\n",
    "```python\n",
    "my_tuple = (3, 1, 4, 2)\n",
    "sorted_tuple = sorted(my_tuple)\n",
    "print(sorted_tuple)  # Output: [1, 2, 3, 4]\n",
    "```\n",
    "\n",
    "### **Operators with Tuples**\n",
    "\n",
    "Several operators can be used with tuples:\n",
    "\n",
    "#### **1. Concatenation (`+`)**\n",
    "\n",
    "- **Description**: Combines two tuples into one.\n",
    "- **Example**:\n",
    "```python\n",
    "tuple1 = (1, 2)\n",
    "tuple2 = (3, 4)\n",
    "combined = tuple1 + tuple2\n",
    "print(combined)  # Output: (1, 2, 3, 4)\n",
    "```\n",
    "\n",
    "#### **2. Repetition (`*`)**\n",
    "\n",
    "- **Description**: Repeats a tuple a specified number of times.\n",
    "- **Example**:\n",
    "```python\n",
    "my_tuple = (1, 2)\n",
    "repeated = my_tuple * 3\n",
    "print(repeated)  # Output: (1, 2, 1, 2, 1, 2)\n",
    "```\n",
    "\n",
    "#### **3. Membership Testing (`in`)**\n",
    "\n",
    "- **Description**: Checks if an item exists in a tuple.\n",
    "- **Example**:\n",
    "```python\n",
    "my_tuple = (1, 2, 3)\n",
    "print(2 in my_tuple)  # Output: True\n",
    "print(4 in my_tuple)  # Output: False\n",
    "```\n",
    "\n",
    "#### **4. Indexing**\n",
    "\n",
    "- **Description**: Accesses an element by its index.\n",
    "- **Example**:\n",
    "```python\n",
    "my_tuple = (10, 20, 30)\n",
    "print(my_tuple[1])  # Output: 20\n",
    "```\n",
    "\n",
    "#### **5. Slicing**\n",
    "\n",
    "- **Description**: Retrieves a subset of the tuple.\n",
    "- **Example**:\n",
    "```python\n",
    "my_tuple = (10, 20, 30, 40, 50)\n",
    "sliced = my_tuple[1:4]\n",
    "print(sliced)  # Output: (20, 30, 40)\n",
    "```\n",
    "\n",
    "### **Summary**\n",
    "\n",
    "- **Tuple Methods**: `count()` and `index()` are the primary methods for working with tuples.\n",
    "- **Functions**: Built-in functions like `len()`, `max()`, `min()`, `sum()`, and `sorted()` can be applied to tuples.\n",
    "- **Operators**: Tuples support concatenation, repetition, membership testing, indexing, and slicing.\n",
    "\n",
    "### **Conclusion**\n",
    "\n",
    "Tuples are a versatile data structure in Python that can be manipulated using various methods and functions. Understanding how to effectively use tuple methods, functions, and operators enhances your ability to work with this fundamental data structure. \n",
    "\n",
    "\n",
    "----"
   ]
  },
  {
   "cell_type": "markdown",
   "metadata": {},
   "source": [
    "### **Let's Practice**"
   ]
  },
  {
   "cell_type": "markdown",
   "metadata": {},
   "source": [
    "#### **Methods**\n",
    "\n",
    "- Less Methods Due to Immutablility"
   ]
  },
  {
   "cell_type": "code",
   "execution_count": 9,
   "metadata": {},
   "outputs": [
    {
     "name": "stdout",
     "output_type": "stream",
     "text": [
      "The count of 3 is 4.\n"
     ]
    }
   ],
   "source": [
    "tup = (1,2,3,1,3,4,4,5,3,3)\n",
    "\n",
    "count = tup.count(3)\n",
    "\n",
    "print(f\"The count of 3 is {count}.\")"
   ]
  },
  {
   "cell_type": "code",
   "execution_count": 10,
   "metadata": {},
   "outputs": [
    {
     "name": "stdout",
     "output_type": "stream",
     "text": [
      "The index of 3 is 2.\n"
     ]
    }
   ],
   "source": [
    "tup = (1,2,3,1,3,4,4,5,3,3)\n",
    "\n",
    "count = tup.index(3) # this will return the index of the first occurrence of 3\n",
    "\n",
    "print(f\"The index of 3 is {count}.\")"
   ]
  },
  {
   "cell_type": "markdown",
   "metadata": {},
   "source": [
    "#### **Operations**"
   ]
  },
  {
   "cell_type": "code",
   "execution_count": 11,
   "metadata": {},
   "outputs": [
    {
     "name": "stdout",
     "output_type": "stream",
     "text": [
      "(1, 2, 3, 4, 5, 6)\n"
     ]
    }
   ],
   "source": [
    "tup1 = (1,2,3)\n",
    "tup2 = (4,5,6)\n",
    "\n",
    "print(tup1 + tup2) # only addition is possible"
   ]
  },
  {
   "cell_type": "markdown",
   "metadata": {},
   "source": [
    "#### **Membership**"
   ]
  },
  {
   "cell_type": "code",
   "execution_count": 12,
   "metadata": {},
   "outputs": [
    {
     "data": {
      "text/plain": [
       "True"
      ]
     },
     "execution_count": 12,
     "metadata": {},
     "output_type": "execute_result"
    }
   ],
   "source": [
    "1 in tup1"
   ]
  },
  {
   "cell_type": "code",
   "execution_count": 13,
   "metadata": {},
   "outputs": [
    {
     "name": "stdout",
     "output_type": "stream",
     "text": [
      "(1, 2, [5, 4])\n"
     ]
    }
   ],
   "source": [
    "t = (1, 2, [3, 4])\n",
    "\n",
    "t[2][0] = 5\n",
    "\n",
    "print(t)"
   ]
  },
  {
   "cell_type": "markdown",
   "metadata": {},
   "source": [
    "-----"
   ]
  }
 ],
 "metadata": {
  "kernelspec": {
   "display_name": "Python 3",
   "language": "python",
   "name": "python3"
  },
  "language_info": {
   "codemirror_mode": {
    "name": "ipython",
    "version": 3
   },
   "file_extension": ".py",
   "mimetype": "text/x-python",
   "name": "python",
   "nbconvert_exporter": "python",
   "pygments_lexer": "ipython3",
   "version": "3.10.15"
  }
 },
 "nbformat": 4,
 "nbformat_minor": 2
}
