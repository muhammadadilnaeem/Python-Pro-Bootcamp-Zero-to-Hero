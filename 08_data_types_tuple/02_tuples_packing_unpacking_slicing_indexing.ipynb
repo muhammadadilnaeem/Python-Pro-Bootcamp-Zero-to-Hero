{
 "cells": [
  {
   "cell_type": "markdown",
   "metadata": {},
   "source": [
    "\n",
    "-------\n",
    "\n",
    "# **`Tuples Packing, Unpacking, Slicing and Indexing`**\n",
    "\n",
    "-----\n",
    "\n",
    "#### **1. Tuple Packing**\n",
    "\n",
    "**Definition**: Tuple packing refers to the process of creating a tuple by grouping multiple values together into a single tuple object.\n",
    "\n",
    "**Example**:\n",
    "```python\n",
    "# Packing multiple values into a tuple\n",
    "packed_tuple = (1, \"Hello\", 3.14, True)\n",
    "print(packed_tuple)  # Output: (1, 'Hello', 3.14, True)\n",
    "```\n",
    "\n",
    "You can also pack values without parentheses:\n",
    "```python\n",
    "packed_tuple = 1, \"Hello\", 3.14, True\n",
    "print(packed_tuple)  # Output: (1, 'Hello', 3.14, True)\n",
    "```\n",
    "\n",
    "#### **2. Tuple Unpacking**\n",
    "\n",
    "**Definition**: Tuple unpacking is the process of assigning the values in a tuple to individual variables.\n",
    "\n",
    "**Example**:\n",
    "```python\n",
    "# Unpacking a tuple into variables\n",
    "my_tuple = (1, \"Hello\", 3.14)\n",
    "a, b, c = my_tuple\n",
    "\n",
    "print(a)  # Output: 1\n",
    "print(b)  # Output: Hello\n",
    "print(c)  # Output: 3.14\n",
    "```\n",
    "\n",
    "**Partial Unpacking**: You can unpack only some elements of a tuple using the underscore `_` as a throwaway variable.\n",
    "```python\n",
    "my_tuple = (1, 2, 3, 4)\n",
    "a, _, c, _ = my_tuple\n",
    "\n",
    "print(a)  # Output: 1\n",
    "print(c)  # Output: 3\n",
    "```\n",
    "\n",
    "**Unpacking Nested Tuples**: You can also unpack nested tuples.\n",
    "```python\n",
    "nested_tuple = (1, (2, 3), 4)\n",
    "a, (b, c), d = nested_tuple\n",
    "print(a, b, c, d)  # Output: 1 2 3 4\n",
    "```\n",
    "\n",
    "### **Slicing and Indexing**\n",
    "\n",
    "#### **1. Indexing**\n",
    "\n",
    "**Definition**: Indexing allows you to access individual elements of a tuple using their position, which is zero-based.\n",
    "\n",
    "**Example**:\n",
    "```python\n",
    "my_tuple = (10, 20, 30, 40)\n",
    "\n",
    "# Accessing elements by index\n",
    "print(my_tuple[0])   # Output: 10\n",
    "print(my_tuple[2])   # Output: 30\n",
    "print(my_tuple[-1])  # Output: 40 (last element)\n",
    "```\n",
    "\n",
    "#### **2. Slicing**\n",
    "\n",
    "**Definition**: Slicing allows you to obtain a subset of a tuple by specifying a start index and an end index. The end index is exclusive.\n",
    "\n",
    "**Syntax**:\n",
    "```python\n",
    "tuple[start:end:step]\n",
    "```\n",
    "\n",
    "- **start**: The index from where to start the slice (inclusive).\n",
    "- **end**: The index where to end the slice (exclusive).\n",
    "- **step**: The interval between elements (optional).\n",
    "\n",
    "**Examples**:\n",
    "\n",
    "1. **Basic Slicing**:\n",
    "   ```python\n",
    "   my_tuple = (10, 20, 30, 40, 50)\n",
    "\n",
    "   # Slicing from index 1 to 4\n",
    "   sliced = my_tuple[1:4]\n",
    "   print(sliced)  # Output: (20, 30, 40)\n",
    "   ```\n",
    "\n",
    "2. **Slicing with Omitted Indices**:\n",
    "   - If you omit the start index, it defaults to the beginning.\n",
    "   - If you omit the end index, it defaults to the end.\n",
    "   ```python\n",
    "   # From the start to index 3\n",
    "   sliced_start = my_tuple[:3]\n",
    "   print(sliced_start)  # Output: (10, 20, 30)\n",
    "\n",
    "   # From index 2 to the end\n",
    "   sliced_end = my_tuple[2:]\n",
    "   print(sliced_end)  # Output: (30, 40, 50)\n",
    "   ```\n",
    "\n",
    "3. **Using Step in Slicing**:\n",
    "   ```python\n",
    "   my_tuple = (10, 20, 30, 40, 50)\n",
    "\n",
    "   # Slicing with a step\n",
    "   sliced_step = my_tuple[::2]\n",
    "   print(sliced_step)  # Output: (10, 30, 50)\n",
    "   ```\n",
    "\n",
    "4. **Negative Indexing**:\n",
    "   You can use negative indices to slice from the end of the tuple.\n",
    "   ```python\n",
    "   my_tuple = (10, 20, 30, 40, 50)\n",
    "\n",
    "   # Slicing from index -4 to -1\n",
    "   sliced_negative = my_tuple[-4:-1]\n",
    "   print(sliced_negative)  # Output: (20, 30, 40)\n",
    "   ```\n",
    "\n",
    "### **Summary**\n",
    "\n",
    "- **Tuple Packing**: Grouping multiple values into a single tuple.\n",
    "- **Tuple Unpacking**: Assigning values in a tuple to individual variables.\n",
    "- **Indexing**: Accessing individual elements using zero-based indices.\n",
    "- **Slicing**: Creating a subset of a tuple using start, end, and optional step indices.\n",
    "\n",
    "### **Conclusion**\n",
    "\n",
    "Understanding tuple packing, unpacking, indexing, and slicing is essential for effectively working with tuples in Python. These features allow for flexible data manipulation and organization, making tuples a powerful data structure in Python programming.\n",
    "\n",
    "\n",
    "-----\n"
   ]
  },
  {
   "cell_type": "markdown",
   "metadata": {},
   "source": [
    "### **Let's Practice**"
   ]
  },
  {
   "cell_type": "code",
   "execution_count": 1,
   "metadata": {},
   "outputs": [
    {
     "data": {
      "text/plain": [
       "tuple"
      ]
     },
     "execution_count": 1,
     "metadata": {},
     "output_type": "execute_result"
    }
   ],
   "source": [
    "# tuple packing \n",
    "\n",
    "t = (1,2,3.1,4.2,\"Hello\",\"Python\",True,False)\n",
    "type(t)"
   ]
  },
  {
   "cell_type": "code",
   "execution_count": 2,
   "metadata": {},
   "outputs": [
    {
     "name": "stdout",
     "output_type": "stream",
     "text": [
      "1 2 3.1 4.2 Hello Python True False\n"
     ]
    }
   ],
   "source": [
    "# tuple unpacking\n",
    "\n",
    "t = (1,2,3.1,4.2,\"Hello\",\"Python\",True,False)\n",
    "a,b,c,d,e,f,g,h = t\n",
    "print(a,b,c,d,e,f,g,h)"
   ]
  },
  {
   "cell_type": "code",
   "execution_count": 4,
   "metadata": {},
   "outputs": [
    {
     "data": {
      "text/plain": [
       "('Adil Naeem', (19,), 'Lahore')"
      ]
     },
     "execution_count": 4,
     "metadata": {},
     "output_type": "execute_result"
    }
   ],
   "source": [
    "# an example of tuple unpacking\n",
    "\n",
    "def student_details():\n",
    "    name = \"Adil Naeem\"\n",
    "    age = 19,\n",
    "    city = \"Lahore\"\n",
    "    return name, age, city\n",
    "\n",
    "student_details()"
   ]
  },
  {
   "cell_type": "code",
   "execution_count": 6,
   "metadata": {},
   "outputs": [
    {
     "name": "stdout",
     "output_type": "stream",
     "text": [
      "a =  20\n",
      "b =  10\n"
     ]
    }
   ],
   "source": [
    "# tuple swapping\n",
    "\n",
    "a = 10\n",
    "b = 20\n",
    "a,b = b,a\n",
    "print(\"a = \",a)\n",
    "print(\"b = \",b)"
   ]
  },
  {
   "cell_type": "code",
   "execution_count": 7,
   "metadata": {},
   "outputs": [
    {
     "data": {
      "text/plain": [
       "'Python'"
      ]
     },
     "execution_count": 7,
     "metadata": {},
     "output_type": "execute_result"
    }
   ],
   "source": [
    "# Indexing in Tuple - accessing one element at a time\n",
    "\n",
    "t = (1,2,3.1,4.2,\"Hello\",\"Python\",True,False)\n",
    "t[5]"
   ]
  },
  {
   "cell_type": "code",
   "execution_count": 9,
   "metadata": {},
   "outputs": [
    {
     "data": {
      "text/plain": [
       "(2, 3.1, 4.2, 'Hello', 'Python')"
      ]
     },
     "execution_count": 9,
     "metadata": {},
     "output_type": "execute_result"
    }
   ],
   "source": [
    "# Slicing in Tuple - accessing multiple elements at a time\n",
    "\n",
    "t = (1,2,3.1,4.2,\"Hello\",\"Python\",True,False)\n",
    "t[1:6]"
   ]
  },
  {
   "cell_type": "code",
   "execution_count": 11,
   "metadata": {},
   "outputs": [
    {
     "data": {
      "text/plain": [
       "2"
      ]
     },
     "execution_count": 11,
     "metadata": {},
     "output_type": "execute_result"
    }
   ],
   "source": [
    "# Nested Tuples \n",
    "\n",
    "tup = ((1, 2, 3), (4, 5, 6), (7, 8, 9))\n",
    "tup[0][1]"
   ]
  },
  {
   "cell_type": "code",
   "execution_count": 12,
   "metadata": {},
   "outputs": [
    {
     "data": {
      "text/plain": [
       "5"
      ]
     },
     "execution_count": 12,
     "metadata": {},
     "output_type": "execute_result"
    }
   ],
   "source": [
    "# Nested Tuples\n",
    "\n",
    "tup = ((1, 2, 3), (4, 5, 6), (7, 8, 9))\n",
    "tup[-2][-2]"
   ]
  },
  {
   "cell_type": "code",
   "execution_count": 14,
   "metadata": {},
   "outputs": [
    {
     "data": {
      "text/plain": [
       "((1, 2, 3), (4, 5, 6))"
      ]
     },
     "execution_count": 14,
     "metadata": {},
     "output_type": "execute_result"
    }
   ],
   "source": [
    "tup = ((1, 2, 3), (4, 5, 6), (7, 8, 9))\n",
    "tup[0:2:1]"
   ]
  },
  {
   "cell_type": "code",
   "execution_count": 13,
   "metadata": {},
   "outputs": [
    {
     "data": {
      "text/plain": [
       "((1, 2, 3),)"
      ]
     },
     "execution_count": 13,
     "metadata": {},
     "output_type": "execute_result"
    }
   ],
   "source": [
    "tup = ((1, 2, 3), (4, 5, 6), (7, 8, 9))\n",
    "tup[0:2:2] # Slicing - this will return the first tuple as we have step size of 2"
   ]
  },
  {
   "cell_type": "code",
   "execution_count": 16,
   "metadata": {},
   "outputs": [
    {
     "data": {
      "text/plain": [
       "()"
      ]
     },
     "execution_count": 16,
     "metadata": {},
     "output_type": "execute_result"
    }
   ],
   "source": [
    "tup = ((1, 2, 3), (4, 5, 6), (7, 8, 9))\n",
    "tup[0:2:-1]"
   ]
  },
  {
   "cell_type": "markdown",
   "metadata": {},
   "source": [
    "The expression `tup[0:2:-1]` will not return any elements from the tuple `tup`. This is because the slicing step is `-1`, which means it would attempt to slice the tuple in reverse order, but the start index `0` is less than the stop index `2`.\n",
    "\n",
    "In Python, when you slice a tuple, the syntax is `tup[start:stop:step]`. Here:\n",
    "\n",
    "- `start = 0`\n",
    "- `stop = 2`\n",
    "- `step = -1`\n",
    "\n",
    "Since the step is negative, Python expects the start index to be greater than the stop index to return any elements, which is not the case here.\n",
    "\n",
    "If you want to slice it in reverse, you could adjust the indices, like so:\n",
    "\n",
    "```python\n",
    "tup[::-1]  # This would return the entire tuple in reverse: ((9, 8, 7), (6, 5, 4), (3, 2, 1))\n",
    "```\n",
    "\n",
    "If you want to get elements from index `0` to `2` but in reverse order, you can do:\n",
    "\n",
    "```python\n",
    "tup[1::-1]  # This would return: ((4, 5, 6), (1, 2, 3))\n",
    "```"
   ]
  },
  {
   "cell_type": "markdown",
   "metadata": {},
   "source": [
    "------"
   ]
  }
 ],
 "metadata": {
  "kernelspec": {
   "display_name": "Python 3",
   "language": "python",
   "name": "python3"
  },
  "language_info": {
   "codemirror_mode": {
    "name": "ipython",
    "version": 3
   },
   "file_extension": ".py",
   "mimetype": "text/x-python",
   "name": "python",
   "nbconvert_exporter": "python",
   "pygments_lexer": "ipython3",
   "version": "3.10.15"
  }
 },
 "nbformat": 4,
 "nbformat_minor": 2
}
