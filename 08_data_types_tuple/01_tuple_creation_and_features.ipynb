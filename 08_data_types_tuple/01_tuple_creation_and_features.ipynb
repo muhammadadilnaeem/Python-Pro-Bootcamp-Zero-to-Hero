{
 "cells": [
  {
   "cell_type": "markdown",
   "metadata": {},
   "source": [
    "\n",
    "----\n",
    "\n",
    "# **`Tuples Creation And Features`**\n",
    "\n",
    "------\n",
    "\n",
    "#### **Definition**\n",
    "A **tuple** is an immutable sequence type in Python. It can hold a collection of items, which can be of mixed types (e.g., integers, strings, lists) and is defined by parentheses `()`.\n",
    "\n",
    "#### **Key Characteristics**\n",
    "1. **Immutable**: Once a tuple is created, its contents cannot be changed (i.e., you cannot add, remove, or modify elements).\n",
    "2. **Ordered**: Tuples maintain the order of elements, meaning the items can be accessed by their index.\n",
    "3. **Heterogeneous**: A tuple can contain different types of data.\n",
    "4. **Hashable**: Tuples can be used as keys in dictionaries or as elements in sets, provided all their elements are also hashable.\n",
    "\n",
    "### **1. Creating Tuples**\n",
    "\n",
    "#### **Basic Tuple Creation**\n",
    "You can create a tuple by placing a comma-separated sequence of values inside parentheses.\n",
    "\n",
    "```python\n",
    "# Creating a tuple with multiple data types\n",
    "my_tuple = (1, \"Hello\", 3.14, True)\n",
    "print(my_tuple)  # Output: (1, 'Hello', 3.14, True)\n",
    "```\n",
    "\n",
    "#### **Single Element Tuple**\n",
    "To create a tuple with a single element, you must include a trailing comma.\n",
    "\n",
    "```python\n",
    "single_element_tuple = (42,)  # Note the comma\n",
    "print(single_element_tuple)  # Output: (42,)\n",
    "```\n",
    "\n",
    "#### **Creating an Empty Tuple**\n",
    "You can create an empty tuple with empty parentheses.\n",
    "\n",
    "```python\n",
    "empty_tuple = ()\n",
    "print(empty_tuple)  # Output: ()\n",
    "```\n",
    "\n",
    "#### **Tuple from Iterable**\n",
    "You can create a tuple from an iterable (like a list or string) using the `tuple()` constructor.\n",
    "\n",
    "```python\n",
    "list_to_tuple = tuple([1, 2, 3])\n",
    "print(list_to_tuple)  # Output: (1, 2, 3)\n",
    "\n",
    "string_to_tuple = tuple(\"Hello\")\n",
    "print(string_to_tuple)  # Output: ('H', 'e', 'l', 'l', 'o')\n",
    "```\n",
    "\n",
    "### **2. Features of Tuples**\n",
    "\n",
    "#### **2.1 Indexing and Slicing**\n",
    "You can access elements in a tuple using indexing (zero-based) and slicing.\n",
    "\n",
    "```python\n",
    "my_tuple = (10, 20, 30, 40)\n",
    "\n",
    "# Accessing elements\n",
    "print(my_tuple[0])   # Output: 10\n",
    "print(my_tuple[-1])  # Output: 40\n",
    "\n",
    "# Slicing\n",
    "print(my_tuple[1:3])  # Output: (20, 30)\n",
    "```\n",
    "\n",
    "#### **2.2 Concatenation and Repetition**\n",
    "You can concatenate tuples using the `+` operator and repeat them using the `*` operator.\n",
    "\n",
    "```python\n",
    "tuple1 = (1, 2)\n",
    "tuple2 = (3, 4)\n",
    "\n",
    "# Concatenation\n",
    "combined = tuple1 + tuple2\n",
    "print(combined)  # Output: (1, 2, 3, 4)\n",
    "\n",
    "# Repetition\n",
    "repeated = tuple1 * 3\n",
    "print(repeated)  # Output: (1, 2, 1, 2, 1, 2)\n",
    "```\n",
    "\n",
    "#### **2.3 Length of a Tuple**\n",
    "You can find the number of elements in a tuple using the `len()` function.\n",
    "\n",
    "```python\n",
    "my_tuple = (1, 2, 3, 4)\n",
    "print(len(my_tuple))  # Output: 4\n",
    "```\n",
    "\n",
    "#### **2.4 Membership Testing**\n",
    "You can check if an item exists in a tuple using the `in` keyword.\n",
    "\n",
    "```python\n",
    "my_tuple = (1, 2, 3)\n",
    "print(2 in my_tuple)  # Output: True\n",
    "print(5 in my_tuple)  # Output: False\n",
    "```\n",
    "\n",
    "#### **2.5 Nested Tuples**\n",
    "Tuples can contain other tuples, allowing you to create complex data structures.\n",
    "\n",
    "```python\n",
    "nested_tuple = ((1, 2), (3, 4), (5, 6))\n",
    "print(nested_tuple)  # Output: ((1, 2), (3, 4), (5, 6))\n",
    "```\n",
    "\n",
    "#### **2.6 Tuple Packing and Unpacking**\n",
    "You can pack multiple values into a tuple and unpack them into separate variables.\n",
    "\n",
    "```python\n",
    "# Packing\n",
    "packed_tuple = 1, 2, 3\n",
    "print(packed_tuple)  # Output: (1, 2, 3)\n",
    "\n",
    "# Unpacking\n",
    "a, b, c = packed_tuple\n",
    "print(a, b, c)  # Output: 1 2 3\n",
    "```\n",
    "\n",
    "### **3. Use Cases for Tuples**\n",
    "\n",
    "- **Data Integrity**: Since tuples are immutable, they are useful for data that should not change throughout the program.\n",
    "- **Dictionary Keys**: Tuples can be used as keys in dictionaries when you need to use multiple values as a single key.\n",
    "- **Function Arguments**: Tuples can be used to return multiple values from a function.\n",
    "  \n",
    "### **Conclusion**\n",
    "\n",
    "Tuples are a fundamental data structure in Python that provide an immutable, ordered collection of items. They are versatile and can be used in various scenarios where you want to ensure that the data remains constant. Understanding how to create and manipulate tuples is essential for effective Python programming.\n",
    "\n",
    "\n",
    "----\n"
   ]
  },
  {
   "cell_type": "markdown",
   "metadata": {},
   "source": [
    "### **Let's Practice**"
   ]
  },
  {
   "cell_type": "code",
   "execution_count": 17,
   "metadata": {},
   "outputs": [],
   "source": [
    "t = (1, 2, 3, 4, 5, 6, 7, 8, 9, 10)"
   ]
  },
  {
   "cell_type": "code",
   "execution_count": 18,
   "metadata": {},
   "outputs": [
    {
     "data": {
      "text/plain": [
       "tuple"
      ]
     },
     "execution_count": 18,
     "metadata": {},
     "output_type": "execute_result"
    }
   ],
   "source": [
    "type(t)"
   ]
  },
  {
   "cell_type": "code",
   "execution_count": 19,
   "metadata": {},
   "outputs": [],
   "source": [
    "# # tuple is immutable\n",
    "\n",
    "# t[0] = 0     # TypeError: 'tuple' object does not support item assignment\n",
    "# print(t)"
   ]
  },
  {
   "cell_type": "code",
   "execution_count": 20,
   "metadata": {},
   "outputs": [
    {
     "name": "stdout",
     "output_type": "stream",
     "text": [
      "1\n",
      "2\n",
      "3\n",
      "4\n",
      "5\n",
      "6\n",
      "7\n",
      "8\n",
      "9\n",
      "10\n"
     ]
    }
   ],
   "source": [
    "# tuples are indexable\n",
    "\n",
    "print(t[0])\n",
    "print(t[1])\n",
    "print(t[2])\n",
    "print(t[3])\n",
    "print(t[4])\n",
    "print(t[5])\n",
    "print(t[6])\n",
    "print(t[7])\n",
    "print(t[8])\n",
    "print(t[9])"
   ]
  },
  {
   "cell_type": "code",
   "execution_count": 21,
   "metadata": {},
   "outputs": [
    {
     "data": {
      "text/plain": [
       "tuple"
      ]
     },
     "execution_count": 21,
     "metadata": {},
     "output_type": "execute_result"
    }
   ],
   "source": [
    "# with tuple() function\n",
    "\n",
    "t = tuple([1, 2, 3, 4, 5, 6, 7, 8, 9, 10])\n",
    "\n",
    "type(t)"
   ]
  },
  {
   "cell_type": "code",
   "execution_count": 22,
   "metadata": {},
   "outputs": [
    {
     "data": {
      "text/plain": [
       "tuple"
      ]
     },
     "execution_count": 22,
     "metadata": {},
     "output_type": "execute_result"
    }
   ],
   "source": [
    "# tuples without parenthses\n",
    "\n",
    "t = 1, 2, 3, 4, 5, 6, 7, 8, 9, 10\n",
    "\n",
    "type(t)"
   ]
  },
  {
   "cell_type": "code",
   "execution_count": 23,
   "metadata": {},
   "outputs": [
    {
     "data": {
      "text/plain": [
       "tuple"
      ]
     },
     "execution_count": 23,
     "metadata": {},
     "output_type": "execute_result"
    }
   ],
   "source": [
    "# create an empty tuple\n",
    "\n",
    "t = ()\n",
    "type(t)"
   ]
  },
  {
   "cell_type": "code",
   "execution_count": 24,
   "metadata": {},
   "outputs": [
    {
     "data": {
      "text/plain": [
       "tuple"
      ]
     },
     "execution_count": 24,
     "metadata": {},
     "output_type": "execute_result"
    }
   ],
   "source": [
    "# tuple with simple elements\n",
    "\n",
    "# t = (1) # this is not a tuple - it will be int\n",
    "t = (1,) # this is a tuple\n",
    "\n",
    "type(t)"
   ]
  },
  {
   "cell_type": "code",
   "execution_count": 25,
   "metadata": {},
   "outputs": [
    {
     "data": {
      "text/plain": [
       "tuple"
      ]
     },
     "execution_count": 25,
     "metadata": {},
     "output_type": "execute_result"
    }
   ],
   "source": [
    "# create a nested tuple\n",
    "\n",
    "t1 = (1, 2, 3, (4, 5, 6, (7, 8, 9)))\n",
    "\n",
    "type(t1)"
   ]
  },
  {
   "cell_type": "code",
   "execution_count": 37,
   "metadata": {},
   "outputs": [
    {
     "name": "stdout",
     "output_type": "stream",
     "text": [
      "(4, 5, 6, (7, 8, 9))\n"
     ]
    }
   ],
   "source": [
    "# access the nested tuples\n",
    "\n",
    "print(t1[3])"
   ]
  },
  {
   "cell_type": "code",
   "execution_count": 38,
   "metadata": {},
   "outputs": [
    {
     "data": {
      "text/plain": [
       "dict"
      ]
     },
     "execution_count": 38,
     "metadata": {},
     "output_type": "execute_result"
    }
   ],
   "source": [
    "# dicctionaries with tuple as key\n",
    "\n",
    "d = {(1, 2, 3): \"tuple\"}\n",
    "\n",
    "type(d)"
   ]
  },
  {
   "cell_type": "code",
   "execution_count": 39,
   "metadata": {},
   "outputs": [
    {
     "data": {
      "text/plain": [
       "(('Adil',), (21,), ('A',))"
      ]
     },
     "execution_count": 39,
     "metadata": {},
     "output_type": "execute_result"
    }
   ],
   "source": [
    "# tuple inside a function returns a tuple\n",
    "\n",
    "def my_function():\n",
    "    name = \"Adil\",\n",
    "    age = 21,\n",
    "    grade = \"A\",\n",
    "    return name, age, grade\n",
    "\n",
    "my_function()"
   ]
  },
  {
   "cell_type": "markdown",
   "metadata": {},
   "source": [
    "--------"
   ]
  }
 ],
 "metadata": {
  "kernelspec": {
   "display_name": "Python 3",
   "language": "python",
   "name": "python3"
  },
  "language_info": {
   "codemirror_mode": {
    "name": "ipython",
    "version": 3
   },
   "file_extension": ".py",
   "mimetype": "text/x-python",
   "name": "python",
   "nbconvert_exporter": "python",
   "pygments_lexer": "ipython3",
   "version": "3.10.15"
  }
 },
 "nbformat": 4,
 "nbformat_minor": 2
}
