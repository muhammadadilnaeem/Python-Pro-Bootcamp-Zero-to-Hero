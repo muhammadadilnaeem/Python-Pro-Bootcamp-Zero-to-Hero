{
 "cells": [
  {
   "cell_type": "markdown",
   "metadata": {},
   "source": [
    "\n",
    "------\n",
    "\n",
    "# **`Tuples vs Lists in Python`**\n",
    "\n",
    "------\n",
    "\n",
    "\n",
    "#### **Definition**\n",
    "\n",
    "- **List**: A mutable sequence type that can hold a collection of items, defined by square brackets `[]`.\n",
    "- **Tuple**: An immutable sequence type that can hold a collection of items, defined by parentheses `()`.\n",
    "\n",
    "### **Key Differences**\n",
    "\n",
    "| Feature              | Lists                                | Tuples                               |\n",
    "|----------------------|--------------------------------------|--------------------------------------|\n",
    "| **Mutability**       | Mutable (can be modified)           | Immutable (cannot be modified)      |\n",
    "| **Syntax**           | Defined using square brackets `[]`   | Defined using parentheses `()`       |\n",
    "| **Methods**          | More methods available (e.g., `append`, `remove`, `pop`) | Fewer methods available (e.g., `count`, `index`) |\n",
    "| **Performance**      | Slower due to mutability             | Faster due to immutability           |\n",
    "| **Memory Usage**     | More memory overhead                  | Less memory overhead                 |\n",
    "| **Use Cases**        | Suitable for collections that may change | Suitable for fixed collections       |\n",
    "| **Hashable**         | Not hashable (cannot be used as dictionary keys) | Hashable (can be used as dictionary keys) |\n",
    "\n",
    "### **1. Mutability**\n",
    "\n",
    "- **Lists**: Lists can be modified after creation. You can add, remove, or change items.\n",
    "  ```python\n",
    "  my_list = [1, 2, 3]\n",
    "  my_list.append(4)  # Modifies the list\n",
    "  print(my_list)  # Output: [1, 2, 3, 4]\n",
    "  ```\n",
    "\n",
    "- **Tuples**: Once a tuple is created, its contents cannot be changed.\n",
    "  ```python\n",
    "  my_tuple = (1, 2, 3)\n",
    "  # my_tuple.append(4)  # This would raise an AttributeError\n",
    "  ```\n",
    "\n",
    "### **2. Syntax**\n",
    "\n",
    "- **Lists**: Defined using square brackets.\n",
    "  ```python\n",
    "  my_list = [1, 2, 3, \"Hello\"]\n",
    "  ```\n",
    "\n",
    "- **Tuples**: Defined using parentheses.\n",
    "  ```python\n",
    "  my_tuple = (1, 2, 3, \"Hello\")\n",
    "  ```\n",
    "\n",
    "### **3. Methods**\n",
    "\n",
    "- **Lists**: Lists have many built-in methods for modification, such as:\n",
    "  - `append()`: Adds an item to the end.\n",
    "  - `insert()`: Inserts an item at a specified index.\n",
    "  - `remove()`: Removes the first occurrence of an item.\n",
    "  - `pop()`: Removes and returns an item at a specified index.\n",
    "  \n",
    "  Example:\n",
    "  ```python\n",
    "  my_list = [1, 2, 3]\n",
    "  my_list.append(4)\n",
    "  my_list.remove(2)\n",
    "  print(my_list)  # Output: [1, 3, 4]\n",
    "  ```\n",
    "\n",
    "- **Tuples**: Tuples have fewer methods available, mainly focused on counting and indexing.\n",
    "  - `count()`: Returns the number of occurrences of an item.\n",
    "  - `index()`: Returns the index of the first occurrence of an item.\n",
    "\n",
    "  Example:\n",
    "  ```python\n",
    "  my_tuple = (1, 2, 3, 2)\n",
    "  print(my_tuple.count(2))  # Output: 2\n",
    "  ```\n",
    "\n",
    "### **4. Performance**\n",
    "\n",
    "- **Lists**: Because lists are mutable, they have more overhead, making them slower for certain operations.\n",
    "  \n",
    "- **Tuples**: Tuples are generally faster due to their immutability. They can be stored in memory more efficiently.\n",
    "\n",
    "### **5. Memory Usage**\n",
    "\n",
    "- **Lists**: Lists consume more memory because they allow for dynamic resizing and have additional overhead for keeping track of elements.\n",
    "\n",
    "- **Tuples**: Tuples require less memory, making them a better choice for fixed collections of items.\n",
    "\n",
    "### **6. Use Cases**\n",
    "\n",
    "- **Lists**: Use lists when you need a collection of items that may change, such as a list of user inputs, items in a shopping cart, or data that will be modified.\n",
    "\n",
    "- **Tuples**: Use tuples when you need a collection of items that should not change, such as fixed configuration values, coordinates (x, y), or return values from functions where the number of items is known and fixed.\n",
    "\n",
    "### **7. Hashability**\n",
    "\n",
    "- **Lists**: Lists are not hashable and cannot be used as keys in dictionaries.\n",
    "  ```python\n",
    "  my_list = [1, 2, 3]\n",
    "  # my_dict = {my_list: \"value\"}  # This would raise a TypeError\n",
    "  ```\n",
    "\n",
    "- **Tuples**: Tuples are hashable if all their elements are hashable, allowing them to be used as keys in dictionaries.\n",
    "  ```python\n",
    "  my_tuple = (1, 2, 3)\n",
    "  my_dict = {my_tuple: \"value\"}\n",
    "  print(my_dict)  # Output: {(1, 2, 3): 'value'}\n",
    "  ```\n",
    "\n",
    "### **Conclusion**\n",
    "\n",
    "Both lists and tuples are powerful data structures in Python, each serving different purposes. Lists are mutable and offer more flexibility for dynamic data, while tuples are immutable and memory-efficient, making them better for fixed collections. Understanding these differences helps in choosing the right data structure based on the requirements of your program.\n",
    "\n",
    "------"
   ]
  },
  {
   "cell_type": "markdown",
   "metadata": {},
   "source": [
    "### **Let's Practice**"
   ]
  },
  {
   "cell_type": "markdown",
   "metadata": {},
   "source": [
    "#### **Mutability**"
   ]
  },
  {
   "cell_type": "code",
   "execution_count": 3,
   "metadata": {},
   "outputs": [
    {
     "name": "stdout",
     "output_type": "stream",
     "text": [
      "[0, 2, 3, 4, 5]\n"
     ]
    }
   ],
   "source": [
    "# List\n",
    "\n",
    "l = [1,2,3,4,5]\n",
    "\n",
    "l[0] = 0\n",
    "\n",
    "print(l)"
   ]
  },
  {
   "cell_type": "code",
   "execution_count": 4,
   "metadata": {},
   "outputs": [],
   "source": [
    "# # tuple (Immutable)\n",
    "\n",
    "# t = (1,2,3,4,5)\n",
    "\n",
    "# t[0] = 0\n",
    "\n",
    "# print(t)   \n",
    "\n",
    "# # TypeError: 'tuple' object does not support item assignment"
   ]
  },
  {
   "cell_type": "markdown",
   "metadata": {},
   "source": [
    "#### **Performance**"
   ]
  },
  {
   "cell_type": "code",
   "execution_count": 8,
   "metadata": {},
   "outputs": [
    {
     "name": "stdout",
     "output_type": "stream",
     "text": [
      "List Execution time: 0.3332313000000795\n"
     ]
    }
   ],
   "source": [
    "# List\n",
    "\n",
    "import timeit\n",
    "\n",
    "list_time = timeit.timeit(stmt = \"[1,2,3,4,5]\", number = 1000000)\n",
    "\n",
    "print(f\"List Execution time: {list_time}\")\n"
   ]
  },
  {
   "cell_type": "code",
   "execution_count": 9,
   "metadata": {},
   "outputs": [
    {
     "name": "stdout",
     "output_type": "stream",
     "text": [
      "Tuple Execution time: 0.025706500000524102\n"
     ]
    }
   ],
   "source": [
    "# Tuple\n",
    "\n",
    "import timeit\n",
    "\n",
    "list_time = timeit.timeit(stmt = \"(1,2,3,4,5)\", number = 1000000)\n",
    "\n",
    "print(f\"Tuple Execution time: {list_time}\")\n"
   ]
  },
  {
   "cell_type": "markdown",
   "metadata": {},
   "source": [
    "#### **Memory Usage**"
   ]
  },
  {
   "cell_type": "code",
   "execution_count": 15,
   "metadata": {},
   "outputs": [
    {
     "name": "stdout",
     "output_type": "stream",
     "text": [
      "List Memory Usage: 104\n"
     ]
    }
   ],
   "source": [
    "import sys\n",
    "\n",
    "l = [1,2,3,4,5]\n",
    "\n",
    "list_time = sys.getsizeof(l)\n",
    "\n",
    "print(f\"List Memory Usage: {list_time}\")"
   ]
  },
  {
   "cell_type": "code",
   "execution_count": 16,
   "metadata": {},
   "outputs": [
    {
     "name": "stdout",
     "output_type": "stream",
     "text": [
      "Tuple Memory Usage: 80\n"
     ]
    }
   ],
   "source": [
    "import sys\n",
    "\n",
    "l = (1,2,3,4,5)\n",
    "\n",
    "tuple_time = sys.getsizeof(l)\n",
    "\n",
    "print(f\"Tuple Memory Usage: {tuple_time}\")"
   ]
  },
  {
   "cell_type": "markdown",
   "metadata": {},
   "source": [
    "-----"
   ]
  }
 ],
 "metadata": {
  "kernelspec": {
   "display_name": "Python 3",
   "language": "python",
   "name": "python3"
  },
  "language_info": {
   "codemirror_mode": {
    "name": "ipython",
    "version": 3
   },
   "file_extension": ".py",
   "mimetype": "text/x-python",
   "name": "python",
   "nbconvert_exporter": "python",
   "pygments_lexer": "ipython3",
   "version": "3.10.15"
  }
 },
 "nbformat": 4,
 "nbformat_minor": 2
}
