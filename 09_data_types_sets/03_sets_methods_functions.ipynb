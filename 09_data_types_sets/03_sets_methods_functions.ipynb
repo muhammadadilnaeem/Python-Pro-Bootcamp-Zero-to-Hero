{
 "cells": [
  {
   "cell_type": "markdown",
   "metadata": {},
   "source": [
    "-----\n",
    "\n",
    "\n",
    "# **`Sets Methods and Functions`**\n",
    "\n",
    "\n",
    "### **Set Methods in Python**\n",
    "\n",
    "Sets provide a variety of built-in methods that allow you to modify and interact with set objects. Here’s a comprehensive overview:\n",
    "\n",
    "#### 1. `add()`\n",
    "\n",
    "- **Description**: Adds an element to the set. If the element already exists, it will not be added (no duplicates allowed).\n",
    "- **Syntax**: `set.add(element)`\n",
    "\n",
    "**Example**:\n",
    "```python\n",
    "my_set = {1, 2, 3}\n",
    "my_set.add(4)\n",
    "print(my_set)  # Output: {1, 2, 3, 4}\n",
    "my_set.add(2)  # Adding a duplicate\n",
    "print(my_set)  # Output: {1, 2, 3, 4} (no change)\n",
    "```\n",
    "\n",
    "#### 2. `remove()`\n",
    "\n",
    "- **Description**: Removes a specified element from the set. Raises a `KeyError` if the element is not found.\n",
    "- **Syntax**: `set.remove(element)`\n",
    "\n",
    "**Example**:\n",
    "```python\n",
    "my_set = {1, 2, 3}\n",
    "my_set.remove(2)\n",
    "print(my_set)  # Output: {1, 3}\n",
    "# my_set.remove(4)  # Raises KeyError\n",
    "```\n",
    "\n",
    "#### 3. `discard()`\n",
    "\n",
    "- **Description**: Removes a specified element from the set, similar to `remove()`, but does not raise an error if the element is not found.\n",
    "- **Syntax**: `set.discard(element)`\n",
    "\n",
    "**Example**:\n",
    "```python\n",
    "my_set = {1, 2, 3}\n",
    "my_set.discard(2)\n",
    "print(my_set)  # Output: {1, 3}\n",
    "my_set.discard(4)  # No error raised\n",
    "print(my_set)  # Output: {1, 3}\n",
    "```\n",
    "\n",
    "#### 4. `pop()`\n",
    "\n",
    "- **Description**: Removes and returns an arbitrary element from the set. Raises a `KeyError` if the set is empty.\n",
    "- **Syntax**: `set.pop()`\n",
    "\n",
    "**Example**:\n",
    "```python\n",
    "my_set = {1, 2, 3}\n",
    "element = my_set.pop()\n",
    "print(element)  # Could output 1, 2, or 3 (arbitrary)\n",
    "print(my_set)   # Output will be the set without the popped element\n",
    "```\n",
    "\n",
    "#### 5. `clear()`\n",
    "\n",
    "- **Description**: Removes all elements from the set, resulting in an empty set.\n",
    "- **Syntax**: `set.clear()`\n",
    "\n",
    "**Example**:\n",
    "```python\n",
    "my_set = {1, 2, 3}\n",
    "my_set.clear()\n",
    "print(my_set)  # Output: set()\n",
    "```\n",
    "\n",
    "#### 6. `union()`\n",
    "\n",
    "- **Description**: Returns a new set containing all unique elements from the set and another set (or iterable).\n",
    "- **Syntax**: `set.union(other_set)`\n",
    "\n",
    "**Example**:\n",
    "```python\n",
    "set_a = {1, 2, 3}\n",
    "set_b = {3, 4, 5}\n",
    "union_set = set_a.union(set_b)\n",
    "print(union_set)  # Output: {1, 2, 3, 4, 5}\n",
    "```\n",
    "\n",
    "#### 7. `update()`\n",
    "\n",
    "- **Description**: Updates the set, adding elements from another set (or iterable). Duplicates are ignored.\n",
    "- **Syntax**: `set.update(other_set)`\n",
    "\n",
    "**Example**:\n",
    "```python\n",
    "my_set = {1, 2}\n",
    "my_set.update([2, 3, 4])\n",
    "print(my_set)  # Output: {1, 2, 3, 4}\n",
    "```\n",
    "\n",
    "#### 8. `intersection()`\n",
    "\n",
    "- **Description**: Returns a new set containing only elements that are common to both sets.\n",
    "- **Syntax**: `set.intersection(other_set)`\n",
    "\n",
    "**Example**:\n",
    "```python\n",
    "set_a = {1, 2, 3}\n",
    "set_b = {2, 3, 4}\n",
    "intersection_set = set_a.intersection(set_b)\n",
    "print(intersection_set)  # Output: {2, 3}\n",
    "```\n",
    "\n",
    "#### 9. `intersection_update()`\n",
    "\n",
    "- **Description**: Updates the set to keep only elements found in both sets.\n",
    "- **Syntax**: `set.intersection_update(other_set)`\n",
    "\n",
    "**Example**:\n",
    "```python\n",
    "set_a = {1, 2, 3}\n",
    "set_b = {2, 3, 4}\n",
    "set_a.intersection_update(set_b)\n",
    "print(set_a)  # Output: {2, 3}\n",
    "```\n",
    "\n",
    "#### 10. `difference()`\n",
    "\n",
    "- **Description**: Returns a new set containing elements in the set that are not in the other set.\n",
    "- **Syntax**: `set.difference(other_set)`\n",
    "\n",
    "**Example**:\n",
    "```python\n",
    "set_a = {1, 2, 3}\n",
    "set_b = {2, 3, 4}\n",
    "difference_set = set_a.difference(set_b)\n",
    "print(difference_set)  # Output: {1}\n",
    "```\n",
    "\n",
    "#### 11. `difference_update()`\n",
    "\n",
    "- **Description**: Updates the set to remove elements found in the other set.\n",
    "- **Syntax**: `set.difference_update(other_set)`\n",
    "\n",
    "**Example**:\n",
    "```python\n",
    "set_a = {1, 2, 3}\n",
    "set_b = {2, 3, 4}\n",
    "set_a.difference_update(set_b)\n",
    "print(set_a)  # Output: {1}\n",
    "```\n",
    "\n",
    "#### 12. `symmetric_difference()`\n",
    "\n",
    "- **Description**: Returns a new set with elements in either set but not in both.\n",
    "- **Syntax**: `set.symmetric_difference(other_set)`\n",
    "\n",
    "**Example**:\n",
    "```python\n",
    "set_a = {1, 2, 3}\n",
    "set_b = {3, 4, 5}\n",
    "symmetric_difference_set = set_a.symmetric_difference(set_b)\n",
    "print(symmetric_difference_set)  # Output: {1, 2, 4, 5}\n",
    "```\n",
    "\n",
    "#### 13. `symmetric_difference_update()`\n",
    "\n",
    "- **Description**: Updates the set to keep only elements that are in either of the sets but not in both.\n",
    "- **Syntax**: `set.symmetric_difference_update(other_set)`\n",
    "\n",
    "**Example**:\n",
    "```python\n",
    "set_a = {1, 2, 3}\n",
    "set_b = {3, 4, 5}\n",
    "set_a.symmetric_difference_update(set_b)\n",
    "print(set_a)  # Output: {1, 2, 4, 5}\n",
    "```\n",
    "\n",
    "### **Functions that Work with Sets**\n",
    "\n",
    "In addition to the methods provided by the set object, several built-in functions can also be used with sets:\n",
    "\n",
    "#### 1. `len()`\n",
    "\n",
    "- **Description**: Returns the number of elements in the set.\n",
    "- **Syntax**: `len(set)`\n",
    "\n",
    "**Example**:\n",
    "```python\n",
    "my_set = {1, 2, 3}\n",
    "print(len(my_set))  # Output: 3\n",
    "```\n",
    "\n",
    "#### 2. `max()`\n",
    "\n",
    "- **Description**: Returns the largest element in the set.\n",
    "- **Syntax**: `max(set)`\n",
    "\n",
    "**Example**:\n",
    "```python\n",
    "my_set = {1, 2, 3}\n",
    "print(max(my_set))  # Output: 3\n",
    "```\n",
    "\n",
    "#### 3. `min()`\n",
    "\n",
    "- **Description**: Returns the smallest element in the set.\n",
    "- **Syntax**: `min(set)`\n",
    "\n",
    "**Example**:\n",
    "```python\n",
    "my_set = {1, 2, 3}\n",
    "print(min(my_set))  # Output: 1\n",
    "```\n",
    "\n",
    "#### 4. `sum()`\n",
    "\n",
    "- **Description**: Returns the sum of all elements in the set (only works with numeric types).\n",
    "- **Syntax**: `sum(set)`\n",
    "\n",
    "**Example**:\n",
    "```python\n",
    "my_set = {1, 2, 3}\n",
    "print(sum(my_set))  # Output: 6\n",
    "```\n",
    "\n",
    "#### 5. `sorted()`\n",
    "\n",
    "- **Description**: Returns a new sorted list from the items in the set.\n",
    "- **Syntax**: `sorted(set)`\n",
    "\n",
    "**Example**:\n",
    "```python\n",
    "my_set = {3, 1, 2}\n",
    "sorted_list = sorted(my_set)\n",
    "print(sorted_list)  # Output: [1, 2, 3]\n",
    "```\n",
    "\n",
    "### **Conclusion**\n",
    "\n",
    "Sets in Python come with a variety of methods and functions that enable efficient manipulation and interaction with collections of unique items. Understanding these methods equips you to perform a wide range of operations, from basic modifications to complex mathematical calculations.\n",
    "\n",
    "-----"
   ]
  },
  {
   "cell_type": "markdown",
   "metadata": {},
   "source": [
    "### **`Let's Practice`**"
   ]
  },
  {
   "cell_type": "code",
   "execution_count": null,
   "metadata": {},
   "outputs": [
    {
     "name": "stdout",
     "output_type": "stream",
     "text": [
      "{1, 2, 3, 4}\n"
     ]
    }
   ],
   "source": [
    "# set methods \n",
    "\n",
    "# add\n",
    "\n",
    "s = {1,2,3}\n",
    "\n",
    "s.add(4) # only adds 1 element at a time\n",
    "\n",
    "print(s)\n"
   ]
  },
  {
   "cell_type": "code",
   "execution_count": null,
   "metadata": {},
   "outputs": [
    {
     "name": "stdout",
     "output_type": "stream",
     "text": [
      "{1, 2, 3}\n"
     ]
    }
   ],
   "source": [
    "# remove (error if element not found)\n",
    "\n",
    "s.remove(4) # removes 1 element at a time \n",
    "\n",
    "print(s)"
   ]
  },
  {
   "cell_type": "code",
   "execution_count": null,
   "metadata": {},
   "outputs": [
    {
     "name": "stdout",
     "output_type": "stream",
     "text": [
      "{1, 2, 3}\n"
     ]
    }
   ],
   "source": [
    "# discard (no error if element not found)\n",
    "\n",
    "s.discard(4) # removes 1 element at a time\n",
    "\n",
    "print(s)"
   ]
  },
  {
   "cell_type": "code",
   "execution_count": null,
   "metadata": {},
   "outputs": [
    {
     "name": "stdout",
     "output_type": "stream",
     "text": [
      "set()\n"
     ]
    }
   ],
   "source": [
    "# clear (this will remove all elements from the set)\n",
    "\n",
    "s.clear()\n",
    "\n",
    "print(s)"
   ]
  },
  {
   "cell_type": "code",
   "execution_count": null,
   "metadata": {},
   "outputs": [
    {
     "name": "stdout",
     "output_type": "stream",
     "text": [
      "{1, 90, 99}\n"
     ]
    }
   ],
   "source": [
    "# pop (this will remove a random element from the set, as set's are unordered)\n",
    "\n",
    "s = {1, 0, 90,99}\n",
    "\n",
    "s.pop()\n",
    "\n",
    "print(s)"
   ]
  },
  {
   "cell_type": "code",
   "execution_count": 8,
   "metadata": {},
   "outputs": [
    {
     "name": "stdout",
     "output_type": "stream",
     "text": [
      "{1, 2, 3, 4, 5}\n"
     ]
    }
   ],
   "source": [
    "# union\n",
    "\n",
    "set1 = {1, 2, 3}\n",
    "set2 = {3, 4, 5}\n",
    "\n",
    "union_set = set1 | set2\n",
    "\n",
    "print(union_set)"
   ]
  },
  {
   "cell_type": "code",
   "execution_count": null,
   "metadata": {},
   "outputs": [
    {
     "name": "stdout",
     "output_type": "stream",
     "text": [
      "{1, 2, 3, 4, 5, 6, 7}\n"
     ]
    }
   ],
   "source": [
    "### union with multiple sets\n",
    "\n",
    "set1 = {1, 2, 3}\n",
    "set2 = {3, 4, 5}\n",
    "set3 = {5, 6, 7}\n",
    "\n",
    "union_seta = set1.union(set2, set3)\n",
    "\n",
    "print(union_seta)"
   ]
  },
  {
   "cell_type": "code",
   "execution_count": 10,
   "metadata": {},
   "outputs": [
    {
     "name": "stdout",
     "output_type": "stream",
     "text": [
      "{0, 3}\n"
     ]
    }
   ],
   "source": [
    "# intersection\n",
    "\n",
    "set1 = {1, 2, 3, 0}\n",
    "set2 = {0, 3, 4, 5}\n",
    "\n",
    "intersection_set = set1 & set2\n",
    "\n",
    "print(intersection_set)"
   ]
  },
  {
   "cell_type": "code",
   "execution_count": 14,
   "metadata": {},
   "outputs": [
    {
     "name": "stdout",
     "output_type": "stream",
     "text": [
      "set()\n"
     ]
    }
   ],
   "source": [
    "### intersection with multiple sets\n",
    "\n",
    "set1 = {1, 2, 3, 0}\n",
    "set2 = {0, 3, 4, 5}\n",
    "set3 = {5, 6, 7}\n",
    "\n",
    "intersection_set = set1.intersection(set2, set3)\n",
    "\n",
    "print(intersection_set)"
   ]
  },
  {
   "cell_type": "code",
   "execution_count": 11,
   "metadata": {},
   "outputs": [
    {
     "name": "stdout",
     "output_type": "stream",
     "text": [
      "{1, 2}\n"
     ]
    }
   ],
   "source": [
    "# difference\n",
    "\n",
    "set1 = {1, 2, 3}\n",
    "set2 = {3, 4, 5}\n",
    "\n",
    "difference_set = set1 - set2\n",
    "\n",
    "print(difference_set)"
   ]
  },
  {
   "cell_type": "code",
   "execution_count": 12,
   "metadata": {},
   "outputs": [
    {
     "name": "stdout",
     "output_type": "stream",
     "text": [
      "{1, 2, 4, 5}\n"
     ]
    }
   ],
   "source": [
    "# sementic difference\n",
    "\n",
    "set1 = {1, 2, 3}\n",
    "set2 = {3, 4, 5}\n",
    "\n",
    "symmetric_difference_set = set1 ^ set2\n",
    "\n",
    "print(symmetric_difference_set)"
   ]
  },
  {
   "cell_type": "markdown",
   "metadata": {},
   "source": [
    "-----"
   ]
  }
 ],
 "metadata": {
  "kernelspec": {
   "display_name": "Python 3",
   "language": "python",
   "name": "python3"
  },
  "language_info": {
   "codemirror_mode": {
    "name": "ipython",
    "version": 3
   },
   "file_extension": ".py",
   "mimetype": "text/x-python",
   "name": "python",
   "nbconvert_exporter": "python",
   "pygments_lexer": "ipython3",
   "version": "3.10.15"
  }
 },
 "nbformat": 4,
 "nbformat_minor": 2
}
