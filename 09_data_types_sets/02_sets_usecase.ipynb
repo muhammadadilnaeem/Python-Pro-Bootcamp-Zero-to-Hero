{
 "cells": [
  {
   "cell_type": "markdown",
   "metadata": {},
   "source": [
    "\n",
    "------\n",
    "\n",
    "# **`Use Cases of Sets in Python`**\n",
    "\n",
    "------\n",
    "\n",
    "\n",
    "Sets are versatile data structures that offer unique functionalities. Here are some common use cases where sets are particularly useful:\n",
    "\n",
    "#### **1. Removing Duplicates from a Collection**\n",
    "\n",
    "**Description**: One of the primary uses of sets is to eliminate duplicate elements from a list or other collections.\n",
    "\n",
    "**Example**:\n",
    "```python\n",
    "# Removing duplicates from a list\n",
    "my_list = [1, 2, 2, 3, 4, 4, 5]\n",
    "unique_set = set(my_list)\n",
    "print(unique_set)  # Output: {1, 2, 3, 4, 5}\n",
    "```\n",
    "\n",
    "#### **2. Membership Testing**\n",
    "\n",
    "**Description**: Sets provide O(1) average time complexity for membership tests, making them efficient for checking the existence of an element.\n",
    "\n",
    "**Example**:\n",
    "```python\n",
    "my_set = {1, 2, 3, 4, 5}\n",
    "if 3 in my_set:\n",
    "    print(\"3 is in the set\")  # Output: 3 is in the set\n",
    "```\n",
    "\n",
    "#### **3. Mathematical Set Operations**\n",
    "\n",
    "**Description**: Sets support mathematical operations like union, intersection, difference, and symmetric difference, making them useful for various mathematical computations.\n",
    "\n",
    "**Example**:\n",
    "```python\n",
    "set_a = {1, 2, 3}\n",
    "set_b = {3, 4, 5}\n",
    "\n",
    "# Union\n",
    "union_set = set_a | set_b  # Output: {1, 2, 3, 4, 5}\n",
    "\n",
    "# Intersection\n",
    "intersection_set = set_a & set_b  # Output: {3}\n",
    "\n",
    "# Difference\n",
    "difference_set = set_a - set_b  # Output: {1, 2}\n",
    "\n",
    "# Symmetric Difference\n",
    "symmetric_difference_set = set_a ^ set_b  # Output: {1, 2, 4, 5}\n",
    "```\n",
    "\n",
    "#### **4. Storing Unique Items**\n",
    "\n",
    "**Description**: Sets are ideal for storing unique items, such as usernames or IDs, where duplicates are not allowed.\n",
    "\n",
    "**Example**:\n",
    "```python\n",
    "usernames = {\"alice\", \"bob\", \"charlie\", \"alice\"}  # 'alice' will be stored only once\n",
    "print(usernames)  # Output: {'alice', 'bob', 'charlie'}\n",
    "```\n",
    "\n",
    "#### **5. Counting Unique Elements**\n",
    "\n",
    "**Description**: You can quickly count unique elements in a dataset by converting it to a set.\n",
    "\n",
    "**Example**:\n",
    "```python\n",
    "data = [1, 2, 3, 1, 2, 4]\n",
    "unique_count = len(set(data))\n",
    "print(unique_count)  # Output: 4 (the unique elements are {1, 2, 3, 4})\n",
    "```\n",
    "\n",
    "#### **6. Set Operations for Data Analysis**\n",
    "\n",
    "**Description**: Sets can be used in data analysis to compare datasets, such as finding common or distinct items between two lists.\n",
    "\n",
    "**Example**:\n",
    "```python\n",
    "list_a = [\"apple\", \"banana\", \"cherry\"]\n",
    "list_b = [\"banana\", \"kiwi\", \"apple\"]\n",
    "\n",
    "set_a = set(list_a)\n",
    "set_b = set(list_b)\n",
    "\n",
    "# Common fruits\n",
    "common_fruits = set_a & set_b\n",
    "print(common_fruits)  # Output: {'banana', 'apple'}\n",
    "\n",
    "# Unique to set_a\n",
    "unique_to_a = set_a - set_b\n",
    "print(unique_to_a)  # Output: {'cherry'}\n",
    "```\n",
    "\n",
    "#### **7. Implementing Graphs and Networks**\n",
    "\n",
    "**Description**: Sets are useful in graph theory for representing edges or relationships, where you want to avoid duplicate connections.\n",
    "\n",
    "**Example**:\n",
    "```python\n",
    "# Representing edges in a graph\n",
    "edges = {(\"A\", \"B\"), (\"B\", \"C\"), (\"A\", \"C\"), (\"A\", \"B\")}  # Duplicate edge will be ignored\n",
    "print(edges)  # Output: {('A', 'B'), ('A', 'C'), ('B', 'C')}\n",
    "```\n",
    "\n",
    "#### **8. Data Cleanup and Preprocessing**\n",
    "\n",
    "**Description**: Sets can be used to clean up datasets by removing duplicates or irrelevant data before further processing.\n",
    "\n",
    "**Example**:\n",
    "```python\n",
    "raw_data = [\"data\", \"info\", \"data\", \"info\", \"stats\"]\n",
    "cleaned_data = set(raw_data)  # Removes duplicates\n",
    "print(cleaned_data)  # Output: {'data', 'info', 'stats'}\n",
    "```\n",
    "\n",
    "#### **9. Subset and Superset Checks**\n",
    "\n",
    "**Description**: Sets provide methods to check if one set is a subset or superset of another, which can be useful in various logical operations.\n",
    "\n",
    "**Example**:\n",
    "```python\n",
    "set_a = {1, 2, 3}\n",
    "set_b = {1, 2, 3, 4, 5}\n",
    "\n",
    "# Check if set_a is a subset of set_b\n",
    "print(set_a.issubset(set_b))  # Output: True\n",
    "\n",
    "# Check if set_b is a superset of set_a\n",
    "print(set_b.issuperset(set_a))  # Output: True\n",
    "```\n",
    "\n",
    "### **Conclusion**\n",
    "\n",
    "Sets in Python offer powerful functionalities for managing unique collections of items, performing mathematical operations, and efficiently testing for membership. Their characteristics make them suitable for a wide range of applications, from data analysis to implementing algorithms in graph theory. Understanding the use cases of sets enhances your ability to write efficient and effective Python code.\n",
    "\n",
    "-----\n",
    "\n"
   ]
  },
  {
   "cell_type": "markdown",
   "metadata": {},
   "source": [
    "### **Let's Practice**"
   ]
  },
  {
   "cell_type": "code",
   "execution_count": 1,
   "metadata": {},
   "outputs": [
    {
     "name": "stdout",
     "output_type": "stream",
     "text": [
      "{1, 2, 3, 4, 5, 6, 7}\n"
     ]
    }
   ],
   "source": [
    "# removing duplicates\n",
    "\n",
    "s = [1,2,3,1,2,3,4,1,2,3,4,5,1,2,3,4,5,6,1,2,3,4,5,6,7]\n",
    "\n",
    "s2 = set(s)\n",
    "\n",
    "print(s2)"
   ]
  },
  {
   "cell_type": "code",
   "execution_count": null,
   "metadata": {},
   "outputs": [
    {
     "data": {
      "text/plain": [
       "True"
      ]
     },
     "execution_count": 2,
     "metadata": {},
     "output_type": "execute_result"
    }
   ],
   "source": [
    "# membership\n",
    "\n",
    "50 in set(range(1,111))"
   ]
  },
  {
   "cell_type": "code",
   "execution_count": 4,
   "metadata": {},
   "outputs": [
    {
     "name": "stdout",
     "output_type": "stream",
     "text": [
      "861613341941760043\n"
     ]
    }
   ],
   "source": [
    "# hashable\n",
    "print(hash(\"100\"))"
   ]
  },
  {
   "cell_type": "markdown",
   "metadata": {},
   "source": [
    "------"
   ]
  }
 ],
 "metadata": {
  "kernelspec": {
   "display_name": "Python 3",
   "language": "python",
   "name": "python3"
  },
  "language_info": {
   "codemirror_mode": {
    "name": "ipython",
    "version": 3
   },
   "file_extension": ".py",
   "mimetype": "text/x-python",
   "name": "python",
   "nbconvert_exporter": "python",
   "pygments_lexer": "ipython3",
   "version": "3.10.15"
  }
 },
 "nbformat": 4,
 "nbformat_minor": 2
}
