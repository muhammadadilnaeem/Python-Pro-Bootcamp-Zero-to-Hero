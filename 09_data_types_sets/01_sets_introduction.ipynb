{
 "cells": [
  {
   "cell_type": "markdown",
   "metadata": {},
   "source": [
    "\n",
    "\n",
    "------\n",
    "\n",
    "# **`Set Introduction In Python`**\n",
    "\n",
    "------\n",
    "\n",
    "#### **Introduction**\n",
    "A **set** is an unordered collection data type that is iterable, mutable, and does not allow duplicate elements. Sets are commonly used when the existence of an item in a collection is more important than the order or frequency of the items.\n",
    "\n",
    "#### **Key Characteristics**\n",
    "\n",
    "1. **Unordered**: The items in a set do not have a defined order, and you cannot access items by index.\n",
    "2. **Mutable**: You can add or remove items from a set after its creation.\n",
    "3. **No Duplicates**: Sets automatically eliminate duplicate entries.\n",
    "4. **Hashable**: Sets themselves are mutable, but the items contained within must be immutable (e.g., strings, numbers, tuples).\n",
    "\n",
    "### **1. Creating Sets**\n",
    "\n",
    "Sets can be created using curly braces `{}` or the built-in `set()` function.\n",
    "\n",
    "#### **Using Curly Braces**\n",
    "```python\n",
    "my_set = {1, 2, 3, 4}\n",
    "print(my_set)  # Output: {1, 2, 3, 4}\n",
    "```\n",
    "\n",
    "#### **Using the `set()` Function**\n",
    "```python\n",
    "my_set = set([1, 2, 3, 4])\n",
    "print(my_set)  # Output: {1, 2, 3, 4}\n",
    "```\n",
    "\n",
    "#### **Creating an Empty Set**\n",
    "To create an empty set, use the `set()` function (not `{}` which creates an empty dictionary).\n",
    "```python\n",
    "empty_set = set()\n",
    "print(empty_set)  # Output: set()\n",
    "```\n",
    "\n",
    "#### **Creating a Set with Duplicates**\n",
    "Duplicate values are automatically removed when creating a set.\n",
    "```python\n",
    "my_set = {1, 2, 2, 3}\n",
    "print(my_set)  # Output: {1, 2, 3}\n",
    "```\n",
    "\n",
    "### **2. Basic Set Operations**\n",
    "\n",
    "#### **Adding Elements**\n",
    "You can add elements to a set using the `add()` method.\n",
    "```python\n",
    "my_set = {1, 2, 3}\n",
    "my_set.add(4)\n",
    "print(my_set)  # Output: {1, 2, 3, 4}\n",
    "```\n",
    "\n",
    "#### **Updating Sets**\n",
    "You can add multiple elements using the `update()` method, which can take a list, tuple, or another set.\n",
    "```python\n",
    "my_set.update([5, 6])\n",
    "print(my_set)  # Output: {1, 2, 3, 4, 5, 6}\n",
    "```\n",
    "\n",
    "#### **Removing Elements**\n",
    "You can remove elements using the `remove()` or `discard()` methods. The `remove()` method raises a `KeyError` if the element is not found, while `discard()` does not.\n",
    "```python\n",
    "my_set.remove(2)  # Removes 2\n",
    "# my_set.remove(10)  # This would raise KeyError\n",
    "\n",
    "my_set.discard(3)  # Removes 3\n",
    "my_set.discard(10)  # Does nothing (no error)\n",
    "print(my_set)  # Output: {1, 4, 5, 6}\n",
    "```\n",
    "\n",
    "#### **Clearing a Set**\n",
    "You can remove all elements from a set using the `clear()` method.\n",
    "```python\n",
    "my_set.clear()\n",
    "print(my_set)  # Output: set()\n",
    "```\n",
    "\n",
    "### **3. Set Operations**\n",
    "\n",
    "Sets support various mathematical operations:\n",
    "\n",
    "#### **Union**\n",
    "Combines two sets, removing duplicates.\n",
    "```python\n",
    "set1 = {1, 2, 3}\n",
    "set2 = {3, 4, 5}\n",
    "union_set = set1 | set2  # or set1.union(set2)\n",
    "print(union_set)  # Output: {1, 2, 3, 4, 5}\n",
    "```\n",
    "\n",
    "#### **Intersection**\n",
    "Returns a set of elements that are common to both sets.\n",
    "```python\n",
    "intersection_set = set1 & set2  # or set1.intersection(set2)\n",
    "print(intersection_set)  # Output: {3}\n",
    "```\n",
    "\n",
    "#### **Difference**\n",
    "Returns a set of elements that are in the first set but not in the second.\n",
    "```python\n",
    "difference_set = set1 - set2  # or set1.difference(set2)\n",
    "print(difference_set)  # Output: {1, 2}\n",
    "```\n",
    "\n",
    "#### **Symmetric Difference**\n",
    "Returns a set of elements that are in either of the sets but not in both.\n",
    "```python\n",
    "symmetric_difference_set = set1 ^ set2  # or set1.symmetric_difference(set2)\n",
    "print(symmetric_difference_set)  # Output: {1, 2, 4, 5}\n",
    "```\n",
    "\n",
    "### **4. Set Comprehension**\n",
    "\n",
    "Similar to list comprehensions, you can create sets using set comprehensions.\n",
    "```python\n",
    "squared_set = {x**2 for x in range(5)}\n",
    "print(squared_set)  # Output: {0, 1, 4, 9, 16}\n",
    "```\n",
    "\n",
    "### **5. Use Cases for Sets**\n",
    "\n",
    "- **Removing Duplicates**: Sets automatically eliminate duplicates, making them useful for filtering unique items.\n",
    "- **Membership Testing**: Sets provide O(1) average time complexity for membership tests, making them efficient for checking existence.\n",
    "- **Mathematical Operations**: Sets are ideal for performing operations like unions, intersections, and differences.\n",
    "\n",
    "### **Conclusion**\n",
    "\n",
    "Sets are a powerful and flexible data structure in Python, ideal for handling collections of unique items and performing mathematical set operations. Understanding how to create and manipulate sets enhances your ability to efficiently manage data in your programs. \n",
    "\n",
    "------\n",
    "\n"
   ]
  },
  {
   "cell_type": "markdown",
   "metadata": {},
   "source": [
    "### **Let's Practice**"
   ]
  },
  {
   "cell_type": "code",
   "execution_count": 4,
   "metadata": {},
   "outputs": [
    {
     "data": {
      "text/plain": [
       "set"
      ]
     },
     "execution_count": 4,
     "metadata": {},
     "output_type": "execute_result"
    }
   ],
   "source": [
    "s = {1,2,3,4,5,6,7,8,9,10}\n",
    "\n",
    "type(s)"
   ]
  },
  {
   "cell_type": "code",
   "execution_count": 5,
   "metadata": {},
   "outputs": [
    {
     "data": {
      "text/plain": [
       "dict"
      ]
     },
     "execution_count": 5,
     "metadata": {},
     "output_type": "execute_result"
    }
   ],
   "source": [
    "S = {} # an empty dictionary \n",
    "type(S)"
   ]
  },
  {
   "cell_type": "code",
   "execution_count": 6,
   "metadata": {},
   "outputs": [
    {
     "data": {
      "text/plain": [
       "set"
      ]
     },
     "execution_count": 6,
     "metadata": {},
     "output_type": "execute_result"
    }
   ],
   "source": [
    "s = set() # an empty set\n",
    "\n",
    "type(s)"
   ]
  },
  {
   "cell_type": "code",
   "execution_count": 7,
   "metadata": {},
   "outputs": [
    {
     "data": {
      "text/plain": [
       "set"
      ]
     },
     "execution_count": 7,
     "metadata": {},
     "output_type": "execute_result"
    }
   ],
   "source": [
    "# Only for mixed data types\n",
    "\n",
    "mix = {1,2,3.1,\"Adil\",(1,2,3)} # can not use list because it is unhashable\n",
    "\n",
    "type(mix)"
   ]
  },
  {
   "cell_type": "code",
   "execution_count": 8,
   "metadata": {},
   "outputs": [
    {
     "data": {
      "text/plain": [
       "set"
      ]
     },
     "execution_count": 8,
     "metadata": {},
     "output_type": "execute_result"
    }
   ],
   "source": [
    "# but you can use like this for individual data types\n",
    "\n",
    "new_set = set([1,2,3,4])\n",
    "type(new_set)"
   ]
  },
  {
   "cell_type": "code",
   "execution_count": 1,
   "metadata": {},
   "outputs": [
    {
     "name": "stdout",
     "output_type": "stream",
     "text": [
      "{1, 2, 3, 4, 5, 6, 7}\n"
     ]
    }
   ],
   "source": [
    "# uniqueness (keeps last repeating element in the set)\n",
    "\n",
    "se = {1,2,3,4,5,6,7,1,2,3,4,5,6,7}\n",
    "\n",
    "print(se)"
   ]
  },
  {
   "cell_type": "code",
   "execution_count": 3,
   "metadata": {},
   "outputs": [
    {
     "name": "stdout",
     "output_type": "stream",
     "text": [
      "{33, 2, 3, 66, 1, 4, 5, 6, 11, 44, 77, 22}\n"
     ]
    }
   ],
   "source": [
    "# unordered\n",
    "\n",
    "se = {22,33,1,2,3,11,44,66,4,5,77,6,6}\n",
    "\n",
    "print(se)"
   ]
  },
  {
   "cell_type": "code",
   "execution_count": 4,
   "metadata": {},
   "outputs": [
    {
     "name": "stdout",
     "output_type": "stream",
     "text": [
      "{0, 1, 2, 3, 4, 5, 6, 7, 8, 9, 10}\n"
     ]
    }
   ],
   "source": [
    "# immutable\n",
    "\n",
    "s = {1,2,3,4,5,6,7,8,9,10}\n",
    "\n",
    "# s[0] = 0 # this will throw an error\n",
    "\n",
    "s.add(0) # add an element using the `add()` method\n",
    "\n",
    "print(s)"
   ]
  },
  {
   "cell_type": "code",
   "execution_count": 10,
   "metadata": {},
   "outputs": [
    {
     "name": "stdout",
     "output_type": "stream",
     "text": [
      "1,2,3,4,5,6,7,8,9,10,"
     ]
    }
   ],
   "source": [
    "# accessing elements of a set\n",
    "\n",
    "s = {1,2,3,4,5,6,7,8,9,10}\n",
    "\n",
    "# print(s[0]) # this will throw an error\n",
    "\n",
    "for i in s:\n",
    "    print(i,end=\",\")"
   ]
  },
  {
   "cell_type": "markdown",
   "metadata": {},
   "source": [
    "------"
   ]
  }
 ],
 "metadata": {
  "kernelspec": {
   "display_name": "Python 3",
   "language": "python",
   "name": "python3"
  },
  "language_info": {
   "codemirror_mode": {
    "name": "ipython",
    "version": 3
   },
   "file_extension": ".py",
   "mimetype": "text/x-python",
   "name": "python",
   "nbconvert_exporter": "python",
   "pygments_lexer": "ipython3",
   "version": "3.10.15"
  }
 },
 "nbformat": 4,
 "nbformat_minor": 2
}
