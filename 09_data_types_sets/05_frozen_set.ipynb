{
 "cells": [
  {
   "cell_type": "markdown",
   "metadata": {},
   "source": [
    "\n",
    "\n",
    "------\n",
    "\n",
    "\n",
    "\n",
    "# **`Frozen Set in Python`**\n",
    "\n",
    "------\n",
    "\n",
    "#### **Introduction**\n",
    "\n",
    "A **frozen set** is an immutable version of a set in Python. It is a collection of unique elements that cannot be modified after creation. This immutability makes frozen sets hashable, allowing them to be used as keys in dictionaries or elements of other sets.\n",
    "\n",
    "#### **Key Characteristics**\n",
    "\n",
    "1. **Immutable**: Once created, the elements of a frozen set cannot be changed, added, or removed.\n",
    "2. **Unique Elements**: Like regular sets, frozen sets do not allow duplicate elements.\n",
    "3. **Hashable**: Because they are immutable, frozen sets can be used as keys in dictionaries or stored in other sets.\n",
    "\n",
    "#### **Creating a Frozen Set**\n",
    "\n",
    "You can create a frozen set using the built-in `frozenset()` function. This function can take any iterable as an argument.\n",
    "\n",
    "**Syntax**:\n",
    "```python\n",
    "frozenset(iterable)\n",
    "```\n",
    "\n",
    "**Example**:\n",
    "```python\n",
    "# Creating a frozen set from a list\n",
    "my_frozen_set = frozenset([1, 2, 3, 4, 5])\n",
    "print(my_frozen_set)  # Output: frozenset({1, 2, 3, 4, 5})\n",
    "\n",
    "# Creating a frozen set from a string\n",
    "frozen_set_from_string = frozenset(\"hello\")\n",
    "print(frozen_set_from_string)  # Output: frozenset({'h', 'e', 'l', 'o'})\n",
    "```\n",
    "\n",
    "#### **Characteristics of Frozen Sets**\n",
    "\n",
    "- **No Modification Methods**: Since frozen sets are immutable, they do not have methods that modify the set (like `add()`, `remove()`, or `update()`).\n",
    "- **Support for Set Operations**: Frozen sets support mathematical operations such as union, intersection, and difference.\n",
    "\n",
    "#### **Common Operations with Frozen Sets**\n",
    "\n",
    "Here are some operations that can be performed with frozen sets:\n",
    "\n",
    "1. **Union**:\n",
    "   ```python\n",
    "   set_a = frozenset([1, 2, 3])\n",
    "   set_b = frozenset([3, 4, 5])\n",
    "   union_set = set_a | set_b  # or set_a.union(set_b)\n",
    "   print(union_set)  # Output: frozenset({1, 2, 3, 4, 5})\n",
    "   ```\n",
    "\n",
    "2. **Intersection**:\n",
    "   ```python\n",
    "   intersection_set = set_a & set_b  # or set_a.intersection(set_b)\n",
    "   print(intersection_set)  # Output: frozenset({3})\n",
    "   ```\n",
    "\n",
    "3. **Difference**:\n",
    "   ```python\n",
    "   difference_set = set_a - set_b  # or set_a.difference(set_b)\n",
    "   print(difference_set)  # Output: frozenset({1, 2})\n",
    "   ```\n",
    "\n",
    "4. **Symmetric Difference**:\n",
    "   ```python\n",
    "   symmetric_difference_set = set_a ^ set_b  # or set_a.symmetric_difference(set_b)\n",
    "   print(symmetric_difference_set)  # Output: frozenset({1, 2, 4, 5})\n",
    "   ```\n",
    "\n",
    "5. **Membership Testing**:\n",
    "   ```python\n",
    "   print(2 in my_frozen_set)  # Output: True\n",
    "   print(6 in my_frozen_set)  # Output: False\n",
    "   ```\n",
    "\n",
    "#### **Methods Available for Frozen Sets**\n",
    "\n",
    "Although frozen sets do not support methods that modify the set, they do support several methods for accessing information:\n",
    "\n",
    "1. **`copy()`**:\n",
    "   - **Description**: Returns a shallow copy of the frozen set.\n",
    "   - **Example**:\n",
    "   ```python\n",
    "   original = frozenset([1, 2, 3])\n",
    "   copy_set = original.copy()\n",
    "   print(copy_set)  # Output: frozenset({1, 2, 3})\n",
    "   ```\n",
    "\n",
    "2. **`union()`**:\n",
    "   - **Description**: Returns a new frozen set with elements from the frozen set and another set.\n",
    "   - **Example**:\n",
    "   ```python\n",
    "   set_a = frozenset([1, 2])\n",
    "   set_b = frozenset([2, 3])\n",
    "   print(set_a.union(set_b))  # Output: frozenset({1, 2, 3})\n",
    "   ```\n",
    "\n",
    "3. **`intersection()`**:\n",
    "   - **Description**: Returns a new frozen set with elements common to both sets.\n",
    "   - **Example**:\n",
    "   ```python\n",
    "   print(set_a.intersection(set_b))  # Output: frozenset({2})\n",
    "   ```\n",
    "\n",
    "4. **`difference()`**:\n",
    "   - **Description**: Returns a new frozen set with elements in the first set but not in the second.\n",
    "   - **Example**:\n",
    "   ```python\n",
    "   print(set_a.difference(set_b))  # Output: frozenset({1})\n",
    "   ```\n",
    "\n",
    "5. **`symmetric_difference()`**:\n",
    "   - **Description**: Returns a new frozen set with elements in either set but not in both.\n",
    "   - **Example**:\n",
    "   ```python\n",
    "   print(set_a.symmetric_difference(set_b))  # Output: frozenset({1, 3})\n",
    "   ```\n",
    "\n",
    "6. **`issubset()`**:\n",
    "   - **Description**: Returns `True` if the frozen set is a subset of another set.\n",
    "   - **Example**:\n",
    "   ```python\n",
    "   print(set_a.issubset(frozenset([1, 2, 3])))  # Output: True\n",
    "   ```\n",
    "\n",
    "7. **`issuperset()`**:\n",
    "   - **Description**: Returns `True` if the frozen set is a superset of another set.\n",
    "   - **Example**:\n",
    "   ```python\n",
    "   print(set_a.issuperset(frozenset([1])))  # Output: True\n",
    "   ```\n",
    "\n",
    "#### **Use Cases for Frozen Sets**\n",
    "\n",
    "1. **Using as Dictionary Keys**: Since frozen sets are hashable, they can be used as keys in dictionaries.\n",
    "   ```python\n",
    "   my_dict = {frozenset([1, 2]): \"A\", frozenset([3, 4]): \"B\"}\n",
    "   print(my_dict[frozenset([1, 2])])  # Output: A\n",
    "   ```\n",
    "\n",
    "2. **In Sets**: You can use frozen sets as elements of another set.\n",
    "   ```python\n",
    "   set_of_frozensets = {frozenset([1, 2]), frozenset([3, 4])}\n",
    "   print(set_of_frozensets)  # Output: {frozenset({1, 2}), frozenset({3, 4})}\n",
    "   ```\n",
    "\n",
    "3. **Ensuring Data Integrity**: Use frozen sets when you need to ensure that a collection of items should not change throughout the program.\n",
    "\n",
    "### **Conclusion**\n",
    "\n",
    "Frozen sets in Python provide a powerful way to handle collections of unique elements while ensuring immutability. Their hashable nature makes them useful for scenarios where you need to use sets as keys in dictionaries or elements in other sets. Understanding frozen sets enhances your ability to manage data efficiently in Python.\n",
    "\n",
    "\n",
    "------\n",
    "\n"
   ]
  },
  {
   "cell_type": "markdown",
   "metadata": {},
   "source": [
    "### **`Let's Practice`**"
   ]
  },
  {
   "cell_type": "code",
   "execution_count": 1,
   "metadata": {},
   "outputs": [
    {
     "data": {
      "text/plain": [
       "{1, 2, 3, 11}"
      ]
     },
     "execution_count": 1,
     "metadata": {},
     "output_type": "execute_result"
    }
   ],
   "source": [
    "# normal set\n",
    "\n",
    "a = set([1,2,3])\n",
    "a.add(11)\n",
    "\n",
    "a"
   ]
  },
  {
   "cell_type": "code",
   "execution_count": 3,
   "metadata": {},
   "outputs": [
    {
     "data": {
      "text/plain": [
       "frozenset({1, 2, 3, 4})"
      ]
     },
     "execution_count": 3,
     "metadata": {},
     "output_type": "execute_result"
    }
   ],
   "source": [
    "# frozen set\n",
    "\n",
    "a = frozenset({1,2,3,4})\n",
    "\n",
    "# a.add(4) # throws error \n",
    " \n",
    "a"
   ]
  },
  {
   "cell_type": "code",
   "execution_count": 4,
   "metadata": {},
   "outputs": [
    {
     "data": {
      "text/plain": [
       "frozenset({'adil'})"
      ]
     },
     "execution_count": 4,
     "metadata": {},
     "output_type": "execute_result"
    }
   ],
   "source": [
    "# frozen set containing string\n",
    "\n",
    "a1 = frozenset({\"adil\"})\n",
    "\n",
    "a1"
   ]
  },
  {
   "cell_type": "code",
   "execution_count": 5,
   "metadata": {},
   "outputs": [
    {
     "data": {
      "text/plain": [
       "frozenset({0, 5, 6, 7, 8, 9, 10, 12, 13})"
      ]
     },
     "execution_count": 5,
     "metadata": {},
     "output_type": "execute_result"
    }
   ],
   "source": [
    "# stores unique values\n",
    "\n",
    "ss = frozenset([10,5,6,7,8,9,0,10,12,13,12,12,13])\n",
    "\n",
    "ss"
   ]
  },
  {
   "cell_type": "code",
   "execution_count": null,
   "metadata": {},
   "outputs": [
    {
     "name": "stdout",
     "output_type": "stream",
     "text": [
      "frozenset({1, 2, 3, 4, 5, 6, 7, 8})\n"
     ]
    }
   ],
   "source": [
    "# set's methods\n",
    "\n",
    "s1 = frozenset({1,2,3,4,5})\n",
    "s2 = frozenset({1,2,6,7,8})\n",
    "\n",
    "unions = s1 | s2\n",
    "\n",
    "print(unions)"
   ]
  },
  {
   "cell_type": "code",
   "execution_count": 7,
   "metadata": {},
   "outputs": [
    {
     "name": "stdout",
     "output_type": "stream",
     "text": [
      "frozenset({1, 2})\n"
     ]
    }
   ],
   "source": [
    "# set's methods\n",
    "\n",
    "s1 = frozenset({1,2,3,4,5})\n",
    "s2 = frozenset({1,2,6,7,8})\n",
    "\n",
    "intersections = s1 & s2\n",
    "\n",
    "print(intersections)"
   ]
  },
  {
   "cell_type": "code",
   "execution_count": 8,
   "metadata": {},
   "outputs": [
    {
     "data": {
      "text/plain": [
       "{frozenset({1, 2, 3, 4, 5}): 'FIRST', frozenset({1, 2, 6, 7, 8}): 'SECOND'}"
      ]
     },
     "execution_count": 8,
     "metadata": {},
     "output_type": "execute_result"
    }
   ],
   "source": [
    "# hashable\n",
    "\n",
    "my_dict = {s1:\"FIRST\",s2:\"SECOND\"}\n",
    "\n",
    "my_dict"
   ]
  },
  {
   "cell_type": "markdown",
   "metadata": {},
   "source": [
    "-------"
   ]
  }
 ],
 "metadata": {
  "kernelspec": {
   "display_name": "Python 3",
   "language": "python",
   "name": "python3"
  },
  "language_info": {
   "codemirror_mode": {
    "name": "ipython",
    "version": 3
   },
   "file_extension": ".py",
   "mimetype": "text/x-python",
   "name": "python",
   "nbconvert_exporter": "python",
   "pygments_lexer": "ipython3",
   "version": "3.10.15"
  }
 },
 "nbformat": 4,
 "nbformat_minor": 2
}
