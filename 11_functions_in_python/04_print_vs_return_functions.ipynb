{
 "cells": [
  {
   "cell_type": "markdown",
   "metadata": {},
   "source": [
    "\n",
    "---\n",
    "\n",
    "\n",
    "#  **Print vs. Return in Python**\n",
    "\n",
    "#### **1. Print Statement**\n",
    "\n",
    "- **Definition**: The `print()` function outputs data to the console or standard output device. It is primarily used for displaying information to the user.\n",
    "- **Purpose**: To provide feedback, debug information, or display results during the execution of a program.\n",
    "- **Output**: The value passed to `print()` is displayed on the screen but not sent back to the calling function or context.\n",
    "\n",
    "**Example**:\n",
    "```python\n",
    "def greet(name):\n",
    "    print(f\"Hello, {name}!\")\n",
    "\n",
    "greet(\"Alice\")  # Output: Hello, Alice!\n",
    "```\n",
    "\n",
    "- **Note**: The `print()` function does not affect the flow of the program and does not return any value. It returns `None` by default.\n",
    "\n",
    "#### **2. Return Statement**\n",
    "\n",
    "- **Definition**: The `return` statement is used within a function to send a value back to the caller. It effectively exits the function and can pass data back to the part of the program that called it.\n",
    "- **Purpose**: To provide the result of a function's computation or processing so that it can be used later in the code.\n",
    "- **Output**: The value specified after the `return` keyword is sent back to the caller and can be assigned to a variable.\n",
    "\n",
    "**Example**:\n",
    "```python\n",
    "def add(a, b):\n",
    "    return a + b\n",
    "\n",
    "result = add(5, 3)  # result will be 8\n",
    "print(result)  # Output: 8\n",
    "```\n",
    "\n",
    "- **Note**: When a function executes a `return` statement, it terminates and returns control to the caller. If no `return` statement is present, the function returns `None` by default.\n",
    "\n",
    "### **Key Differences**\n",
    "\n",
    "| **Aspect**        | **Print**                                   | **Return**                                  |\n",
    "|-------------------|---------------------------------------------|---------------------------------------------|\n",
    "| **Purpose**       | Outputs data to the console                 | Sends data back to the caller               |\n",
    "| **Output**        | Displays information on the screen          | Provides a value that can be used later     |\n",
    "| **Functionality** | Does not affect function flow                | Exits the function and can pass values      |\n",
    "| **Return Value**  | Always returns `None`                       | Can return any value, including `None`     |\n",
    "| **Usage Context** | Primarily for user feedback or debugging    | For computations and further processing      |\n",
    "\n",
    "### **When to Use Print and Return**\n",
    "\n",
    "- **Use `print()` when**:\n",
    "  - You want to display information to the user, such as messages, status updates, or results.\n",
    "  - Debugging your code to understand variable states or execution flow.\n",
    "\n",
    "- **Use `return` when**:\n",
    "  - You want to compute a value within a function and make it available for further use in your program.\n",
    "  - You need the result of a function to be used in expressions, assignments, or further calculations.\n",
    "\n",
    "### **Example Combining Both**\n",
    "\n",
    "You can use both `print()` and `return` in the same function, depending on your needs.\n",
    "\n",
    "```python\n",
    "def multiply(a, b):\n",
    "    result = a * b\n",
    "    print(f\"The result of {a} * {b} is {result}\")  # Print statement for user feedback\n",
    "    return result  # Return the computed value for further use\n",
    "\n",
    "product = multiply(4, 5)  # Output: The result of 4 * 5 is 20\n",
    "print(product)  # Output: 20\n",
    "```\n",
    "\n",
    "### **Conclusion**\n",
    "\n",
    "Understanding the difference between `print` and `return` is crucial in Python programming. While `print` is useful for displaying information to the user, `return` is essential for passing values between functions and enabling further processing. Knowing when to use each can help you write clearer and more effective code. \n",
    "\n",
    "\n",
    "\n",
    "-----\n",
    "\n"
   ]
  },
  {
   "cell_type": "markdown",
   "metadata": {},
   "source": [
    "### **`Let's Practice`**"
   ]
  },
  {
   "cell_type": "code",
   "execution_count": 7,
   "metadata": {},
   "outputs": [
    {
     "name": "stdout",
     "output_type": "stream",
     "text": [
      "This is a Fun Function\n",
      "None\n"
     ]
    },
    {
     "data": {
      "text/plain": [
       "NoneType"
      ]
     },
     "execution_count": 7,
     "metadata": {},
     "output_type": "execute_result"
    }
   ],
   "source": [
    "# using print function\n",
    "\n",
    "def fun_func():\n",
    "    print(\"This is a Fun Function\") # (print always return None type)\n",
    "\n",
    "obj = fun_func()\n",
    "print(obj)\n",
    "# check type of obj \n",
    "type(obj)"
   ]
  },
  {
   "cell_type": "code",
   "execution_count": 8,
   "metadata": {},
   "outputs": [
    {
     "name": "stdout",
     "output_type": "stream",
     "text": [
      "This is a Fun Function\n"
     ]
    },
    {
     "data": {
      "text/plain": [
       "str"
      ]
     },
     "execution_count": 8,
     "metadata": {},
     "output_type": "execute_result"
    }
   ],
   "source": [
    "# using return function\n",
    "\n",
    "def fun_func():\n",
    "    return \"This is a Fun Function\" # (return always return different data type)\n",
    "\n",
    "obj = fun_func()\n",
    "print(obj)\n",
    "# check type of obj\n",
    "type(obj)"
   ]
  },
  {
   "cell_type": "code",
   "execution_count": null,
   "metadata": {},
   "outputs": [
    {
     "name": "stdout",
     "output_type": "stream",
     "text": [
      "None\n"
     ]
    },
    {
     "ename": "SyntaxError",
     "evalue": "'return' outside function (373231229.py, line 13)",
     "output_type": "error",
     "traceback": [
      "\u001b[1;36m  Cell \u001b[1;32mIn[13], line 13\u001b[1;36m\u001b[0m\n\u001b[1;33m    return \"This is a Fun Function\"\u001b[0m\n\u001b[1;37m    ^\u001b[0m\n\u001b[1;31mSyntaxError\u001b[0m\u001b[1;31m:\u001b[0m 'return' outside function\n"
     ]
    }
   ],
   "source": [
    "# return can not be used outside the function\n",
    "# using return function\n",
    "\n",
    "def fun_func():\n",
    "    pass\n",
    "    # return \"This is a Fun Function\" \n",
    "\n",
    "obj = fun_func()\n",
    "print(obj)\n",
    "# check type of obj\n",
    "type(obj)\n",
    "\n",
    "# return \"This is a Fun Function\"  # SyntaxError: 'return' outside function"
   ]
  },
  {
   "cell_type": "code",
   "execution_count": null,
   "metadata": {},
   "outputs": [
    {
     "name": "stdout",
     "output_type": "stream",
     "text": [
      "Hello World How are You?\n"
     ]
    },
    {
     "data": {
      "text/plain": [
       "NoneType"
      ]
     },
     "execution_count": 20,
     "metadata": {},
     "output_type": "execute_result"
    }
   ],
   "source": [
    "# print returns NoneType \n",
    "def func():\n",
    "    print(\"Hello\", \"World\", \"How are You?\")\n",
    "\n",
    "type(func())"
   ]
  },
  {
   "cell_type": "code",
   "execution_count": null,
   "metadata": {},
   "outputs": [
    {
     "name": "stdout",
     "output_type": "stream",
     "text": [
      "('Hello', 'World', 'How are You?')\n"
     ]
    },
    {
     "data": {
      "text/plain": [
       "tuple"
      ]
     },
     "execution_count": 17,
     "metadata": {},
     "output_type": "execute_result"
    }
   ],
   "source": [
    "# return returns tuple\n",
    "def func():\n",
    "    return \"Hello\", \"World\", \"How are You?\"\n",
    "\n",
    "print(func())\n",
    "type(func())"
   ]
  },
  {
   "cell_type": "markdown",
   "metadata": {},
   "source": [
    "-----"
   ]
  }
 ],
 "metadata": {
  "kernelspec": {
   "display_name": "Python 3",
   "language": "python",
   "name": "python3"
  },
  "language_info": {
   "codemirror_mode": {
    "name": "ipython",
    "version": 3
   },
   "file_extension": ".py",
   "mimetype": "text/x-python",
   "name": "python",
   "nbconvert_exporter": "python",
   "pygments_lexer": "ipython3",
   "version": "3.10.15"
  }
 },
 "nbformat": 4,
 "nbformat_minor": 2
}
