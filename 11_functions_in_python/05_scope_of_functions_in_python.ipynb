{
 "cells": [
  {
   "cell_type": "markdown",
   "metadata": {},
   "source": [
    "\n",
    "--------\n",
    "\n",
    "\n",
    "# **`Scope of Functions in Python`**\n",
    "\n",
    "**Scope** refers to the region of a program where a variable or function is accessible. Understanding scope is crucial for managing variable visibility and lifetime, especially when working with functions.\n",
    "\n",
    "### **Types of Scope**\n",
    "\n",
    "1. **Local Scope**\n",
    "2. **Enclosing Scope**\n",
    "3. **Global Scope**\n",
    "4. **Built-in Scope**\n",
    "\n",
    "#### **1. Local Scope**\n",
    "\n",
    "- **Definition**: Local scope refers to the scope of variables defined within a function. These variables are only accessible from within that function.\n",
    "- **Lifetime**: Local variables exist only for the duration of the function execution.\n",
    "\n",
    "**Example**:\n",
    "```python\n",
    "def my_function():\n",
    "    local_var = \"I am local\"\n",
    "    print(local_var)  # This will print \"I am local\"\n",
    "\n",
    "my_function()\n",
    "# print(local_var)  # This will raise a NameError because local_var is not accessible outside the function\n",
    "```\n",
    "\n",
    "#### **2. Enclosing Scope**\n",
    "\n",
    "- **Definition**: Enclosing scope refers to the scope of variables defined in the enclosing functions. This is relevant in nested functions, where an inner function can access variables from its outer function.\n",
    "- **Lifetime**: These variables persist as long as the enclosing function is alive.\n",
    "\n",
    "**Example**:\n",
    "```python\n",
    "def outer_function():\n",
    "    enclosing_var = \"I am from the outer function\"\n",
    "\n",
    "    def inner_function():\n",
    "        print(enclosing_var)  # Accessing variable from the enclosing scope\n",
    "\n",
    "    inner_function()\n",
    "\n",
    "outer_function()  # Output: I am from the outer function\n",
    "```\n",
    "\n",
    "#### **3. Global Scope**\n",
    "\n",
    "- **Definition**: Global scope refers to variables that are defined at the top level of a script or module. These variables are accessible from any function within the same module.\n",
    "- **Lifetime**: Global variables exist for the duration of the program's execution.\n",
    "\n",
    "**Example**:\n",
    "```python\n",
    "global_var = \"I am global\"\n",
    "\n",
    "def my_function():\n",
    "    print(global_var)  # Accessing global variable\n",
    "\n",
    "my_function()  # Output: I am global\n",
    "\n",
    "# You can modify global variables using the global keyword\n",
    "def modify_global():\n",
    "    global global_var\n",
    "    global_var = \"I am modified\"\n",
    "\n",
    "modify_global()\n",
    "print(global_var)  # Output: I am modified\n",
    "```\n",
    "\n",
    "#### **4. Built-in Scope**\n",
    "\n",
    "- **Definition**: Built-in scope refers to names that are pre-defined in Python, such as functions like `print()` and `len()`, and exceptions like `ValueError`.\n",
    "- **Lifetime**: Built-in names are available throughout the lifetime of a running Python program.\n",
    "\n",
    "**Example**:\n",
    "```python\n",
    "print(len(\"Hello\"))  # Output: 5\n",
    "# len is a built-in function, accessible anywhere in your code\n",
    "```\n",
    "\n",
    "### **Scope Resolution Order (LEGB Rule)**\n",
    "\n",
    "Python follows the **LEGB** rule for scope resolution, which stands for:\n",
    "\n",
    "- **L**ocal: The innermost scope, which contains local variables.\n",
    "- **E**nclosing: The scope of enclosing functions, relevant in nested functions.\n",
    "- **G**lobal: The module-level scope that contains global variables.\n",
    "- **B**uilt-in: The outermost scope, which contains built-in names.\n",
    "\n",
    "When a variable is referenced, Python searches for it in the following order: local scope, then enclosing scope, followed by global scope, and finally built-in scope. The first match found is used.\n",
    "\n",
    "**Example**:\n",
    "```python\n",
    "x = \"Global\"\n",
    "\n",
    "def outer():\n",
    "    x = \"Enclosing\"\n",
    "    \n",
    "    def inner():\n",
    "        x = \"Local\"\n",
    "        print(x)  # This will print \"Local\"\n",
    "    \n",
    "    inner()\n",
    "    print(x)  # This will print \"Enclosing\"\n",
    "\n",
    "outer()\n",
    "print(x)  # This will print \"Global\"\n",
    "```\n",
    "\n",
    "### **Conclusion**\n",
    "\n",
    "Understanding the scope of functions in Python is essential for managing variable visibility, avoiding naming conflicts, and ensuring that functions operate as intended. By recognizing local, enclosing, global, and built-in scopes, you can write clearer and more effective code. \n",
    "\n",
    "------\n",
    "\n"
   ]
  },
  {
   "cell_type": "markdown",
   "metadata": {},
   "source": [
    "### **`Let's Practice`**"
   ]
  },
  {
   "cell_type": "code",
   "execution_count": null,
   "metadata": {},
   "outputs": [
    {
     "name": "stdout",
     "output_type": "stream",
     "text": [
      "33\n"
     ]
    }
   ],
   "source": [
    "# local scope (of x variable)\n",
    "def local_function():\n",
    "    x = 33\n",
    "    print(x)\n",
    "\n",
    "local_function()"
   ]
  },
  {
   "cell_type": "code",
   "execution_count": null,
   "metadata": {},
   "outputs": [
    {
     "name": "stdout",
     "output_type": "stream",
     "text": [
      "33\n"
     ]
    }
   ],
   "source": [
    "# enclosing scope\n",
    "def local_function():\n",
    "    x = 33\n",
    "\n",
    "    def inside_local_function():\n",
    "        print(x)\n",
    "        \n",
    "    inside_local_function()\n",
    "\n",
    "local_function()"
   ]
  },
  {
   "cell_type": "code",
   "execution_count": 5,
   "metadata": {},
   "outputs": [
    {
     "name": "stdout",
     "output_type": "stream",
     "text": [
      "22\n"
     ]
    }
   ],
   "source": [
    "# global scope (of x variable)\n",
    "x = 22 # global variable\n",
    "def local_function():\n",
    "    y = 33\n",
    "    print(x)\n",
    "\n",
    "local_function()"
   ]
  },
  {
   "cell_type": "code",
   "execution_count": 6,
   "metadata": {},
   "outputs": [
    {
     "name": "stdout",
     "output_type": "stream",
     "text": [
      "44\n"
     ]
    }
   ],
   "source": [
    "# modifying global scope \n",
    "x = 22 # global variable\n",
    "def local_function():\n",
    "    y = 33\n",
    "    global x\n",
    "    x = 44\n",
    "    print(x)\n",
    "\n",
    "local_function()"
   ]
  },
  {
   "cell_type": "code",
   "execution_count": 9,
   "metadata": {},
   "outputs": [
    {
     "name": "stdout",
     "output_type": "stream",
     "text": [
      "adil\n",
      "4\n"
     ]
    }
   ],
   "source": [
    "# built in functions\n",
    "def local_function(s):\n",
    "    length = len(s)\n",
    "    print(s)\n",
    "    print(length)\n",
    "\n",
    "local_function(\"adil\")"
   ]
  },
  {
   "cell_type": "markdown",
   "metadata": {},
   "source": [
    "------"
   ]
  }
 ],
 "metadata": {
  "kernelspec": {
   "display_name": "Python 3",
   "language": "python",
   "name": "python3"
  },
  "language_info": {
   "codemirror_mode": {
    "name": "ipython",
    "version": 3
   },
   "file_extension": ".py",
   "mimetype": "text/x-python",
   "name": "python",
   "nbconvert_exporter": "python",
   "pygments_lexer": "ipython3",
   "version": "3.10.15"
  }
 },
 "nbformat": 4,
 "nbformat_minor": 2
}
