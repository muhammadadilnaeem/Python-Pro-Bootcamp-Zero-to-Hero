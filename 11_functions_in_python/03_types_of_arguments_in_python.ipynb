{
 "cells": [
  {
   "cell_type": "markdown",
   "metadata": {},
   "source": [
    "\n",
    "------\n",
    "\n",
    "\n",
    "\n",
    "# **`Types of Arguments in Python`**\n",
    "\n",
    "In Python, arguments can be categorized based on how they are passed to functions. These include positional arguments, keyword arguments, default arguments, variable-length arguments, and more.\n",
    "\n",
    "#### **1. Positional Arguments**\n",
    "\n",
    "- **Definition**: Positional arguments are the most common type of arguments. They are assigned to parameters based on their position in the function call.\n",
    "- **Behavior**: The order of the arguments matters; they must match the order of the parameters defined in the function.\n",
    "\n",
    "**Example**:\n",
    "```python\n",
    "def add(a, b):\n",
    "    return a + b\n",
    "\n",
    "result = add(5, 3)  # 5 and 3 are positional arguments\n",
    "print(result)  # Output: 8\n",
    "```\n",
    "\n",
    "#### **2. Keyword Arguments**\n",
    "\n",
    "- **Definition**: Keyword arguments are passed to the function by explicitly stating the parameter name along with its value. This allows you to pass arguments in any order.\n",
    "- **Behavior**: The function call is more readable, and you can skip optional parameters.\n",
    "\n",
    "**Example**:\n",
    "```python\n",
    "def greet(name, age):\n",
    "    return f\"Hello, {name}. You are {age} years old.\"\n",
    "\n",
    "print(greet(age=30, name=\"Alice\"))  # Keyword arguments\n",
    "# Output: Hello, Alice. You are 30 years old.\n",
    "```\n",
    "\n",
    "#### **3. Default Arguments**\n",
    "\n",
    "- **Definition**: Default arguments are parameters that have a default value. If no argument is provided for that parameter during the function call, the default value is used.\n",
    "- **Behavior**: This allows functions to be called with fewer arguments than defined.\n",
    "\n",
    "**Example**:\n",
    "```python\n",
    "def greet(name=\"Guest\"):\n",
    "    return f\"Hello, {name}!\"\n",
    "\n",
    "print(greet())          # Output: Hello, Guest!\n",
    "print(greet(\"Alice\"))  # Output: Hello, Alice!\n",
    "```\n",
    "\n",
    "#### **4. Variable-Length Arguments**\n",
    "\n",
    "- **Definition**: Variable-length arguments allow you to pass a variable number of arguments to a function. This is done using `*args` for non-keyword arguments and `**kwargs` for keyword arguments.\n",
    "- **Behavior**: This provides flexibility when the number of inputs is not known in advance.\n",
    "\n",
    "**Example with `*args`**:\n",
    "```python\n",
    "def add_all(*numbers):\n",
    "    return sum(numbers)\n",
    "\n",
    "print(add_all(1, 2, 3, 4))  # Output: 10\n",
    "print(add_all(5, 10))       # Output: 15\n",
    "```\n",
    "\n",
    "**Example with `**kwargs`**:\n",
    "```python\n",
    "def print_info(**info):\n",
    "    for key, value in info.items():\n",
    "        print(f\"{key}: {value}\")\n",
    "\n",
    "print_info(name=\"Alice\", age=30, city=\"New York\")\n",
    "# Output:\n",
    "# name: Alice\n",
    "# age: 30\n",
    "# city: New York\n",
    "```\n",
    "\n",
    "#### **5. Keyword-Only Arguments**\n",
    "\n",
    "- **Definition**: Keyword-only arguments must be specified using their names in the function call. They are defined after a `*` in the function signature.\n",
    "- **Behavior**: This is useful when you want to ensure that certain parameters are explicitly named in the function call.\n",
    "\n",
    "**Example**:\n",
    "```python\n",
    "def describe_pet(pet_name, *, animal_type=\"dog\"):\n",
    "    return f\"{pet_name} is a {animal_type}.\"\n",
    "\n",
    "print(describe_pet(\"Buddy\"))                   # Output: Buddy is a dog.\n",
    "print(describe_pet(\"Whiskers\", animal_type=\"cat\"))  # Output: Whiskers is a cat.\n",
    "```\n",
    "\n",
    "### **Summary of Argument Types**\n",
    "\n",
    "| **Type of Argument**        | **Description**                                      | **Example**                               |\n",
    "|-----------------------------|------------------------------------------------------|-------------------------------------------|\n",
    "| Positional Arguments         | Assigned based on their position in the function call| `add(5, 3)`                              |\n",
    "| Keyword Arguments            | Passed by explicitly naming the parameter             | `greet(name=\"Alice\", age=30)`           |\n",
    "| Default Arguments            | Have default values; used if no value is passed      | `greet(name=\"Guest\")`                    |\n",
    "| Variable-Length Arguments    | Allow passing a variable number of arguments          | `add_all(1, 2, 3)`                       |\n",
    "| Keyword-Only Arguments       | Must be specified as keywords in the function call   | `describe_pet(\"Buddy\", animal_type=\"cat\")` |\n",
    "\n",
    "### **Conclusion**\n",
    "\n",
    "Understanding the different types of arguments in Python enhances your ability to write flexible and reusable functions. By leveraging positional, keyword, default, variable-length, and keyword-only arguments, you can create functions that handle a wide variety of input scenarios effectively.\n",
    "\n",
    "\n",
    "------"
   ]
  },
  {
   "cell_type": "markdown",
   "metadata": {},
   "source": [
    "### **`Let's Practice`**"
   ]
  },
  {
   "cell_type": "code",
   "execution_count": 16,
   "metadata": {},
   "outputs": [
    {
     "name": "stdout",
     "output_type": "stream",
     "text": [
      "Adil\n"
     ]
    }
   ],
   "source": [
    "# simple fuction\n",
    "\n",
    "def func(name):\n",
    "    print(name)\n",
    "\n",
    "func(\"Adil\")"
   ]
  },
  {
   "cell_type": "code",
   "execution_count": 17,
   "metadata": {},
   "outputs": [
    {
     "name": "stdout",
     "output_type": "stream",
     "text": [
      "Name: Adil\n",
      "Age: 22\n",
      "None\n",
      "-----------\n",
      "Name: 22\n",
      "Age: Adil\n",
      "None\n",
      "-----------\n"
     ]
    }
   ],
   "source": [
    "# positional arguments (position matters)\n",
    "\n",
    "def func(name,age):\n",
    "    print(\"Name:\",name)\n",
    "    print(\"Age:\",age)\n",
    "\n",
    "# before changing position of arguments\n",
    "\n",
    "print(func(\"Adil\",22))\n",
    "print(\"-----------\")\n",
    "\n",
    "# after changing position of arguments\n",
    "\n",
    "print(func(22,\"Adil\"))\n",
    "print(\"-----------\")"
   ]
  },
  {
   "cell_type": "code",
   "execution_count": 18,
   "metadata": {},
   "outputs": [
    {
     "name": "stdout",
     "output_type": "stream",
     "text": [
      "0.875\n",
      "-----------\n",
      "1.1428571428571428\n"
     ]
    }
   ],
   "source": [
    "# another example of positnal argument\n",
    "def divide(x,y):\n",
    "    return x / y\n",
    "\n",
    "# before changing position of arguments\n",
    "print(divide(7,8))\n",
    "\n",
    "print(\"-----------\")\n",
    "\n",
    "# after changing position of arguments\n",
    "print(divide(8,7))"
   ]
  },
  {
   "cell_type": "code",
   "execution_count": 19,
   "metadata": {},
   "outputs": [
    {
     "name": "stdout",
     "output_type": "stream",
     "text": [
      "Name: Adil\n",
      "Age: 22\n",
      "None\n",
      "-----------\n",
      "Name: Adil\n",
      "Age: 22\n",
      "None\n",
      "-----------\n"
     ]
    }
   ],
   "source": [
    "# keyword arguments (we use it where order does not matter,we will have same results) \n",
    "\n",
    "def func(name,age):\n",
    "    print(\"Name:\",name)\n",
    "    print(\"Age:\",age)\n",
    "\n",
    "# before changing position of arguments\n",
    "\n",
    "print(func(name=\"Adil\",age=22))\n",
    "print(\"-----------\")\n",
    "\n",
    "# after changing position of arguments\n",
    "\n",
    "print(func(age=22,name=\"Adil\"))\n",
    "print(\"-----------\")"
   ]
  },
  {
   "cell_type": "code",
   "execution_count": 20,
   "metadata": {},
   "outputs": [
    {
     "name": "stdout",
     "output_type": "stream",
     "text": [
      "Name: Adil\n",
      "Age: 22\n",
      "None\n",
      "-----------\n",
      "Name: Danayal\n",
      "Age: 24\n",
      "None\n"
     ]
    }
   ],
   "source": [
    "# default argument (we can use default values if we do not use updated values)\n",
    "\n",
    "def func(name=\"Adil\",age=22):\n",
    "    print(\"Name:\",name)\n",
    "    print(\"Age:\",age)\n",
    "\n",
    "# using default parameters\n",
    "print(func())\n",
    "\n",
    "print(\"-----------\")\n",
    "\n",
    "# updating default parameters\n",
    "print(func(\"Danayal\",24))"
   ]
  },
  {
   "cell_type": "code",
   "execution_count": null,
   "metadata": {},
   "outputs": [
    {
     "name": "stdout",
     "output_type": "stream",
     "text": [
      "0\n",
      "-----------\n",
      "1\n",
      "-----------\n",
      "6\n",
      "-----------\n",
      "35\n",
      "-----------\n"
     ]
    }
   ],
   "source": [
    "# variable length argument (when we do not know no of incoming parameters)\n",
    "# for non keywords type\n",
    "def sum_all(*args):\n",
    "    return sum(args)\n",
    "\n",
    "# with no value\n",
    "print(sum_all())\n",
    "print(\"-----------\")\n",
    "\n",
    "# with 1 value\n",
    "print(sum_all(1))\n",
    "print(\"-----------\")\n",
    "\n",
    "# with 2 value\n",
    "print(sum_all(1,2,3))\n",
    "print(\"-----------\")\n",
    "\n",
    "# with multiple value\n",
    "print(sum_all(2,3,4,5,6,7,8))\n",
    "print(\"-----------\")\n"
   ]
  },
  {
   "cell_type": "code",
   "execution_count": null,
   "metadata": {},
   "outputs": [
    {
     "name": "stdout",
     "output_type": "stream",
     "text": [
      "name:adil\n",
      "age:22\n",
      "city:Lahore\n"
     ]
    }
   ],
   "source": [
    "# keyword variable length argument (for dictionay in python)\n",
    "\n",
    "def info(**kwargs):\n",
    "    for k,v in kwargs.items():\n",
    "      print(f\"{k}:{v}\")\n",
    "\n",
    "info(name=\"adil\",age=22, city=\"Lahore\")"
   ]
  },
  {
   "cell_type": "markdown",
   "metadata": {},
   "source": [
    "-----"
   ]
  }
 ],
 "metadata": {
  "kernelspec": {
   "display_name": "Python 3",
   "language": "python",
   "name": "python3"
  },
  "language_info": {
   "codemirror_mode": {
    "name": "ipython",
    "version": 3
   },
   "file_extension": ".py",
   "mimetype": "text/x-python",
   "name": "python",
   "nbconvert_exporter": "python",
   "pygments_lexer": "ipython3",
   "version": "3.10.15"
  }
 },
 "nbformat": 4,
 "nbformat_minor": 2
}
