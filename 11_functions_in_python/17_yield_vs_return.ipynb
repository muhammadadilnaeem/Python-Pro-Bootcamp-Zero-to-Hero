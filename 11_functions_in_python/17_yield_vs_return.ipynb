{
 "cells": [
  {
   "cell_type": "markdown",
   "metadata": {},
   "source": [
    "\n",
    "--------\n",
    "\n",
    "# ***`Return vs. Yield in Python`***\n",
    "\n",
    "#### **Definitions**\n",
    "\n",
    "- **`return`**: A statement used in functions to exit the function and send back a value to the caller. Once a `return` statement is executed, the function terminates, and the control is returned to the calling context.\n",
    "\n",
    "- **`yield`**: A statement used in generator functions to pause the function’s execution and return a value to the caller. Unlike `return`, `yield` allows the function to maintain its state and resume execution from where it left off when called again.\n",
    "\n",
    "### **Key Differences**\n",
    "\n",
    "| Feature          | `return`                          | `yield`                          |\n",
    "|------------------|-----------------------------------|----------------------------------|\n",
    "| Purpose          | Exits the function and returns a value. | Pauses function execution and returns a value. |\n",
    "| State Management  | Does not retain state; function is terminated. | Retains state; function can be resumed. |\n",
    "| Output Type      | Returns a single value (or `None`). | Returns a generator object, which can yield multiple values over time. |\n",
    "| Memory Usage     | All values must be computed and stored if returning a collection. | Generates values on-the-fly, leading to memory efficiency. |\n",
    "| Function Type    | Used in regular functions. | Used in generator functions. |\n",
    "\n",
    "### **Detailed Comparison**\n",
    "\n",
    "#### **1. Execution Flow**\n",
    "\n",
    "- **Return**:\n",
    "  - When a `return` statement is executed, the function stops executing immediately, and control is passed back to the caller. The function cannot be resumed after returning.\n",
    "\n",
    "```python\n",
    "def add(a, b):\n",
    "    return a + b  # Function terminates here\n",
    "\n",
    "result = add(3, 5)\n",
    "print(result)  # Output: 8\n",
    "```\n",
    "\n",
    "- **Yield**:\n",
    "  - When a `yield` statement is encountered, the function's state is saved, and the yielded value is returned to the caller. The function can later be resumed from the point of the last `yield`.\n",
    "\n",
    "```python\n",
    "def count_up_to(n):\n",
    "    count = 1\n",
    "    while count <= n:\n",
    "        yield count  # Function pauses here\n",
    "        count += 1\n",
    "\n",
    "counter = count_up_to(3)\n",
    "print(next(counter))  # Output: 1\n",
    "print(next(counter))  # Output: 2\n",
    "print(next(counter))  # Output: 3\n",
    "# print(next(counter))  # Raises StopIteration\n",
    "```\n",
    "\n",
    "#### **2. Returning Multiple Values**\n",
    "\n",
    "- **Return**:\n",
    "  - To return multiple values, they can be returned as a tuple, but all values are computed and returned at once.\n",
    "\n",
    "```python\n",
    "def calculate(a, b):\n",
    "    return a + b, a - b  # Returns a tuple\n",
    "\n",
    "result = calculate(5, 3)\n",
    "print(result)  # Output: (8, 2)\n",
    "```\n",
    "\n",
    "- **Yield**:\n",
    "  - A generator can yield multiple values over time, producing them one at a time.\n",
    "\n",
    "```python\n",
    "def generate_numbers(n):\n",
    "    for i in range(n):\n",
    "        yield i  # Yields one number at a time\n",
    "\n",
    "for number in generate_numbers(5):\n",
    "    print(number)  # Output: 0, 1, 2, 3, 4\n",
    "```\n",
    "\n",
    "#### **3. Memory Efficiency**\n",
    "\n",
    "- **Return**:\n",
    "  - When using `return`, if a function needs to return a large collection (like a list), it has to compute all values and store them in memory.\n",
    "\n",
    "```python\n",
    "def create_large_list(n):\n",
    "    return [i for i in range(n)]  # All values stored in memory\n",
    "\n",
    "large_list = create_large_list(1000000)\n",
    "```\n",
    "\n",
    "- **Yield**:\n",
    "  - With `yield`, values are generated one at a time, which is more memory efficient, especially for large datasets.\n",
    "\n",
    "```python\n",
    "def generate_large_list(n):\n",
    "    for i in range(n):\n",
    "        yield i  # Generates one value at a time\n",
    "\n",
    "for value in generate_large_list(1000000):\n",
    "    print(value)  # Processes one value at a time without storing all in memory\n",
    "```\n",
    "\n",
    "### **Use Cases**\n",
    "\n",
    "- **Use `return`**:\n",
    "  - When you need to compute a result and exit the function immediately.\n",
    "  - When returning a single value or a collection that is small enough to be handled in memory.\n",
    "\n",
    "- **Use `yield`**:\n",
    "  - When you want to create an iterator that produces values on-the-fly.\n",
    "  - When dealing with large datasets or streams of data where memory efficiency is essential.\n",
    "  - When you want to maintain state between iterations.\n",
    "\n",
    "### **Conclusion**\n",
    "\n",
    "Understanding the differences between `return` and `yield` is crucial for effective programming in Python. `return` is used for standard function outputs, while `yield` is powerful for creating generators that can produce a series of values without storing them all in memory. This distinction allows for more flexible and efficient code, especially when working with large datasets or infinite sequences.\n",
    "\n",
    "--------\n",
    "\n"
   ]
  },
  {
   "cell_type": "markdown",
   "metadata": {},
   "source": [
    "### ***`Let's Practice`***"
   ]
  },
  {
   "cell_type": "code",
   "execution_count": null,
   "metadata": {},
   "outputs": [
    {
     "name": "stdout",
     "output_type": "stream",
     "text": [
      "2\n",
      "yield works after execution\n"
     ]
    }
   ],
   "source": [
    "# output\n",
    "\n",
    "def mul():\n",
    "    yield 2\n",
    "    # it will print this line as yeilds works after execution\n",
    "    print(\"yield works after execution\")\n",
    "\n",
    "# mul() # return a <generater> object\n",
    "for i in mul():\n",
    "    print(i)\n"
   ]
  },
  {
   "cell_type": "code",
   "execution_count": null,
   "metadata": {},
   "outputs": [
    {
     "data": {
      "text/plain": [
       "2"
      ]
     },
     "execution_count": 6,
     "metadata": {},
     "output_type": "execute_result"
    }
   ],
   "source": [
    "# output\n",
    "\n",
    "def rem(n):\n",
    "    return n\n",
    "    # it will not print this line as return does not works after execution\n",
    "    print(\"return works after execution\")\n",
    "\n",
    "rem(2)"
   ]
  },
  {
   "cell_type": "code",
   "execution_count": 7,
   "metadata": {},
   "outputs": [
    {
     "name": "stdout",
     "output_type": "stream",
     "text": [
      "2\n",
      "5\n"
     ]
    }
   ],
   "source": [
    "# return multiple values\n",
    "\n",
    "def mul():\n",
    "    yield 2\n",
    "    yield 5 # \n",
    "    \n",
    "# mul() # return a <generater> object\n",
    "for i in mul():\n",
    "    print(i)\n"
   ]
  },
  {
   "cell_type": "code",
   "execution_count": null,
   "metadata": {},
   "outputs": [
    {
     "data": {
      "text/plain": [
       "2"
      ]
     },
     "execution_count": 8,
     "metadata": {},
     "output_type": "execute_result"
    }
   ],
   "source": [
    "# return multiple values\n",
    "def rem(n):\n",
    "    return n\n",
    "    return n\n",
    "\n",
    "    # it will not return multiple values\n",
    "rem(2)"
   ]
  },
  {
   "cell_type": "markdown",
   "metadata": {},
   "source": [
    "----"
   ]
  }
 ],
 "metadata": {
  "kernelspec": {
   "display_name": ".venv",
   "language": "python",
   "name": "python3"
  },
  "language_info": {
   "codemirror_mode": {
    "name": "ipython",
    "version": 3
   },
   "file_extension": ".py",
   "mimetype": "text/x-python",
   "name": "python",
   "nbconvert_exporter": "python",
   "pygments_lexer": "ipython3",
   "version": "3.10.15"
  }
 },
 "nbformat": 4,
 "nbformat_minor": 2
}
