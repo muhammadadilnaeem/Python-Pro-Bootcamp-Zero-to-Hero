{
 "cells": [
  {
   "cell_type": "markdown",
   "metadata": {},
   "source": [
    "\n",
    "--------\n",
    "\n",
    "# **`Lambda Functions in Python`**\n",
    "\n",
    "#### **Definition**\n",
    "\n",
    "A **lambda function** is a small, anonymous function defined using the `lambda` keyword. Unlike regular functions defined using `def`, lambda functions are typically used for short, throwaway functions that are not intended to be reused elsewhere.\n",
    "\n",
    "#### **Syntax**\n",
    "\n",
    "The syntax of a lambda function is as follows:\n",
    "\n",
    "```python\n",
    "lambda arguments: expression\n",
    "```\n",
    "\n",
    "- **`lambda`**: The keyword used to define a lambda function.\n",
    "- **`arguments`**: A comma-separated list of parameters (like in regular functions).\n",
    "- **`expression`**: A single expression that is evaluated and returned. Lambda functions can only contain one expression; they cannot contain statements or multiple expressions.\n",
    "\n",
    "#### **Characteristics**\n",
    "\n",
    "1. **Anonymous**: Lambda functions do not have a name unless assigned to a variable.\n",
    "2. **Single Expression**: Lambda functions can only have a single expression. They cannot contain multiple statements or commands.\n",
    "3. **Return Value**: The expression evaluates to a return value automatically.\n",
    "4. **Use in Higher-Order Functions**: Commonly used in functions that take other functions as arguments, such as `map()`, `filter()`, and `sorted()`.\n",
    "\n",
    "### **Usage**\n",
    "\n",
    "Lambda functions are often used in the following contexts:\n",
    "\n",
    "1. **Higher-Order Functions**: Functions that take other functions as arguments.\n",
    "\n",
    "   **Example with `map()`**:\n",
    "   ```python\n",
    "   numbers = [1, 2, 3, 4]\n",
    "   squares = list(map(lambda x: x ** 2, numbers))  # Squaring each number\n",
    "   print(squares)  # Output: [1, 4, 9, 16]\n",
    "   ```\n",
    "\n",
    "2. **Sorting with Custom Key**: You can use lambda functions to specify a custom sorting key.\n",
    "\n",
    "   **Example**:\n",
    "   ```python\n",
    "   points = [(1, 2), (3, 1), (5, 0)]\n",
    "   sorted_points = sorted(points, key=lambda point: point[1])  # Sort by the second element\n",
    "   print(sorted_points)  # Output: [(5, 0), (3, 1), (1, 2)]\n",
    "   ```\n",
    "\n",
    "3. **Filtering Data**: Lambda functions can be used with `filter()` to filter elements from a list.\n",
    "\n",
    "   **Example**:\n",
    "   ```python\n",
    "   numbers = [1, 2, 3, 4, 5, 6]\n",
    "   even_numbers = list(filter(lambda x: x % 2 == 0, numbers))  # Filter even numbers\n",
    "   print(even_numbers)  # Output: [2, 4, 6]\n",
    "   ```\n",
    "\n",
    "4. **Reducing Data**: Lambda functions can be used with `reduce()` (from the `functools` module) to perform cumulative operations.\n",
    "\n",
    "   **Example**:\n",
    "   ```python\n",
    "   from functools import reduce\n",
    "\n",
    "   numbers = [1, 2, 3, 4]\n",
    "   product = reduce(lambda x, y: x * y, numbers)  # Calculate the product of numbers\n",
    "   print(product)  # Output: 24\n",
    "   ```\n",
    "\n",
    "### **Limitations**\n",
    "\n",
    "1. **Single Expression**: Lambda functions can only contain a single expression, limiting their functionality compared to regular functions.\n",
    "2. **Readability**: For complex functions, using lambda can reduce readability. In such cases, using a regular function defined with `def` is often clearer.\n",
    "3. **Debugging**: Since they are anonymous, debugging lambda functions can be less straightforward.\n",
    "\n",
    "### **Conclusion**\n",
    "\n",
    "Lambda functions provide a concise way to define small, anonymous functions in Python. They are particularly useful in functional programming contexts where functions are passed as arguments or when a short function is needed temporarily. While they offer brevity, it's essential to balance their use with code clarity, especially for more complex operations.\n",
    "\n",
    "------"
   ]
  },
  {
   "cell_type": "markdown",
   "metadata": {},
   "source": [
    "### **`Let's Practice`**"
   ]
  },
  {
   "cell_type": "code",
   "execution_count": 1,
   "metadata": {},
   "outputs": [
    {
     "data": {
      "text/plain": [
       "4"
      ]
     },
     "execution_count": 1,
     "metadata": {},
     "output_type": "execute_result"
    }
   ],
   "source": [
    "# normal function\n",
    "\n",
    "def func(x):\n",
    "    return x**2\n",
    "\n",
    "func(2)"
   ]
  },
  {
   "cell_type": "code",
   "execution_count": 2,
   "metadata": {},
   "outputs": [
    {
     "data": {
      "text/plain": [
       "4"
      ]
     },
     "execution_count": 2,
     "metadata": {},
     "output_type": "execute_result"
    }
   ],
   "source": [
    "# lambda function\n",
    "\n",
    "x = lambda x: x**2\n",
    "x(2)"
   ]
  },
  {
   "cell_type": "code",
   "execution_count": 3,
   "metadata": {},
   "outputs": [
    {
     "data": {
      "text/plain": [
       "19"
      ]
     },
     "execution_count": 3,
     "metadata": {},
     "output_type": "execute_result"
    }
   ],
   "source": [
    "# define a lambda function to add 2 numbers\n",
    "\n",
    "x = lambda x,y: x+y\n",
    "x(9,10)\n"
   ]
  },
  {
   "cell_type": "code",
   "execution_count": 8,
   "metadata": {},
   "outputs": [
    {
     "name": "stdout",
     "output_type": "stream",
     "text": [
      "False\n"
     ]
    },
    {
     "data": {
      "text/plain": [
       "True"
      ]
     },
     "execution_count": 8,
     "metadata": {},
     "output_type": "execute_result"
    }
   ],
   "source": [
    "# define a lambda function to check if number is even or odd\n",
    "check = lambda x: x%2==0 \n",
    "print(check(9)) \n",
    "check(10) "
   ]
  },
  {
   "cell_type": "markdown",
   "metadata": {},
   "source": [
    "--------"
   ]
  }
 ],
 "metadata": {
  "kernelspec": {
   "display_name": ".venv",
   "language": "python",
   "name": "python3"
  },
  "language_info": {
   "codemirror_mode": {
    "name": "ipython",
    "version": 3
   },
   "file_extension": ".py",
   "mimetype": "text/x-python",
   "name": "python",
   "nbconvert_exporter": "python",
   "pygments_lexer": "ipython3",
   "version": "3.10.15"
  }
 },
 "nbformat": 4,
 "nbformat_minor": 2
}
