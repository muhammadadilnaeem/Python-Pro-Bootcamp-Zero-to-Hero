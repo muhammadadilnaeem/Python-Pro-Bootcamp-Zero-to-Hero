{
 "cells": [
  {
   "cell_type": "markdown",
   "metadata": {},
   "source": [
    "\n",
    "\n",
    "-------\n",
    "\n",
    "# ***`Generator Functions in Python`***\n",
    "\n",
    "#### **Definition**\n",
    "\n",
    "A **generator function** is a special type of function in Python that returns an iterator object. It allows you to create an iterable sequence of values using the `yield` statement instead of returning a single value. Generators are a convenient way to manage data streams and create iterators without the need to implement the iterator protocol explicitly.\n",
    "\n",
    "#### **Characteristics**\n",
    "\n",
    "1. **Yield Statement**: Instead of `return`, generator functions use the `yield` statement to produce a value and suspend the function’s state. When the function is called again, it resumes execution right after the last `yield`.\n",
    "\n",
    "2. **Stateful**: Generators maintain their internal state between calls. They remember where they left off when they yield a value, making them suitable for producing a series of values over time.\n",
    "\n",
    "3. **Memory Efficient**: Generators are memory efficient because they yield items one at a time and only when required, rather than storing an entire list in memory.\n",
    "\n",
    "4. **Lazy Evaluation**: Generators compute values on-the-fly as you iterate over them, which can improve performance when dealing with large datasets.\n",
    "\n",
    "#### **Creating a Generator Function**\n",
    "\n",
    "To create a generator function, define a function using the `def` keyword and include one or more `yield` statements.\n",
    "\n",
    "##### **Example: Simple Generator Function**\n",
    "\n",
    "```python\n",
    "def count_up_to(n):\n",
    "    count = 1\n",
    "    while count <= n:\n",
    "        yield count  # Yield the current count\n",
    "        count += 1   # Increment the count\n",
    "\n",
    "# Using the generator function\n",
    "for number in count_up_to(5):\n",
    "    print(number)  # Output: 1, 2, 3, 4, 5\n",
    "```\n",
    "\n",
    "### **How It Works**\n",
    "\n",
    "1. **Function Call**: When `count_up_to(5)` is called, it returns a generator object but does not start execution immediately.\n",
    "\n",
    "2. **Iteration**: When you iterate over the generator (using a `for` loop or `next()`), the function executes until it hits the first `yield` statement, returning the value of `count`.\n",
    "\n",
    "3. **State Preservation**: The function's state is preserved. When the next value is requested, execution resumes right after the last `yield`.\n",
    "\n",
    "4. **Termination**: When the loop completes and there are no more values to yield, the function raises a `StopIteration` exception, signaling the end of the iteration.\n",
    "\n",
    "### **Advantages of Generator Functions**\n",
    "\n",
    "1. **Simplicity**: Generators simplify the process of creating iterators, as you do not need to implement `__iter__()` and `__next__()` methods.\n",
    "\n",
    "2. **Performance**: Generators can be more efficient than list comprehensions for large datasets, as they produce items one at a time.\n",
    "\n",
    "3. **Infinite Sequences**: Generators can represent infinite sequences, as they can yield values indefinitely without consuming memory for all possible values.\n",
    "\n",
    "### **Example: Infinite Generator**\n",
    "\n",
    "Here’s how to create a generator that produces an infinite sequence of Fibonacci numbers:\n",
    "\n",
    "```python\n",
    "def infinite_fibonacci():\n",
    "    a, b = 0, 1\n",
    "    while True:  # Infinite loop\n",
    "        yield a  # Yield the current Fibonacci number\n",
    "        a, b = b, a + b  # Update values\n",
    "\n",
    "# Using the infinite Fibonacci generator\n",
    "fib_gen = infinite_fibonacci()\n",
    "for _ in range(10):  # Print the first 10 Fibonacci numbers\n",
    "    print(next(fib_gen))  # Output: 0, 1, 1, 2, 3, 5, 8, 13, 21, 34\n",
    "```\n",
    "\n",
    "### **Generator Expressions**\n",
    "\n",
    "In addition to generator functions, Python also provides a concise way to create generators using **generator expressions**.\n",
    "\n",
    "#### **Syntax**\n",
    "\n",
    "```python\n",
    "(expression for item in iterable if condition)\n",
    "```\n",
    "\n",
    "##### **Example: Generator Expression**\n",
    "\n",
    "```python\n",
    "squares = (x ** 2 for x in range(10))  # Generator expression for squares\n",
    "\n",
    "for square in squares:\n",
    "    print(square)  # Output: 0, 1, 4, 9, 16, 25, 36, 49, 64, 81\n",
    "```\n",
    "\n",
    "### **Conclusion**\n",
    "\n",
    "Generator functions and expressions are powerful tools in Python for creating iterators. They provide a simple and efficient way to generate values on-the-fly without the overhead of storing entire datasets in memory. By using `yield`, you can create custom iterables that are both flexible and easy to manage. \n",
    "\n",
    "-------\n",
    "\n"
   ]
  },
  {
   "cell_type": "markdown",
   "metadata": {},
   "source": [
    "### ***`Let's Practice`***"
   ]
  },
  {
   "cell_type": "code",
   "execution_count": null,
   "metadata": {},
   "outputs": [
    {
     "data": {
      "text/plain": [
       "[0, 1, 1, 2, 3, 5, 8, 13, 21, 34]"
      ]
     },
     "execution_count": 2,
     "metadata": {},
     "output_type": "execute_result"
    }
   ],
   "source": [
    "\n",
    "\n",
    "# let's define a code for fibonacci series\n",
    "\n",
    "def fibo(nunmber):\n",
    "    lst = []\n",
    "    a,b = 0,1\n",
    "    for _ in range(nunmber):\n",
    "        lst.append(a)\n",
    "        a,b = b , a+b\n",
    "    return lst\n",
    "n = 100\n",
    "\n",
    "# call the function\n",
    "fibo(10)\n"
   ]
  },
  {
   "cell_type": "markdown",
   "metadata": {},
   "source": [
    "- The Fibonacci series is the sequence of numbers (also called Fibonacci numbers), where every number is the sum of the preceding two numbers, such that the first two terms are '0' and '1'. In some older versions of the series, the term '0' might be omitted."
   ]
  },
  {
   "cell_type": "code",
   "execution_count": 3,
   "metadata": {},
   "outputs": [
    {
     "name": "stdout",
     "output_type": "stream",
     "text": [
      "0\n",
      "1\n",
      "1\n",
      "2\n",
      "3\n",
      "5\n",
      "8\n",
      "13\n",
      "21\n",
      "34\n",
      "55\n",
      "89\n"
     ]
    }
   ],
   "source": [
    "\n",
    "\n",
    "# let's define a code for fibonacci series using generater funcion\n",
    "\n",
    "def fibo(nunmber):\n",
    "    a,b = 0,1\n",
    "\n",
    "    while a < n:\n",
    "        yield a\n",
    "        a,b = b , a+b\n",
    "\n",
    "# call the function\n",
    "for i in fibo(100):\n",
    "    print(i)\n"
   ]
  },
  {
   "cell_type": "markdown",
   "metadata": {},
   "source": [
    "\n",
    "-----"
   ]
  }
 ],
 "metadata": {
  "kernelspec": {
   "display_name": ".venv",
   "language": "python",
   "name": "python3"
  },
  "language_info": {
   "codemirror_mode": {
    "name": "ipython",
    "version": 3
   },
   "file_extension": ".py",
   "mimetype": "text/x-python",
   "name": "python",
   "nbconvert_exporter": "python",
   "pygments_lexer": "ipython3",
   "version": "3.10.15"
  }
 },
 "nbformat": 4,
 "nbformat_minor": 2
}
