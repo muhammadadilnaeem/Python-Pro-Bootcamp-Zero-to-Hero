{
 "cells": [
  {
   "cell_type": "markdown",
   "metadata": {},
   "source": [
    "\n",
    "\n",
    "------\n",
    "\n",
    "# **`Functions as First-Class Citizens in Python`**\n",
    "\n",
    "#### **Definition**\n",
    "\n",
    "In programming languages, the term **first-class citizen** (or first-class object) refers to entities that can be treated like any other value in the language. In Python, functions are first-class citizens, which means:\n",
    "\n",
    "1. **Functions can be assigned to variables**: You can store functions in variables, allowing you to reference them later.\n",
    "2. **Functions can be passed as arguments**: You can pass functions as arguments to other functions.\n",
    "3. **Functions can be returned from other functions**: You can return functions from other functions, enabling closures and higher-order functions.\n",
    "4. **Functions can be stored in data structures**: You can store functions in lists, dictionaries, and other data structures.\n",
    "\n",
    "### **Key Features**\n",
    "\n",
    "1. **Assigning Functions to Variables**\n",
    "   - You can assign a function to a variable, allowing you to call the function using that variable name.\n",
    "\n",
    "   **Example**:\n",
    "   ```python\n",
    "   def greet(name):\n",
    "       return f\"Hello, {name}!\"\n",
    "\n",
    "   welcome = greet  # Assigning the function to a variable\n",
    "   print(welcome(\"Alice\"))  # Output: Hello, Alice!\n",
    "   ```\n",
    "\n",
    "2. **Passing Functions as Arguments**\n",
    "   - Functions can be passed as arguments to other functions, allowing for greater flexibility.\n",
    "\n",
    "   **Example**:\n",
    "   ```python\n",
    "   def apply_function(func, value):\n",
    "       return func(value)\n",
    "\n",
    "   def square(x):\n",
    "       return x * x\n",
    "\n",
    "   result = apply_function(square, 4)  # Pass the function 'square' as an argument\n",
    "   print(result)  # Output: 16\n",
    "   ```\n",
    "\n",
    "3. **Returning Functions from Functions**\n",
    "   - You can return functions from other functions, creating closures and enabling factory functions.\n",
    "\n",
    "   **Example**:\n",
    "   ```python\n",
    "   def make_multiplier(factor):\n",
    "       def multiplier(x):\n",
    "           return x * factor\n",
    "       return multiplier\n",
    "\n",
    "   double = make_multiplier(2)  # Create a function that doubles input\n",
    "   print(double(5))  # Output: 10\n",
    "   ```\n",
    "\n",
    "4. **Storing Functions in Data Structures**\n",
    "   - Functions can be stored in lists, dictionaries, or other data structures like any other object.\n",
    "\n",
    "   **Example**:\n",
    "   ```python\n",
    "   def add(x):\n",
    "       return x + 1\n",
    "\n",
    "   def subtract(x):\n",
    "       return x - 1\n",
    "\n",
    "   operations = [add, subtract]  # Storing functions in a list\n",
    "\n",
    "   for operation in operations:\n",
    "       print(operation(5))  # Output: 6 (from add) and 4 (from subtract)\n",
    "   ```\n",
    "\n",
    "### **Implications of Functions as First-Class Citizens**\n",
    "\n",
    "1. **Higher-Order Functions**: Functions that take other functions as arguments or return them as results. This enables powerful patterns like callbacks, decorators, and functional programming techniques.\n",
    "\n",
    "   **Example**:\n",
    "   ```python\n",
    "   def apply_twice(func, value):\n",
    "       return func(func(value))\n",
    "\n",
    "   result = apply_twice(square, 3)  # Square the number twice\n",
    "   print(result)  # Output: 81\n",
    "   ```\n",
    "\n",
    "2. **Functional Programming**: Python supports functional programming paradigms, allowing for concise and expressive code using functions as first-class citizens. Functions like `map()`, `filter()`, and `reduce()` are common in functional programming.\n",
    "\n",
    "   **Example with `map()`**:\n",
    "   ```python\n",
    "   numbers = [1, 2, 3, 4]\n",
    "   squares = list(map(square, numbers))  # Apply 'square' function to each element\n",
    "   print(squares)  # Output: [1, 4, 9, 16]\n",
    "   ```\n",
    "\n",
    "3. **Decorators**: Functions can be used to wrap other functions, modifying their behavior without changing their code. This is a common design pattern in Python.\n",
    "\n",
    "   **Example of a Decorator**:\n",
    "   ```python\n",
    "   def my_decorator(func):\n",
    "       def wrapper():\n",
    "           print(\"Something is happening before the function is called.\")\n",
    "           func()\n",
    "           print(\"Something is happening after the function is called.\")\n",
    "       return wrapper\n",
    "\n",
    "   @my_decorator\n",
    "   def say_hello():\n",
    "       print(\"Hello!\")\n",
    "\n",
    "   say_hello()\n",
    "   # Output:\n",
    "   # Something is happening before the function is called.\n",
    "   # Hello!\n",
    "   # Something is happening after the function is called.\n",
    "   ```\n",
    "\n",
    "### **Conclusion**\n",
    "\n",
    "The concept of functions as first-class citizens in Python enhances the language's flexibility and expressiveness. By allowing functions to be assigned to variables, passed as arguments, returned from other functions, and stored in data structures, Python supports a wide range of programming paradigms, including functional programming. This capability leads to cleaner, more modular, and reusable code.\n",
    "\n",
    "\n",
    "------\n",
    "\n"
   ]
  },
  {
   "cell_type": "markdown",
   "metadata": {},
   "source": [
    "### **`Let's Practice`**"
   ]
  },
  {
   "cell_type": "code",
   "execution_count": 6,
   "metadata": {},
   "outputs": [
    {
     "name": "stdout",
     "output_type": "stream",
     "text": [
      "Hello Adil\n",
      "<class 'function'>\n"
     ]
    }
   ],
   "source": [
    "# function is also a datatype\n",
    "\n",
    "def greet():\n",
    "    return \"Hello Adil\"\n",
    "\n",
    "print(greet())\n",
    "print(type(greet))"
   ]
  },
  {
   "cell_type": "code",
   "execution_count": 8,
   "metadata": {},
   "outputs": [
    {
     "name": "stdout",
     "output_type": "stream",
     "text": [
      "Hello Adil\n"
     ]
    }
   ],
   "source": [
    "# functions can be stored in a variable\n",
    "\n",
    "def greet():\n",
    "    return \"Hello Adil\"\n",
    "\n",
    "hey = greet()\n",
    "\n",
    "print(hey)"
   ]
  },
  {
   "cell_type": "code",
   "execution_count": 12,
   "metadata": {},
   "outputs": [
    {
     "data": {
      "text/plain": [
       "<function __main__.hello.<locals>.hello1(a)>"
      ]
     },
     "execution_count": 12,
     "metadata": {},
     "output_type": "execute_result"
    }
   ],
   "source": [
    "# function can return as function\n",
    "\n",
    "def hello():\n",
    "\n",
    "    def hello1(a):\n",
    "\n",
    "        return a**2\n",
    "    \n",
    "    return hello1\n",
    "\n",
    "hello()"
   ]
  },
  {
   "cell_type": "code",
   "execution_count": null,
   "metadata": {},
   "outputs": [
    {
     "data": {
      "text/plain": [
       "6"
      ]
     },
     "execution_count": 17,
     "metadata": {},
     "output_type": "execute_result"
    }
   ],
   "source": [
    "# function as an argument\n",
    "\n",
    "def operation(a,b,oper):\n",
    "\n",
    "    return oper(a,b) \n",
    "    \n",
    "def add(a,b):\n",
    "    return a+b\n",
    "\n",
    "def mult(a,b):\n",
    "    return a*b\n",
    "\n",
    "operation(2,3,mult)"
   ]
  },
  {
   "cell_type": "markdown",
   "metadata": {},
   "source": [
    "----"
   ]
  }
 ],
 "metadata": {
  "kernelspec": {
   "display_name": "Python 3",
   "language": "python",
   "name": "python3"
  },
  "language_info": {
   "codemirror_mode": {
    "name": "ipython",
    "version": 3
   },
   "file_extension": ".py",
   "mimetype": "text/x-python",
   "name": "python",
   "nbconvert_exporter": "python",
   "pygments_lexer": "ipython3",
   "version": "3.10.15"
  }
 },
 "nbformat": 4,
 "nbformat_minor": 2
}
