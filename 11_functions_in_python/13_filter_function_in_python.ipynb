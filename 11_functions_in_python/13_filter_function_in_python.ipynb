{
 "cells": [
  {
   "cell_type": "markdown",
   "metadata": {},
   "source": [
    "\n",
    "-----\n",
    "\n",
    "\n",
    "# **`The `filter()` Function in Python`**\n",
    "\n",
    "#### **Definition**\n",
    "\n",
    "The **`filter()` function** is a built-in function in Python that constructs an iterator from elements of an iterable for which a specified function returns `True`. It is commonly used to filter out elements from a list, tuple, or any iterable based on certain criteria.\n",
    "\n",
    "#### **Syntax**\n",
    "\n",
    "The syntax of the `filter()` function is:\n",
    "\n",
    "```python\n",
    "filter(function, iterable)\n",
    "```\n",
    "\n",
    "- **`function`**: A function that tests whether each element of the iterable is true or false. This can be a built-in function, a user-defined function, or a lambda function. If `None` is passed instead of a function, it simply removes all elements that are considered false (e.g., `0`, `None`, `False`, `''`).\n",
    "- **`iterable`**: An iterable (like a list, tuple, or string) whose elements will be filtered based on the function.\n",
    "\n",
    "#### **Return Value**\n",
    "\n",
    "The `filter()` function returns a filter object, which is an iterator. To convert it to a list or another data structure, you can use the `list()`, `tuple()`, or other conversion functions.\n",
    "\n",
    "### **Key Features**\n",
    "\n",
    "1. **Lazy Evaluation**: The `filter()` function computes results lazily, meaning it generates items one at a time and only when requested. This can be more memory efficient, especially for large datasets.\n",
    "\n",
    "2. **Boolean Function**: The provided function should return a boolean value (`True` or `False`). Only elements that evaluate to `True` will be included in the output.\n",
    "\n",
    "3. **Multiple Iterables**: Unlike `map()`, `filter()` only accepts one iterable, but the function can still be based on multiple criteria.\n",
    "\n",
    "### **Usage**\n",
    "\n",
    "#### **1. Basic Example**\n",
    "\n",
    "Using `filter()` to remove even numbers from a list:\n",
    "\n",
    "```python\n",
    "def is_odd(n):\n",
    "    return n % 2 != 0\n",
    "\n",
    "numbers = [1, 2, 3, 4, 5, 6, 7, 8, 9]\n",
    "odd_numbers = filter(is_odd, numbers)\n",
    "print(list(odd_numbers))  # Output: [1, 3, 5, 7, 9]\n",
    "```\n",
    "\n",
    "#### **2. Using Lambda Functions**\n",
    "\n",
    "You can use a lambda function with `filter()` for concise syntax:\n",
    "\n",
    "```python\n",
    "numbers = [1, 2, 3, 4, 5, 6, 7, 8, 9]\n",
    "odd_numbers = filter(lambda x: x % 2 != 0, numbers)\n",
    "print(list(odd_numbers))  # Output: [1, 3, 5, 7, 9]\n",
    "```\n",
    "\n",
    "#### **3. Filtering Out False Values**\n",
    "\n",
    "You can use `filter()` with `None` to remove all false values from an iterable:\n",
    "\n",
    "```python\n",
    "data = [0, 1, '', 'Hello', None, [], [1, 2]]\n",
    "filtered_data = filter(None, data)\n",
    "print(list(filtered_data))  # Output: [1, 'Hello', [1, 2]]\n",
    "```\n",
    "\n",
    "### **Performance Considerations**\n",
    "\n",
    "- **Efficiency**: `filter()` can be more efficient than list comprehensions, especially for large datasets, as it avoids creating an intermediate list.\n",
    "- **Readability**: While `filter()` can make code more concise, it may reduce readability for those unfamiliar with functional programming concepts.\n",
    "\n",
    "### **Summary of `filter()`**\n",
    "\n",
    "- **Purpose**: To filter elements from an iterable based on a specified function.\n",
    "- **Return Type**: Returns a filter object (iterator).\n",
    "- **Usage**: Commonly used for data validation, cleaning, or extracting specific elements from collections.\n",
    "- **Flexibility**: Supports both user-defined functions and lambda functions.\n",
    "\n",
    "### **Conclusion**\n",
    "\n",
    "The `filter()` function is a powerful tool in Python for selectively including elements from an iterable based on specific criteria. It embodies the principles of functional programming and can lead to cleaner code when processing data.\n",
    "\n",
    "-----\n",
    "\n"
   ]
  },
  {
   "cell_type": "markdown",
   "metadata": {},
   "source": [
    "### **`Let's Practice`**"
   ]
  },
  {
   "cell_type": "code",
   "execution_count": 1,
   "metadata": {},
   "outputs": [
    {
     "data": {
      "text/plain": [
       "[2, 4, 6, 8, 10]"
      ]
     },
     "execution_count": 1,
     "metadata": {},
     "output_type": "execute_result"
    }
   ],
   "source": [
    "# check even numbers\n",
    "def even(x):\n",
    "    return x%2==0\n",
    "\n",
    "l = [1,2,3,4,5,6,7,8,9,10]\n",
    "result = filter(even, l)\n",
    "list(result)"
   ]
  },
  {
   "cell_type": "code",
   "execution_count": 6,
   "metadata": {},
   "outputs": [
    {
     "name": "stdout",
     "output_type": "stream",
     "text": [
      "['banana', 'cherry', 'mango']\n"
     ]
    }
   ],
   "source": [
    "\n",
    "words = [\"app\",\"banana\",\"cherry\",\"mango\",\"lor\"]\n",
    "\n",
    "def dont_count_less_than_three(w):\n",
    "    return len(w) >3\n",
    "\n",
    "res = filter(dont_count_less_than_three, words)\n",
    "print(list(res))\n"
   ]
  },
  {
   "cell_type": "markdown",
   "metadata": {},
   "source": [
    "----"
   ]
  }
 ],
 "metadata": {
  "kernelspec": {
   "display_name": ".venv",
   "language": "python",
   "name": "python3"
  },
  "language_info": {
   "codemirror_mode": {
    "name": "ipython",
    "version": 3
   },
   "file_extension": ".py",
   "mimetype": "text/x-python",
   "name": "python",
   "nbconvert_exporter": "python",
   "pygments_lexer": "ipython3",
   "version": "3.10.15"
  }
 },
 "nbformat": 4,
 "nbformat_minor": 2
}
