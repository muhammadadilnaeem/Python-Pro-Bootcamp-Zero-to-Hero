{
 "cells": [
  {
   "cell_type": "markdown",
   "metadata": {},
   "source": [
    "\n",
    "-----\n",
    "\n",
    "# **The `map()` Function in Python**\n",
    "\n",
    "#### **Definition**\n",
    "\n",
    "The **`map()` function** is a built-in function in Python that applies a specified function to every item of an iterable (like a list, tuple, or string) and returns a map object (an iterator). This is useful for transforming or processing the elements of an iterable.\n",
    "\n",
    "#### **Syntax**\n",
    "\n",
    "The syntax of the `map()` function is:\n",
    "\n",
    "```python\n",
    "map(function, iterable, ...)\n",
    "```\n",
    "\n",
    "- **`function`**: A function that will be applied to each item of the iterable. This can be a built-in function, a user-defined function, or a lambda function.\n",
    "- **`iterable`**: One or more iterables (like lists, tuples, etc.) whose elements will be processed by the function.\n",
    "- You can pass multiple iterables to `map()`, and the function must take as many arguments as there are iterables.\n",
    "\n",
    "#### **Return Value**\n",
    "\n",
    "The `map()` function returns a map object, which is an iterator. To convert it to a list or another data structure, you can use the `list()`, `tuple()`, or other conversion functions.\n",
    "\n",
    "### **Key Features**\n",
    "\n",
    "1. **Lazy Evaluation**: The `map()` function computes the results lazily, meaning it generates the results on-the-fly as needed rather than computing all results at once. This can be more memory efficient, especially with large datasets.\n",
    "  \n",
    "2. **Multiple Iterables**: If multiple iterables are passed, the function must accept that many arguments, and the mapping stops when the shortest iterable is exhausted.\n",
    "\n",
    "3. **Functional Programming**: `map()` is a common tool in functional programming paradigms, promoting cleaner and more concise code.\n",
    "\n",
    "### **Usage**\n",
    "\n",
    "#### **1. Basic Example**\n",
    "\n",
    "Using `map()` to apply a function to a list of numbers:\n",
    "\n",
    "```python\n",
    "def square(x):\n",
    "    return x ** 2\n",
    "\n",
    "numbers = [1, 2, 3, 4, 5]\n",
    "squared_numbers = map(square, numbers)\n",
    "print(list(squared_numbers))  # Output: [1, 4, 9, 16, 25]\n",
    "```\n",
    "\n",
    "#### **2. Using Lambda Functions**\n",
    "\n",
    "You can use a lambda function with `map()` for concise syntax:\n",
    "\n",
    "```python\n",
    "numbers = [1, 2, 3, 4, 5]\n",
    "squared_numbers = map(lambda x: x ** 2, numbers)\n",
    "print(list(squared_numbers))  # Output: [1, 4, 9, 16, 25]\n",
    "```\n",
    "\n",
    "#### **3. Multiple Iterables**\n",
    "\n",
    "Using `map()` with multiple iterables:\n",
    "\n",
    "```python\n",
    "def add(x, y):\n",
    "    return x + y\n",
    "\n",
    "list1 = [1, 2, 3]\n",
    "list2 = [4, 5, 6]\n",
    "result = map(add, list1, list2)\n",
    "print(list(result))  # Output: [5, 7, 9]\n",
    "```\n",
    "\n",
    "In this example, `add` takes two arguments, and `map()` applies it to pairs of elements from `list1` and `list2`.\n",
    "\n",
    "### **Performance Considerations**\n",
    "\n",
    "- **Efficiency**: `map()` can be more efficient than using a list comprehension for large datasets, as it avoids creating an intermediate list.\n",
    "- **Readability**: While `map()` can make code more concise, it may reduce readability compared to explicit loops, especially for those unfamiliar with functional programming concepts.\n",
    "\n",
    "### **Summary of `map()`**\n",
    "\n",
    "- **Purpose**: To apply a function to each item in an iterable(s).\n",
    "- **Return Type**: Returns a map object (iterator).\n",
    "- **Usage**: Commonly used in data transformation and functional programming.\n",
    "- **Flexibility**: Supports both user-defined functions and lambda functions.\n",
    "\n",
    "### **Conclusion**\n",
    "\n",
    "The `map()` function is a powerful tool in Python for applying functions to iterables in a concise and efficient manner. It embodies the principles of functional programming and can lead to cleaner code when transforming or processing data.\n",
    "\n",
    "------\n",
    "\n"
   ]
  },
  {
   "cell_type": "markdown",
   "metadata": {},
   "source": [
    "### **`Let's Practice`**"
   ]
  },
  {
   "cell_type": "code",
   "execution_count": 2,
   "metadata": {},
   "outputs": [
    {
     "name": "stdout",
     "output_type": "stream",
     "text": [
      "[4, 16, 36, 64, 100]\n"
     ]
    }
   ],
   "source": [
    "# map using user defined functions\n",
    "\n",
    "def square(x):\n",
    "    return x**2\n",
    "\n",
    "y = [2,4,6,8,10]   # list (itersble)\n",
    "result = map(square,y)\n",
    "print(list(result))\n",
    "    "
   ]
  },
  {
   "cell_type": "code",
   "execution_count": 3,
   "metadata": {},
   "outputs": [
    {
     "name": "stdout",
     "output_type": "stream",
     "text": [
      "['HELLO', 'MY', 'NAME', 'IS', 'ADIL']\n"
     ]
    }
   ],
   "source": [
    "\n",
    "strings = ['hello', 'my', 'name','is','adil']\n",
    "\n",
    "def do_upper(x):\n",
    "    return x.upper()\n",
    "\n",
    "result = map(do_upper,strings)\n",
    "print(list(result))"
   ]
  },
  {
   "cell_type": "code",
   "execution_count": null,
   "metadata": {},
   "outputs": [
    {
     "name": "stdout",
     "output_type": "stream",
     "text": [
      "(4, 16, 36, 64, 100)\n"
     ]
    }
   ],
   "source": [
    "# map using lambda function\n",
    "\n",
    "x = lambda x: x**2 # lambda function \n",
    "y = [2,4,6,8,10]   # list (itersble)\n",
    "result = map(x,y)   # map function\n",
    "print(tuple(result))  # specify output format "
   ]
  },
  {
   "cell_type": "code",
   "execution_count": null,
   "metadata": {},
   "outputs": [
    {
     "name": "stdout",
     "output_type": "stream",
     "text": [
      "[4, 10, 18]\n"
     ]
    }
   ],
   "source": [
    "\n",
    "# using multiple iterables\n",
    "\n",
    "def mul(x, y):\n",
    "    return x * y\n",
    "\n",
    "list1 = [1, 2, 3] # list\n",
    "\n",
    "list2 = (4, 5, 6) # tuple\n",
    "\n",
    "result = map(mul, list1, list2)\n",
    "print(list(result))"
   ]
  },
  {
   "cell_type": "markdown",
   "metadata": {},
   "source": [
    "-----"
   ]
  }
 ],
 "metadata": {
  "kernelspec": {
   "display_name": ".venv",
   "language": "python",
   "name": "python3"
  },
  "language_info": {
   "codemirror_mode": {
    "name": "ipython",
    "version": 3
   },
   "file_extension": ".py",
   "mimetype": "text/x-python",
   "name": "python",
   "nbconvert_exporter": "python",
   "pygments_lexer": "ipython3",
   "version": "3.10.15"
  }
 },
 "nbformat": 4,
 "nbformat_minor": 2
}
