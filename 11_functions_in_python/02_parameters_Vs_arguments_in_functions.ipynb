{
 "cells": [
  {
   "cell_type": "markdown",
   "metadata": {},
   "source": [
    "\n",
    "\n",
    "------\n",
    "\n",
    "\n",
    "# **`Parameters vs. Arguments in Python Functions`**\n",
    "\n",
    "#### **Definitions**\n",
    "\n",
    "1. **Parameters**:\n",
    "   - Parameters are the variables defined in a function's declaration. They act as placeholders for the values that will be passed to the function when it is called.\n",
    "   - They define what inputs the function can accept.\n",
    "\n",
    "   **Example**:\n",
    "   ```python\n",
    "   def add(x, y):  # 'x' and 'y' are parameters\n",
    "       return x + y\n",
    "   ```\n",
    "\n",
    "2. **Arguments**:\n",
    "   - Arguments are the actual values or data you pass to the function when you call it. They correspond to the parameters defined in the function.\n",
    "   - Arguments can be literals, variables, or expressions.\n",
    "\n",
    "   **Example**:\n",
    "   ```python\n",
    "   result = add(5, 3)  # 5 and 3 are arguments\n",
    "   ```\n",
    "\n",
    "### **Key Differences**\n",
    "\n",
    "| **Aspect**     | **Parameters**                              | **Arguments**                                |\n",
    "|----------------|--------------------------------------------|----------------------------------------------|\n",
    "| Definition      | Variables listed in the function definition | Actual values passed to the function         |\n",
    "| Role            | Serve as placeholders for input values     | Provide the actual data to the function      |\n",
    "| Scope           | Exist only within the function's scope     | Can exist outside the function               |\n",
    "| Declaration     | Defined in the function header              | Passed during the function call              |\n",
    "\n",
    "### **Types of Parameters**\n",
    "\n",
    "1. **Positional Parameters**:\n",
    "   - These are the most common type of parameters. The arguments are assigned to the parameters based on their position in the function call.\n",
    "   \n",
    "   **Example**:\n",
    "   ```python\n",
    "   def multiply(a, b):  # a and b are positional parameters\n",
    "       return a * b\n",
    "\n",
    "   print(multiply(2, 3))  # Output: 6\n",
    "   ```\n",
    "\n",
    "2. **Keyword Parameters**:\n",
    "   - Allows you to specify arguments by name. This makes the function call more readable and allows you to skip optional parameters.\n",
    "   \n",
    "   **Example**:\n",
    "   ```python\n",
    "   def power(base, exp):  # base and exp are keyword parameters\n",
    "       return base ** exp\n",
    "\n",
    "   print(power(exp=3, base=2))  # Output: 8\n",
    "   ```\n",
    "\n",
    "3. **Default Parameters**:\n",
    "   - You can assign default values to parameters. If an argument is not provided for that parameter during the function call, the default value is used.\n",
    "   \n",
    "   **Example**:\n",
    "   ```python\n",
    "   def greet(name=\"Guest\"):  # name has a default parameter\n",
    "       return f\"Hello, {name}!\"\n",
    "\n",
    "   print(greet())          # Output: Hello, Guest!\n",
    "   print(greet(\"Alice\"))  # Output: Hello, Alice!\n",
    "   ```\n",
    "\n",
    "4. **Variable-Length Parameters**:\n",
    "   - You can define functions that accept a variable number of arguments using `*args` for non-keyword arguments and `**kwargs` for keyword arguments.\n",
    "   \n",
    "   **Example**:\n",
    "   ```python\n",
    "   def add_all(*numbers):  # *numbers allows for variable-length arguments\n",
    "       return sum(numbers)\n",
    "\n",
    "   print(add_all(1, 2, 3, 4))  # Output: 10\n",
    "\n",
    "   def print_info(**info):  # **info allows for variable-length keyword arguments\n",
    "       for key, value in info.items():\n",
    "           print(f\"{key}: {value}\")\n",
    "\n",
    "   print_info(name=\"Alice\", age=30)  # Output: name: Alice, age: 30\n",
    "   ```\n",
    "\n",
    "### **Summary**\n",
    "\n",
    "- **Parameters** are the names defined in the function declaration, while **arguments** are the actual values passed during the function call.\n",
    "- Understanding the difference between parameters and arguments is crucial for effectively defining and using functions in Python.\n",
    "- Python allows for various types of parameters, including positional, keyword, default, and variable-length parameters, providing flexibility in function definitions.\n",
    "\n",
    "### **Conclusion**\n",
    "\n",
    "Parameters and arguments are fundamental concepts in Python functions that enable you to create flexible and reusable code. By understanding how to define and use them effectively, you can write more organized and efficient programs. \n",
    "\n",
    "----"
   ]
  },
  {
   "cell_type": "markdown",
   "metadata": {},
   "source": [
    "### **`Let's Practice`**"
   ]
  },
  {
   "cell_type": "code",
   "execution_count": null,
   "metadata": {},
   "outputs": [
    {
     "data": {
      "text/plain": [
       "11"
      ]
     },
     "execution_count": 1,
     "metadata": {},
     "output_type": "execute_result"
    }
   ],
   "source": [
    "# define a function\n",
    "def addition(a,b):\n",
    "    return a+b\n",
    "\n",
    "addition(5,6)"
   ]
  },
  {
   "cell_type": "code",
   "execution_count": 2,
   "metadata": {},
   "outputs": [
    {
     "data": {
      "text/plain": [
       "'Welcome to Pythonmaina'"
      ]
     },
     "execution_count": 2,
     "metadata": {},
     "output_type": "execute_result"
    }
   ],
   "source": [
    "# define function without a parameter\n",
    "\n",
    "def hello():\n",
    "    return \"Welcome to Pythonmaina\"\n",
    "\n",
    "hello()"
   ]
  },
  {
   "cell_type": "code",
   "execution_count": 5,
   "metadata": {},
   "outputs": [
    {
     "data": {
      "text/plain": [
       "'Hello Python'"
      ]
     },
     "execution_count": 5,
     "metadata": {},
     "output_type": "execute_result"
    }
   ],
   "source": [
    "# declare parameters \n",
    "\n",
    "def hello(name,greetings=\"Hello\"):\n",
    "    return f\"{greetings} {name}\"\n",
    "\n",
    "hello(\"Python\")"
   ]
  },
  {
   "cell_type": "markdown",
   "metadata": {},
   "source": [
    "----"
   ]
  }
 ],
 "metadata": {
  "kernelspec": {
   "display_name": "Python 3",
   "language": "python",
   "name": "python3"
  },
  "language_info": {
   "codemirror_mode": {
    "name": "ipython",
    "version": 3
   },
   "file_extension": ".py",
   "mimetype": "text/x-python",
   "name": "python",
   "nbconvert_exporter": "python",
   "pygments_lexer": "ipython3",
   "version": "3.10.15"
  }
 },
 "nbformat": 4,
 "nbformat_minor": 2
}
