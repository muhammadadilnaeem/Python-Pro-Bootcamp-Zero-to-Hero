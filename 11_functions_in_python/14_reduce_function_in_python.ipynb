{
 "cells": [
  {
   "cell_type": "markdown",
   "metadata": {},
   "source": [
    "\n",
    "-----\n",
    "\n",
    "# **The `reduce()` Function in Python**\n",
    "\n",
    "#### **Definition**\n",
    "\n",
    "The **`reduce()` function** is a built-in function in Python that applies a specified function cumulatively to the items of an iterable, from left to right, to reduce the iterable to a single value. It is part of the `functools` module.\n",
    "\n",
    "#### **Syntax**\n",
    "\n",
    "The syntax of the `reduce()` function is:\n",
    "\n",
    "```python\n",
    "from functools import reduce\n",
    "\n",
    "reduce(function, iterable[, initializer])\n",
    "```\n",
    "\n",
    "- **`function`**: A function that takes two arguments and reduces the iterable's elements.\n",
    "- **`iterable`**: An iterable (like a list, tuple, etc.) whose elements will be processed by the function.\n",
    "- **`initializer`** (optional): A value that is used as the first argument to the function if the iterable is empty. If provided, it is also returned if the iterable is empty.\n",
    "\n",
    "#### **Return Value**\n",
    "\n",
    "The `reduce()` function returns a single value that is the result of applying the function cumulatively to the items of the iterable.\n",
    "\n",
    "### **Key Features**\n",
    "\n",
    "1. **Cumulative Operation**: The `reduce()` function applies the specified function repeatedly, carrying forward the result as it processes each item in the iterable.\n",
    "  \n",
    "2. **Binary Function**: The function passed to `reduce()` must take exactly two arguments.\n",
    "\n",
    "3. **Initial Value**: The optional initializer can be used to provide an initial value for the reduction. If the iterable is empty and no initializer is provided, a `TypeError` will be raised.\n",
    "\n",
    "### **Usage**\n",
    "\n",
    "#### **1. Basic Example**\n",
    "\n",
    "Using `reduce()` to compute the product of elements in a list:\n",
    "\n",
    "```python\n",
    "from functools import reduce\n",
    "\n",
    "def multiply(x, y):\n",
    "    return x * y\n",
    "\n",
    "numbers = [1, 2, 3, 4]\n",
    "result = reduce(multiply, numbers)\n",
    "print(result)  # Output: 24 (1 * 2 * 3 * 4)\n",
    "```\n",
    "\n",
    "#### **2. Using Lambda Functions**\n",
    "\n",
    "You can use a lambda function with `reduce()` for concise syntax:\n",
    "\n",
    "```python\n",
    "from functools import reduce\n",
    "\n",
    "numbers = [1, 2, 3, 4]\n",
    "result = reduce(lambda x, y: x * y, numbers)\n",
    "print(result)  # Output: 24\n",
    "```\n",
    "\n",
    "#### **3. Using Initializer**\n",
    "\n",
    "Using an initializer to start the reduction:\n",
    "\n",
    "```python\n",
    "from functools import reduce\n",
    "\n",
    "numbers = [1, 2, 3, 4]\n",
    "result = reduce(lambda x, y: x + y, numbers, 10)  # Start with 10\n",
    "print(result)  # Output: 20 (10 + 1 + 2 + 3 + 4)\n",
    "```\n",
    "\n",
    "In this example, the reduction starts with the initial value of 10.\n",
    "\n",
    "### **Performance Considerations**\n",
    "\n",
    "- **Efficiency**: `reduce()` can be efficient for cumulative operations, especially when working with large datasets.\n",
    "- **Readability**: While `reduce()` can lead to concise code, excessive use may reduce readability, especially for those unfamiliar with functional programming.\n",
    "\n",
    "### **Conclusion**\n",
    "\n",
    "The `reduce()` function is a powerful tool for performing cumulative operations on iterables in Python. It is particularly useful for reducing a dataset to a single value through successive applications of a binary function. Understanding how to use `reduce()` effectively can lead to cleaner and more efficient code. \n",
    "\n",
    "-----\n",
    "\n"
   ]
  },
  {
   "cell_type": "markdown",
   "metadata": {},
   "source": [
    "### **`Let's Prctice`**"
   ]
  },
  {
   "cell_type": "code",
   "execution_count": null,
   "metadata": {},
   "outputs": [
    {
     "name": "stdout",
     "output_type": "stream",
     "text": [
      "3628800\n"
     ]
    }
   ],
   "source": [
    "# reduce using user defined function\n",
    "\n",
    "from functools import reduce # import reduce function\n",
    "\n",
    "def mul(x,y): # define a function\n",
    "    return x*y\n",
    "l = [1,2,3,4,5,6,7,8,9,10] # an iterable\n",
    "\n",
    "result = reduce(mul,l) # reduce(function,iterable)\n",
    "print(result)"
   ]
  },
  {
   "cell_type": "code",
   "execution_count": null,
   "metadata": {},
   "outputs": [
    {
     "name": "stdout",
     "output_type": "stream",
     "text": [
      "11111\n"
     ]
    }
   ],
   "source": [
    "# find maximum number from iterable using built in max funtion\n",
    "\n",
    "from functools import reduce\n",
    "\n",
    "# def maximum(x,y):\n",
    "#     return x if x>y else y\n",
    "\n",
    "tup = (1001,5006, 10013,9904,5720,11111)\n",
    "result = reduce(max,tup)\n",
    "print(result)"
   ]
  },
  {
   "cell_type": "code",
   "execution_count": null,
   "metadata": {},
   "outputs": [
    {
     "name": "stdout",
     "output_type": "stream",
     "text": [
      "55\n"
     ]
    }
   ],
   "source": [
    "# reduce using lambda function\n",
    "\n",
    "from functools import reduce # import reduce function\n",
    "\n",
    "l = [1,2,3,4,5,6,7,8,9,10] # an iterable\n",
    "\n",
    "result = reduce(lambda x,y:x+y,l) # reduce(function,iterable)\n",
    "print(result)"
   ]
  },
  {
   "cell_type": "code",
   "execution_count": 8,
   "metadata": {},
   "outputs": [
    {
     "name": "stdout",
     "output_type": "stream",
     "text": [
      "0.011640211640211638\n"
     ]
    }
   ],
   "source": [
    "# reduce function using initializer\n",
    "\n",
    "from functools import reduce\n",
    "\n",
    "o = (1,3,5,7,9)\n",
    "result = reduce(lambda x,y:x/y,# function\n",
    "                 o, # iterable\n",
    "                 11 # (optional) initializer\n",
    ")\n",
    "print(result)"
   ]
  },
  {
   "cell_type": "markdown",
   "metadata": {},
   "source": [
    "-----"
   ]
  }
 ],
 "metadata": {
  "kernelspec": {
   "display_name": ".venv",
   "language": "python",
   "name": "python3"
  },
  "language_info": {
   "codemirror_mode": {
    "name": "ipython",
    "version": 3
   },
   "file_extension": ".py",
   "mimetype": "text/x-python",
   "name": "python",
   "nbconvert_exporter": "python",
   "pygments_lexer": "ipython3",
   "version": "3.10.15"
  }
 },
 "nbformat": 4,
 "nbformat_minor": 2
}
