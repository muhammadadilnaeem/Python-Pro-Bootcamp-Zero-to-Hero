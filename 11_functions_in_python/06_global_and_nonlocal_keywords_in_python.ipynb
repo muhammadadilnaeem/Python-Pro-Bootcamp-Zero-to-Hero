{
 "cells": [
  {
   "cell_type": "markdown",
   "metadata": {},
   "source": [
    "\n",
    "-----\n",
    "\n",
    "# **`global and nonlocal keywords in Python`**\n",
    "\n",
    "### **Global Keyword**\n",
    "\n",
    "#### **Definition**\n",
    "\n",
    "The **global** keyword is used to declare a variable as global, which means that it refers to a variable that is defined at the top level of a module or script. Global variables are accessible throughout the module, including inside functions.\n",
    "\n",
    "#### **Purpose**\n",
    "\n",
    "- To modify a global variable from within a function.\n",
    "- To avoid creating a new local variable with the same name as a global variable.\n",
    "\n",
    "#### **Usage**\n",
    "\n",
    "When you want to change the value of a global variable inside a function, you need to declare it as global using the `global` keyword.\n",
    "\n",
    "#### **Example**\n",
    "\n",
    "```python\n",
    "# Global variable\n",
    "counter = 0\n",
    "\n",
    "def increment():\n",
    "    global counter  # Declare counter as global\n",
    "    counter += 1    # Modify the global variable\n",
    "\n",
    "increment()\n",
    "print(counter)  # Output: 1\n",
    "\n",
    "increment()\n",
    "print(counter)  # Output: 2\n",
    "```\n",
    "\n",
    "#### **Key Points**\n",
    "\n",
    "- Without the `global` keyword, Python will treat any variable assignment inside a function as a local variable.\n",
    "- The `global` keyword allows you to modify the variable defined in the global scope.\n",
    "\n",
    "### **Nonlocal Keyword**\n",
    "\n",
    "#### **Definition**\n",
    "\n",
    "The **nonlocal** keyword is used to declare that a variable refers to a variable in the nearest enclosing (non-global) scope. This is particularly useful in nested functions.\n",
    "\n",
    "#### **Purpose**\n",
    "\n",
    "- To modify a variable in an enclosing scope (not global) from within a nested function.\n",
    "- To avoid creating a new local variable when you want to access or modify a variable from an outer function.\n",
    "\n",
    "#### **Usage**\n",
    "\n",
    "When you want to change the value of a variable defined in an outer (but not global) scope, you use the `nonlocal` keyword.\n",
    "\n",
    "#### **Example**\n",
    "\n",
    "```python\n",
    "def outer_function():\n",
    "    outer_var = \"I am from outer\"\n",
    "\n",
    "    def inner_function():\n",
    "        nonlocal outer_var  # Declare outer_var as nonlocal\n",
    "        outer_var = \"I am modified\"\n",
    "        print(outer_var)  # Output: I am modified\n",
    "\n",
    "    inner_function()\n",
    "    print(outer_var)  # Output: I am modified\n",
    "\n",
    "outer_function()\n",
    "```\n",
    "\n",
    "#### **Key Points**\n",
    "\n",
    "- The `nonlocal` keyword is essential when working with nested functions to modify variables from an outer function's scope.\n",
    "- It allows for clearer and more maintainable code when working with closures.\n",
    "\n",
    "### **Comparison: Global vs. Nonlocal**\n",
    "\n",
    "| **Aspect**               | **Global**                                      | **Nonlocal**                                 |\n",
    "|--------------------------|------------------------------------------------|----------------------------------------------|\n",
    "| **Scope**                | Refers to variables in the global scope        | Refers to variables in the nearest enclosing scope |\n",
    "| **Usage**                | Used to modify global variables from within functions | Used to modify variables from enclosing (but not global) functions |\n",
    "| **Functionality**        | Allows access and modification of global variables | Allows access and modification of non-local variables |\n",
    "\n",
    "### **Conclusion**\n",
    "\n",
    "Understanding the **global** and **nonlocal** keywords in Python is crucial for managing variable scope effectively. The `global` keyword allows you to work with variables defined at the module level, while the `nonlocal` keyword enables access to variables in an enclosing scope, particularly useful in nested functions. Proper use of these keywords leads to clearer and more maintainable code. \n",
    "\n",
    "\n",
    "----\n",
    "\n"
   ]
  },
  {
   "cell_type": "markdown",
   "metadata": {},
   "source": [
    "### **`Let's Practice`**"
   ]
  },
  {
   "cell_type": "code",
   "execution_count": 8,
   "metadata": {},
   "outputs": [
    {
     "name": "stdout",
     "output_type": "stream",
     "text": [
      "19\n",
      "199\n"
     ]
    }
   ],
   "source": [
    "# global variable\n",
    "\n",
    "y = 99\n",
    "\n",
    "def my_func():\n",
    "    x = 19\n",
    "\n",
    "    print(x)\n",
    "    global y \n",
    "    y = 199\n",
    "    print(y)\n",
    "\n",
    "my_func()"
   ]
  },
  {
   "cell_type": "code",
   "execution_count": 14,
   "metadata": {},
   "outputs": [
    {
     "name": "stdout",
     "output_type": "stream",
     "text": [
      "1000\n",
      "88\n"
     ]
    }
   ],
   "source": [
    "# nonlocal variable\n",
    "\n",
    "def my_function():\n",
    "    x = 999\n",
    "\n",
    "    def my_func():\n",
    "        y = 88\n",
    "        nonlocal x\n",
    "        x += 1\n",
    "        print(x)\n",
    "\n",
    "        print(y)\n",
    "\n",
    "    my_func()    \n",
    "\n",
    "my_function()"
   ]
  },
  {
   "cell_type": "markdown",
   "metadata": {},
   "source": [
    "------"
   ]
  }
 ],
 "metadata": {
  "kernelspec": {
   "display_name": "Python 3",
   "language": "python",
   "name": "python3"
  },
  "language_info": {
   "codemirror_mode": {
    "name": "ipython",
    "version": 3
   },
   "file_extension": ".py",
   "mimetype": "text/x-python",
   "name": "python",
   "nbconvert_exporter": "python",
   "pygments_lexer": "ipython3",
   "version": "3.10.15"
  }
 },
 "nbformat": 4,
 "nbformat_minor": 2
}
