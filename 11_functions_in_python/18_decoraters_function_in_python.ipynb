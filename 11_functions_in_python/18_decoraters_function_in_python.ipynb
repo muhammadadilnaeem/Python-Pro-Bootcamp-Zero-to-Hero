{
 "cells": [
  {
   "cell_type": "markdown",
   "metadata": {},
   "source": [
    "\n",
    "------\n",
    "\n",
    "# ***`Decorator Functions in Python`***\n",
    "\n",
    "#### **Definition**\n",
    "\n",
    "A **decorator** in Python is a design pattern that allows you to modify or enhance the behavior of functions or methods. Decorators are higher-order functions that take another function as an argument and extend its functionality without explicitly modifying its structure.\n",
    "\n",
    "#### **Key Characteristics**\n",
    "\n",
    "1. **Higher-Order Function**: A decorator is a function that takes another function as an argument and returns a new function that typically extends or alters the behavior of the original function.\n",
    "\n",
    "2. **Syntactic Sugar**: Using decorators can make your code cleaner and more readable. Python provides a special syntax using the `@decorator_name` syntax to apply decorators.\n",
    "\n",
    "3. **Reusable**: Decorators can be reused across multiple functions, promoting code DRYness (Don't Repeat Yourself).\n",
    "\n",
    "4. **Preserves Metadata**: The `functools.wraps` decorator is often used to preserve the metadata (like the function name and docstring) of the original function when creating a wrapper function.\n",
    "\n",
    "### **Creating a Decorator**\n",
    "\n",
    "#### **Basic Structure**\n",
    "\n",
    "A basic decorator is defined as follows:\n",
    "\n",
    "```python\n",
    "def my_decorator(func):\n",
    "    def wrapper():\n",
    "        # Code to execute before the original function\n",
    "        result = func()  # Call the original function\n",
    "        # Code to execute after the original function\n",
    "        return result\n",
    "    return wrapper\n",
    "```\n",
    "\n",
    "### **Example: Simple Decorator**\n",
    "\n",
    "Here’s a simple example of a decorator that prints a message before and after the execution of a function:\n",
    "\n",
    "```python\n",
    "def say_hello(func):\n",
    "    def wrapper():\n",
    "        print(\"Hello!\")\n",
    "        func()  # Call the original function\n",
    "        print(\"Goodbye!\")\n",
    "    return wrapper\n",
    "\n",
    "@say_hello  # Applying the decorator\n",
    "def greet():\n",
    "    print(\"Welcome to Python!\")\n",
    "\n",
    "greet()\n",
    "```\n",
    "\n",
    "**Output**:\n",
    "```\n",
    "Hello!\n",
    "Welcome to Python!\n",
    "Goodbye!\n",
    "```\n",
    "\n",
    "### **Using Decorators with Arguments**\n",
    "\n",
    "If you want to pass arguments to the decorated function, you can modify the wrapper function to accept any number of positional and keyword arguments.\n",
    "\n",
    "```python\n",
    "def repeat(num_times):\n",
    "    def decorator_repeat(func):\n",
    "        def wrapper(*args, **kwargs):\n",
    "            for _ in range(num_times):\n",
    "                result = func(*args, **kwargs)\n",
    "            return result\n",
    "        return wrapper\n",
    "    return decorator_repeat\n",
    "\n",
    "@repeat(3)  # Decorator with an argument\n",
    "def say_hello(name):\n",
    "    print(f\"Hello, {name}!\")\n",
    "\n",
    "say_hello(\"Alice\")\n",
    "```\n",
    "\n",
    "**Output**:\n",
    "```\n",
    "Hello, Alice!\n",
    "Hello, Alice!\n",
    "Hello, Alice!\n",
    "```\n",
    "\n",
    "### **Chaining Decorators**\n",
    "\n",
    "You can apply multiple decorators to a single function. The decorators are applied from the innermost (closest to the function) to the outermost.\n",
    "\n",
    "```python\n",
    "def decorator_one(func):\n",
    "    def wrapper():\n",
    "        print(\"Decorator One\")\n",
    "        func()\n",
    "    return wrapper\n",
    "\n",
    "def decorator_two(func):\n",
    "    def wrapper():\n",
    "        print(\"Decorator Two\")\n",
    "        func()\n",
    "    return wrapper\n",
    "\n",
    "@decorator_one\n",
    "@decorator_two\n",
    "def display():\n",
    "    print(\"Hello, World!\")\n",
    "\n",
    "display()\n",
    "```\n",
    "\n",
    "**Output**:\n",
    "```\n",
    "Decorator One\n",
    "Decorator Two\n",
    "Hello, World!\n",
    "```\n",
    "\n",
    "### **Using `functools.wraps`**\n",
    "\n",
    "To preserve the original function's metadata (like the function name and docstring), use `functools.wraps` in the wrapper function:\n",
    "\n",
    "```python\n",
    "from functools import wraps\n",
    "\n",
    "def my_decorator(func):\n",
    "    @wraps(func)  # Preserve metadata\n",
    "    def wrapper(*args, **kwargs):\n",
    "        print(\"Before the function call\")\n",
    "        result = func(*args, **kwargs)\n",
    "        print(\"After the function call\")\n",
    "        return result\n",
    "    return wrapper\n",
    "\n",
    "@my_decorator\n",
    "def example_function():\n",
    "    \"\"\"This is an example function.\"\"\"\n",
    "    print(\"Executing the function.\")\n",
    "\n",
    "example_function()\n",
    "print(example_function.__name__)  # Output: example_function\n",
    "print(example_function.__doc__)   # Output: This is an example function.\n",
    "```\n",
    "\n",
    "### **Use Cases for Decorators**\n",
    "\n",
    "1. **Logging**: Automatically log function calls and their results.\n",
    "2. **Authorization**: Check if a user has the right permissions to execute a function.\n",
    "3. **Caching**: Cache results of expensive function calls to improve performance.\n",
    "4. **Timing**: Measure the execution time of a function.\n",
    "\n",
    "### **Conclusion**\n",
    "\n",
    "Decorator functions in Python provide a powerful and flexible way to enhance or modify the behavior of functions and methods. They promote code reuse and help maintain clean and readable code. Understanding decorators is essential for writing Pythonic code and leveraging Python's functional programming capabilities. \n",
    "\n",
    "-----"
   ]
  },
  {
   "cell_type": "markdown",
   "metadata": {},
   "source": [
    "### ***`Let's Practice`***"
   ]
  },
  {
   "cell_type": "code",
   "execution_count": 4,
   "metadata": {},
   "outputs": [
    {
     "name": "stdout",
     "output_type": "stream",
     "text": [
      "Hello, Adil\n"
     ]
    }
   ],
   "source": [
    "# normal function\n",
    "\n",
    "def say_hello(name):    \n",
    "    print(f\"Hello, {name}\")\n",
    "\n",
    "say_hello(\"Adil\")"
   ]
  },
  {
   "cell_type": "code",
   "execution_count": 16,
   "metadata": {},
   "outputs": [
    {
     "name": "stdout",
     "output_type": "stream",
     "text": [
      "****************\n",
      "Hello, Adil 🤭!\n",
      "****************\n"
     ]
    }
   ],
   "source": [
    "# using a simple decorater\n",
    "\n",
    "def my_decorator(func):\n",
    "    def wrapper(*args, **kwargs):\n",
    "        print(\"****************\")\n",
    "        func(*args, **kwargs)\n",
    "        print(\"****************\")\n",
    "    return wrapper\n",
    "\n",
    "@my_decorator\n",
    "def say_hello(name):\n",
    "    print(f\"Hello, {name}!\")\n",
    "\n",
    "# Call the decorated function\n",
    "say_hello(\"Adil 🤭\")\n"
   ]
  },
  {
   "cell_type": "code",
   "execution_count": null,
   "metadata": {},
   "outputs": [
    {
     "name": "stdout",
     "output_type": "stream",
     "text": [
      "****************\n",
      "Salam, Butt Sb 😎\n",
      "****************\n"
     ]
    }
   ],
   "source": [
    "# using decorater on another function\n",
    "@my_decorator\n",
    "def salam(name):\n",
    "    print(f\"Salam, {name} 😎\")\n",
    "\n",
    "salam(\"Butt Sb\")"
   ]
  },
  {
   "cell_type": "code",
   "execution_count": 23,
   "metadata": {},
   "outputs": [
    {
     "name": "stdout",
     "output_type": "stream",
     "text": [
      "Start Execution 🤺\n",
      "Function Execution Time: 5.00952 seconds ✔\n"
     ]
    }
   ],
   "source": [
    "# Decorator that tells execution time\n",
    "\n",
    "import time\n",
    "\n",
    "def time_teller_decorator(func):\n",
    "    # New function that wraps the original function\n",
    "    def new_time_teller(*args, **kwargs):\n",
    "        start_time = time.time()  # Start time before execution\n",
    "        result = func(*args, **kwargs)  # Call the original function\n",
    "        end_time = time.time()  # End time after execution\n",
    "        print(f\"Function Execution Time: {end_time - start_time:.5f} seconds ✔\")\n",
    "        return result  # Return the result of the original function\n",
    "    \n",
    "    return new_time_teller  # Return the wrapper function\n",
    "\n",
    "@time_teller_decorator\n",
    "def do_time():\n",
    "    print(\"Start Execution 🤺\") \n",
    "    time.sleep(5)  # Simulate a delay\n",
    "\n",
    "do_time()  # Call the decorated function"
   ]
  },
  {
   "cell_type": "markdown",
   "metadata": {},
   "source": [
    "-----"
   ]
  }
 ],
 "metadata": {
  "kernelspec": {
   "display_name": ".venv",
   "language": "python",
   "name": "python3"
  },
  "language_info": {
   "codemirror_mode": {
    "name": "ipython",
    "version": 3
   },
   "file_extension": ".py",
   "mimetype": "text/x-python",
   "name": "python",
   "nbconvert_exporter": "python",
   "pygments_lexer": "ipython3",
   "version": "3.10.15"
  }
 },
 "nbformat": 4,
 "nbformat_minor": 2
}
