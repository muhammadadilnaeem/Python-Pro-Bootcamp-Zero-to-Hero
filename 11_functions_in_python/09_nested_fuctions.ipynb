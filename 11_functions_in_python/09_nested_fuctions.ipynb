{
 "cells": [
  {
   "cell_type": "markdown",
   "metadata": {},
   "source": [
    "\n",
    "\n",
    "-----------\n",
    "\n",
    "\n",
    "# **`Nested Functions in Python`**\n",
    "\n",
    "#### **Definition**\n",
    "\n",
    "A **nested function** is a function defined inside another function. The inner function can access variables and parameters from the enclosing (outer) function's scope. Nested functions are sometimes referred to as **inner functions**.\n",
    "\n",
    "#### **Structure**\n",
    "\n",
    "The basic structure of a nested function looks like this:\n",
    "\n",
    "```python\n",
    "def outer_function(param1):\n",
    "    # Outer function body\n",
    "    def inner_function(param2):\n",
    "        # Inner function body\n",
    "        pass  # Replace with actual code\n",
    "    # Call the inner function if needed\n",
    "    inner_function(some_argument)\n",
    "```\n",
    "\n",
    "### **Key Features**\n",
    "\n",
    "1. **Access to Outer Scope**: Inner functions can access variables and parameters from their enclosing function.\n",
    "  \n",
    "2. **Encapsulation**: Nested functions can help encapsulate logic that is only relevant to the outer function, improving code organization.\n",
    "\n",
    "3. **Closure**: If the inner function is returned from the outer function, it retains access to the outer function's scope even after the outer function has finished executing. This is known as a closure.\n",
    "\n",
    "### **Usage**\n",
    "\n",
    "Nested functions are often used for:\n",
    "\n",
    "- **Organizing Code**: To logically group related functionality within a function.\n",
    "- **Creating Closures**: To retain state or encapsulate behavior that requires access to the outer function's variables.\n",
    "\n",
    "### **Example of Nested Functions**\n",
    "\n",
    "#### **Basic Example**\n",
    "\n",
    "Here’s a simple example demonstrating a nested function:\n",
    "\n",
    "```python\n",
    "def outer_function(x):\n",
    "    def inner_function(y):\n",
    "        return x + y  # Accessing x from the outer function\n",
    "    return inner_function  # Returning the inner function\n",
    "\n",
    "# Creating a closure\n",
    "closure_function = outer_function(10)\n",
    "result = closure_function(5)  # Output: 15\n",
    "print(result)  # Output: 15\n",
    "```\n",
    "\n",
    "In this example:\n",
    "- The `inner_function` can access the `x` parameter from `outer_function`.\n",
    "- The inner function is returned, creating a closure that retains access to `x`.\n",
    "\n",
    "#### **Example with Multiple Calls**\n",
    "\n",
    "You can also call the inner function multiple times:\n",
    "\n",
    "```python\n",
    "def counter():\n",
    "    count = 0  # Outer variable\n",
    "\n",
    "    def increment():\n",
    "        nonlocal count  # Declare count as nonlocal to modify it\n",
    "        count += 1\n",
    "        return count\n",
    "\n",
    "    return increment  # Return the inner function\n",
    "\n",
    "# Create a counter instance\n",
    "my_counter = counter()\n",
    "print(my_counter())  # Output: 1\n",
    "print(my_counter())  # Output: 2\n",
    "print(my_counter())  # Output: 3\n",
    "```\n",
    "\n",
    "In this example:\n",
    "- The `increment` function modifies the `count` variable from the outer function.\n",
    "- The `nonlocal` keyword is used to indicate that `count` is not a local variable but is from the enclosing scope.\n",
    "\n",
    "### **Benefits of Nested Functions**\n",
    "\n",
    "1. **Improved Readability**: Nested functions can make code easier to read by grouping related logic together.\n",
    "  \n",
    "2. **Encapsulation**: They allow you to hide helper functions that are only relevant to the outer function, reducing clutter in the global namespace.\n",
    "\n",
    "3. **Closure Creation**: They enable the creation of closures, allowing inner functions to maintain access to the outer function's variables even after the outer function has completed execution.\n",
    "\n",
    "### **Limitations**\n",
    "\n",
    "1. **Scope**: Inner functions cannot be called from outside their enclosing function, which limits their accessibility.\n",
    "\n",
    "2. **Complexity**: Overusing nested functions can lead to code that is difficult to understand, especially if deeply nested.\n",
    "\n",
    "### **Conclusion**\n",
    "\n",
    "Nested functions are a powerful feature in Python that allows for better organization of code, encapsulation of logic, and the creation of closures. By understanding how to use nested functions effectively, you can write cleaner, more maintainable code.\n",
    "\n",
    "--------------\n",
    "\n"
   ]
  },
  {
   "cell_type": "markdown",
   "metadata": {},
   "source": [
    "### **`Let's Practice`**"
   ]
  },
  {
   "cell_type": "code",
   "execution_count": null,
   "metadata": {},
   "outputs": [
    {
     "name": "stdout",
     "output_type": "stream",
     "text": [
      "16\n"
     ]
    }
   ],
   "source": [
    "# simple nested function\n",
    "\n",
    "def outer_func(outer):\n",
    "    \n",
    "    def inner_func(inner):\n",
    "        result = outer + inner\n",
    "        return result\n",
    "\n",
    "    inner_result = inner_func(5)\n",
    "    return inner_result\n",
    "\n",
    "outer_result = outer_func(11)\n",
    "print(outer_result)\n",
    "     "
   ]
  },
  {
   "cell_type": "code",
   "execution_count": 3,
   "metadata": {},
   "outputs": [
    {
     "name": "stdout",
     "output_type": "stream",
     "text": [
      "152\n"
     ]
    }
   ],
   "source": [
    "\n",
    "# another example\n",
    "\n",
    "def sum_of_cubes(a,b):\n",
    "    \n",
    "    def cube(x):\n",
    "        return x**3\n",
    "\n",
    "    def add(x,y):\n",
    "        return x + y\n",
    "    \n",
    "    return add(cube(a), cube(b))\n",
    "\n",
    "result = sum_of_cubes(3,5)\n",
    "print(result)"
   ]
  },
  {
   "cell_type": "markdown",
   "metadata": {},
   "source": [
    "--------"
   ]
  }
 ],
 "metadata": {
  "kernelspec": {
   "display_name": ".venv",
   "language": "python",
   "name": "python3"
  },
  "language_info": {
   "codemirror_mode": {
    "name": "ipython",
    "version": 3
   },
   "file_extension": ".py",
   "mimetype": "text/x-python",
   "name": "python",
   "nbconvert_exporter": "python",
   "pygments_lexer": "ipython3",
   "version": "3.10.15"
  }
 },
 "nbformat": 4,
 "nbformat_minor": 2
}
