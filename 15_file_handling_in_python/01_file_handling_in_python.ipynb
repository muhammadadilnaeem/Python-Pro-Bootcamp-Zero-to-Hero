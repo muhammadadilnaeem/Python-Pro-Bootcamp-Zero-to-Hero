{
 "cells": [
  {
   "cell_type": "markdown",
   "metadata": {},
   "source": [
    "\n",
    "\n",
    "------------------\n",
    "\n",
    "# ***`File Handling in Python`***\n",
    "\n",
    "File handling in Python refers to the process of reading from and writing to files. It allows you to store data permanently and manipulate it as required. Python provides built-in functions and methods to handle files efficiently.\n",
    "\n",
    "### **Basic Concepts**\n",
    "\n",
    "1. **File**: A file is a container in your computer's storage that holds data. The data can be text, binary, or any other format.\n",
    "2. **File System**: The way files are organized in a storage device, including directories (folders) and files.\n",
    "3. **File Modes**: Different ways to open a file (e.g., for reading, writing, or appending).\n",
    "\n",
    "### **Common File Operations**\n",
    "\n",
    "1. **Opening a File**: Use the `open()` function to open a file.\n",
    "2. **Reading from a File**: Read contents from a file using various methods.\n",
    "3. **Writing to a File**: Write data to a file.\n",
    "4. **Closing a File**: Always close a file after operations to free up system resources.\n",
    "\n",
    "### **Opening a File**\n",
    "\n",
    "The `open()` function is used to open a file. It requires at least one argument: the file name. The second argument specifies the mode.\n",
    "\n",
    "#### **Syntax**\n",
    "\n",
    "```python\n",
    "file_object = open(\"filename\", mode)\n",
    "```\n",
    "\n",
    "#### **File Modes**\n",
    "\n",
    "| Mode      | Description                                         |\n",
    "|-----------|-----------------------------------------------------|\n",
    "| `'r'`     | Read (default mode). Opens a file for reading.     |\n",
    "| `'w'`     | Write. Opens a file for writing, truncating it first. |\n",
    "| `'a'`     | Append. Opens a file for writing, appending to the end. |\n",
    "| `'b'`     | Binary mode. Used with other modes to read/write binary files. |\n",
    "| `'t'`     | Text mode. Default mode.                            |\n",
    "| `'x'`     | Exclusive creation. Fails if the file already exists. |\n",
    "\n",
    "### **Reading from a File**\n",
    "\n",
    "You can read the contents of a file using several methods:\n",
    "\n",
    "- **`read(size)`**: Reads the specified number of bytes. If no size is specified, it reads the entire file.\n",
    "- **`readline()`**: Reads the next line from the file.\n",
    "- **`readlines()`**: Reads all the lines in a file and returns them as a list.\n",
    "\n",
    "#### **Example of Reading a File**\n",
    "\n",
    "```python\n",
    "# Opening a file in read mode\n",
    "with open(\"example.txt\", \"r\") as file:\n",
    "    # Read the entire file\n",
    "    content = file.read()\n",
    "    print(content)\n",
    "\n",
    "    # Read line by line\n",
    "    file.seek(0)  # Move back to the beginning of the file\n",
    "    for line in file:\n",
    "        print(line.strip())\n",
    "```\n",
    "\n",
    "### **Writing to a File**\n",
    "\n",
    "You can write data to a file using various methods:\n",
    "\n",
    "- **`write(string)`**: Writes a string to the file.\n",
    "- **`writelines(list)`**: Writes a list of strings to the file.\n",
    "\n",
    "#### **Example of Writing to a File**\n",
    "\n",
    "```python\n",
    "# Opening a file in write mode\n",
    "with open(\"output.txt\", \"w\") as file:\n",
    "    file.write(\"Hello, World!\\n\")\n",
    "    file.write(\"This is a test file.\\n\")\n",
    "\n",
    "# Opening a file in append mode\n",
    "with open(\"output.txt\", \"a\") as file:\n",
    "    file.write(\"Appending a new line.\\n\")\n",
    "```\n",
    "\n",
    "### **Closing a File**\n",
    "\n",
    "Always close a file after you finish working with it using the `close()` method. However, using the `with` statement (as shown in examples) automatically closes the file for you, making it the preferred method.\n",
    "\n",
    "### **Exception Handling in File Operations**\n",
    "\n",
    "It’s a good practice to handle exceptions that may occur during file operations, such as `FileNotFoundError` or `IOError`.\n",
    "\n",
    "#### **Example with Exception Handling**\n",
    "\n",
    "```python\n",
    "try:\n",
    "    with open(\"non_existent_file.txt\", \"r\") as file:\n",
    "        content = file.read()\n",
    "except FileNotFoundError:\n",
    "    print(\"The file does not exist.\")\n",
    "except IOError:\n",
    "    print(\"An I/O error occurred.\")\n",
    "```\n",
    "\n",
    "### **Working with Binary Files**\n",
    "\n",
    "To work with binary files (like images, audio files, etc.), use binary modes (`'rb'` for reading and `'wb'` for writing).\n",
    "\n",
    "#### **Example of Reading a Binary File**\n",
    "\n",
    "```python\n",
    "with open(\"image.jpg\", \"rb\") as file:\n",
    "    binary_data = file.read()\n",
    "    # Process binary data as required\n",
    "```\n",
    "\n",
    "### **Conclusion**\n",
    "\n",
    "File handling in Python is straightforward and powerful, allowing you to work with text and binary files efficiently. By understanding file modes, reading and writing methods, and exception handling, you can effectively manage files in your applications. \n",
    "\n",
    "\n",
    "-----------\n",
    "\n"
   ]
  },
  {
   "cell_type": "markdown",
   "metadata": {},
   "source": [
    "### ***`Let's Practice`***\n",
    "\n",
    "- Uncomment code to practice."
   ]
  },
  {
   "cell_type": "code",
   "execution_count": 1,
   "metadata": {},
   "outputs": [],
   "source": [
    "# file_handling = open(\"example.txt\",\"r\") # only works if file exixts"
   ]
  },
  {
   "cell_type": "code",
   "execution_count": 2,
   "metadata": {},
   "outputs": [],
   "source": [
    "# # write mode\n",
    "\n",
    "# file_handling = open(\"example.txt\",\"w\") # create a new file if file does not exist\n",
    "# file_handling.write(\"____Practice File for Learning File Handling Concept in Python____.\")\n",
    "# file_handling.close()"
   ]
  },
  {
   "cell_type": "code",
   "execution_count": 3,
   "metadata": {},
   "outputs": [],
   "source": [
    "# # read mode\n",
    "\n",
    "# file_handling = open(\"example.txt\",\"r\") # read the file\n",
    "# file_handling.read()"
   ]
  },
  {
   "cell_type": "code",
   "execution_count": 4,
   "metadata": {},
   "outputs": [],
   "source": [
    "# # append mode\n",
    "\n",
    "# file_handling = open(\"example.txt\",\"a\")\n",
    "# file_handling.write(\"\\n\\n____Now I am Writing Something Using Append Mode for File Handling____.\")\n",
    "# file_handling.close()"
   ]
  },
  {
   "cell_type": "code",
   "execution_count": 5,
   "metadata": {},
   "outputs": [],
   "source": [
    "# # write binary mode\n",
    "\n",
    "# file_handling = open(\"example.txt\",\"wb\")\n",
    "# file_handling.write(b\"\\n\\n____Now I am Writing Something Using Binary Mode for File Handling____.\")\n",
    "# file_handling.close()"
   ]
  },
  {
   "cell_type": "code",
   "execution_count": 6,
   "metadata": {},
   "outputs": [],
   "source": [
    "# # write multiple lines\n",
    "\n",
    "# file_handling = open(\"example.txt\",\"w\")\n",
    "# lines = [\"Hello,\\n\", \"My Name is Muhammad Adil Naeeem.\\n\",\"Now I am Learning File Handling in Python Programming Using writelines concept.\\n\",\"Wish me Best of Luck.\"]\n",
    "# file_handling.writelines(lines)\n",
    "# file_handling.close()\n",
    "\n",
    "# # read the file again\n",
    "# file_handling = open(\"example.txt\",\"r\")\n",
    "# no_backslash = file_handling.read()\n",
    "# print(no_backslash)"
   ]
  },
  {
   "cell_type": "code",
   "execution_count": 7,
   "metadata": {},
   "outputs": [],
   "source": [
    "# # using readlines\n",
    "\n",
    "# file_handling = open(\"example.txt\",\"r\")\n",
    "# read_lines = file_handling.readlines()\n",
    "\n",
    "# for line in read_lines:\n",
    "#     print(line)"
   ]
  },
  {
   "cell_type": "markdown",
   "metadata": {},
   "source": [
    "-----------"
   ]
  }
 ],
 "metadata": {
  "kernelspec": {
   "display_name": ".venv",
   "language": "python",
   "name": "python3"
  },
  "language_info": {
   "codemirror_mode": {
    "name": "ipython",
    "version": 3
   },
   "file_extension": ".py",
   "mimetype": "text/x-python",
   "name": "python",
   "nbconvert_exporter": "python",
   "pygments_lexer": "ipython3",
   "version": "3.10.15"
  }
 },
 "nbformat": 4,
 "nbformat_minor": 2
}
