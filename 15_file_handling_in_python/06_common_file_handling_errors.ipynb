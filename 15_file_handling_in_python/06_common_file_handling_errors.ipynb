{
 "cells": [
  {
   "cell_type": "markdown",
   "metadata": {},
   "source": [
    "\n",
    "\n",
    "-------------------\n",
    "\n",
    "# ***`Common File Handling Errors in Python`***\n",
    "\n",
    "File handling in Python is subject to various errors, mainly related to file access, permissions, and non-existent files. Understanding these errors is crucial for robust application development.\n",
    "\n",
    "#### **1. FileNotFoundError**\n",
    "\n",
    "**Description**: This error occurs when you attempt to open a file that does not exist.\n",
    "\n",
    "**Causes**:\n",
    "- Specifying an incorrect file name or path.\n",
    "- The file has been moved or deleted.\n",
    "\n",
    "**Example**:\n",
    "\n",
    "```python\n",
    "try:\n",
    "    with open(\"non_existent_file.txt\", \"r\") as file:\n",
    "        content = file.read()\n",
    "except FileNotFoundError as e:\n",
    "    print(f\"Error: {e}\")\n",
    "```\n",
    "\n",
    "**Handling**: Always check if the file exists before attempting to open it.\n",
    "\n",
    "#### **2. PermissionError**\n",
    "\n",
    "**Description**: This error occurs when you try to open a file without the necessary permissions.\n",
    "\n",
    "**Causes**:\n",
    "- Attempting to write to a read-only file.\n",
    "- Trying to access a file or directory without proper permissions.\n",
    "\n",
    "**Example**:\n",
    "\n",
    "```python\n",
    "try:\n",
    "    with open(\"/root/protected_file.txt\", \"w\") as file:\n",
    "        file.write(\"Hello, World!\")\n",
    "except PermissionError as e:\n",
    "    print(f\"Error: {e}\")\n",
    "```\n",
    "\n",
    "**Handling**: Ensure that you have the necessary permissions for the file or directory you're trying to access.\n",
    "\n",
    "#### **3. IsADirectoryError**\n",
    "\n",
    "**Description**: This error occurs when you try to perform file operations on a directory instead of a file.\n",
    "\n",
    "**Causes**:\n",
    "- Attempting to read or write to a directory as if it were a file.\n",
    "\n",
    "**Example**:\n",
    "\n",
    "```python\n",
    "try:\n",
    "    with open(\"my_directory\", \"r\") as file:  # Assuming 'my_directory' is a directory\n",
    "        content = file.read()\n",
    "except IsADirectoryError as e:\n",
    "    print(f\"Error: {e}\")\n",
    "```\n",
    "\n",
    "**Handling**: Check the file path and ensure you're trying to open a file, not a directory.\n",
    "\n",
    "#### **4. IOError**\n",
    "\n",
    "**Description**: This is a general input/output error that can occur during file operations, such as reading or writing.\n",
    "\n",
    "**Causes**:\n",
    "- Hardware failure (e.g., disk failure).\n",
    "- File system issues.\n",
    "- Running out of disk space.\n",
    "\n",
    "**Example**:\n",
    "\n",
    "```python\n",
    "try:\n",
    "    with open(\"my_file.txt\", \"w\") as file:\n",
    "        file.write(\"Hello, World!\")\n",
    "except IOError as e:\n",
    "    print(f\"Error: {e}\")\n",
    "```\n",
    "\n",
    "**Handling**: Use exception handling to catch this error and take appropriate action, such as notifying the user.\n",
    "\n",
    "#### **5. EOFError**\n",
    "\n",
    "**Description**: This error occurs when one of the built-in functions (like `input()`) reaches the end of the file (EOF) without reading any data.\n",
    "\n",
    "**Causes**:\n",
    "- Attempting to read from a file that has no content left.\n",
    "\n",
    "**Example**:\n",
    "\n",
    "```python\n",
    "try:\n",
    "    with open(\"empty_file.txt\", \"r\") as file:\n",
    "        content = file.read()\n",
    "except EOFError as e:\n",
    "    print(f\"Error: {e}\")\n",
    "```\n",
    "\n",
    "**Handling**: Check the file contents before reading.\n",
    "\n",
    "#### **6. ValueError**\n",
    "\n",
    "**Description**: This error can occur when trying to read from a file using an incorrect method.\n",
    "\n",
    "**Causes**:\n",
    "- Using the wrong parameters or formats when reading data from a file.\n",
    "\n",
    "**Example**:\n",
    "\n",
    "```python\n",
    "try:\n",
    "    with open(\"data.txt\", \"r\") as file:\n",
    "        number = int(file.read())  # If the file contains non-numeric data\n",
    "except ValueError as e:\n",
    "    print(f\"Error: {e}\")\n",
    "```\n",
    "\n",
    "**Handling**: Validate the data you read from the file before processing it.\n",
    "\n",
    "### **Best Practices for Handling File Errors**\n",
    "\n",
    "1. **Use Try-Except Blocks**: Always wrap file operations in try-except blocks to handle potential errors gracefully.\n",
    "\n",
    "2. **Check File Existence**: Use `os.path.exists()` or the `Path` class from `pathlib` to check if a file exists before attempting to open it.\n",
    "\n",
    "   ```python\n",
    "   import os\n",
    "\n",
    "   if os.path.exists(\"my_file.txt\"):\n",
    "       with open(\"my_file.txt\", \"r\") as file:\n",
    "           content = file.read()\n",
    "   else:\n",
    "       print(\"File does not exist.\")\n",
    "   ```\n",
    "\n",
    "3. **Validate User Input**: When taking file names or paths as input, validate them to ensure they conform to expected formats.\n",
    "\n",
    "4. **Handle Permissions**: Consider using error handling to manage permission issues, and inform users about the required permissions.\n",
    "\n",
    "5. **Clean Up Resources**: Use context managers (`with` statement) to ensure files are properly closed, even if an error occurs.\n",
    "\n",
    "6. **Log Errors**: Consider logging errors to a file or console for better debugging and monitoring of issues.\n",
    "\n",
    "### **Conclusion**\n",
    "\n",
    "File handling errors in Python can disrupt program execution if not managed properly. Understanding common errors such as `FileNotFoundError`, `PermissionError`, and others, along with appropriate handling strategies, will help you create robust and user-friendly applications. \n",
    "\n",
    "----------------\n",
    "\n"
   ]
  },
  {
   "cell_type": "markdown",
   "metadata": {},
   "source": [
    "### ***`Let's Practice`***"
   ]
  },
  {
   "cell_type": "markdown",
   "metadata": {},
   "source": [
    "#### **`FileNotFoundError`**"
   ]
  },
  {
   "cell_type": "code",
   "execution_count": 27,
   "metadata": {},
   "outputs": [],
   "source": [
    "# try:\n",
    "#     with open(\"my_file.txt\",\"r\") as file:\n",
    "#         read_file = file.read()\n",
    "#         print(read_file)\n",
    "# except FileNotFoundError as e:\n",
    "#     print(f\"Error encountred 💨 {e}.\")"
   ]
  },
  {
   "cell_type": "markdown",
   "metadata": {},
   "source": [
    "#### **`IsADirectoryError`**"
   ]
  },
  {
   "cell_type": "code",
   "execution_count": 28,
   "metadata": {},
   "outputs": [],
   "source": [
    "# import os\n",
    "\n",
    "# directory_path = \"example_directory\"\n",
    "\n",
    "# try:\n",
    "#     if os.path.isdir(directory_path):\n",
    "#         raise IsADirectoryError(f\"{directory_path} is a directory, not a file.\")\n",
    "    \n",
    "#     with open(directory_path, \"r\") as file:\n",
    "#         directory_read = file.read()\n",
    "\n",
    "# except IsADirectoryError as e:\n",
    "#     print(f\"Error encountered 💨 {e}.\")\n",
    "# except FileNotFoundError as e:\n",
    "#     print(f\"File not found 💨 {e}.\")\n",
    "# except Exception as e:\n",
    "#     print(f\"An unexpected error occurred 💨 {e}.\")"
   ]
  },
  {
   "cell_type": "markdown",
   "metadata": {},
   "source": [
    "#### **`FileExistsError`**"
   ]
  },
  {
   "cell_type": "code",
   "execution_count": 29,
   "metadata": {},
   "outputs": [],
   "source": [
    "# try:\n",
    "#     with open(\"file.txt\",\"x\") as file:\n",
    "#         file.write(\"\\n__We are working in x mode__\")\n",
    "\n",
    "# except FileExistsError as e:\n",
    "#     print(f\"Error encountred 💨 {e}.\")\n",
    "\n",
    "# except Exception as e:\n",
    "#     print(f\"Error encountred 💨 {e}.\")\n",
    "    \n"
   ]
  },
  {
   "cell_type": "markdown",
   "metadata": {},
   "source": [
    "#### **`ValueError`**"
   ]
  },
  {
   "cell_type": "code",
   "execution_count": 30,
   "metadata": {},
   "outputs": [],
   "source": [
    "# try:\n",
    "#     with open(\"file.txt\",\"my\") as file:\n",
    "#         read_file = file.read(file)\n",
    "\n",
    "# except ValueError as e:\n",
    "#     print(f\"Error encountred 💨 {e}.\")\n",
    "\n",
    "# except Exception as e:\n",
    "#     print(f\"Error encountred 💨 {e}.\")"
   ]
  },
  {
   "cell_type": "markdown",
   "metadata": {},
   "source": [
    "#### **`PermissionError`** "
   ]
  },
  {
   "cell_type": "code",
   "execution_count": 31,
   "metadata": {},
   "outputs": [],
   "source": [
    "# import os\n",
    "# import stat\n",
    "\n",
    "# file_path = \"example.txt\"\n",
    "\n",
    "# with open(file_path,\"w\") as file:\n",
    "#     read_file = file.write(\"__Welcome to Error World Especialy EOFError__.\")\n",
    "\n",
    "# os.chmod(file_path,stat.S_IREAD)\n",
    "# print(f\"File '{file_path}' has been set to read only mode.\")\n",
    "\n",
    "# try:\n",
    "#     with open(file_path,\"w\") as file:\n",
    "#         read_file = file.wite(\"__Welcome to Error World Especialy EOFError__.\")\n",
    "\n",
    "# except EOFError as e:\n",
    "#     print(f\"Error encountred 💨 {e}.\")\n",
    "\n",
    "# except Exception as e:\n",
    "#     print(f\"Error encountred 💨 {e}.\")"
   ]
  },
  {
   "cell_type": "markdown",
   "metadata": {},
   "source": [
    "#### **`EOFError`**"
   ]
  },
  {
   "cell_type": "code",
   "execution_count": 32,
   "metadata": {},
   "outputs": [],
   "source": [
    "# try:\n",
    "#     with open(\"file.txt\", \"r\") as file:\n",
    "#         read_file = file.read()\n",
    "        \n",
    "#         # Attempt to read again to mimic an extra read\n",
    "#         extra_read = file.read()\n",
    "        \n",
    "#         if not extra_read:\n",
    "#             print(\"Reached the end of the file after the first read.\")\n",
    "# except FileNotFoundError as e:\n",
    "#     print(f\"File not found 💨 {e}.\")\n",
    "# except Exception as e:\n",
    "#     print(f\"An unexpected error occurred 💨 {e}.\")"
   ]
  },
  {
   "cell_type": "markdown",
   "metadata": {},
   "source": [
    "----------"
   ]
  }
 ],
 "metadata": {
  "kernelspec": {
   "display_name": ".venv",
   "language": "python",
   "name": "python3"
  },
  "language_info": {
   "codemirror_mode": {
    "name": "ipython",
    "version": 3
   },
   "file_extension": ".py",
   "mimetype": "text/x-python",
   "name": "python",
   "nbconvert_exporter": "python",
   "pygments_lexer": "ipython3",
   "version": "3.10.15"
  }
 },
 "nbformat": 4,
 "nbformat_minor": 2
}
