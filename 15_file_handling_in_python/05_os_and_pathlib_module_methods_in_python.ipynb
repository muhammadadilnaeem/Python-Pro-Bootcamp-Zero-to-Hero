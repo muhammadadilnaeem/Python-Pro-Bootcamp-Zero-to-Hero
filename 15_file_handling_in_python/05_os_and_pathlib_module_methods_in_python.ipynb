{
 "cells": [
  {
   "cell_type": "markdown",
   "metadata": {},
   "source": [
    "\n",
    "\n",
    "---------------------\n",
    "\n",
    "# ***`Os & Pathlib Module Methods in Python`***\n",
    "\n",
    "<br>\n",
    "\n",
    "### **1. `os` Module**\n",
    "\n",
    "The `os` module in Python provides a way of using operating system-dependent functionality. It allows you to interact with the file system, manage processes, and perform various operating system tasks.\n",
    "\n",
    "#### **Common Methods in the `os` Module**\n",
    "\n",
    "1. **File and Directory Operations**\n",
    "   - `os.getcwd()`: Returns the current working directory.\n",
    "   - `os.chdir(path)`: Changes the current working directory to the specified path.\n",
    "   - `os.mkdir(path)`: Creates a new directory at the specified path.\n",
    "   - `os.makedirs(path)`: Creates a directory and any necessary parent directories.\n",
    "   - `os.rmdir(path)`: Removes an empty directory.\n",
    "   - `os.removedirs(path)`: Removes a directory and all empty parent directories.\n",
    "   - `os.listdir(path)`: Returns a list of entries in the specified directory.\n",
    "\n",
    "   ```python\n",
    "   import os\n",
    "\n",
    "   # Get current working directory\n",
    "   cwd = os.getcwd()\n",
    "   print(\"Current Directory:\", cwd)\n",
    "\n",
    "   # Create a new directory\n",
    "   os.mkdir(\"new_directory\")\n",
    "\n",
    "   # List files in the current directory\n",
    "   files = os.listdir(\".\")\n",
    "   print(\"Files in Current Directory:\", files)\n",
    "   ```\n",
    "\n",
    "2. **File Handling**\n",
    "   - `os.rename(src, dst)`: Renames a file or directory from `src` to `dst`.\n",
    "   - `os.remove(path)`: Removes (deletes) the file at the specified path.\n",
    "   - `os.path.exists(path)`: Checks if a path exists.\n",
    "\n",
    "   ```python\n",
    "   # Rename a file\n",
    "   os.rename(\"old_file.txt\", \"new_file.txt\")\n",
    "\n",
    "   # Check if a file exists\n",
    "   if os.path.exists(\"new_file.txt\"):\n",
    "       print(\"File exists.\")\n",
    "   ```\n",
    "\n",
    "3. **Environment Variables**\n",
    "   - `os.environ`: A mapping representing the string environment. You can access environment variables using it.\n",
    "   - `os.getenv(key)`: Gets the value of the environment variable `key`.\n",
    "\n",
    "   ```python\n",
    "   # Get an environment variable\n",
    "   home_dir = os.getenv(\"HOME\")\n",
    "   print(\"Home Directory:\", home_dir)\n",
    "   ```\n",
    "\n",
    "4. **Process Management**\n",
    "   - `os.system(command)`: Executes a command in the subshell.\n",
    "   - `os.getpid()`: Returns the current process ID.\n",
    "\n",
    "   ```python\n",
    "   # Run a shell command\n",
    "   os.system(\"echo Hello, World!\")\n",
    "   ```\n",
    "\n",
    "### **2. `pathlib` Module**\n",
    "\n",
    "The `pathlib` module provides a flexible and convenient way to work with file system paths. It presents paths as objects, allowing for a more intuitive handling of file system paths than string manipulation.\n",
    "\n",
    "#### **Key Classes in `pathlib`**\n",
    "\n",
    "1. **Path**: The core class representing a filesystem path. It can represent both files and directories.\n",
    "\n",
    "#### **Common Methods in the `pathlib` Module**\n",
    "\n",
    "1. **Creating Path Objects**\n",
    "   - `Path(path)`: Creates a Path object from a string path.\n",
    "   - `Path.home()`: Returns the home directory of the current user.\n",
    "   - `Path.cwd()`: Returns the current working directory.\n",
    "\n",
    "   ```python\n",
    "   from pathlib import Path\n",
    "\n",
    "   # Create a Path object\n",
    "   path = Path(\"example.txt\")\n",
    "\n",
    "   # Get the home directory\n",
    "   home_path = Path.home()\n",
    "   print(\"Home Directory:\", home_path)\n",
    "   ```\n",
    "\n",
    "2. **File and Directory Operations**\n",
    "   - `path.exists()`: Checks if the path exists.\n",
    "   - `path.is_file()`: Checks if the path is a file.\n",
    "   - `path.is_dir()`: Checks if the path is a directory.\n",
    "   - `path.mkdir()`: Creates a new directory.\n",
    "   - `path.rmdir()`: Removes the directory (must be empty).\n",
    "\n",
    "   ```python\n",
    "   # Check if the file exists\n",
    "   if path.exists():\n",
    "       print(\"File exists.\")\n",
    "\n",
    "   # Create a directory\n",
    "   dir_path = Path(\"new_directory\")\n",
    "   dir_path.mkdir()\n",
    "   ```\n",
    "\n",
    "3. **Reading and Writing Files**\n",
    "   - `path.read_text()`: Reads the content of a text file.\n",
    "   - `path.write_text(data)`: Writes data to a text file.\n",
    "\n",
    "   ```python\n",
    "   # Write to a file\n",
    "   path.write_text(\"Hello, World!\")\n",
    "\n",
    "   # Read from a file\n",
    "   content = path.read_text()\n",
    "   print(\"File Content:\", content)\n",
    "   ```\n",
    "\n",
    "4. **Path Manipulation**\n",
    "   - `path.name`: Returns the final component of the path (the file name).\n",
    "   - `path.parent`: Returns the parent directory of the path.\n",
    "   - `path.suffix`: Returns the file extension.\n",
    "   - `path.stem`: Returns the file name without the extension.\n",
    "\n",
    "   ```python\n",
    "   print(\"File Name:\", path.name)\n",
    "   print(\"Parent Directory:\", path.parent)\n",
    "   print(\"File Suffix:\", path.suffix)\n",
    "   ```\n",
    "\n",
    "5. **Iterating Over Directory Contents**\n",
    "   - `path.iterdir()`: Iterates over the contents of a directory.\n",
    "\n",
    "   ```python\n",
    "   # List all files in a directory\n",
    "   for item in dir_path.iterdir():\n",
    "       print(item)\n",
    "   ```\n",
    "\n",
    "### **Conclusion**\n",
    "\n",
    "The `os` and `pathlib` modules provide powerful tools for file and directory manipulation in Python. While `os` allows for direct interaction with the operating system and file system, `pathlib` offers an object-oriented approach to handling paths, making it easier to read and write files and manipulate paths. Depending on your use case, you can choose either module to manage file operations effectively.\n",
    "\n",
    "-------------\n",
    "\n"
   ]
  },
  {
   "cell_type": "markdown",
   "metadata": {},
   "source": [
    "### ***`Let's Practice`***\n",
    "\n",
    "- Uncomment the code to practice."
   ]
  },
  {
   "cell_type": "markdown",
   "metadata": {},
   "source": [
    "### **os**"
   ]
  },
  {
   "cell_type": "code",
   "execution_count": 15,
   "metadata": {},
   "outputs": [],
   "source": [
    "# import os\n",
    "\n",
    "# # check your current directory\n",
    "# os.getcwd()"
   ]
  },
  {
   "cell_type": "code",
   "execution_count": 16,
   "metadata": {},
   "outputs": [],
   "source": [
    "# # create a directory\n",
    "# os.mkdir(\"practice_directory_or_folder\")"
   ]
  },
  {
   "cell_type": "code",
   "execution_count": 17,
   "metadata": {},
   "outputs": [],
   "source": [
    "# # create a new directory in already existing directory\n",
    "# os.makedirs(\"practice_directory_or_folder/inner_folder\")"
   ]
  },
  {
   "cell_type": "code",
   "execution_count": 18,
   "metadata": {},
   "outputs": [],
   "source": [
    "# # list of files in present directories\n",
    "# os.listdir('e:\\\\Python Pro Bootcamp Zero to Hero')"
   ]
  },
  {
   "cell_type": "code",
   "execution_count": 19,
   "metadata": {},
   "outputs": [],
   "source": [
    "# # change directory path\n",
    "# os.chdir(\"practice_directory_or_folder\")"
   ]
  },
  {
   "cell_type": "code",
   "execution_count": 20,
   "metadata": {},
   "outputs": [],
   "source": [
    "# # remove a single directory\n",
    "# os.rmdir(\"inner_folder\")"
   ]
  },
  {
   "cell_type": "code",
   "execution_count": 21,
   "metadata": {},
   "outputs": [],
   "source": [
    "# # remove all directories in specific path\n",
    "# os.removedirs(\"practice_directory_or_folder/inner_folder\")"
   ]
  },
  {
   "cell_type": "code",
   "execution_count": 22,
   "metadata": {},
   "outputs": [],
   "source": [
    "# # rename or change name of file \n",
    "# os.rename(\"example.txt\",\"new_example.txt\")"
   ]
  },
  {
   "cell_type": "code",
   "execution_count": 23,
   "metadata": {},
   "outputs": [],
   "source": [
    "# # create a path with subdirectory and a file in sub directory\n",
    "\n",
    "# import os\n",
    "\n",
    "# folder = \"practice_folder\"\n",
    "# sub_folder = \"sub_practice_folder\"\n",
    "# file_name = \"text.txt\"\n",
    "\n",
    "# our_full_path = os.path.join(folder,sub_folder,file_name)\n",
    "# our_directory_path = os.path.dirname(our_full_path)\n",
    "\n",
    "# # check if path exists or not is not create a path\n",
    "# if not os.path.exists(our_directory_path):\n",
    "#     os.makedirs(our_directory_path)\n",
    "#     print(f\"Path Created Successfully .... {our_directory_path}\")\n",
    "\n",
    "# # check if file exists or not if not create new file\n",
    "# if not os.path.isfile(our_full_path):\n",
    "#     with open(\"text.txt\",\"w\") as file:\n",
    "#         file.write(\"Created and Written Successfully\")\n",
    "#         print(f\"Path and File Created Successfully .... {our_full_path}\")"
   ]
  },
  {
   "cell_type": "markdown",
   "metadata": {},
   "source": [
    "-------"
   ]
  }
 ],
 "metadata": {
  "kernelspec": {
   "display_name": ".venv",
   "language": "python",
   "name": "python3"
  },
  "language_info": {
   "codemirror_mode": {
    "name": "ipython",
    "version": 3
   },
   "file_extension": ".py",
   "mimetype": "text/x-python",
   "name": "python",
   "nbconvert_exporter": "python",
   "pygments_lexer": "ipython3",
   "version": "3.10.15"
  }
 },
 "nbformat": 4,
 "nbformat_minor": 2
}
