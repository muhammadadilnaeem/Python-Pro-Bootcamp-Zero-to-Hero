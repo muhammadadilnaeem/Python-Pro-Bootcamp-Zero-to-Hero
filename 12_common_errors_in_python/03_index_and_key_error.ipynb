{
 "cells": [
  {
   "cell_type": "markdown",
   "metadata": {},
   "source": [
    "\n",
    "\n",
    "--------\n",
    "\n",
    "# ***`IndexError in Python`***\n",
    "\n",
    "#### **Definition**\n",
    "\n",
    "An **IndexError** occurs when trying to access an index in a list, tuple, or other indexed collection that is out of bounds. This means that the index specified does not exist within the collection.\n",
    "\n",
    "#### **Common Causes of IndexError**\n",
    "\n",
    "1. **Accessing an Out-of-Range Index**: Trying to access an index that exceeds the length of the collection.\n",
    "2. **Negative Indexing Out of Bounds**: Using negative indices that are beyond the valid range of negative indices.\n",
    "3. **Empty Collections**: Attempting to access any index in an empty list or tuple.\n",
    "\n",
    "### **Common Scenarios Leading to IndexError**\n",
    "\n",
    "1. **Out-of-Range Access**:\n",
    "\n",
    "   ```python\n",
    "   my_list = [10, 20, 30]\n",
    "   print(my_list[3])  # Trying to access an index that does not exist\n",
    "   ```\n",
    "\n",
    "   **Output**:\n",
    "   ```\n",
    "   IndexError: list index out of range\n",
    "   ```\n",
    "\n",
    "2. **Negative Indexing**:\n",
    "\n",
    "   ```python\n",
    "   my_list = [10, 20, 30]\n",
    "   print(my_list[-4])  # Attempting to access an invalid negative index\n",
    "   ```\n",
    "\n",
    "   **Output**:\n",
    "   ```\n",
    "   IndexError: list index out of range\n",
    "   ```\n",
    "\n",
    "3. **Accessing Elements in an Empty List**:\n",
    "\n",
    "   ```python\n",
    "   empty_list = []\n",
    "   print(empty_list[0])  # Trying to access an element in an empty list\n",
    "   ```\n",
    "\n",
    "   **Output**:\n",
    "   ```\n",
    "   IndexError: list index out of range\n",
    "   ```\n",
    "\n",
    "### **Handling IndexError**\n",
    "\n",
    "To handle IndexErrors effectively, you can use **try-except** blocks. This allows you to catch the error and take appropriate action without crashing the program.\n",
    "\n",
    "#### **Example of Handling IndexError**\n",
    "\n",
    "```python\n",
    "def get_element(my_list, index):\n",
    "    try:\n",
    "        return my_list[index]\n",
    "    except IndexError:\n",
    "        return \"Error: Index out of range.\"\n",
    "\n",
    "# Example usage\n",
    "print(get_element([1, 2, 3], 5))  # Output: Error: Index out of range.\n",
    "```\n",
    "\n",
    "### **KeyError in Python**\n",
    "\n",
    "#### **Definition**\n",
    "\n",
    "A **KeyError** occurs when trying to access a dictionary with a key that does not exist in that dictionary. This means that the key specified is not present in the dictionary's keys.\n",
    "\n",
    "#### **Common Causes of KeyError**\n",
    "\n",
    "1. **Accessing a Non-Existent Key**: Trying to retrieve a value using a key that is not in the dictionary.\n",
    "2. **Misspelling Keys**: Typographical errors when specifying the key.\n",
    "3. **Using Dynamic Keys**: Accessing keys generated during runtime that may not exist.\n",
    "\n",
    "### **Common Scenarios Leading to KeyError**\n",
    "\n",
    "1. **Accessing a Non-Existent Key**:\n",
    "\n",
    "   ```python\n",
    "   my_dict = {'a': 1, 'b': 2}\n",
    "   print(my_dict['c'])  # Trying to access a key that does not exist\n",
    "   ```\n",
    "\n",
    "   **Output**:\n",
    "   ```\n",
    "   KeyError: 'c'\n",
    "   ```\n",
    "\n",
    "2. **Misspelled Key**:\n",
    "\n",
    "   ```python\n",
    "   my_dict = {'name': 'Alice', 'age': 30}\n",
    "   print(my_dict['Name'])  # Key is misspelled (case-sensitive)\n",
    "   ```\n",
    "\n",
    "   **Output**:\n",
    "   ```\n",
    "   KeyError: 'Name'\n",
    "   ```\n",
    "\n",
    "3. **Dynamic Key Access**:\n",
    "\n",
    "   ```python\n",
    "   keys = ['a', 'b', 'c']\n",
    "   my_dict = {'a': 1, 'b': 2}\n",
    "   for key in keys:\n",
    "       print(my_dict[key])  # Key 'c' does not exist\n",
    "   ```\n",
    "\n",
    "   **Output**:\n",
    "   ```\n",
    "   KeyError: 'c'\n",
    "   ```\n",
    "\n",
    "### **Handling KeyError**\n",
    "\n",
    "To handle KeyErrors effectively, you can use **try-except** blocks or the `get()` method, which allows you to specify a default value if the key does not exist.\n",
    "\n",
    "#### **Example of Handling KeyError**\n",
    "\n",
    "```python\n",
    "def get_value(my_dict, key):\n",
    "    try:\n",
    "        return my_dict[key]\n",
    "    except KeyError:\n",
    "        return \"Error: Key not found.\"\n",
    "\n",
    "# Example usage\n",
    "print(get_value({'a': 1, 'b': 2}, 'c'))  # Output: Error: Key not found.\n",
    "```\n",
    "\n",
    "#### Using the `get()` Method\n",
    "\n",
    "The `get()` method provides a way to access dictionary values while avoiding KeyErrors.\n",
    "\n",
    "```python\n",
    "my_dict = {'a': 1, 'b': 2}\n",
    "value = my_dict.get('c', \"Default Value\")  # Default value if key 'c' does not exist\n",
    "print(value)  # Output: Default Value\n",
    "```\n",
    "\n",
    "### **Conclusion**\n",
    "\n",
    "**IndexErrors** and **KeyErrors** are common exceptions in Python that occur when attempting to access elements from collections using invalid indices or keys. Understanding their causes, how to handle them using try-except blocks, and employing methods like `get()` for dictionaries can help you write more robust and error-free code. \n",
    "\n",
    "-----\n",
    "\n"
   ]
  },
  {
   "cell_type": "markdown",
   "metadata": {},
   "source": [
    "### ***`Let's Practice`***"
   ]
  },
  {
   "cell_type": "code",
   "execution_count": 3,
   "metadata": {},
   "outputs": [],
   "source": [
    "# # accessing a non-existing element\n",
    "\n",
    "# l = [1,2,3,4,5]\n",
    "\n",
    "# print(l[5]) # IndexError: list index out of range"
   ]
  },
  {
   "cell_type": "code",
   "execution_count": 8,
   "metadata": {},
   "outputs": [],
   "source": [
    "# # accessing a non-existing element\n",
    "\n",
    "# l = [1,2,3,4,5]\n",
    "\n",
    "# print(l[-6]) # IndexError: list index out of range"
   ]
  },
  {
   "cell_type": "code",
   "execution_count": 10,
   "metadata": {},
   "outputs": [],
   "source": [
    "# # empty list\n",
    "\n",
    "# l = []\n",
    "\n",
    "# print(l[0]) # IndexError: list index out of range"
   ]
  },
  {
   "cell_type": "code",
   "execution_count": 12,
   "metadata": {},
   "outputs": [],
   "source": [
    "# # using .pop() on a Non-Existant key\n",
    "\n",
    "# l = [1,2,3,4]\n",
    "\n",
    "# for i in range(len(l)):\n",
    "#     print(l[i])\n",
    "#     l.pop() # IndexError: list index out of range"
   ]
  },
  {
   "cell_type": "code",
   "execution_count": 15,
   "metadata": {},
   "outputs": [],
   "source": [
    "# # existing non-existant atribute\n",
    "\n",
    "# d = {\"A\":1}\n",
    "\n",
    "# d[' A'] # KeyError: ' A'"
   ]
  },
  {
   "cell_type": "code",
   "execution_count": 17,
   "metadata": {},
   "outputs": [],
   "source": [
    "# d = {\"A\":1}\n",
    "\n",
    "# d.pop(' A') # KeyError: ' A'"
   ]
  },
  {
   "cell_type": "code",
   "execution_count": 19,
   "metadata": {},
   "outputs": [
    {
     "data": {
      "text/plain": [
       "0"
      ]
     },
     "execution_count": 19,
     "metadata": {},
     "output_type": "execute_result"
    }
   ],
   "source": [
    "# to avoid key error\n",
    "\n",
    "d = {\"A\":1}\n",
    "\n",
    "d.get(' A',0) # if it exist ok othervise return 0"
   ]
  },
  {
   "cell_type": "markdown",
   "metadata": {},
   "source": [
    "----"
   ]
  }
 ],
 "metadata": {
  "kernelspec": {
   "display_name": ".venv",
   "language": "python",
   "name": "python3"
  },
  "language_info": {
   "codemirror_mode": {
    "name": "ipython",
    "version": 3
   },
   "file_extension": ".py",
   "mimetype": "text/x-python",
   "name": "python",
   "nbconvert_exporter": "python",
   "pygments_lexer": "ipython3",
   "version": "3.10.15"
  }
 },
 "nbformat": 4,
 "nbformat_minor": 2
}
