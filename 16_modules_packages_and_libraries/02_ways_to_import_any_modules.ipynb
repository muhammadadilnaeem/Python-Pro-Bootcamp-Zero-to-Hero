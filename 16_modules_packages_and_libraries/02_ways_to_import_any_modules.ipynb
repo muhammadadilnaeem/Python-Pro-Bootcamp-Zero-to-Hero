{
 "cells": [
  {
   "cell_type": "markdown",
   "metadata": {},
   "source": [
    "\n",
    "\n",
    "----------------------\n",
    "\n",
    "# ***`Ways to Import Modules in Python`***\n",
    "\n",
    "Python provides several methods to import modules, allowing for flexibility in how you structure your code and what you bring into your namespace. Below are the common ways to import modules:\n",
    "\n",
    "#### **1. Basic Import**\n",
    "\n",
    "You can import an entire module using the `import` statement. This allows you to access all functions, classes, and variables defined in the module using the module's name as a prefix.\n",
    "\n",
    "**Syntax**:\n",
    "\n",
    "```python\n",
    "import module_name\n",
    "```\n",
    "\n",
    "**Example**:\n",
    "\n",
    "```python\n",
    "import math\n",
    "\n",
    "print(math.sqrt(16))  # Output: 4.0\n",
    "```\n",
    "\n",
    "#### **2. Import with Alias**\n",
    "\n",
    "You can give a module an alias using the `as` keyword. This is particularly useful for shortening long module names or avoiding name conflicts.\n",
    "\n",
    "**Syntax**:\n",
    "\n",
    "```python\n",
    "import module_name as alias\n",
    "```\n",
    "\n",
    "**Example**:\n",
    "\n",
    "```python\n",
    "import numpy as np\n",
    "\n",
    "array = np.array([1, 2, 3])\n",
    "print(array)  # Output: [1 2 3]\n",
    "```\n",
    "\n",
    "#### **3. Import Specific Functions or Classes**\n",
    "\n",
    "You can import specific functions, classes, or variables from a module using the `from` keyword. This allows you to use them directly without the module prefix.\n",
    "\n",
    "**Syntax**:\n",
    "\n",
    "```python\n",
    "from module_name import function_name\n",
    "```\n",
    "\n",
    "**Example**:\n",
    "\n",
    "```python\n",
    "from math import sqrt\n",
    "\n",
    "print(sqrt(25))  # Output: 5.0\n",
    "```\n",
    "\n",
    "#### **4. Import Multiple Functions or Classes**\n",
    "\n",
    "You can import multiple functions or classes from a module in a single statement by separating them with commas.\n",
    "\n",
    "**Syntax**:\n",
    "\n",
    "```python\n",
    "from module_name import function1, function2, class1\n",
    "```\n",
    "\n",
    "**Example**:\n",
    "\n",
    "```python\n",
    "from math import sqrt, pow\n",
    "\n",
    "print(sqrt(16))  # Output: 4.0\n",
    "print(pow(2, 3))  # Output: 8.0\n",
    "```\n",
    "\n",
    "#### **5. Import All Functions and Classes**\n",
    "\n",
    "You can import everything from a module using the `*` operator. However, this approach is generally discouraged because it can lead to name clashes and makes it unclear which names are present in the namespace.\n",
    "\n",
    "**Syntax**:\n",
    "\n",
    "```python\n",
    "from module_name import *\n",
    "```\n",
    "\n",
    "**Example**:\n",
    "\n",
    "```python\n",
    "from math import *\n",
    "\n",
    "print(sqrt(9))  # Output: 3.0\n",
    "print(pi)       # Output: 3.141592653589793\n",
    "```\n",
    "\n",
    "#### **6. Nested Imports**\n",
    "\n",
    "You can also import modules within other modules. This is useful for organizing code but can lead to circular dependencies if not managed carefully.\n",
    "\n",
    "**Example**:\n",
    "\n",
    "```python\n",
    "# In module1.py\n",
    "def func1():\n",
    "    from module2 import func2\n",
    "    func2()\n",
    "\n",
    "# In module2.py\n",
    "def func2():\n",
    "    print(\"Function 2 called\")\n",
    "```\n",
    "\n",
    "#### **7. Conditional Imports**\n",
    "\n",
    "Sometimes, you may want to import a module conditionally, based on certain conditions (like platform checks).\n",
    "\n",
    "**Example**:\n",
    "\n",
    "```python\n",
    "import sys\n",
    "\n",
    "if sys.platform == \"win32\":\n",
    "    import windows_specific_module as win\n",
    "elif sys.platform == \"linux\":\n",
    "    import linux_specific_module as linux\n",
    "```\n",
    "\n",
    "### **Best Practices for Importing Modules**\n",
    "\n",
    "1. **Keep Imports Organized**: Place all import statements at the top of your Python files. This improves readability and helps avoid circular imports.\n",
    "\n",
    "2. **Use Aliases Wisely**: Use meaningful aliases when renaming modules to avoid confusion.\n",
    "\n",
    "3. **Avoid `import *`**: It’s generally best to avoid using `from module import *` to prevent namespace pollution and make your code easier to read.\n",
    "\n",
    "4. **Import Modules Only Once**: Python caches modules after the first import, so repeated imports do not lead to performance issues, but it’s good practice to import only what you need.\n",
    "\n",
    "5. **Group Imports**: Follow the convention of grouping standard library imports, third-party library imports, and local application imports separately.\n",
    "\n",
    "### **Conclusion**\n",
    "\n",
    "Understanding the various ways to import modules in Python is crucial for writing efficient and organized code. Each method has its use cases and best practices, allowing you to manage your namespaces effectively and enhance code readability. \n",
    "\n",
    "\n",
    "\n",
    "-------------\n",
    "\n"
   ]
  },
  {
   "cell_type": "markdown",
   "metadata": {},
   "source": [
    "### ***`Let's Practice`***"
   ]
  },
  {
   "cell_type": "code",
   "execution_count": 1,
   "metadata": {},
   "outputs": [
    {
     "data": {
      "text/plain": [
       "8.0"
      ]
     },
     "execution_count": 1,
     "metadata": {},
     "output_type": "execute_result"
    }
   ],
   "source": [
    "# basic import \n",
    "\n",
    "import math\n",
    "\n",
    "math.sqrt(64)\n"
   ]
  },
  {
   "cell_type": "code",
   "execution_count": 1,
   "metadata": {},
   "outputs": [
    {
     "name": "stdout",
     "output_type": "stream",
     "text": [
      "[1 2 3 4]\n"
     ]
    }
   ],
   "source": [
    "# import with alias\n",
    "\n",
    "import numpy as np\n",
    "\n",
    "obj = np.array([1,2,3,4])\n",
    "print(obj)"
   ]
  },
  {
   "cell_type": "code",
   "execution_count": 3,
   "metadata": {},
   "outputs": [
    {
     "data": {
      "text/plain": [
       "16.0"
      ]
     },
     "execution_count": 3,
     "metadata": {},
     "output_type": "execute_result"
    }
   ],
   "source": [
    "# import specific functions or classes\n",
    "\n",
    "from math import sqrt\n",
    "sqrt(256)"
   ]
  },
  {
   "cell_type": "code",
   "execution_count": 4,
   "metadata": {},
   "outputs": [
    {
     "name": "stdout",
     "output_type": "stream",
     "text": [
      "3.141592653589793\n"
     ]
    }
   ],
   "source": [
    "# import multiple functions or classes\n",
    "\n",
    "from math import sqrt, pi\n",
    "\n",
    "print(pi)"
   ]
  },
  {
   "cell_type": "code",
   "execution_count": 5,
   "metadata": {},
   "outputs": [
    {
     "data": {
      "text/plain": [
       "datetime.datetime(2024, 12, 17, 15, 10, 34, 618192)"
      ]
     },
     "execution_count": 5,
     "metadata": {},
     "output_type": "execute_result"
    }
   ],
   "source": [
    "# import from a submodule or package\n",
    "\n",
    "from datetime import datetime\n",
    "datetime.now()"
   ]
  },
  {
   "cell_type": "markdown",
   "metadata": {},
   "source": [
    "------"
   ]
  }
 ],
 "metadata": {
  "kernelspec": {
   "display_name": ".venv",
   "language": "python",
   "name": "python3"
  },
  "language_info": {
   "codemirror_mode": {
    "name": "ipython",
    "version": 3
   },
   "file_extension": ".py",
   "mimetype": "text/x-python",
   "name": "python",
   "nbconvert_exporter": "python",
   "pygments_lexer": "ipython3",
   "version": "3.10.15"
  }
 },
 "nbformat": 4,
 "nbformat_minor": 2
}
