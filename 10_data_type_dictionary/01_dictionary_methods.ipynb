{
 "cells": [
  {
   "cell_type": "markdown",
   "metadata": {},
   "source": [
    "\n",
    "\n",
    "-------\n",
    "\n",
    "\n",
    "# **`Dictionary Methods in Python`**\n",
    "\n",
    "Dictionaries in Python are mutable, unordered collections of key-value pairs. They provide several built-in methods that allow you to manipulate and interact with the data. Below are the key dictionary methods:\n",
    "\n",
    "#### 1. `clear()`\n",
    "\n",
    "- **Description**: Removes all items from the dictionary, resulting in an empty dictionary.\n",
    "- **Syntax**: `dict.clear()`\n",
    "\n",
    "**Example**:\n",
    "```python\n",
    "my_dict = {'a': 1, 'b': 2}\n",
    "my_dict.clear()\n",
    "print(my_dict)  # Output: {}\n",
    "```\n",
    "\n",
    "#### 2. `copy()`\n",
    "\n",
    "- **Description**: Returns a shallow copy of the dictionary.\n",
    "- **Syntax**: `dict.copy()`\n",
    "\n",
    "**Example**:\n",
    "```python\n",
    "original_dict = {'a': 1, 'b': 2}\n",
    "copied_dict = original_dict.copy()\n",
    "print(copied_dict)  # Output: {'a': 1, 'b': 2}\n",
    "```\n",
    "\n",
    "#### 3. `fromkeys()`\n",
    "\n",
    "- **Description**: Creates a new dictionary from the given sequence of keys, with a specified value for all keys.\n",
    "- **Syntax**: `dict.fromkeys(sequence[, value])`\n",
    "\n",
    "**Example**:\n",
    "```python\n",
    "keys = ('a', 'b', 'c')\n",
    "new_dict = dict.fromkeys(keys, 0)\n",
    "print(new_dict)  # Output: {'a': 0, 'b': 0, 'c': 0}\n",
    "```\n",
    "\n",
    "#### 4. `get()`\n",
    "\n",
    "- **Description**: Returns the value for the specified key if it exists; otherwise, returns a default value (None if not specified).\n",
    "- **Syntax**: `dict.get(key[, default])`\n",
    "\n",
    "**Example**:\n",
    "```python\n",
    "my_dict = {'a': 1, 'b': 2}\n",
    "print(my_dict.get('a'))      # Output: 1\n",
    "print(my_dict.get('c', 0))   # Output: 0 (default value)\n",
    "```\n",
    "\n",
    "#### 5. `items()`\n",
    "\n",
    "- **Description**: Returns a view object that displays a list of the dictionary's key-value tuple pairs.\n",
    "- **Syntax**: `dict.items()`\n",
    "\n",
    "**Example**:\n",
    "```python\n",
    "my_dict = {'a': 1, 'b': 2}\n",
    "items = my_dict.items()\n",
    "print(items)  # Output: dict_items([('a', 1), ('b', 2)])\n",
    "```\n",
    "\n",
    "#### 6. `keys()`\n",
    "\n",
    "- **Description**: Returns a view object that displays a list of all the keys in the dictionary.\n",
    "- **Syntax**: `dict.keys()`\n",
    "\n",
    "**Example**:\n",
    "```python\n",
    "my_dict = {'a': 1, 'b': 2}\n",
    "keys = my_dict.keys()\n",
    "print(keys)  # Output: dict_keys(['a', 'b'])\n",
    "```\n",
    "\n",
    "#### 7. `pop()`\n",
    "\n",
    "- **Description**: Removes the specified key and returns its value. Raises a `KeyError` if the key is not found.\n",
    "- **Syntax**: `dict.pop(key[, default])`\n",
    "\n",
    "**Example**:\n",
    "```python\n",
    "my_dict = {'a': 1, 'b': 2}\n",
    "value = my_dict.pop('a')\n",
    "print(value)  # Output: 1\n",
    "print(my_dict)  # Output: {'b': 2}\n",
    "```\n",
    "\n",
    "#### 8. `popitem()`\n",
    "\n",
    "- **Description**: Removes and returns the last inserted key-value pair as a tuple. Raises a `KeyError` if the dictionary is empty.\n",
    "- **Syntax**: `dict.popitem()`\n",
    "\n",
    "**Example**:\n",
    "```python\n",
    "my_dict = {'a': 1, 'b': 2}\n",
    "item = my_dict.popitem()\n",
    "print(item)  # Output: ('b', 2) (or ('a', 1), depending on insertion order)\n",
    "print(my_dict)  # Output: {'a': 1} (or empty if the last item was popped)\n",
    "```\n",
    "\n",
    "#### 9. `setdefault()`\n",
    "\n",
    "- **Description**: Returns the value of the specified key. If the key does not exist, it inserts the key with a specified value (default is None).\n",
    "- **Syntax**: `dict.setdefault(key[, default])`\n",
    "\n",
    "**Example**:\n",
    "```python\n",
    "my_dict = {'a': 1}\n",
    "value = my_dict.setdefault('b', 2)\n",
    "print(value)  # Output: 2\n",
    "print(my_dict)  # Output: {'a': 1, 'b': 2}\n",
    "```\n",
    "\n",
    "#### 10. `update()`\n",
    "\n",
    "- **Description**: Updates the dictionary with the key-value pairs from another dictionary or from an iterable of key-value pairs.\n",
    "- **Syntax**: `dict.update(other)` or `dict.update(key=value, ...)`\n",
    "\n",
    "**Example**:\n",
    "```python\n",
    "my_dict = {'a': 1}\n",
    "my_dict.update({'b': 2, 'c': 3})\n",
    "print(my_dict)  # Output: {'a': 1, 'b': 2, 'c': 3}\n",
    "```\n",
    "\n",
    "#### 11. `values()`\n",
    "\n",
    "- **Description**: Returns a view object that displays a list of all the values in the dictionary.\n",
    "- **Syntax**: `dict.values()`\n",
    "\n",
    "**Example**:\n",
    "```python\n",
    "my_dict = {'a': 1, 'b': 2}\n",
    "values = my_dict.values()\n",
    "print(values)  # Output: dict_values([1, 2])\n",
    "```\n",
    "\n",
    "### **Summary of Key Points**\n",
    "\n",
    "- **Mutability**: Dictionaries are mutable, meaning you can add, remove, and change their contents.\n",
    "- **Key-Value Pairs**: Each key must be unique and immutable (strings, numbers, or tuples), while the values can be of any data type.\n",
    "- **Efficiency**: Dictionary methods like `get()`, `pop()`, and `update()` provide efficient ways to interact with the data.\n",
    "\n",
    "### **Conclusion**\n",
    "\n",
    "Dictionaries are a fundamental data structure in Python that provide a flexible way to store and manipulate data using key-value pairs. Understanding the various methods available for dictionaries enables you to effectively manage data and perform operations efficiently.\n",
    "\n",
    "\n",
    "------\n",
    "\n"
   ]
  },
  {
   "cell_type": "markdown",
   "metadata": {},
   "source": [
    "### **`Let's Practice`**"
   ]
  },
  {
   "cell_type": "code",
   "execution_count": 67,
   "metadata": {},
   "outputs": [],
   "source": [
    "# creating a dictionay\n",
    "\n",
    "dictionay = {\"name\":\"adil\",\"city\":\"lahore\",\"study\":\"computer science\",\"age\":21,}"
   ]
  },
  {
   "cell_type": "code",
   "execution_count": 68,
   "metadata": {},
   "outputs": [
    {
     "data": {
      "text/plain": [
       "dict_keys(['name', 'city', 'study', 'age'])"
      ]
     },
     "execution_count": 68,
     "metadata": {},
     "output_type": "execute_result"
    }
   ],
   "source": [
    "# get keys\n",
    "\n",
    "dictionay.keys()"
   ]
  },
  {
   "cell_type": "code",
   "execution_count": 69,
   "metadata": {},
   "outputs": [
    {
     "name": "stdout",
     "output_type": "stream",
     "text": [
      "name\n",
      "city\n",
      "study\n",
      "age\n"
     ]
    }
   ],
   "source": [
    "# get keys by for loop\n",
    "\n",
    "for keys in dictionay:\n",
    "    print(keys)"
   ]
  },
  {
   "cell_type": "code",
   "execution_count": 70,
   "metadata": {},
   "outputs": [
    {
     "data": {
      "text/plain": [
       "dict_values(['adil', 'lahore', 'computer science', 21])"
      ]
     },
     "execution_count": 70,
     "metadata": {},
     "output_type": "execute_result"
    }
   ],
   "source": [
    "# get values\n",
    "\n",
    "dictionay.values()"
   ]
  },
  {
   "cell_type": "code",
   "execution_count": 71,
   "metadata": {},
   "outputs": [
    {
     "name": "stdout",
     "output_type": "stream",
     "text": [
      "name adil\n",
      "city lahore\n",
      "study computer science\n",
      "age 21\n"
     ]
    }
   ],
   "source": [
    "# get keys and values\n",
    "\n",
    "for i,j in dictionay.items():\n",
    "    print(i,j)"
   ]
  },
  {
   "cell_type": "code",
   "execution_count": 72,
   "metadata": {},
   "outputs": [
    {
     "data": {
      "text/plain": [
       "dict_items([('name', 'adil'), ('city', 'lahore'), ('study', 'computer science'), ('age', 21)])"
      ]
     },
     "execution_count": 72,
     "metadata": {},
     "output_type": "execute_result"
    }
   ],
   "source": [
    "dictionay.items()  # gives values in form of tuples"
   ]
  },
  {
   "cell_type": "code",
   "execution_count": 73,
   "metadata": {},
   "outputs": [
    {
     "data": {
      "text/plain": [
       "'adil'"
      ]
     },
     "execution_count": 73,
     "metadata": {},
     "output_type": "execute_result"
    }
   ],
   "source": [
    "# to get a value\n",
    "\n",
    "dictionay.get(\"name\")"
   ]
  },
  {
   "cell_type": "code",
   "execution_count": 74,
   "metadata": {},
   "outputs": [
    {
     "data": {
      "text/plain": [
       "{'name': 'adil', 'city': 'lahore', 'study': 'cs', 'age': 21}"
      ]
     },
     "execution_count": 74,
     "metadata": {},
     "output_type": "execute_result"
    }
   ],
   "source": [
    "# update value\n",
    "\n",
    "dictionay['study'] = \"cs\"\n",
    "\n",
    "dictionay"
   ]
  },
  {
   "cell_type": "code",
   "execution_count": 75,
   "metadata": {},
   "outputs": [
    {
     "data": {
      "text/plain": [
       "{'name': 'm adil', 'city': 'lahore', 'study': 'cs', 'age': 21.8}"
      ]
     },
     "execution_count": 75,
     "metadata": {},
     "output_type": "execute_result"
    }
   ],
   "source": [
    "# update multiple values\n",
    "\n",
    "dictionay.update({\"name\":\"m adil\",\"age\":21.8})\n",
    "dictionay"
   ]
  },
  {
   "cell_type": "code",
   "execution_count": 76,
   "metadata": {},
   "outputs": [
    {
     "data": {
      "text/plain": [
       "{'name': 'm adil', 'city': 'lahore', 'age': 21.8}"
      ]
     },
     "execution_count": 76,
     "metadata": {},
     "output_type": "execute_result"
    }
   ],
   "source": [
    "# remove specific key value pair\n",
    "\n",
    "dictionay.pop(\"study\")\n",
    "\n",
    "dictionay"
   ]
  },
  {
   "cell_type": "code",
   "execution_count": 77,
   "metadata": {},
   "outputs": [
    {
     "data": {
      "text/plain": [
       "{'name': 'm adil', 'city': 'lahore'}"
      ]
     },
     "execution_count": 77,
     "metadata": {},
     "output_type": "execute_result"
    }
   ],
   "source": [
    "# to remove last element from dictionary\n",
    "\n",
    "dictionay.popitem()\n",
    "dictionay"
   ]
  },
  {
   "cell_type": "code",
   "execution_count": 78,
   "metadata": {},
   "outputs": [
    {
     "name": "stdout",
     "output_type": "stream",
     "text": [
      "{'name': 'm adil', 'city': 'lahore'}\n",
      "{'name': 'm adil', 'city': 'karachi'}\n"
     ]
    }
   ],
   "source": [
    "# make a copy\n",
    "\n",
    "dictionay2 = dictionay.copy()\n",
    "\n",
    "dictionay2[\"city\"] = \"karachi\"\n",
    "\n",
    "\n",
    "print(dictionay)\n",
    "print(dictionay2)"
   ]
  },
  {
   "cell_type": "markdown",
   "metadata": {},
   "source": [
    "-----"
   ]
  }
 ],
 "metadata": {
  "kernelspec": {
   "display_name": "Python 3",
   "language": "python",
   "name": "python3"
  },
  "language_info": {
   "codemirror_mode": {
    "name": "ipython",
    "version": 3
   },
   "file_extension": ".py",
   "mimetype": "text/x-python",
   "name": "python",
   "nbconvert_exporter": "python",
   "pygments_lexer": "ipython3",
   "version": "3.10.15"
  }
 },
 "nbformat": 4,
 "nbformat_minor": 2
}
