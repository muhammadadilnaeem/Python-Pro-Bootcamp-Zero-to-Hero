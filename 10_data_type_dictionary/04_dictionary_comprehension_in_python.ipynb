{
 "cells": [
  {
   "cell_type": "markdown",
   "metadata": {},
   "source": [
    "\n",
    "\n",
    "-------\n",
    "\n",
    "# **`Dictionary Comprehension in Python`**\n",
    "\n",
    "#### **Introduction**\n",
    "\n",
    "**Dictionary comprehension** is a concise and expressive way to create dictionaries in Python. It allows you to generate a new dictionary from an existing iterable (like a list or another dictionary) using a single line of code. This feature was introduced in Python 2.7 and 3.0.\n",
    "\n",
    "#### **Syntax**\n",
    "\n",
    "The general syntax for dictionary comprehension is:\n",
    "\n",
    "```python\n",
    "{key_expression: value_expression for item in iterable if condition}\n",
    "```\n",
    "\n",
    "- **key_expression**: The expression that defines the key for the new dictionary.\n",
    "- **value_expression**: The expression that defines the value for the new dictionary.\n",
    "- **item**: A variable that takes the value of each element in the iterable.\n",
    "- **iterable**: Any iterable (like a list, tuple, or another dictionary).\n",
    "- **condition** (optional): A filter that determines whether the key-value pair should be included in the dictionary.\n",
    "\n",
    "#### **Basic Examples**\n",
    "\n",
    "1. **Creating a Dictionary from a List**\n",
    "\n",
    "   You can create a dictionary where the keys are the elements of a list and the values are their squares.\n",
    "\n",
    "   ```python\n",
    "   numbers = [1, 2, 3, 4, 5]\n",
    "   squares = {x: x**2 for x in numbers}\n",
    "   print(squares)  # Output: {1: 1, 2: 4, 3: 9, 4: 16, 5: 25}\n",
    "   ```\n",
    "\n",
    "2. **Using a Condition**\n",
    "\n",
    "   Create a dictionary of even numbers and their squares from a list:\n",
    "\n",
    "   ```python\n",
    "   numbers = [1, 2, 3, 4, 5]\n",
    "   even_squares = {x: x**2 for x in numbers if x % 2 == 0}\n",
    "   print(even_squares)  # Output: {2: 4, 4: 16}\n",
    "   ```\n",
    "\n",
    "3. **Inverting a Dictionary**\n",
    "\n",
    "   You can invert a dictionary using comprehension, swapping keys and values:\n",
    "\n",
    "   ```python\n",
    "   original = {'a': 1, 'b': 2, 'c': 3}\n",
    "   inverted = {value: key for key, value in original.items()}\n",
    "   print(inverted)  # Output: {1: 'a', 2: 'b', 3: 'c'}\n",
    "   ```\n",
    "\n",
    "4. **Creating a Dictionary from a String**\n",
    "\n",
    "   Count the frequency of each character in a string:\n",
    "\n",
    "   ```python\n",
    "   text = \"hello\"\n",
    "   frequency = {char: text.count(char) for char in set(text)}\n",
    "   print(frequency)  # Output: {'h': 1, 'e': 1, 'l': 2, 'o': 1}\n",
    "   ```\n",
    "\n",
    "5. **Nested Dictionary Comprehension**\n",
    "\n",
    "   You can use nested comprehensions to create more complex structures. For example, creating a dictionary of dictionaries:\n",
    "\n",
    "   ```python\n",
    "   nested_dict = {x: {y: x * y for y in range(1, 4)} for x in range(1, 4)}\n",
    "   print(nested_dict)\n",
    "   # Output: {1: {1: 1, 2: 2, 3: 3}, 2: {1: 2, 2: 4, 3: 6}, 3: {1: 3, 2: 6, 3: 9}}\n",
    "   ```\n",
    "\n",
    "#### **Advantages of Dictionary Comprehension**\n",
    "\n",
    "1. **Conciseness**: Dictionary comprehensions allow you to create dictionaries in a single line of code, making your code cleaner and more readable.\n",
    "  \n",
    "2. **Performance**: They can be more efficient than using loops to build dictionaries, as they avoid the overhead of method calls and temporary lists.\n",
    "\n",
    "3. **Expressiveness**: The syntax is expressive and allows you to clearly define the transformation and filtering of data.\n",
    "\n",
    "#### **Limitations**\n",
    "\n",
    "1. **Readability**: While dictionary comprehensions can make code concise, overly complex comprehensions can be harder to read and understand.\n",
    "\n",
    "2. **Single Expression**: They can only contain a single expression for the key and value, so multiple statements cannot be included.\n",
    "\n",
    "3. **Scope of Variables**: Variables created in the comprehension are not accessible outside of it, which may limit their use in some contexts.\n",
    "\n",
    "### **Conclusion**\n",
    "\n",
    "Dictionary comprehension is a powerful feature in Python that allows for the efficient and elegant creation of dictionaries from iterables. By using a clear syntax, you can transform and filter data in a single line. Understanding dictionary comprehension can significantly improve your coding efficiency and clarity. \n",
    "\n",
    "-------\n",
    "\n",
    "\n",
    "\n"
   ]
  },
  {
   "cell_type": "markdown",
   "metadata": {},
   "source": [
    "### **`Let's Practice`**"
   ]
  },
  {
   "cell_type": "code",
   "execution_count": 1,
   "metadata": {},
   "outputs": [
    {
     "name": "stdout",
     "output_type": "stream",
     "text": [
      "{1: 1, 2: 4, 3: 9, 4: 16, 5: 25, 6: 36, 7: 49, 8: 64, 9: 81, 10: 100}\n"
     ]
    }
   ],
   "source": [
    "square = {x:x*x for x in range(1,11)}\n",
    "print(square)"
   ]
  },
  {
   "cell_type": "code",
   "execution_count": 3,
   "metadata": {},
   "outputs": [
    {
     "name": "stdout",
     "output_type": "stream",
     "text": [
      "{'Apple': 1, 'Banana': 2}\n"
     ]
    }
   ],
   "source": [
    "# filter some values\n",
    "\n",
    "orignal = {\"Apple\":1,\"Banana\":2,\"Orange\":3,\"Mango\":4}\n",
    "filtered = {k:v for k,v in orignal.items() if v<=2}\n",
    "print(filtered)"
   ]
  },
  {
   "cell_type": "code",
   "execution_count": 5,
   "metadata": {},
   "outputs": [
    {
     "name": "stdout",
     "output_type": "stream",
     "text": [
      "{'APPLE': 4, 'BANANA': 4, 'ORANGE': 4, 'MANGO': 4}\n"
     ]
    }
   ],
   "source": [
    "\n",
    "fruits = [\"Apple\",\"Banana\",\"Orange\",\"Mango\"]\n",
    "f = {f.upper() :len(fruits) for f in fruits}\n",
    "print(f)\n"
   ]
  },
  {
   "cell_type": "markdown",
   "metadata": {},
   "source": [
    "------"
   ]
  }
 ],
 "metadata": {
  "kernelspec": {
   "display_name": "Python 3",
   "language": "python",
   "name": "python3"
  },
  "language_info": {
   "codemirror_mode": {
    "name": "ipython",
    "version": 3
   },
   "file_extension": ".py",
   "mimetype": "text/x-python",
   "name": "python",
   "nbconvert_exporter": "python",
   "pygments_lexer": "ipython3",
   "version": "3.10.15"
  }
 },
 "nbformat": 4,
 "nbformat_minor": 2
}
