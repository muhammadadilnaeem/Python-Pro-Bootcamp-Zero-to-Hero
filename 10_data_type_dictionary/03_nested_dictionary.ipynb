{
 "cells": [
  {
   "cell_type": "markdown",
   "metadata": {},
   "source": [
    "\n",
    "------\n",
    "\n",
    "# **`Nested Dictionaries in Python`**\n",
    "\n",
    "#### **Introduction**\n",
    "\n",
    "A **nested dictionary** is a dictionary that contains another dictionary (or multiple dictionaries) as its value. This allows for the creation of complex data structures that can represent hierarchical relationships and multi-level data.\n",
    "\n",
    "#### **Structure of a Nested Dictionary**\n",
    "\n",
    "The structure of a nested dictionary can be visualized as follows:\n",
    "\n",
    "```python\n",
    "nested_dict = {\n",
    "    'key1': {\n",
    "        'subkey1': 'value1',\n",
    "        'subkey2': 'value2'\n",
    "    },\n",
    "    'key2': {\n",
    "        'subkey1': 'value3',\n",
    "        'subkey2': 'value4'\n",
    "    }\n",
    "}\n",
    "```\n",
    "\n",
    "In this example:\n",
    "- The outer dictionary has two keys: `key1` and `key2`.\n",
    "- Each key points to another dictionary, which contains its own keys and values.\n",
    "\n",
    "#### **Creating a Nested Dictionary**\n",
    "\n",
    "You can create a nested dictionary by directly assigning a dictionary as a value to a key.\n",
    "\n",
    "**Example**:\n",
    "```python\n",
    "nested_dict = {\n",
    "    'student1': {\n",
    "        'name': 'Alice',\n",
    "        'age': 21,\n",
    "        'grades': {\n",
    "            'math': 90,\n",
    "            'science': 85\n",
    "        }\n",
    "    },\n",
    "    'student2': {\n",
    "        'name': 'Bob',\n",
    "        'age': 22,\n",
    "        'grades': {\n",
    "            'math': 88,\n",
    "            'science': 92\n",
    "        }\n",
    "    }\n",
    "}\n",
    "```\n",
    "\n",
    "#### **Accessing Values in a Nested Dictionary**\n",
    "\n",
    "To access values in a nested dictionary, you can chain the keys together.\n",
    "\n",
    "**Example**:\n",
    "```python\n",
    "# Accessing Alice's name\n",
    "print(nested_dict['student1']['name'])  # Output: Alice\n",
    "\n",
    "# Accessing Bob's science grade\n",
    "print(nested_dict['student2']['grades']['science'])  # Output: 92\n",
    "```\n",
    "\n",
    "#### **Modifying Values in a Nested Dictionary**\n",
    "\n",
    "You can modify values in a nested dictionary by accessing the specific key and assigning a new value.\n",
    "\n",
    "**Example**:\n",
    "```python\n",
    "# Updating Alice's age\n",
    "nested_dict['student1']['age'] = 22\n",
    "print(nested_dict['student1']['age'])  # Output: 22\n",
    "\n",
    "# Updating Bob's math grade\n",
    "nested_dict['student2']['grades']['math'] = 90\n",
    "print(nested_dict['student2']['grades']['math'])  # Output: 90\n",
    "```\n",
    "\n",
    "#### **Adding New Keys**\n",
    "\n",
    "You can add new keys to a nested dictionary in the same way you would with a regular dictionary.\n",
    "\n",
    "**Example**:\n",
    "```python\n",
    "# Adding a new student\n",
    "nested_dict['student3'] = {\n",
    "    'name': 'Charlie',\n",
    "    'age': 23,\n",
    "    'grades': {\n",
    "        'math': 95,\n",
    "        'science': 91\n",
    "    }\n",
    "}\n",
    "print(nested_dict['student3'])  # Output: {'name': 'Charlie', 'age': 23, 'grades': {'math': 95, 'science': 91}}\n",
    "```\n",
    "\n",
    "#### **Deleting Keys**\n",
    "\n",
    "You can delete keys from a nested dictionary using the `del` statement.\n",
    "\n",
    "**Example**:\n",
    "```python\n",
    "# Deleting Bob's entry\n",
    "del nested_dict['student2']\n",
    "print(nested_dict)  \n",
    "# Output: {'student1': {'name': 'Alice', 'age': 22, 'grades': {'math': 90, 'science': 85}}, 'student3': {'name': 'Charlie', 'age': 23, 'grades': {'math': 95, 'science': 91}}}\n",
    "```\n",
    "\n",
    "#### **Iterating Through a Nested Dictionary**\n",
    "\n",
    "You can iterate through a nested dictionary using loops to access keys and values.\n",
    "\n",
    "**Example**:\n",
    "```python\n",
    "for student, info in nested_dict.items():\n",
    "    print(f\"{student}: {info['name']}, Age: {info['age']}\")\n",
    "    for subject, grade in info['grades'].items():\n",
    "        print(f\"  {subject}: {grade}\")\n",
    "```\n",
    "\n",
    "**Output**:\n",
    "```\n",
    "student1: Alice, Age: 22\n",
    "  math: 90\n",
    "  science: 85\n",
    "student3: Charlie, Age: 23\n",
    "  math: 95\n",
    "  science: 91\n",
    "```\n",
    "\n",
    "#### **Use Cases for Nested Dictionaries**\n",
    "\n",
    "1. **Storing Complex Data**: Nested dictionaries are useful for representing structured data, such as JSON objects, configuration settings, or hierarchical data models.\n",
    "  \n",
    "2. **Database-like Structures**: They can mimic the structure of databases, where each key-value pair can represent a record with multiple fields.\n",
    "\n",
    "3. **Multi-level Data Representation**: Useful for storing data that requires multiple levels of categorization, such as organizational structures, user profiles, etc.\n",
    "\n",
    "### **Conclusion**\n",
    "\n",
    "Nested dictionaries in Python provide a powerful way to manage complex data structures. They allow you to create and manipulate hierarchical data effectively. Understanding how to work with nested dictionaries can significantly enhance your ability to handle structured data in your applications.\n",
    "\n",
    "------\n",
    "\n"
   ]
  },
  {
   "cell_type": "markdown",
   "metadata": {},
   "source": [
    "### **`Let's Practice`**"
   ]
  },
  {
   "cell_type": "code",
   "execution_count": 3,
   "metadata": {},
   "outputs": [
    {
     "data": {
      "text/plain": [
       "{'name': 'adil', 'age': '21', 'subjects': {'mth0': 100, 'cs': 101, 'isl': 301}}"
      ]
     },
     "execution_count": 3,
     "metadata": {},
     "output_type": "execute_result"
    }
   ],
   "source": [
    "# nested dictionary\n",
    "\n",
    "student_information = {\n",
    "    \"name\":\"adil\",\n",
    "    \"age\":\"21\",\n",
    "    \"subjects\":{\n",
    "        \"mth0\":100,\n",
    "        \"cs\":101,\n",
    "        \"isl\":301\n",
    "    }\n",
    "}\n",
    "\n",
    "student_information"
   ]
  },
  {
   "cell_type": "code",
   "execution_count": 4,
   "metadata": {},
   "outputs": [
    {
     "data": {
      "text/plain": [
       "301"
      ]
     },
     "execution_count": 4,
     "metadata": {},
     "output_type": "execute_result"
    }
   ],
   "source": [
    "# checking values from nessted dictionary\n",
    "\n",
    "student_information[\"subjects\"][\"isl\"]"
   ]
  },
  {
   "cell_type": "code",
   "execution_count": 5,
   "metadata": {},
   "outputs": [
    {
     "data": {
      "text/plain": [
       "{'student1': {'name': 'adil',\n",
       "  'age': '21',\n",
       "  'subjects': {'mth': '90', 'cs': 67, 'isl': 46}},\n",
       " 'student2': {'name': 'zain',\n",
       "  'age': '22',\n",
       "  'subjects': {'mth': 80, 'cs': 81, 'isl': 45}}}"
      ]
     },
     "execution_count": 5,
     "metadata": {},
     "output_type": "execute_result"
    }
   ],
   "source": [
    "# th nested dictionary\n",
    "\n",
    "the_student_information = {\n",
    "    \"student1\":{\"name\":\"adil\",\n",
    "    \"age\":\"21\",\n",
    "    \"subjects\":{\n",
    "        \"mth\":\"90\",\n",
    "        \"cs\":67,\n",
    "        \"isl\":46\n",
    "    }\n",
    "    },\n",
    "    \"student2\":{\"name\":\"zain\",\n",
    "    \"age\":\"22\",\n",
    "    \"subjects\":{\n",
    "        \"mth\":80,\n",
    "        \"cs\":81,\n",
    "        \"isl\":45\n",
    "    }\n",
    "    },\n",
    "}\n",
    "\n",
    "the_student_information"
   ]
  },
  {
   "cell_type": "code",
   "execution_count": 6,
   "metadata": {},
   "outputs": [
    {
     "data": {
      "text/plain": [
       "81"
      ]
     },
     "execution_count": 6,
     "metadata": {},
     "output_type": "execute_result"
    }
   ],
   "source": [
    "# access student 2 cs marks\n",
    "\n",
    "the_student_information[\"student2\"][\"subjects\"][\"cs\"]"
   ]
  },
  {
   "cell_type": "code",
   "execution_count": 7,
   "metadata": {},
   "outputs": [],
   "source": [
    "# access student 2 cs marks and modify it\n",
    "\n",
    "the_student_information[\"student2\"][\"subjects\"][\"cs\"] = 92"
   ]
  },
  {
   "cell_type": "code",
   "execution_count": 8,
   "metadata": {},
   "outputs": [
    {
     "data": {
      "text/plain": [
       "92"
      ]
     },
     "execution_count": 8,
     "metadata": {},
     "output_type": "execute_result"
    }
   ],
   "source": [
    "# access student 2 cs marks\n",
    "\n",
    "the_student_information[\"student2\"][\"subjects\"][\"cs\"]"
   ]
  },
  {
   "cell_type": "code",
   "execution_count": 9,
   "metadata": {},
   "outputs": [
    {
     "name": "stdout",
     "output_type": "stream",
     "text": [
      "name\n",
      "adil\n",
      "----\n",
      "age\n",
      "21\n",
      "----\n",
      "subjects\n",
      "{'mth0': 100, 'cs': 101, 'isl': 301}\n",
      "----\n"
     ]
    }
   ],
   "source": [
    "for student_id,details in student_information.items():\n",
    "    print(student_id)\n",
    "    print(details)\n",
    "    print(\"----\")"
   ]
  },
  {
   "cell_type": "code",
   "execution_count": null,
   "metadata": {},
   "outputs": [
    {
     "name": "stdout",
     "output_type": "stream",
     "text": [
      "student1\n",
      "adil\n",
      "21\n",
      "mth\n",
      "90\n",
      "cs\n",
      "67\n",
      "isl\n",
      "46\n",
      "student2\n",
      "zain\n",
      "22\n",
      "mth\n",
      "80\n",
      "cs\n",
      "92\n",
      "isl\n",
      "45\n"
     ]
    }
   ],
   "source": [
    "# Loop through each student in the dictionary\n",
    "for student_id, details in the_student_information.items():\n",
    "    print(student_id)  # Print the student ID\n",
    "    print(details['name'])  # Print the student's name\n",
    "    print(details['age'])  # Print the student's age\n",
    "\n",
    "    # Loop through each subject and its corresponding marks\n",
    "    for subject, marks in details['subjects'].items():\n",
    "        print(subject)  # Print the subject name\n",
    "        print(marks)  # Print the marks for the subject"
   ]
  },
  {
   "cell_type": "markdown",
   "metadata": {},
   "source": [
    "-----"
   ]
  }
 ],
 "metadata": {
  "kernelspec": {
   "display_name": "Python 3",
   "language": "python",
   "name": "python3"
  },
  "language_info": {
   "codemirror_mode": {
    "name": "ipython",
    "version": 3
   },
   "file_extension": ".py",
   "mimetype": "text/x-python",
   "name": "python",
   "nbconvert_exporter": "python",
   "pygments_lexer": "ipython3",
   "version": "3.10.15"
  }
 },
 "nbformat": 4,
 "nbformat_minor": 2
}
