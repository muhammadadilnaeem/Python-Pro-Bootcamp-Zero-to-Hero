{
 "cells": [
  {
   "cell_type": "markdown",
   "metadata": {},
   "source": [
    "\n",
    "\n",
    "-------\n",
    "\n",
    "\n",
    "# **`Dictionary Functions and Operators in Python`**\n",
    "\n",
    "Dictionaries in Python are versatile data structures that allow you to store and manipulate key-value pairs. In addition to the methods discussed earlier, there are several built-in functions and operators that you can use with dictionaries.\n",
    "\n",
    "#### **Built-in Functions**\n",
    "\n",
    "1. **`dict()`**\n",
    "\n",
    "   - **Description**: Creates a new dictionary. It can take no arguments, or an iterable of key-value pairs, or keyword arguments.\n",
    "   - **Syntax**: `dict()` or `dict(iterable)` or `dict(key1=value1, key2=value2, ...)`\n",
    "   \n",
    "   **Example**:\n",
    "   ```python\n",
    "   # Creating an empty dictionary\n",
    "   my_dict = dict()\n",
    "   print(my_dict)  # Output: {}\n",
    "\n",
    "   # Creating a dictionary from a list of tuples\n",
    "   my_dict = dict([('a', 1), ('b', 2)])\n",
    "   print(my_dict)  # Output: {'a': 1, 'b': 2}\n",
    "\n",
    "   # Creating a dictionary using keyword arguments\n",
    "   my_dict = dict(a=1, b=2)\n",
    "   print(my_dict)  # Output: {'a': 1, 'b': 2}\n",
    "   ```\n",
    "\n",
    "2. **`len()`**\n",
    "\n",
    "   - **Description**: Returns the number of key-value pairs in the dictionary.\n",
    "   - **Syntax**: `len(dict)`\n",
    "\n",
    "   **Example**:\n",
    "   ```python\n",
    "   my_dict = {'a': 1, 'b': 2}\n",
    "   print(len(my_dict))  # Output: 2\n",
    "   ```\n",
    "\n",
    "3. **`sorted()`**\n",
    "\n",
    "   - **Description**: Returns a new sorted list of the dictionary's keys or key-value pairs.\n",
    "   - **Syntax**: `sorted(dict)` or `sorted(dict.items())`\n",
    "\n",
    "   **Example**:\n",
    "   ```python\n",
    "   my_dict = {'b': 2, 'a': 1}\n",
    "   sorted_keys = sorted(my_dict)  # Sorts the keys\n",
    "   print(sorted_keys)  # Output: ['a', 'b']\n",
    "\n",
    "   sorted_items = sorted(my_dict.items())  # Sorts the key-value pairs\n",
    "   print(sorted_items)  # Output: [('a', 1), ('b', 2)]\n",
    "   ```\n",
    "\n",
    "4. **`sum()`**\n",
    "\n",
    "   - **Description**: Can be used to sum the values of a dictionary, assuming the values are numeric.\n",
    "   - **Syntax**: `sum(dict.values())`\n",
    "\n",
    "   **Example**:\n",
    "   ```python\n",
    "   my_dict = {'a': 1, 'b': 2, 'c': 3}\n",
    "   total = sum(my_dict.values())\n",
    "   print(total)  # Output: 6\n",
    "   ```\n",
    "\n",
    "5. **`any()` and `all()`**\n",
    "\n",
    "   - **Description**: `any()` checks if any key in the dictionary is true (non-zero), while `all()` checks if all keys are true.\n",
    "   - **Syntax**: `any(dict)` or `all(dict)`\n",
    "\n",
    "   **Example**:\n",
    "   ```python\n",
    "   my_dict = {'a': 1, 'b': 0}\n",
    "   print(any(my_dict))  # Output: True (because 1 is true)\n",
    "   print(all(my_dict))  # Output: False (because 0 is false)\n",
    "   ```\n",
    "\n",
    "#### **Dictionary Operators**\n",
    "\n",
    "1. **Indexing and Key Access**\n",
    "\n",
    "   - **Description**: You can access the value associated with a key using square brackets `[]`.\n",
    "   - **Syntax**: `dict[key]`\n",
    "\n",
    "   **Example**:\n",
    "   ```python\n",
    "   my_dict = {'a': 1, 'b': 2}\n",
    "   print(my_dict['a'])  # Output: 1\n",
    "   ```\n",
    "\n",
    "   - **Note**: Accessing a key that does not exist will raise a `KeyError`.\n",
    "\n",
    "2. **Membership Operator (`in`)**\n",
    "\n",
    "   - **Description**: Checks if a key exists in the dictionary.\n",
    "   - **Syntax**: `key in dict`\n",
    "\n",
    "   **Example**:\n",
    "   ```python\n",
    "   my_dict = {'a': 1, 'b': 2}\n",
    "   print('a' in my_dict)  # Output: True\n",
    "   print('c' in my_dict)  # Output: False\n",
    "   ```\n",
    "\n",
    "3. **Assignment Operator (`=`)**\n",
    "\n",
    "   - **Description**: Used to assign values to keys in the dictionary.\n",
    "   - **Syntax**: `dict[key] = value`\n",
    "\n",
    "   **Example**:\n",
    "   ```python\n",
    "   my_dict = {}\n",
    "   my_dict['a'] = 1\n",
    "   my_dict['b'] = 2\n",
    "   print(my_dict)  # Output: {'a': 1, 'b': 2}\n",
    "   ```\n",
    "\n",
    "4. **Updating Values**\n",
    "\n",
    "   - **Description**: You can update the value of an existing key using the same assignment syntax.\n",
    "   - **Syntax**: `dict[key] = new_value`\n",
    "\n",
    "   **Example**:\n",
    "   ```python\n",
    "   my_dict = {'a': 1, 'b': 2}\n",
    "   my_dict['a'] = 3\n",
    "   print(my_dict)  # Output: {'a': 3, 'b': 2}\n",
    "   ```\n",
    "\n",
    "5. **Deleting Key-Value Pairs**\n",
    "\n",
    "   - **Description**: You can use the `del` statement to remove a key-value pair from the dictionary.\n",
    "   - **Syntax**: `del dict[key]`\n",
    "\n",
    "   **Example**:\n",
    "   ```python\n",
    "   my_dict = {'a': 1, 'b': 2}\n",
    "   del my_dict['a']\n",
    "   print(my_dict)  # Output: {'b': 2}\n",
    "   ```\n",
    "\n",
    "6. **Dictionary Comprehension**\n",
    "\n",
    "   - **Description**: Allows the creation of dictionaries in a concise way, similar to list comprehensions.\n",
    "   - **Syntax**: `{key: value for item in iterable}`\n",
    "\n",
    "   **Example**:\n",
    "   ```python\n",
    "   squares = {x: x**2 for x in range(5)}\n",
    "   print(squares)  # Output: {0: 0, 1: 1, 2: 4, 3: 9, 4: 16}\n",
    "   ```\n",
    "\n",
    "### **Conclusion**\n",
    "\n",
    "Dictionaries in Python are powerful and flexible data structures that provide a variety of built-in functions and operators. Understanding these functions and operators allows you to efficiently store, access, and manipulate data in key-value pairs.\n",
    "\n",
    "------\n",
    "\n"
   ]
  },
  {
   "cell_type": "markdown",
   "metadata": {},
   "source": [
    "### **`Let's Practice`**"
   ]
  },
  {
   "cell_type": "code",
   "execution_count": 6,
   "metadata": {},
   "outputs": [
    {
     "data": {
      "text/plain": [
       "{'name': 'adil', 'city': 'lahore', 'age': 21.8}"
      ]
     },
     "execution_count": 6,
     "metadata": {},
     "output_type": "execute_result"
    }
   ],
   "source": [
    "# let's create a dictionary\n",
    "\n",
    "dictionary = {\"name\":\"adil\",\"city\":\"lahore\",\"age\":21.8}\n",
    "dictionary"
   ]
  },
  {
   "cell_type": "code",
   "execution_count": 7,
   "metadata": {},
   "outputs": [
    {
     "data": {
      "text/plain": [
       "True"
      ]
     },
     "execution_count": 7,
     "metadata": {},
     "output_type": "execute_result"
    }
   ],
   "source": [
    "# in membership operater (returns true for keys in in dictionary)\n",
    "\n",
    "\"name\" in dictionary"
   ]
  },
  {
   "cell_type": "code",
   "execution_count": 8,
   "metadata": {},
   "outputs": [
    {
     "data": {
      "text/plain": [
       "{'name': 'm adil', 'city': 'lahore', 'age': 21.8}"
      ]
     },
     "execution_count": 8,
     "metadata": {},
     "output_type": "execute_result"
    }
   ],
   "source": [
    "# update dictionary value\n",
    "\n",
    "dictionary[\"name\"] = \"m adil\"\n",
    "dictionary"
   ]
  },
  {
   "cell_type": "code",
   "execution_count": 9,
   "metadata": {},
   "outputs": [
    {
     "data": {
      "text/plain": [
       "3"
      ]
     },
     "execution_count": 9,
     "metadata": {},
     "output_type": "execute_result"
    }
   ],
   "source": [
    "# check length of dictionary\n",
    "len(dictionary)"
   ]
  },
  {
   "cell_type": "code",
   "execution_count": null,
   "metadata": {},
   "outputs": [
    {
     "data": {
      "text/plain": [
       "['age', 'city', 'name']"
      ]
     },
     "execution_count": 10,
     "metadata": {},
     "output_type": "execute_result"
    }
   ],
   "source": [
    "# reverse a dictionary (by default)\n",
    "\n",
    "list(reversed(dictionary))"
   ]
  },
  {
   "cell_type": "code",
   "execution_count": 11,
   "metadata": {},
   "outputs": [
    {
     "data": {
      "text/plain": [
       "[21.8, 'lahore', 'm adil']"
      ]
     },
     "execution_count": 11,
     "metadata": {},
     "output_type": "execute_result"
    }
   ],
   "source": [
    "list(reversed(dictionary.values()))"
   ]
  },
  {
   "cell_type": "code",
   "execution_count": 12,
   "metadata": {},
   "outputs": [
    {
     "data": {
      "text/plain": [
       "['age', 'city', 'name']"
      ]
     },
     "execution_count": 12,
     "metadata": {},
     "output_type": "execute_result"
    }
   ],
   "source": [
    "# return a sorted dictionary\n",
    "\n",
    "sorted(dictionary)"
   ]
  },
  {
   "cell_type": "code",
   "execution_count": 13,
   "metadata": {},
   "outputs": [
    {
     "data": {
      "text/plain": [
       "True"
      ]
     },
     "execution_count": 13,
     "metadata": {},
     "output_type": "execute_result"
    }
   ],
   "source": [
    "# any checks if any key in dictionary is true\n",
    "\n",
    "any(dictionary)"
   ]
  },
  {
   "cell_type": "code",
   "execution_count": null,
   "metadata": {},
   "outputs": [
    {
     "data": {
      "text/plain": [
       "True"
      ]
     },
     "execution_count": 14,
     "metadata": {},
     "output_type": "execute_result"
    }
   ],
   "source": [
    "#  all checks if all keys in dictionary are true\n",
    "\n",
    "all(dictionary)"
   ]
  },
  {
   "cell_type": "markdown",
   "metadata": {},
   "source": [
    "-----"
   ]
  }
 ],
 "metadata": {
  "kernelspec": {
   "display_name": "Python 3",
   "language": "python",
   "name": "python3"
  },
  "language_info": {
   "codemirror_mode": {
    "name": "ipython",
    "version": 3
   },
   "file_extension": ".py",
   "mimetype": "text/x-python",
   "name": "python",
   "nbconvert_exporter": "python",
   "pygments_lexer": "ipython3",
   "version": "3.10.15"
  }
 },
 "nbformat": 4,
 "nbformat_minor": 2
}
