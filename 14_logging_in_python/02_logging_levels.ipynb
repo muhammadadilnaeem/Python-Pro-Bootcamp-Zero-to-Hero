{
 "cells": [
  {
   "cell_type": "markdown",
   "metadata": {},
   "source": [
    "\n",
    "\n",
    "---------------\n",
    "\n",
    "# ***`Logging Levels in Python`***\n",
    "\n",
    "The Python `logging` module provides a way to configure and use different logging levels to categorize log messages based on their severity. Each level has a corresponding numeric value that determines its priority.\n",
    "\n",
    "### **Standard Logging Levels**\n",
    "\n",
    "Python’s logging module defines the following standard logging levels, listed from highest to lowest severity:\n",
    "\n",
    "| Level        | Numeric Value | Description                                           |\n",
    "|--------------|---------------|-------------------------------------------------------|\n",
    "| **CRITICAL** | 50            | A very serious error that prevents the program from continuing. |\n",
    "| **ERROR**    | 40            | An error occurred that prevents a function from executing. |\n",
    "| **WARNING**  | 30            | An indication that something unexpected happened, or indicative of a problem in the near future. |\n",
    "| **INFO**     | 20            | Confirmation that things are working as expected.     |\n",
    "| **DEBUG**    | 10            | Detailed information, typically for diagnosing problems. |\n",
    "| **NOTSET**   | 0             | The lowest level; messages are logged at all levels. |\n",
    "\n",
    "### **Default Logging Level**\n",
    "\n",
    "When you first set up logging, the default level is set to `WARNING`. This means that only `WARNING`, `ERROR`, and `CRITICAL` messages will be logged unless the logging level is changed.\n",
    "\n",
    "### **Usage of Logging Levels**\n",
    "\n",
    "1. **Setting the Logging Level**: You can set the logging level using `basicConfig()` or by configuring individual loggers.\n",
    "\n",
    "2. **Logging Messages**: Use appropriate logging methods to log messages at various levels.\n",
    "\n",
    "### **Examples**\n",
    "\n",
    "Here’s how to use different logging levels in Python:\n",
    "\n",
    "```python\n",
    "import logging\n",
    "\n",
    "# Configure the logging system\n",
    "logging.basicConfig(level=logging.DEBUG, format='%(levelname)s: %(message)s')\n",
    "\n",
    "# Logging at different levels\n",
    "logging.debug(\"This is a debug message.\")    # Level 10\n",
    "logging.info(\"This is an info message.\")      # Level 20\n",
    "logging.warning(\"This is a warning message.\")  # Level 30\n",
    "logging.error(\"This is an error message.\")     # Level 40\n",
    "logging.critical(\"This is a critical message.\") # Level 50\n",
    "```\n",
    "\n",
    "### **Filtering Messages**\n",
    "\n",
    "You can filter which messages are logged by setting the logging level. For example, if you set the level to `WARNING`, only `WARNING`, `ERROR`, and `CRITICAL` messages will be displayed:\n",
    "\n",
    "```python\n",
    "# Set logging level to WARNING\n",
    "logging.basicConfig(level=logging.WARNING)\n",
    "\n",
    "logging.debug(\"This message will not be logged.\")  # Ignored\n",
    "logging.warning(\"This warning will be logged.\")    # Logged\n",
    "```\n",
    "\n",
    "### **Custom Logging Levels**\n",
    "\n",
    "If the standard logging levels do not meet your needs, you can define custom logging levels using `addLevelName()` and `log()` methods.\n",
    "\n",
    "#### **Example of Custom Logging Level**\n",
    "\n",
    "```python\n",
    "import logging\n",
    "\n",
    "# Define a custom logging level\n",
    "CUSTOM_LEVEL = 25\n",
    "logging.addLevelName(CUSTOM_LEVEL, \"CUSTOM\")\n",
    "\n",
    "def custom(self, message, *args, **kwargs):\n",
    "    if self.isEnabledFor(CUSTOM_LEVEL):\n",
    "        self._log(CUSTOM_LEVEL, message, args, **kwargs)\n",
    "\n",
    "logging.Logger.custom = custom\n",
    "\n",
    "# Configure logging\n",
    "logging.basicConfig(level=logging.DEBUG, format='%(levelname)s: %(message)s')\n",
    "\n",
    "# Use the custom logging level\n",
    "logging.custom(\"This is a custom level message.\")\n",
    "```\n",
    "\n",
    "### **Conclusion**\n",
    "\n",
    "Logging levels in Python provide a structured way to manage and categorize log messages based on their severity. By utilizing the built-in levels and configuring them appropriately, you can effectively control the flow of logging information in your applications. This is crucial for debugging, monitoring, and maintaining code. \n",
    "\n",
    "-----------\n",
    "\n"
   ]
  },
  {
   "cell_type": "markdown",
   "metadata": {},
   "source": [
    "### ***`Let's Practice`***"
   ]
  },
  {
   "cell_type": "code",
   "execution_count": 4,
   "metadata": {},
   "outputs": [
    {
     "name": "stderr",
     "output_type": "stream",
     "text": [
      "DEBUG:.......My application Logger: ........ This is a Debug Message\n",
      "INFO:.......My application Logger: ........ This is a Info Message\n",
      "WARNING:.......My application Logger: ........ This is a Warning Message\n",
      "ERROR:.......My application Logger: ........ This is a Error Message\n",
      "CRITICAL:.......My application Logger: ........ This is a Critical Message\n"
     ]
    }
   ],
   "source": [
    "import logging\n",
    "\n",
    "logging.basicConfig(level=logging.DEBUG)\n",
    "\n",
    "logger = logging.getLogger(\".......My application Logger\")\n",
    "\n",
    "logger.debug(\" ........ This is a Debug Message\")\n",
    "logger.info(\" ........ This is a Info Message\")\n",
    "logger.warning(\" ........ This is a Warning Message\")\n",
    "logger.error(\" ........ This is a Error Message\")\n",
    "logger.critical(\" ........ This is a Critical Message\")"
   ]
  },
  {
   "cell_type": "markdown",
   "metadata": {},
   "source": [
    "---------"
   ]
  }
 ],
 "metadata": {
  "kernelspec": {
   "display_name": "Python 3",
   "language": "python",
   "name": "python3"
  },
  "language_info": {
   "codemirror_mode": {
    "name": "ipython",
    "version": 3
   },
   "file_extension": ".py",
   "mimetype": "text/x-python",
   "name": "python",
   "nbconvert_exporter": "python",
   "pygments_lexer": "ipython3",
   "version": "3.10.15"
  }
 },
 "nbformat": 4,
 "nbformat_minor": 2
}
