{
 "cells": [
  {
   "cell_type": "markdown",
   "metadata": {},
   "source": [
    "### ***`Expanse Tracker Prject`***\n",
    "\n",
    "- Experiments."
   ]
  },
  {
   "cell_type": "code",
   "execution_count": 7,
   "metadata": {},
   "outputs": [
    {
     "name": "stdout",
     "output_type": "stream",
     "text": [
      "\n",
      " Welcome to Expense Manager 💨\n",
      "\n",
      " 1. Add Expense: \n",
      "\n",
      " 2. View Expenses: \n",
      "\n",
      " 3. View Total Expenses: \n",
      "\n",
      " 4. View Expenses by Category: \n",
      "\n",
      " 5. Exit\n"
     ]
    },
    {
     "name": "stdout",
     "output_type": "stream",
     "text": [
      "\n",
      "Expense Added Successfully.\n",
      "\n",
      " Welcome to Expense Manager 💨\n",
      "\n",
      " 1. Add Expense: \n",
      "\n",
      " 2. View Expenses: \n",
      "\n",
      " 3. View Total Expenses: \n",
      "\n",
      " 4. View Expenses by Category: \n",
      "\n",
      " 5. Exit\n",
      "\n",
      "1. Amount: $100.00, Category: load, Description: easy load telenor\n",
      "\n",
      " Welcome to Expense Manager 💨\n",
      "\n",
      " 1. Add Expense: \n",
      "\n",
      " 2. View Expenses: \n",
      "\n",
      " 3. View Total Expenses: \n",
      "\n",
      " 4. View Expenses by Category: \n",
      "\n",
      " 5. Exit\n",
      "\n",
      " Total Expenses: $100.00\n",
      "\n",
      " Welcome to Expense Manager 💨\n",
      "\n",
      " 1. Add Expense: \n",
      "\n",
      " 2. View Expenses: \n",
      "\n",
      " 3. View Total Expenses: \n",
      "\n",
      " 4. View Expenses by Category: \n",
      "\n",
      " 5. Exit\n",
      "load: $100.00\n",
      "\n",
      " Welcome to Expense Manager 💨\n",
      "\n",
      " 1. Add Expense: \n",
      "\n",
      " 2. View Expenses: \n",
      "\n",
      " 3. View Total Expenses: \n",
      "\n",
      " 4. View Expenses by Category: \n",
      "\n",
      " 5. Exit\n",
      "\n",
      "Thank You for Using Expense Manager, Goodbye!\n"
     ]
    }
   ],
   "source": [
    "# define an empty list to track expense\n",
    "expenses = []\n",
    "\n",
    "# function to add expenses\n",
    "def add_expense(amount, category, description):\n",
    "    expenses.append({\"amount\": amount, \"category\": category, \"description\": description})\n",
    "\n",
    "# function to view expenses\n",
    "def view_expenses():\n",
    "    for index, expense in enumerate(expenses, 1):\n",
    "        print(f\"\\n{index}. Amount: ${expense['amount']:.2f}, Category: {expense['category']}, Description: {expense['description']}\")\n",
    "\n",
    "# total expenses\n",
    "def total_expenses():\n",
    "    return sum(expense['amount'] for expense in expenses)\n",
    "\n",
    "# check expenses by category\n",
    "def expenses_by_category():\n",
    "    categories = {}\n",
    "    for expense in expenses:\n",
    "        category = expense['category']\n",
    "        amount = expense['amount']\n",
    "        categories[category] = categories.get(category, 0) + amount\n",
    "    return categories\n",
    "\n",
    "# define main function to utilize these all functions\n",
    "def main():\n",
    "    while True:\n",
    "        print(\"\\n Welcome to Expense Manager 💨\")\n",
    "        print(\"\\n 1. Add Expense: \")\n",
    "        print(\"\\n 2. View Expenses: \")\n",
    "        print(\"\\n 3. View Total Expenses: \")\n",
    "        print(\"\\n 4. View Expenses by Category: \")\n",
    "        print(\"\\n 5. Exit\")\n",
    "\n",
    "        choice = input(\"\\nEnter Your Choice from (1-5): \")\n",
    "        if choice == \"1\":\n",
    "            amount = float(input(\"Enter the Amount: \"))\n",
    "            category = input(\"Enter Category: \")\n",
    "            description = input(\"Enter Description: \")\n",
    "            add_expense(amount, category, description)\n",
    "            print(\"\\nExpense Added Successfully.\")\n",
    "\n",
    "        elif choice == '2':\n",
    "            view_expenses()\n",
    "\n",
    "        elif choice == '3':\n",
    "            print(f\"\\n Total Expenses: ${total_expenses():.2f}\")\n",
    "\n",
    "        elif choice == '4':\n",
    "            categories = expenses_by_category()\n",
    "            for category, amount in categories.items():\n",
    "                print(f\"{category}: ${amount:.2f}\")\n",
    "\n",
    "        elif choice == '5':\n",
    "            print(\"\\nThank You for Using Expense Manager, Goodbye!\")\n",
    "            break\n",
    "        else:\n",
    "            print(\"\\nInvalid Choice! Please try Again.\")\n",
    "\n",
    "# call the main function\n",
    "if __name__ == \"__main__\":\n",
    "    main()"
   ]
  },
  {
   "cell_type": "code",
   "execution_count": 3,
   "metadata": {},
   "outputs": [
    {
     "data": {
      "text/html": [
       "<pre style=\"white-space:pre;overflow-x:auto;line-height:normal;font-family:Menlo,'DejaVu Sans Mono',consolas,'Courier New',monospace\"><span style=\"color: #000080; text-decoration-color: #000080; font-weight: bold\">╭─────────────── 💡 ───────────────╮</span>\n",
       "<span style=\"color: #000080; text-decoration-color: #000080; font-weight: bold\">│</span> <span style=\"color: #008080; text-decoration-color: #008080; font-weight: bold\">💸 Welcome to Expense Manager 💨</span> <span style=\"color: #000080; text-decoration-color: #000080; font-weight: bold\">│</span>\n",
       "<span style=\"color: #000080; text-decoration-color: #000080; font-weight: bold\">╰──────────────────────────────────╯</span>\n",
       "</pre>\n"
      ],
      "text/plain": [
       "\u001b[1;34m╭─\u001b[0m\u001b[1;34m──────────────\u001b[0m\u001b[1;34m 💡 \u001b[0m\u001b[1;34m──────────────\u001b[0m\u001b[1;34m─╮\u001b[0m\n",
       "\u001b[1;34m│\u001b[0m \u001b[1;36m💸 Welcome to Expense Manager 💨\u001b[0m \u001b[1;34m│\u001b[0m\n",
       "\u001b[1;34m╰──────────────────────────────────╯\u001b[0m\n"
      ]
     },
     "metadata": {},
     "output_type": "display_data"
    },
    {
     "data": {
      "text/html": [
       "<pre style=\"white-space:pre;overflow-x:auto;line-height:normal;font-family:Menlo,'DejaVu Sans Mono',consolas,'Courier New',monospace\">\n",
       "<span style=\"font-weight: bold\">[</span><span style=\"color: #008080; text-decoration-color: #008080; font-weight: bold\">1</span><span style=\"font-weight: bold\">]</span> ➡️ <span style=\"color: #000080; text-decoration-color: #000080; font-weight: bold\">Add Expense</span>\n",
       "<span style=\"font-weight: bold\">[</span><span style=\"color: #008080; text-decoration-color: #008080; font-weight: bold\">2</span><span style=\"font-weight: bold\">]</span> ➡️ <span style=\"color: #000080; text-decoration-color: #000080; font-weight: bold\">View Expenses</span>\n",
       "<span style=\"font-weight: bold\">[</span><span style=\"color: #008080; text-decoration-color: #008080; font-weight: bold\">3</span><span style=\"font-weight: bold\">]</span> ➡️ <span style=\"color: #000080; text-decoration-color: #000080; font-weight: bold\">View Total Expenses</span>\n",
       "<span style=\"font-weight: bold\">[</span><span style=\"color: #008080; text-decoration-color: #008080; font-weight: bold\">4</span><span style=\"font-weight: bold\">]</span> ➡️ <span style=\"color: #000080; text-decoration-color: #000080; font-weight: bold\">View Expenses by Category</span>\n",
       "<span style=\"font-weight: bold\">[</span><span style=\"color: #008080; text-decoration-color: #008080; font-weight: bold\">5</span><span style=\"font-weight: bold\">]</span> ➡️ <span style=\"color: #800000; text-decoration-color: #800000; font-weight: bold\">Exit</span>\n",
       "                \n",
       "</pre>\n"
      ],
      "text/plain": [
       "\n",
       "\u001b[1m[\u001b[0m\u001b[1;36m1\u001b[0m\u001b[1m]\u001b[0m ➡️ \u001b[1;34mAdd Expense\u001b[0m\n",
       "\u001b[1m[\u001b[0m\u001b[1;36m2\u001b[0m\u001b[1m]\u001b[0m ➡️ \u001b[1;34mView Expenses\u001b[0m\n",
       "\u001b[1m[\u001b[0m\u001b[1;36m3\u001b[0m\u001b[1m]\u001b[0m ➡️ \u001b[1;34mView Total Expenses\u001b[0m\n",
       "\u001b[1m[\u001b[0m\u001b[1;36m4\u001b[0m\u001b[1m]\u001b[0m ➡️ \u001b[1;34mView Expenses by Category\u001b[0m\n",
       "\u001b[1m[\u001b[0m\u001b[1;36m5\u001b[0m\u001b[1m]\u001b[0m ➡️ \u001b[1;31mExit\u001b[0m\n",
       "                \n"
      ]
     },
     "metadata": {},
     "output_type": "display_data"
    },
    {
     "data": {
      "text/html": [
       "<pre style=\"white-space:pre;overflow-x:auto;line-height:normal;font-family:Menlo,'DejaVu Sans Mono',consolas,'Courier New',monospace\">✅ <span style=\"color: #008000; text-decoration-color: #008000; font-weight: bold\">Expense Added Successfully!</span>\n",
       "</pre>\n"
      ],
      "text/plain": [
       "✅ \u001b[1;32mExpense Added Successfully!\u001b[0m\n"
      ]
     },
     "metadata": {},
     "output_type": "display_data"
    },
    {
     "data": {
      "text/html": [
       "<pre style=\"white-space:pre;overflow-x:auto;line-height:normal;font-family:Menlo,'DejaVu Sans Mono',consolas,'Courier New',monospace\"><span style=\"color: #000080; text-decoration-color: #000080; font-weight: bold\">╭─────────────── 💡 ───────────────╮</span>\n",
       "<span style=\"color: #000080; text-decoration-color: #000080; font-weight: bold\">│</span> <span style=\"color: #008080; text-decoration-color: #008080; font-weight: bold\">💸 Welcome to Expense Manager 💨</span> <span style=\"color: #000080; text-decoration-color: #000080; font-weight: bold\">│</span>\n",
       "<span style=\"color: #000080; text-decoration-color: #000080; font-weight: bold\">╰──────────────────────────────────╯</span>\n",
       "</pre>\n"
      ],
      "text/plain": [
       "\u001b[1;34m╭─\u001b[0m\u001b[1;34m──────────────\u001b[0m\u001b[1;34m 💡 \u001b[0m\u001b[1;34m──────────────\u001b[0m\u001b[1;34m─╮\u001b[0m\n",
       "\u001b[1;34m│\u001b[0m \u001b[1;36m💸 Welcome to Expense Manager 💨\u001b[0m \u001b[1;34m│\u001b[0m\n",
       "\u001b[1;34m╰──────────────────────────────────╯\u001b[0m\n"
      ]
     },
     "metadata": {},
     "output_type": "display_data"
    },
    {
     "data": {
      "text/html": [
       "<pre style=\"white-space:pre;overflow-x:auto;line-height:normal;font-family:Menlo,'DejaVu Sans Mono',consolas,'Courier New',monospace\">\n",
       "<span style=\"font-weight: bold\">[</span><span style=\"color: #008080; text-decoration-color: #008080; font-weight: bold\">1</span><span style=\"font-weight: bold\">]</span> ➡️ <span style=\"color: #000080; text-decoration-color: #000080; font-weight: bold\">Add Expense</span>\n",
       "<span style=\"font-weight: bold\">[</span><span style=\"color: #008080; text-decoration-color: #008080; font-weight: bold\">2</span><span style=\"font-weight: bold\">]</span> ➡️ <span style=\"color: #000080; text-decoration-color: #000080; font-weight: bold\">View Expenses</span>\n",
       "<span style=\"font-weight: bold\">[</span><span style=\"color: #008080; text-decoration-color: #008080; font-weight: bold\">3</span><span style=\"font-weight: bold\">]</span> ➡️ <span style=\"color: #000080; text-decoration-color: #000080; font-weight: bold\">View Total Expenses</span>\n",
       "<span style=\"font-weight: bold\">[</span><span style=\"color: #008080; text-decoration-color: #008080; font-weight: bold\">4</span><span style=\"font-weight: bold\">]</span> ➡️ <span style=\"color: #000080; text-decoration-color: #000080; font-weight: bold\">View Expenses by Category</span>\n",
       "<span style=\"font-weight: bold\">[</span><span style=\"color: #008080; text-decoration-color: #008080; font-weight: bold\">5</span><span style=\"font-weight: bold\">]</span> ➡️ <span style=\"color: #800000; text-decoration-color: #800000; font-weight: bold\">Exit</span>\n",
       "                \n",
       "</pre>\n"
      ],
      "text/plain": [
       "\n",
       "\u001b[1m[\u001b[0m\u001b[1;36m1\u001b[0m\u001b[1m]\u001b[0m ➡️ \u001b[1;34mAdd Expense\u001b[0m\n",
       "\u001b[1m[\u001b[0m\u001b[1;36m2\u001b[0m\u001b[1m]\u001b[0m ➡️ \u001b[1;34mView Expenses\u001b[0m\n",
       "\u001b[1m[\u001b[0m\u001b[1;36m3\u001b[0m\u001b[1m]\u001b[0m ➡️ \u001b[1;34mView Total Expenses\u001b[0m\n",
       "\u001b[1m[\u001b[0m\u001b[1;36m4\u001b[0m\u001b[1m]\u001b[0m ➡️ \u001b[1;34mView Expenses by Category\u001b[0m\n",
       "\u001b[1m[\u001b[0m\u001b[1;36m5\u001b[0m\u001b[1m]\u001b[0m ➡️ \u001b[1;31mExit\u001b[0m\n",
       "                \n"
      ]
     },
     "metadata": {},
     "output_type": "display_data"
    },
    {
     "data": {
      "text/html": [
       "<pre style=\"white-space:pre;overflow-x:auto;line-height:normal;font-family:Menlo,'DejaVu Sans Mono',consolas,'Courier New',monospace\"><span style=\"color: #008000; text-decoration-color: #008000; font-weight: bold\">╭─────────────────────────╮</span>\n",
       "<span style=\"color: #008000; text-decoration-color: #008000; font-weight: bold\">│</span> <span style=\"color: #808000; text-decoration-color: #808000; font-weight: bold\">📜 Viewing All Expenses</span> <span style=\"color: #008000; text-decoration-color: #008000; font-weight: bold\">│</span>\n",
       "<span style=\"color: #008000; text-decoration-color: #008000; font-weight: bold\">╰─────────────────────────╯</span>\n",
       "</pre>\n"
      ],
      "text/plain": [
       "\u001b[1;32m╭─────────────────────────╮\u001b[0m\n",
       "\u001b[1;32m│\u001b[0m \u001b[1;33m📜 Viewing All Expenses\u001b[0m \u001b[1;32m│\u001b[0m\n",
       "\u001b[1;32m╰─────────────────────────╯\u001b[0m\n"
      ]
     },
     "metadata": {},
     "output_type": "display_data"
    },
    {
     "data": {
      "text/html": [
       "<pre style=\"white-space:pre;overflow-x:auto;line-height:normal;font-family:Menlo,'DejaVu Sans Mono',consolas,'Courier New',monospace\"><span style=\"font-style: italic\">                          Expense List                          </span>\n",
       "<span style=\"color: #008080; text-decoration-color: #008080; font-weight: bold\">╭─────┬────────────┬───────────┬───────────────────────────────╮</span>\n",
       "<span style=\"color: #008080; text-decoration-color: #008080; font-weight: bold\">│</span><span style=\"font-weight: bold\"> No. </span><span style=\"color: #008080; text-decoration-color: #008080; font-weight: bold\">│</span><span style=\"font-weight: bold\"> Amount ($) </span><span style=\"color: #008080; text-decoration-color: #008080; font-weight: bold\">│</span><span style=\"font-weight: bold\"> Category  </span><span style=\"color: #008080; text-decoration-color: #008080; font-weight: bold\">│</span><span style=\"font-weight: bold\"> Description                   </span><span style=\"color: #008080; text-decoration-color: #008080; font-weight: bold\">│</span>\n",
       "<span style=\"color: #008080; text-decoration-color: #008080; font-weight: bold\">├─────┼────────────┼───────────┼───────────────────────────────┤</span>\n",
       "<span style=\"color: #008080; text-decoration-color: #008080; font-weight: bold\">│</span><span style=\"color: #008000; text-decoration-color: #008000; font-weight: bold\"> 1   </span><span style=\"color: #008080; text-decoration-color: #008080; font-weight: bold\">│</span><span style=\"color: #000080; text-decoration-color: #000080; font-weight: bold\"> 650.00     </span><span style=\"color: #008080; text-decoration-color: #008080; font-weight: bold\">│</span><span style=\"color: #808000; text-decoration-color: #808000; font-weight: bold\"> Usat Book </span><span style=\"color: #008080; text-decoration-color: #008080; font-weight: bold\">│</span><span style=\"color: #800080; text-decoration-color: #800080; font-weight: bold\"> Buy Usat book for preparation </span><span style=\"color: #008080; text-decoration-color: #008080; font-weight: bold\">│</span>\n",
       "<span style=\"color: #008080; text-decoration-color: #008080; font-weight: bold\">╰─────┴────────────┴───────────┴───────────────────────────────╯</span>\n",
       "</pre>\n"
      ],
      "text/plain": [
       "\u001b[3m                          Expense List                          \u001b[0m\n",
       "\u001b[1;36m╭─────┬────────────┬───────────┬───────────────────────────────╮\u001b[0m\n",
       "\u001b[1;36m│\u001b[0m\u001b[1m \u001b[0m\u001b[1mNo.\u001b[0m\u001b[1m \u001b[0m\u001b[1;36m│\u001b[0m\u001b[1m \u001b[0m\u001b[1mAmount ($)\u001b[0m\u001b[1m \u001b[0m\u001b[1;36m│\u001b[0m\u001b[1m \u001b[0m\u001b[1mCategory \u001b[0m\u001b[1m \u001b[0m\u001b[1;36m│\u001b[0m\u001b[1m \u001b[0m\u001b[1mDescription                  \u001b[0m\u001b[1m \u001b[0m\u001b[1;36m│\u001b[0m\n",
       "\u001b[1;36m├─────┼────────────┼───────────┼───────────────────────────────┤\u001b[0m\n",
       "\u001b[1;36m│\u001b[0m\u001b[1;32m \u001b[0m\u001b[1;32m1  \u001b[0m\u001b[1;32m \u001b[0m\u001b[1;36m│\u001b[0m\u001b[1;34m \u001b[0m\u001b[1;34m650.00    \u001b[0m\u001b[1;34m \u001b[0m\u001b[1;36m│\u001b[0m\u001b[1;33m \u001b[0m\u001b[1;33mUsat Book\u001b[0m\u001b[1;33m \u001b[0m\u001b[1;36m│\u001b[0m\u001b[1;35m \u001b[0m\u001b[1;35mBuy Usat book for preparation\u001b[0m\u001b[1;35m \u001b[0m\u001b[1;36m│\u001b[0m\n",
       "\u001b[1;36m╰─────┴────────────┴───────────┴───────────────────────────────╯\u001b[0m\n"
      ]
     },
     "metadata": {},
     "output_type": "display_data"
    },
    {
     "data": {
      "text/html": [
       "<pre style=\"white-space:pre;overflow-x:auto;line-height:normal;font-family:Menlo,'DejaVu Sans Mono',consolas,'Courier New',monospace\"><span style=\"color: #000080; text-decoration-color: #000080; font-weight: bold\">╭─────────────── 💡 ───────────────╮</span>\n",
       "<span style=\"color: #000080; text-decoration-color: #000080; font-weight: bold\">│</span> <span style=\"color: #008080; text-decoration-color: #008080; font-weight: bold\">💸 Welcome to Expense Manager 💨</span> <span style=\"color: #000080; text-decoration-color: #000080; font-weight: bold\">│</span>\n",
       "<span style=\"color: #000080; text-decoration-color: #000080; font-weight: bold\">╰──────────────────────────────────╯</span>\n",
       "</pre>\n"
      ],
      "text/plain": [
       "\u001b[1;34m╭─\u001b[0m\u001b[1;34m──────────────\u001b[0m\u001b[1;34m 💡 \u001b[0m\u001b[1;34m──────────────\u001b[0m\u001b[1;34m─╮\u001b[0m\n",
       "\u001b[1;34m│\u001b[0m \u001b[1;36m💸 Welcome to Expense Manager 💨\u001b[0m \u001b[1;34m│\u001b[0m\n",
       "\u001b[1;34m╰──────────────────────────────────╯\u001b[0m\n"
      ]
     },
     "metadata": {},
     "output_type": "display_data"
    },
    {
     "data": {
      "text/html": [
       "<pre style=\"white-space:pre;overflow-x:auto;line-height:normal;font-family:Menlo,'DejaVu Sans Mono',consolas,'Courier New',monospace\">\n",
       "<span style=\"font-weight: bold\">[</span><span style=\"color: #008080; text-decoration-color: #008080; font-weight: bold\">1</span><span style=\"font-weight: bold\">]</span> ➡️ <span style=\"color: #000080; text-decoration-color: #000080; font-weight: bold\">Add Expense</span>\n",
       "<span style=\"font-weight: bold\">[</span><span style=\"color: #008080; text-decoration-color: #008080; font-weight: bold\">2</span><span style=\"font-weight: bold\">]</span> ➡️ <span style=\"color: #000080; text-decoration-color: #000080; font-weight: bold\">View Expenses</span>\n",
       "<span style=\"font-weight: bold\">[</span><span style=\"color: #008080; text-decoration-color: #008080; font-weight: bold\">3</span><span style=\"font-weight: bold\">]</span> ➡️ <span style=\"color: #000080; text-decoration-color: #000080; font-weight: bold\">View Total Expenses</span>\n",
       "<span style=\"font-weight: bold\">[</span><span style=\"color: #008080; text-decoration-color: #008080; font-weight: bold\">4</span><span style=\"font-weight: bold\">]</span> ➡️ <span style=\"color: #000080; text-decoration-color: #000080; font-weight: bold\">View Expenses by Category</span>\n",
       "<span style=\"font-weight: bold\">[</span><span style=\"color: #008080; text-decoration-color: #008080; font-weight: bold\">5</span><span style=\"font-weight: bold\">]</span> ➡️ <span style=\"color: #800000; text-decoration-color: #800000; font-weight: bold\">Exit</span>\n",
       "                \n",
       "</pre>\n"
      ],
      "text/plain": [
       "\n",
       "\u001b[1m[\u001b[0m\u001b[1;36m1\u001b[0m\u001b[1m]\u001b[0m ➡️ \u001b[1;34mAdd Expense\u001b[0m\n",
       "\u001b[1m[\u001b[0m\u001b[1;36m2\u001b[0m\u001b[1m]\u001b[0m ➡️ \u001b[1;34mView Expenses\u001b[0m\n",
       "\u001b[1m[\u001b[0m\u001b[1;36m3\u001b[0m\u001b[1m]\u001b[0m ➡️ \u001b[1;34mView Total Expenses\u001b[0m\n",
       "\u001b[1m[\u001b[0m\u001b[1;36m4\u001b[0m\u001b[1m]\u001b[0m ➡️ \u001b[1;34mView Expenses by Category\u001b[0m\n",
       "\u001b[1m[\u001b[0m\u001b[1;36m5\u001b[0m\u001b[1m]\u001b[0m ➡️ \u001b[1;31mExit\u001b[0m\n",
       "                \n"
      ]
     },
     "metadata": {},
     "output_type": "display_data"
    },
    {
     "data": {
      "text/html": [
       "<pre style=\"white-space:pre;overflow-x:auto;line-height:normal;font-family:Menlo,'DejaVu Sans Mono',consolas,'Courier New',monospace\">✅ <span style=\"color: #008000; text-decoration-color: #008000; font-weight: bold\">Expense Added Successfully!</span>\n",
       "</pre>\n"
      ],
      "text/plain": [
       "✅ \u001b[1;32mExpense Added Successfully!\u001b[0m\n"
      ]
     },
     "metadata": {},
     "output_type": "display_data"
    },
    {
     "data": {
      "text/html": [
       "<pre style=\"white-space:pre;overflow-x:auto;line-height:normal;font-family:Menlo,'DejaVu Sans Mono',consolas,'Courier New',monospace\"><span style=\"color: #000080; text-decoration-color: #000080; font-weight: bold\">╭─────────────── 💡 ───────────────╮</span>\n",
       "<span style=\"color: #000080; text-decoration-color: #000080; font-weight: bold\">│</span> <span style=\"color: #008080; text-decoration-color: #008080; font-weight: bold\">💸 Welcome to Expense Manager 💨</span> <span style=\"color: #000080; text-decoration-color: #000080; font-weight: bold\">│</span>\n",
       "<span style=\"color: #000080; text-decoration-color: #000080; font-weight: bold\">╰──────────────────────────────────╯</span>\n",
       "</pre>\n"
      ],
      "text/plain": [
       "\u001b[1;34m╭─\u001b[0m\u001b[1;34m──────────────\u001b[0m\u001b[1;34m 💡 \u001b[0m\u001b[1;34m──────────────\u001b[0m\u001b[1;34m─╮\u001b[0m\n",
       "\u001b[1;34m│\u001b[0m \u001b[1;36m💸 Welcome to Expense Manager 💨\u001b[0m \u001b[1;34m│\u001b[0m\n",
       "\u001b[1;34m╰──────────────────────────────────╯\u001b[0m\n"
      ]
     },
     "metadata": {},
     "output_type": "display_data"
    },
    {
     "data": {
      "text/html": [
       "<pre style=\"white-space:pre;overflow-x:auto;line-height:normal;font-family:Menlo,'DejaVu Sans Mono',consolas,'Courier New',monospace\">\n",
       "<span style=\"font-weight: bold\">[</span><span style=\"color: #008080; text-decoration-color: #008080; font-weight: bold\">1</span><span style=\"font-weight: bold\">]</span> ➡️ <span style=\"color: #000080; text-decoration-color: #000080; font-weight: bold\">Add Expense</span>\n",
       "<span style=\"font-weight: bold\">[</span><span style=\"color: #008080; text-decoration-color: #008080; font-weight: bold\">2</span><span style=\"font-weight: bold\">]</span> ➡️ <span style=\"color: #000080; text-decoration-color: #000080; font-weight: bold\">View Expenses</span>\n",
       "<span style=\"font-weight: bold\">[</span><span style=\"color: #008080; text-decoration-color: #008080; font-weight: bold\">3</span><span style=\"font-weight: bold\">]</span> ➡️ <span style=\"color: #000080; text-decoration-color: #000080; font-weight: bold\">View Total Expenses</span>\n",
       "<span style=\"font-weight: bold\">[</span><span style=\"color: #008080; text-decoration-color: #008080; font-weight: bold\">4</span><span style=\"font-weight: bold\">]</span> ➡️ <span style=\"color: #000080; text-decoration-color: #000080; font-weight: bold\">View Expenses by Category</span>\n",
       "<span style=\"font-weight: bold\">[</span><span style=\"color: #008080; text-decoration-color: #008080; font-weight: bold\">5</span><span style=\"font-weight: bold\">]</span> ➡️ <span style=\"color: #800000; text-decoration-color: #800000; font-weight: bold\">Exit</span>\n",
       "                \n",
       "</pre>\n"
      ],
      "text/plain": [
       "\n",
       "\u001b[1m[\u001b[0m\u001b[1;36m1\u001b[0m\u001b[1m]\u001b[0m ➡️ \u001b[1;34mAdd Expense\u001b[0m\n",
       "\u001b[1m[\u001b[0m\u001b[1;36m2\u001b[0m\u001b[1m]\u001b[0m ➡️ \u001b[1;34mView Expenses\u001b[0m\n",
       "\u001b[1m[\u001b[0m\u001b[1;36m3\u001b[0m\u001b[1m]\u001b[0m ➡️ \u001b[1;34mView Total Expenses\u001b[0m\n",
       "\u001b[1m[\u001b[0m\u001b[1;36m4\u001b[0m\u001b[1m]\u001b[0m ➡️ \u001b[1;34mView Expenses by Category\u001b[0m\n",
       "\u001b[1m[\u001b[0m\u001b[1;36m5\u001b[0m\u001b[1m]\u001b[0m ➡️ \u001b[1;31mExit\u001b[0m\n",
       "                \n"
      ]
     },
     "metadata": {},
     "output_type": "display_data"
    },
    {
     "data": {
      "text/html": [
       "<pre style=\"white-space:pre;overflow-x:auto;line-height:normal;font-family:Menlo,'DejaVu Sans Mono',consolas,'Courier New',monospace\"><span style=\"color: #008000; text-decoration-color: #008000; font-weight: bold\">╭─────────────────────────╮</span>\n",
       "<span style=\"color: #008000; text-decoration-color: #008000; font-weight: bold\">│</span> <span style=\"color: #808000; text-decoration-color: #808000; font-weight: bold\">📜 Viewing All Expenses</span> <span style=\"color: #008000; text-decoration-color: #008000; font-weight: bold\">│</span>\n",
       "<span style=\"color: #008000; text-decoration-color: #008000; font-weight: bold\">╰─────────────────────────╯</span>\n",
       "</pre>\n"
      ],
      "text/plain": [
       "\u001b[1;32m╭─────────────────────────╮\u001b[0m\n",
       "\u001b[1;32m│\u001b[0m \u001b[1;33m📜 Viewing All Expenses\u001b[0m \u001b[1;32m│\u001b[0m\n",
       "\u001b[1;32m╰─────────────────────────╯\u001b[0m\n"
      ]
     },
     "metadata": {},
     "output_type": "display_data"
    },
    {
     "data": {
      "text/html": [
       "<pre style=\"white-space:pre;overflow-x:auto;line-height:normal;font-family:Menlo,'DejaVu Sans Mono',consolas,'Courier New',monospace\"><span style=\"font-style: italic\">                                        Expense List                                        </span>\n",
       "<span style=\"color: #008080; text-decoration-color: #008080; font-weight: bold\">╭─────┬────────────┬────────────────────┬──────────────────────────────────────────────────╮</span>\n",
       "<span style=\"color: #008080; text-decoration-color: #008080; font-weight: bold\">│</span><span style=\"font-weight: bold\"> No. </span><span style=\"color: #008080; text-decoration-color: #008080; font-weight: bold\">│</span><span style=\"font-weight: bold\"> Amount ($) </span><span style=\"color: #008080; text-decoration-color: #008080; font-weight: bold\">│</span><span style=\"font-weight: bold\"> Category           </span><span style=\"color: #008080; text-decoration-color: #008080; font-weight: bold\">│</span><span style=\"font-weight: bold\"> Description                                      </span><span style=\"color: #008080; text-decoration-color: #008080; font-weight: bold\">│</span>\n",
       "<span style=\"color: #008080; text-decoration-color: #008080; font-weight: bold\">├─────┼────────────┼────────────────────┼──────────────────────────────────────────────────┤</span>\n",
       "<span style=\"color: #008080; text-decoration-color: #008080; font-weight: bold\">│</span><span style=\"color: #008000; text-decoration-color: #008000; font-weight: bold\"> 1   </span><span style=\"color: #008080; text-decoration-color: #008080; font-weight: bold\">│</span><span style=\"color: #000080; text-decoration-color: #000080; font-weight: bold\"> 650.00     </span><span style=\"color: #008080; text-decoration-color: #008080; font-weight: bold\">│</span><span style=\"color: #808000; text-decoration-color: #808000; font-weight: bold\"> Usat Book          </span><span style=\"color: #008080; text-decoration-color: #008080; font-weight: bold\">│</span><span style=\"color: #800080; text-decoration-color: #800080; font-weight: bold\"> Buy Usat book for preparation                    </span><span style=\"color: #008080; text-decoration-color: #008080; font-weight: bold\">│</span>\n",
       "<span style=\"color: #008080; text-decoration-color: #008080; font-weight: bold\">│</span><span style=\"color: #008000; text-decoration-color: #008000; font-weight: bold\"> 2   </span><span style=\"color: #008080; text-decoration-color: #008080; font-weight: bold\">│</span><span style=\"color: #000080; text-decoration-color: #000080; font-weight: bold\"> 2400.00    </span><span style=\"color: #008080; text-decoration-color: #008080; font-weight: bold\">│</span><span style=\"color: #808000; text-decoration-color: #808000; font-weight: bold\"> IBCC Documentation </span><span style=\"color: #008080; text-decoration-color: #008080; font-weight: bold\">│</span><span style=\"color: #800080; text-decoration-color: #800080; font-weight: bold\"> Fee for IBBC Documentation Verification Process. </span><span style=\"color: #008080; text-decoration-color: #008080; font-weight: bold\">│</span>\n",
       "<span style=\"color: #008080; text-decoration-color: #008080; font-weight: bold\">╰─────┴────────────┴────────────────────┴──────────────────────────────────────────────────╯</span>\n",
       "</pre>\n"
      ],
      "text/plain": [
       "\u001b[3m                                        Expense List                                        \u001b[0m\n",
       "\u001b[1;36m╭─────┬────────────┬────────────────────┬──────────────────────────────────────────────────╮\u001b[0m\n",
       "\u001b[1;36m│\u001b[0m\u001b[1m \u001b[0m\u001b[1mNo.\u001b[0m\u001b[1m \u001b[0m\u001b[1;36m│\u001b[0m\u001b[1m \u001b[0m\u001b[1mAmount ($)\u001b[0m\u001b[1m \u001b[0m\u001b[1;36m│\u001b[0m\u001b[1m \u001b[0m\u001b[1mCategory          \u001b[0m\u001b[1m \u001b[0m\u001b[1;36m│\u001b[0m\u001b[1m \u001b[0m\u001b[1mDescription                                     \u001b[0m\u001b[1m \u001b[0m\u001b[1;36m│\u001b[0m\n",
       "\u001b[1;36m├─────┼────────────┼────────────────────┼──────────────────────────────────────────────────┤\u001b[0m\n",
       "\u001b[1;36m│\u001b[0m\u001b[1;32m \u001b[0m\u001b[1;32m1  \u001b[0m\u001b[1;32m \u001b[0m\u001b[1;36m│\u001b[0m\u001b[1;34m \u001b[0m\u001b[1;34m650.00    \u001b[0m\u001b[1;34m \u001b[0m\u001b[1;36m│\u001b[0m\u001b[1;33m \u001b[0m\u001b[1;33mUsat Book         \u001b[0m\u001b[1;33m \u001b[0m\u001b[1;36m│\u001b[0m\u001b[1;35m \u001b[0m\u001b[1;35mBuy Usat book for preparation                   \u001b[0m\u001b[1;35m \u001b[0m\u001b[1;36m│\u001b[0m\n",
       "\u001b[1;36m│\u001b[0m\u001b[1;32m \u001b[0m\u001b[1;32m2  \u001b[0m\u001b[1;32m \u001b[0m\u001b[1;36m│\u001b[0m\u001b[1;34m \u001b[0m\u001b[1;34m2400.00   \u001b[0m\u001b[1;34m \u001b[0m\u001b[1;36m│\u001b[0m\u001b[1;33m \u001b[0m\u001b[1;33mIBCC Documentation\u001b[0m\u001b[1;33m \u001b[0m\u001b[1;36m│\u001b[0m\u001b[1;35m \u001b[0m\u001b[1;35mFee for IBBC Documentation Verification Process.\u001b[0m\u001b[1;35m \u001b[0m\u001b[1;36m│\u001b[0m\n",
       "\u001b[1;36m╰─────┴────────────┴────────────────────┴──────────────────────────────────────────────────╯\u001b[0m\n"
      ]
     },
     "metadata": {},
     "output_type": "display_data"
    },
    {
     "data": {
      "text/html": [
       "<pre style=\"white-space:pre;overflow-x:auto;line-height:normal;font-family:Menlo,'DejaVu Sans Mono',consolas,'Courier New',monospace\"><span style=\"color: #000080; text-decoration-color: #000080; font-weight: bold\">╭─────────────── 💡 ───────────────╮</span>\n",
       "<span style=\"color: #000080; text-decoration-color: #000080; font-weight: bold\">│</span> <span style=\"color: #008080; text-decoration-color: #008080; font-weight: bold\">💸 Welcome to Expense Manager 💨</span> <span style=\"color: #000080; text-decoration-color: #000080; font-weight: bold\">│</span>\n",
       "<span style=\"color: #000080; text-decoration-color: #000080; font-weight: bold\">╰──────────────────────────────────╯</span>\n",
       "</pre>\n"
      ],
      "text/plain": [
       "\u001b[1;34m╭─\u001b[0m\u001b[1;34m──────────────\u001b[0m\u001b[1;34m 💡 \u001b[0m\u001b[1;34m──────────────\u001b[0m\u001b[1;34m─╮\u001b[0m\n",
       "\u001b[1;34m│\u001b[0m \u001b[1;36m💸 Welcome to Expense Manager 💨\u001b[0m \u001b[1;34m│\u001b[0m\n",
       "\u001b[1;34m╰──────────────────────────────────╯\u001b[0m\n"
      ]
     },
     "metadata": {},
     "output_type": "display_data"
    },
    {
     "data": {
      "text/html": [
       "<pre style=\"white-space:pre;overflow-x:auto;line-height:normal;font-family:Menlo,'DejaVu Sans Mono',consolas,'Courier New',monospace\">\n",
       "<span style=\"font-weight: bold\">[</span><span style=\"color: #008080; text-decoration-color: #008080; font-weight: bold\">1</span><span style=\"font-weight: bold\">]</span> ➡️ <span style=\"color: #000080; text-decoration-color: #000080; font-weight: bold\">Add Expense</span>\n",
       "<span style=\"font-weight: bold\">[</span><span style=\"color: #008080; text-decoration-color: #008080; font-weight: bold\">2</span><span style=\"font-weight: bold\">]</span> ➡️ <span style=\"color: #000080; text-decoration-color: #000080; font-weight: bold\">View Expenses</span>\n",
       "<span style=\"font-weight: bold\">[</span><span style=\"color: #008080; text-decoration-color: #008080; font-weight: bold\">3</span><span style=\"font-weight: bold\">]</span> ➡️ <span style=\"color: #000080; text-decoration-color: #000080; font-weight: bold\">View Total Expenses</span>\n",
       "<span style=\"font-weight: bold\">[</span><span style=\"color: #008080; text-decoration-color: #008080; font-weight: bold\">4</span><span style=\"font-weight: bold\">]</span> ➡️ <span style=\"color: #000080; text-decoration-color: #000080; font-weight: bold\">View Expenses by Category</span>\n",
       "<span style=\"font-weight: bold\">[</span><span style=\"color: #008080; text-decoration-color: #008080; font-weight: bold\">5</span><span style=\"font-weight: bold\">]</span> ➡️ <span style=\"color: #800000; text-decoration-color: #800000; font-weight: bold\">Exit</span>\n",
       "                \n",
       "</pre>\n"
      ],
      "text/plain": [
       "\n",
       "\u001b[1m[\u001b[0m\u001b[1;36m1\u001b[0m\u001b[1m]\u001b[0m ➡️ \u001b[1;34mAdd Expense\u001b[0m\n",
       "\u001b[1m[\u001b[0m\u001b[1;36m2\u001b[0m\u001b[1m]\u001b[0m ➡️ \u001b[1;34mView Expenses\u001b[0m\n",
       "\u001b[1m[\u001b[0m\u001b[1;36m3\u001b[0m\u001b[1m]\u001b[0m ➡️ \u001b[1;34mView Total Expenses\u001b[0m\n",
       "\u001b[1m[\u001b[0m\u001b[1;36m4\u001b[0m\u001b[1m]\u001b[0m ➡️ \u001b[1;34mView Expenses by Category\u001b[0m\n",
       "\u001b[1m[\u001b[0m\u001b[1;36m5\u001b[0m\u001b[1m]\u001b[0m ➡️ \u001b[1;31mExit\u001b[0m\n",
       "                \n"
      ]
     },
     "metadata": {},
     "output_type": "display_data"
    },
    {
     "data": {
      "text/html": [
       "<pre style=\"white-space:pre;overflow-x:auto;line-height:normal;font-family:Menlo,'DejaVu Sans Mono',consolas,'Courier New',monospace\"><span style=\"color: #800080; text-decoration-color: #800080; font-weight: bold\">💰 Total Expenses: $</span><span style=\"color: #800080; text-decoration-color: #800080; font-weight: bold\">3050.00</span>\n",
       "</pre>\n"
      ],
      "text/plain": [
       "\u001b[1;35m💰 Total Expenses: $\u001b[0m\u001b[1;35m3050.00\u001b[0m\n"
      ]
     },
     "metadata": {},
     "output_type": "display_data"
    },
    {
     "data": {
      "text/html": [
       "<pre style=\"white-space:pre;overflow-x:auto;line-height:normal;font-family:Menlo,'DejaVu Sans Mono',consolas,'Courier New',monospace\"><span style=\"color: #000080; text-decoration-color: #000080; font-weight: bold\">╭─────────────── 💡 ───────────────╮</span>\n",
       "<span style=\"color: #000080; text-decoration-color: #000080; font-weight: bold\">│</span> <span style=\"color: #008080; text-decoration-color: #008080; font-weight: bold\">💸 Welcome to Expense Manager 💨</span> <span style=\"color: #000080; text-decoration-color: #000080; font-weight: bold\">│</span>\n",
       "<span style=\"color: #000080; text-decoration-color: #000080; font-weight: bold\">╰──────────────────────────────────╯</span>\n",
       "</pre>\n"
      ],
      "text/plain": [
       "\u001b[1;34m╭─\u001b[0m\u001b[1;34m──────────────\u001b[0m\u001b[1;34m 💡 \u001b[0m\u001b[1;34m──────────────\u001b[0m\u001b[1;34m─╮\u001b[0m\n",
       "\u001b[1;34m│\u001b[0m \u001b[1;36m💸 Welcome to Expense Manager 💨\u001b[0m \u001b[1;34m│\u001b[0m\n",
       "\u001b[1;34m╰──────────────────────────────────╯\u001b[0m\n"
      ]
     },
     "metadata": {},
     "output_type": "display_data"
    },
    {
     "data": {
      "text/html": [
       "<pre style=\"white-space:pre;overflow-x:auto;line-height:normal;font-family:Menlo,'DejaVu Sans Mono',consolas,'Courier New',monospace\">\n",
       "<span style=\"font-weight: bold\">[</span><span style=\"color: #008080; text-decoration-color: #008080; font-weight: bold\">1</span><span style=\"font-weight: bold\">]</span> ➡️ <span style=\"color: #000080; text-decoration-color: #000080; font-weight: bold\">Add Expense</span>\n",
       "<span style=\"font-weight: bold\">[</span><span style=\"color: #008080; text-decoration-color: #008080; font-weight: bold\">2</span><span style=\"font-weight: bold\">]</span> ➡️ <span style=\"color: #000080; text-decoration-color: #000080; font-weight: bold\">View Expenses</span>\n",
       "<span style=\"font-weight: bold\">[</span><span style=\"color: #008080; text-decoration-color: #008080; font-weight: bold\">3</span><span style=\"font-weight: bold\">]</span> ➡️ <span style=\"color: #000080; text-decoration-color: #000080; font-weight: bold\">View Total Expenses</span>\n",
       "<span style=\"font-weight: bold\">[</span><span style=\"color: #008080; text-decoration-color: #008080; font-weight: bold\">4</span><span style=\"font-weight: bold\">]</span> ➡️ <span style=\"color: #000080; text-decoration-color: #000080; font-weight: bold\">View Expenses by Category</span>\n",
       "<span style=\"font-weight: bold\">[</span><span style=\"color: #008080; text-decoration-color: #008080; font-weight: bold\">5</span><span style=\"font-weight: bold\">]</span> ➡️ <span style=\"color: #800000; text-decoration-color: #800000; font-weight: bold\">Exit</span>\n",
       "                \n",
       "</pre>\n"
      ],
      "text/plain": [
       "\n",
       "\u001b[1m[\u001b[0m\u001b[1;36m1\u001b[0m\u001b[1m]\u001b[0m ➡️ \u001b[1;34mAdd Expense\u001b[0m\n",
       "\u001b[1m[\u001b[0m\u001b[1;36m2\u001b[0m\u001b[1m]\u001b[0m ➡️ \u001b[1;34mView Expenses\u001b[0m\n",
       "\u001b[1m[\u001b[0m\u001b[1;36m3\u001b[0m\u001b[1m]\u001b[0m ➡️ \u001b[1;34mView Total Expenses\u001b[0m\n",
       "\u001b[1m[\u001b[0m\u001b[1;36m4\u001b[0m\u001b[1m]\u001b[0m ➡️ \u001b[1;34mView Expenses by Category\u001b[0m\n",
       "\u001b[1m[\u001b[0m\u001b[1;36m5\u001b[0m\u001b[1m]\u001b[0m ➡️ \u001b[1;31mExit\u001b[0m\n",
       "                \n"
      ]
     },
     "metadata": {},
     "output_type": "display_data"
    },
    {
     "data": {
      "text/html": [
       "<pre style=\"white-space:pre;overflow-x:auto;line-height:normal;font-family:Menlo,'DejaVu Sans Mono',consolas,'Courier New',monospace\"><span style=\"color: #008080; text-decoration-color: #008080; font-weight: bold\">╭─────────────────────────╮</span>\n",
       "<span style=\"color: #008080; text-decoration-color: #008080; font-weight: bold\">│</span> <span style=\"color: #808000; text-decoration-color: #808000; font-weight: bold\">📊 Expenses by Category</span> <span style=\"color: #008080; text-decoration-color: #008080; font-weight: bold\">│</span>\n",
       "<span style=\"color: #008080; text-decoration-color: #008080; font-weight: bold\">╰─────────────────────────╯</span>\n",
       "</pre>\n"
      ],
      "text/plain": [
       "\u001b[1;36m╭─────────────────────────╮\u001b[0m\n",
       "\u001b[1;36m│\u001b[0m \u001b[1;33m📊 Expenses by Category\u001b[0m \u001b[1;36m│\u001b[0m\n",
       "\u001b[1;36m╰─────────────────────────╯\u001b[0m\n"
      ]
     },
     "metadata": {},
     "output_type": "display_data"
    },
    {
     "data": {
      "text/html": [
       "<pre style=\"white-space:pre;overflow-x:auto;line-height:normal;font-family:Menlo,'DejaVu Sans Mono',consolas,'Courier New',monospace\"><span style=\"color: #008000; text-decoration-color: #008000; font-weight: bold\">📂 Usat Book: $</span><span style=\"color: #008080; text-decoration-color: #008080; font-weight: bold\">650.00</span>\n",
       "</pre>\n"
      ],
      "text/plain": [
       "\u001b[1;32m📂 Usat Book: $\u001b[0m\u001b[1;36m650.00\u001b[0m\n"
      ]
     },
     "metadata": {},
     "output_type": "display_data"
    },
    {
     "data": {
      "text/html": [
       "<pre style=\"white-space:pre;overflow-x:auto;line-height:normal;font-family:Menlo,'DejaVu Sans Mono',consolas,'Courier New',monospace\"><span style=\"color: #008000; text-decoration-color: #008000; font-weight: bold\">📂 IBCC Documentation: $</span><span style=\"color: #008080; text-decoration-color: #008080; font-weight: bold\">2400.00</span>\n",
       "</pre>\n"
      ],
      "text/plain": [
       "\u001b[1;32m📂 IBCC Documentation: $\u001b[0m\u001b[1;36m2400.00\u001b[0m\n"
      ]
     },
     "metadata": {},
     "output_type": "display_data"
    },
    {
     "data": {
      "text/html": [
       "<pre style=\"white-space:pre;overflow-x:auto;line-height:normal;font-family:Menlo,'DejaVu Sans Mono',consolas,'Courier New',monospace\"><span style=\"color: #000080; text-decoration-color: #000080; font-weight: bold\">╭─────────────── 💡 ───────────────╮</span>\n",
       "<span style=\"color: #000080; text-decoration-color: #000080; font-weight: bold\">│</span> <span style=\"color: #008080; text-decoration-color: #008080; font-weight: bold\">💸 Welcome to Expense Manager 💨</span> <span style=\"color: #000080; text-decoration-color: #000080; font-weight: bold\">│</span>\n",
       "<span style=\"color: #000080; text-decoration-color: #000080; font-weight: bold\">╰──────────────────────────────────╯</span>\n",
       "</pre>\n"
      ],
      "text/plain": [
       "\u001b[1;34m╭─\u001b[0m\u001b[1;34m──────────────\u001b[0m\u001b[1;34m 💡 \u001b[0m\u001b[1;34m──────────────\u001b[0m\u001b[1;34m─╮\u001b[0m\n",
       "\u001b[1;34m│\u001b[0m \u001b[1;36m💸 Welcome to Expense Manager 💨\u001b[0m \u001b[1;34m│\u001b[0m\n",
       "\u001b[1;34m╰──────────────────────────────────╯\u001b[0m\n"
      ]
     },
     "metadata": {},
     "output_type": "display_data"
    },
    {
     "data": {
      "text/html": [
       "<pre style=\"white-space:pre;overflow-x:auto;line-height:normal;font-family:Menlo,'DejaVu Sans Mono',consolas,'Courier New',monospace\">\n",
       "<span style=\"font-weight: bold\">[</span><span style=\"color: #008080; text-decoration-color: #008080; font-weight: bold\">1</span><span style=\"font-weight: bold\">]</span> ➡️ <span style=\"color: #000080; text-decoration-color: #000080; font-weight: bold\">Add Expense</span>\n",
       "<span style=\"font-weight: bold\">[</span><span style=\"color: #008080; text-decoration-color: #008080; font-weight: bold\">2</span><span style=\"font-weight: bold\">]</span> ➡️ <span style=\"color: #000080; text-decoration-color: #000080; font-weight: bold\">View Expenses</span>\n",
       "<span style=\"font-weight: bold\">[</span><span style=\"color: #008080; text-decoration-color: #008080; font-weight: bold\">3</span><span style=\"font-weight: bold\">]</span> ➡️ <span style=\"color: #000080; text-decoration-color: #000080; font-weight: bold\">View Total Expenses</span>\n",
       "<span style=\"font-weight: bold\">[</span><span style=\"color: #008080; text-decoration-color: #008080; font-weight: bold\">4</span><span style=\"font-weight: bold\">]</span> ➡️ <span style=\"color: #000080; text-decoration-color: #000080; font-weight: bold\">View Expenses by Category</span>\n",
       "<span style=\"font-weight: bold\">[</span><span style=\"color: #008080; text-decoration-color: #008080; font-weight: bold\">5</span><span style=\"font-weight: bold\">]</span> ➡️ <span style=\"color: #800000; text-decoration-color: #800000; font-weight: bold\">Exit</span>\n",
       "                \n",
       "</pre>\n"
      ],
      "text/plain": [
       "\n",
       "\u001b[1m[\u001b[0m\u001b[1;36m1\u001b[0m\u001b[1m]\u001b[0m ➡️ \u001b[1;34mAdd Expense\u001b[0m\n",
       "\u001b[1m[\u001b[0m\u001b[1;36m2\u001b[0m\u001b[1m]\u001b[0m ➡️ \u001b[1;34mView Expenses\u001b[0m\n",
       "\u001b[1m[\u001b[0m\u001b[1;36m3\u001b[0m\u001b[1m]\u001b[0m ➡️ \u001b[1;34mView Total Expenses\u001b[0m\n",
       "\u001b[1m[\u001b[0m\u001b[1;36m4\u001b[0m\u001b[1m]\u001b[0m ➡️ \u001b[1;34mView Expenses by Category\u001b[0m\n",
       "\u001b[1m[\u001b[0m\u001b[1;36m5\u001b[0m\u001b[1m]\u001b[0m ➡️ \u001b[1;31mExit\u001b[0m\n",
       "                \n"
      ]
     },
     "metadata": {},
     "output_type": "display_data"
    },
    {
     "data": {
      "text/html": [
       "<pre style=\"white-space:pre;overflow-x:auto;line-height:normal;font-family:Menlo,'DejaVu Sans Mono',consolas,'Courier New',monospace\">👋 <span style=\"color: #808000; text-decoration-color: #808000; font-weight: bold\">Thank You for Using Expense Manager, Goodbye!</span>\n",
       "</pre>\n"
      ],
      "text/plain": [
       "👋 \u001b[1;33mThank You for Using Expense Manager, Goodbye!\u001b[0m\n"
      ]
     },
     "metadata": {},
     "output_type": "display_data"
    }
   ],
   "source": [
    "from rich.console import Console\n",
    "from rich.table import Table\n",
    "from rich.panel import Panel\n",
    "from rich.box import ROUNDED\n",
    "\n",
    "# Initialize rich console\n",
    "console = Console()\n",
    "\n",
    "# Define an empty list to track expenses\n",
    "expenses = []\n",
    "\n",
    "# Function to add expenses\n",
    "def add_expense(amount, category, description):\n",
    "    expenses.append({\"amount\": amount, \"category\": category, \"description\": description})\n",
    "\n",
    "# Function to view expenses\n",
    "def view_expenses():\n",
    "    if not expenses:\n",
    "        console.print(\":warning: [bold red]No expenses recorded yet![/bold red]\", style=\"bold yellow\")\n",
    "        return\n",
    "\n",
    "    table = Table(title=\"Expense List\", box=ROUNDED, style=\"bold cyan\")\n",
    "    table.add_column(\"No.\", style=\"bold green\")\n",
    "    table.add_column(\"Amount ($)\", style=\"bold blue\")\n",
    "    table.add_column(\"Category\", style=\"bold yellow\")\n",
    "    table.add_column(\"Description\", style=\"bold magenta\")\n",
    "\n",
    "    for index, expense in enumerate(expenses, 1):\n",
    "        table.add_row(str(index), f\"{expense['amount']:.2f}\", expense['category'], expense['description'])\n",
    "\n",
    "    console.print(table)\n",
    "\n",
    "# Total expenses\n",
    "def total_expenses():\n",
    "    return sum(expense[\"amount\"] for expense in expenses)\n",
    "\n",
    "# Check expenses by category\n",
    "def expenses_by_category():\n",
    "    categories = {}\n",
    "    for expense in expenses:\n",
    "        category = expense[\"category\"]\n",
    "        amount = expense[\"amount\"]\n",
    "        categories[category] = categories.get(category, 0) + amount\n",
    "    return categories\n",
    "\n",
    "# Define main function to utilize these all functions\n",
    "def main():\n",
    "    while True:\n",
    "        try:\n",
    "            # Display a welcome message\n",
    "            console.print(Panel.fit(\"[bold cyan]💸 Welcome to Expense Manager 💨[/bold cyan]\", title=\"💡\", border_style=\"bold blue\"))\n",
    "\n",
    "            # Display menu options\n",
    "            console.print(\n",
    "                \"\"\"\n",
    "[1] ➡️ [bold blue]Add Expense[/bold blue]\n",
    "[2] ➡️ [bold blue]View Expenses[/bold blue]\n",
    "[3] ➡️ [bold blue]View Total Expenses[/bold blue]\n",
    "[4] ➡️ [bold blue]View Expenses by Category[/bold blue]\n",
    "[5] ➡️ [bold red]Exit[/bold red]\n",
    "                \"\"\"\n",
    "            )\n",
    "\n",
    "            # Get user choice\n",
    "            choice = input(\"Enter Your Choice [1-5]: \").strip()\n",
    "\n",
    "            if choice == \"1\":\n",
    "                try:\n",
    "                    amount = float(input(\"💵 Enter the Amount: $\"))\n",
    "                    if amount <= 0:\n",
    "                        raise ValueError(\"Amount must be positive.\")\n",
    "                    category = input(\"📂 Enter Category: \").strip()\n",
    "                    description = input(\"📝 Enter Description: \").strip()\n",
    "                    add_expense(amount, category, description)\n",
    "                    console.print(\":white_check_mark: [bold green]Expense Added Successfully![/bold green]\")\n",
    "                except ValueError as e:\n",
    "                    console.print(f\":x: [bold red]{e}[/bold red]\")\n",
    "\n",
    "            elif choice == \"2\":\n",
    "                console.print(Panel.fit(\"[bold yellow]📜 Viewing All Expenses[/bold yellow]\", border_style=\"bold green\"))\n",
    "                view_expenses()\n",
    "\n",
    "            elif choice == \"3\":\n",
    "                total = total_expenses()\n",
    "                console.print(f\"[bold magenta]💰 Total Expenses: ${total:.2f}[/bold magenta]\")\n",
    "\n",
    "            elif choice == \"4\":\n",
    "                console.print(Panel.fit(\"[bold yellow]📊 Expenses by Category[/bold yellow]\", border_style=\"bold cyan\"))\n",
    "                categories = expenses_by_category()\n",
    "                if categories:\n",
    "                    for category, amount in categories.items():\n",
    "                        console.print(f\"📂 {category}: ${amount:.2f}\", style=\"bold green\")\n",
    "                else:\n",
    "                    console.print(\":warning: [bold red]No expenses recorded yet![/bold red]\")\n",
    "\n",
    "            elif choice == \"5\":\n",
    "                console.print(\":wave: [bold yellow]Thank You for Using Expense Manager, Goodbye![/bold yellow]\")\n",
    "                break\n",
    "\n",
    "            else:\n",
    "                console.print(\":x: [bold red]Invalid Choice! Please try again.[/bold red]\")\n",
    "\n",
    "        except Exception as e:\n",
    "            console.print(f\":x: [bold red]An unexpected error occurred: {e}[/bold red]\")\n",
    "\n",
    "# Call the main function\n",
    "if __name__ == \"__main__\":\n",
    "    main()\n"
   ]
  },
  {
   "cell_type": "code",
   "execution_count": null,
   "metadata": {},
   "outputs": [],
   "source": []
  },
  {
   "cell_type": "code",
   "execution_count": null,
   "metadata": {},
   "outputs": [],
   "source": []
  }
 ],
 "metadata": {
  "kernelspec": {
   "display_name": ".venv",
   "language": "python",
   "name": "python3"
  },
  "language_info": {
   "codemirror_mode": {
    "name": "ipython",
    "version": 3
   },
   "file_extension": ".py",
   "mimetype": "text/x-python",
   "name": "python",
   "nbconvert_exporter": "python",
   "pygments_lexer": "ipython3",
   "version": "3.10.15"
  }
 },
 "nbformat": 4,
 "nbformat_minor": 2
}
